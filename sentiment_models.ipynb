{
 "cells": [
  {
   "cell_type": "code",
   "execution_count": null,
   "metadata": {},
   "outputs": [],
   "source": [
    "Student Name: Sung Hoon Bae\n",
    "\n",
    "Instructor Name: James Irving\n",
    "\n",
    "Review Date: 12/08/2020"
   ]
  },
  {
   "cell_type": "code",
   "execution_count": 1,
   "metadata": {
    "ExecuteTime": {
     "end_time": "2020-12-07T19:46:26.882834Z",
     "start_time": "2020-12-07T19:46:21.077590Z"
    },
    "colab": {
     "base_uri": "https://localhost:8080/"
    },
    "id": "toJxyItxvKxo",
    "outputId": "b45a3fc7-6d56-472c-c79c-70d25cfa692c"
   },
   "outputs": [
    {
     "name": "stdout",
     "output_type": "stream",
     "text": [
      "2.3.1\n"
     ]
    }
   ],
   "source": [
    "import warnings\n",
    "warnings.filterwarnings(action='ignore')\n",
    "import tensorflow as tf\n",
    "import matplotlib.pyplot as plt\n",
    "import pandas as pd\n",
    "import numpy as np\n",
    "import seaborn as sns\n",
    "# from sklearn.pipeline import Pipeline\n",
    "import spacy\n",
    "# from sklearn.feature_extraction.text import TfidfVectorizer\n",
    "\n",
    "from sklearn.model_selection import train_test_split\n",
    "# from sklearn.preprocessing import LabelEncoder\n",
    "\n",
    "# from sklearn.linear_model import LogisticRegression\n",
    "# from sklearn.naive_bayes import MultinomialNB\n",
    "\n",
    "import re\n",
    "\n",
    "# import src.useful_codes as uc\n",
    "\n",
    "print(tf.__version__)"
   ]
  },
  {
   "cell_type": "markdown",
   "metadata": {
    "id": "1ojft65svKxp"
   },
   "source": [
    "# Data\n",
    "We will be building our twitter sentiment model using a dataset that contains 1.4 million tweets provided by Kaggle. If you wish to download the dataset, you can go to this <a href='https://www.kaggle.com/kazanova/sentiment140'>LINK</a> to access the dataset."
   ]
  },
  {
   "cell_type": "code",
   "execution_count": 3,
   "metadata": {
    "ExecuteTime": {
     "end_time": "2020-11-23T15:28:00.676889Z",
     "start_time": "2020-11-23T15:27:56.989594Z"
    },
    "colab": {
     "base_uri": "https://localhost:8080/",
     "height": 358
    },
    "id": "k_yMmoPWvKxp",
    "outputId": "2b3c4856-09b0-4e2d-da6e-f4aa12ba2a27"
   },
   "outputs": [
    {
     "ename": "FileNotFoundError",
     "evalue": "ignored",
     "output_type": "error",
     "traceback": [
      "\u001b[0;31m---------------------------------------------------------------------------\u001b[0m",
      "\u001b[0;31mFileNotFoundError\u001b[0m                         Traceback (most recent call last)",
      "\u001b[0;32m<ipython-input-3-7a3dbbf7c22c>\u001b[0m in \u001b[0;36m<module>\u001b[0;34m()\u001b[0m\n\u001b[1;32m      2\u001b[0m \u001b[0mcolumns\u001b[0m \u001b[0;34m=\u001b[0m \u001b[0;34m[\u001b[0m\u001b[0;34m'sentiment'\u001b[0m\u001b[0;34m,\u001b[0m \u001b[0;34m'id'\u001b[0m\u001b[0;34m,\u001b[0m \u001b[0;34m'date'\u001b[0m\u001b[0;34m,\u001b[0m \u001b[0;34m'query'\u001b[0m\u001b[0;34m,\u001b[0m \u001b[0;34m'user_id'\u001b[0m\u001b[0;34m,\u001b[0m \u001b[0;34m'text'\u001b[0m\u001b[0;34m]\u001b[0m\u001b[0;34m\u001b[0m\u001b[0;34m\u001b[0m\u001b[0m\n\u001b[1;32m      3\u001b[0m permanent = pd.read_csv('datasets/tweet_sentiments.csv',\n\u001b[0;32m----> 4\u001b[0;31m                         encoding='latin', header=None)\n\u001b[0m\u001b[1;32m      5\u001b[0m \u001b[0mpermanent\u001b[0m\u001b[0;34m.\u001b[0m\u001b[0mcolumns\u001b[0m \u001b[0;34m=\u001b[0m \u001b[0mcolumns\u001b[0m\u001b[0;34m\u001b[0m\u001b[0;34m\u001b[0m\u001b[0m\n",
      "\u001b[0;32m/usr/local/lib/python3.6/dist-packages/pandas/io/parsers.py\u001b[0m in \u001b[0;36mread_csv\u001b[0;34m(filepath_or_buffer, sep, delimiter, header, names, index_col, usecols, squeeze, prefix, mangle_dupe_cols, dtype, engine, converters, true_values, false_values, skipinitialspace, skiprows, skipfooter, nrows, na_values, keep_default_na, na_filter, verbose, skip_blank_lines, parse_dates, infer_datetime_format, keep_date_col, date_parser, dayfirst, cache_dates, iterator, chunksize, compression, thousands, decimal, lineterminator, quotechar, quoting, doublequote, escapechar, comment, encoding, dialect, error_bad_lines, warn_bad_lines, delim_whitespace, low_memory, memory_map, float_precision)\u001b[0m\n\u001b[1;32m    686\u001b[0m     )\n\u001b[1;32m    687\u001b[0m \u001b[0;34m\u001b[0m\u001b[0m\n\u001b[0;32m--> 688\u001b[0;31m     \u001b[0;32mreturn\u001b[0m \u001b[0m_read\u001b[0m\u001b[0;34m(\u001b[0m\u001b[0mfilepath_or_buffer\u001b[0m\u001b[0;34m,\u001b[0m \u001b[0mkwds\u001b[0m\u001b[0;34m)\u001b[0m\u001b[0;34m\u001b[0m\u001b[0;34m\u001b[0m\u001b[0m\n\u001b[0m\u001b[1;32m    689\u001b[0m \u001b[0;34m\u001b[0m\u001b[0m\n\u001b[1;32m    690\u001b[0m \u001b[0;34m\u001b[0m\u001b[0m\n",
      "\u001b[0;32m/usr/local/lib/python3.6/dist-packages/pandas/io/parsers.py\u001b[0m in \u001b[0;36m_read\u001b[0;34m(filepath_or_buffer, kwds)\u001b[0m\n\u001b[1;32m    452\u001b[0m \u001b[0;34m\u001b[0m\u001b[0m\n\u001b[1;32m    453\u001b[0m     \u001b[0;31m# Create the parser.\u001b[0m\u001b[0;34m\u001b[0m\u001b[0;34m\u001b[0m\u001b[0;34m\u001b[0m\u001b[0m\n\u001b[0;32m--> 454\u001b[0;31m     \u001b[0mparser\u001b[0m \u001b[0;34m=\u001b[0m \u001b[0mTextFileReader\u001b[0m\u001b[0;34m(\u001b[0m\u001b[0mfp_or_buf\u001b[0m\u001b[0;34m,\u001b[0m \u001b[0;34m**\u001b[0m\u001b[0mkwds\u001b[0m\u001b[0;34m)\u001b[0m\u001b[0;34m\u001b[0m\u001b[0;34m\u001b[0m\u001b[0m\n\u001b[0m\u001b[1;32m    455\u001b[0m \u001b[0;34m\u001b[0m\u001b[0m\n\u001b[1;32m    456\u001b[0m     \u001b[0;32mif\u001b[0m \u001b[0mchunksize\u001b[0m \u001b[0;32mor\u001b[0m \u001b[0miterator\u001b[0m\u001b[0;34m:\u001b[0m\u001b[0;34m\u001b[0m\u001b[0;34m\u001b[0m\u001b[0m\n",
      "\u001b[0;32m/usr/local/lib/python3.6/dist-packages/pandas/io/parsers.py\u001b[0m in \u001b[0;36m__init__\u001b[0;34m(self, f, engine, **kwds)\u001b[0m\n\u001b[1;32m    946\u001b[0m             \u001b[0mself\u001b[0m\u001b[0;34m.\u001b[0m\u001b[0moptions\u001b[0m\u001b[0;34m[\u001b[0m\u001b[0;34m\"has_index_names\"\u001b[0m\u001b[0;34m]\u001b[0m \u001b[0;34m=\u001b[0m \u001b[0mkwds\u001b[0m\u001b[0;34m[\u001b[0m\u001b[0;34m\"has_index_names\"\u001b[0m\u001b[0;34m]\u001b[0m\u001b[0;34m\u001b[0m\u001b[0;34m\u001b[0m\u001b[0m\n\u001b[1;32m    947\u001b[0m \u001b[0;34m\u001b[0m\u001b[0m\n\u001b[0;32m--> 948\u001b[0;31m         \u001b[0mself\u001b[0m\u001b[0;34m.\u001b[0m\u001b[0m_make_engine\u001b[0m\u001b[0;34m(\u001b[0m\u001b[0mself\u001b[0m\u001b[0;34m.\u001b[0m\u001b[0mengine\u001b[0m\u001b[0;34m)\u001b[0m\u001b[0;34m\u001b[0m\u001b[0;34m\u001b[0m\u001b[0m\n\u001b[0m\u001b[1;32m    949\u001b[0m \u001b[0;34m\u001b[0m\u001b[0m\n\u001b[1;32m    950\u001b[0m     \u001b[0;32mdef\u001b[0m \u001b[0mclose\u001b[0m\u001b[0;34m(\u001b[0m\u001b[0mself\u001b[0m\u001b[0;34m)\u001b[0m\u001b[0;34m:\u001b[0m\u001b[0;34m\u001b[0m\u001b[0;34m\u001b[0m\u001b[0m\n",
      "\u001b[0;32m/usr/local/lib/python3.6/dist-packages/pandas/io/parsers.py\u001b[0m in \u001b[0;36m_make_engine\u001b[0;34m(self, engine)\u001b[0m\n\u001b[1;32m   1178\u001b[0m     \u001b[0;32mdef\u001b[0m \u001b[0m_make_engine\u001b[0m\u001b[0;34m(\u001b[0m\u001b[0mself\u001b[0m\u001b[0;34m,\u001b[0m \u001b[0mengine\u001b[0m\u001b[0;34m=\u001b[0m\u001b[0;34m\"c\"\u001b[0m\u001b[0;34m)\u001b[0m\u001b[0;34m:\u001b[0m\u001b[0;34m\u001b[0m\u001b[0;34m\u001b[0m\u001b[0m\n\u001b[1;32m   1179\u001b[0m         \u001b[0;32mif\u001b[0m \u001b[0mengine\u001b[0m \u001b[0;34m==\u001b[0m \u001b[0;34m\"c\"\u001b[0m\u001b[0;34m:\u001b[0m\u001b[0;34m\u001b[0m\u001b[0;34m\u001b[0m\u001b[0m\n\u001b[0;32m-> 1180\u001b[0;31m             \u001b[0mself\u001b[0m\u001b[0;34m.\u001b[0m\u001b[0m_engine\u001b[0m \u001b[0;34m=\u001b[0m \u001b[0mCParserWrapper\u001b[0m\u001b[0;34m(\u001b[0m\u001b[0mself\u001b[0m\u001b[0;34m.\u001b[0m\u001b[0mf\u001b[0m\u001b[0;34m,\u001b[0m \u001b[0;34m**\u001b[0m\u001b[0mself\u001b[0m\u001b[0;34m.\u001b[0m\u001b[0moptions\u001b[0m\u001b[0;34m)\u001b[0m\u001b[0;34m\u001b[0m\u001b[0;34m\u001b[0m\u001b[0m\n\u001b[0m\u001b[1;32m   1181\u001b[0m         \u001b[0;32melse\u001b[0m\u001b[0;34m:\u001b[0m\u001b[0;34m\u001b[0m\u001b[0;34m\u001b[0m\u001b[0m\n\u001b[1;32m   1182\u001b[0m             \u001b[0;32mif\u001b[0m \u001b[0mengine\u001b[0m \u001b[0;34m==\u001b[0m \u001b[0;34m\"python\"\u001b[0m\u001b[0;34m:\u001b[0m\u001b[0;34m\u001b[0m\u001b[0;34m\u001b[0m\u001b[0m\n",
      "\u001b[0;32m/usr/local/lib/python3.6/dist-packages/pandas/io/parsers.py\u001b[0m in \u001b[0;36m__init__\u001b[0;34m(self, src, **kwds)\u001b[0m\n\u001b[1;32m   1991\u001b[0m         \u001b[0;32mif\u001b[0m \u001b[0mkwds\u001b[0m\u001b[0;34m.\u001b[0m\u001b[0mget\u001b[0m\u001b[0;34m(\u001b[0m\u001b[0;34m\"compression\"\u001b[0m\u001b[0;34m)\u001b[0m \u001b[0;32mis\u001b[0m \u001b[0;32mNone\u001b[0m \u001b[0;32mand\u001b[0m \u001b[0mencoding\u001b[0m\u001b[0;34m:\u001b[0m\u001b[0;34m\u001b[0m\u001b[0;34m\u001b[0m\u001b[0m\n\u001b[1;32m   1992\u001b[0m             \u001b[0;32mif\u001b[0m \u001b[0misinstance\u001b[0m\u001b[0;34m(\u001b[0m\u001b[0msrc\u001b[0m\u001b[0;34m,\u001b[0m \u001b[0mstr\u001b[0m\u001b[0;34m)\u001b[0m\u001b[0;34m:\u001b[0m\u001b[0;34m\u001b[0m\u001b[0;34m\u001b[0m\u001b[0m\n\u001b[0;32m-> 1993\u001b[0;31m                 \u001b[0msrc\u001b[0m \u001b[0;34m=\u001b[0m \u001b[0mopen\u001b[0m\u001b[0;34m(\u001b[0m\u001b[0msrc\u001b[0m\u001b[0;34m,\u001b[0m \u001b[0;34m\"rb\"\u001b[0m\u001b[0;34m)\u001b[0m\u001b[0;34m\u001b[0m\u001b[0;34m\u001b[0m\u001b[0m\n\u001b[0m\u001b[1;32m   1994\u001b[0m                 \u001b[0mself\u001b[0m\u001b[0;34m.\u001b[0m\u001b[0mhandles\u001b[0m\u001b[0;34m.\u001b[0m\u001b[0mappend\u001b[0m\u001b[0;34m(\u001b[0m\u001b[0msrc\u001b[0m\u001b[0;34m)\u001b[0m\u001b[0;34m\u001b[0m\u001b[0;34m\u001b[0m\u001b[0m\n\u001b[1;32m   1995\u001b[0m \u001b[0;34m\u001b[0m\u001b[0m\n",
      "\u001b[0;31mFileNotFoundError\u001b[0m: [Errno 2] No such file or directory: 'datasets/tweet_sentiments.csv'"
     ]
    }
   ],
   "source": [
    "# importing data\n",
    "columns = ['sentiment', 'id', 'date', 'query', 'user_id', 'text']\n",
    "permanent = pd.read_csv('datasets/tweet_sentiments.csv',\n",
    "                        encoding='latin', header=None)\n",
    "permanent.columns = columns"
   ]
  },
  {
   "cell_type": "markdown",
   "metadata": {
    "id": "qtg5o9oTysQD"
   },
   "source": [
    "# Google Colab"
   ]
  },
  {
   "cell_type": "markdown",
   "metadata": {
    "id": "1ESV2cusyw48"
   },
   "source": [
    "Use the following codes if using Google Colab"
   ]
  },
  {
   "cell_type": "code",
   "execution_count": 6,
   "metadata": {
    "colab": {
     "base_uri": "https://localhost:8080/"
    },
    "id": "Tyo9_4iYyzwW",
    "outputId": "9890dc89-d933-4465-85f4-5f91c9f4122a"
   },
   "outputs": [
    {
     "name": "stdout",
     "output_type": "stream",
     "text": [
      "Mounted at /content/drive\n"
     ]
    }
   ],
   "source": [
    "from google.colab import drive\n",
    "drive.mount('/content/drive')"
   ]
  },
  {
   "cell_type": "code",
   "execution_count": 7,
   "metadata": {
    "id": "vhJNs_NU1hZ4"
   },
   "outputs": [],
   "source": [
    "DATA_PATH = 'drive/MyDrive/dataset/twitter_sentiment/'"
   ]
  },
  {
   "cell_type": "code",
   "execution_count": 8,
   "metadata": {
    "ExecuteTime": {
     "end_time": "2020-11-23T15:28:00.706244Z",
     "start_time": "2020-11-23T15:28:00.679151Z"
    },
    "id": "w7Bti06yvKxp"
   },
   "outputs": [],
   "source": [
    "# importing data\n",
    "columns = ['sentiment', 'id', 'date', 'query', 'user_id', 'text']\n",
    "permanent = pd.read_csv(DATA_PATH+'/tweet_sentiments.csv',\n",
    "                        encoding='latin', header=None)\n",
    "permanent.columns = columns"
   ]
  },
  {
   "cell_type": "markdown",
   "metadata": {
    "id": "C0D1GzlZvKxp"
   },
   "source": [
    "Since we only care about the texts and their sentiments, we will drop other columns."
   ]
  },
  {
   "cell_type": "code",
   "execution_count": 9,
   "metadata": {
    "ExecuteTime": {
     "end_time": "2020-11-23T15:28:00.734199Z",
     "start_time": "2020-11-23T15:28:00.708284Z"
    },
    "id": "ebDu5HpNvKxp"
   },
   "outputs": [],
   "source": [
    "permanent = permanent[['sentiment', 'text']]"
   ]
  },
  {
   "cell_type": "code",
   "execution_count": 10,
   "metadata": {
    "ExecuteTime": {
     "end_time": "2020-11-23T15:28:01.016530Z",
     "start_time": "2020-11-23T15:28:00.735674Z"
    },
    "id": "ctWHg-FhvKxp"
   },
   "outputs": [],
   "source": [
    "# Changes 0, 4 into categorical values: Negative and Positive\n",
    "sentiment_dict = {0:'Negative', 4:'Positive'}\n",
    "permanent['sentiment'] = permanent['sentiment'].apply(lambda x: sentiment_dict[x]);"
   ]
  },
  {
   "cell_type": "code",
   "execution_count": 11,
   "metadata": {
    "ExecuteTime": {
     "end_time": "2020-11-23T15:28:01.390931Z",
     "start_time": "2020-11-23T15:28:01.018212Z"
    },
    "colab": {
     "base_uri": "https://localhost:8080/",
     "height": 436
    },
    "id": "P4sb6Q2uvKxp",
    "outputId": "684e7edd-5266-4b54-b412-7576a4d9e1c7"
   },
   "outputs": [
    {
     "data": {
      "text/plain": [
       "[Text(0, 0.5, 'Number of Tweets'),\n",
       " Text(0.5, 0, 'Sentiment'),\n",
       " Text(0.5, 1.0, 'Sentiment Distribution')]"
      ]
     },
     "execution_count": 11,
     "metadata": {
      "tags": []
     },
     "output_type": "execute_result"
    },
    {
     "data": {
      "image/png": "[encoded data removed]",
      "text/plain": [
       "<Figure size 504x360 with 1 Axes>"
      ]
     },
     "metadata": {
      "needs_background": "light",
      "tags": []
     },
     "output_type": "display_data"
    }
   ],
   "source": [
    "fig, ax = plt.subplots(figsize=(7,5))\n",
    "permanent['sentiment'].value_counts().plot(kind='bar')\n",
    "ax.set(xlabel='Sentiment', ylabel='Number of Tweets', title='Sentiment Distribution')"
   ]
  },
  {
   "cell_type": "markdown",
   "metadata": {
    "id": "tAkdxKYyvKxq"
   },
   "source": [
    "Lovely! No class imbalance!"
   ]
  },
  {
   "cell_type": "code",
   "execution_count": null,
   "metadata": {
    "ExecuteTime": {
     "end_time": "2020-11-23T15:28:01.973349Z",
     "start_time": "2020-11-23T15:28:01.392339Z"
    },
    "id": "2TFRRuZqvKxq"
   },
   "outputs": [],
   "source": [
    "# Define X and y\n",
    "X = permanent['text']\n",
    "y = permanent['sentiment']\n",
    "\n",
    "# Splits test set\n",
    "X_train, X_test, y_train, y_test = train_test_split(X, y, train_size=0.005, random_state=42)\n",
    "\n",
    "# Splits traint set into train and validation set\n",
    "# X_train, X_val, y_train, y_val = train_test_split(X_train, y_train, train_size=0.70, random_state=42)"
   ]
  },
  {
   "cell_type": "code",
   "execution_count": null,
   "metadata": {
    "ExecuteTime": {
     "end_time": "2020-11-20T21:10:15.105125Z",
     "start_time": "2020-11-20T21:10:15.101001Z"
    },
    "id": "F6L7WnbNvKxq"
   },
   "outputs": [],
   "source": [
    "# Initiates models\n",
    "nb = MultinomialNB()\n",
    "lr = LogisticRegression(solver='liblinear')"
   ]
  },
  {
   "cell_type": "code",
   "execution_count": null,
   "metadata": {
    "ExecuteTime": {
     "end_time": "2020-11-20T21:10:15.262480Z",
     "start_time": "2020-11-20T21:10:15.255012Z"
    },
    "id": "fHUvEj16vKxq"
   },
   "outputs": [],
   "source": [
    "data = {'X': X_train, 'y': y_train}"
   ]
  },
  {
   "cell_type": "code",
   "execution_count": null,
   "metadata": {
    "ExecuteTime": {
     "end_time": "2020-11-20T21:10:15.759841Z",
     "start_time": "2020-11-20T21:10:15.755948Z"
    },
    "id": "Zwxq9fmkvKxq"
   },
   "outputs": [],
   "source": [
    "tfidf = TfidfVectorizer(tokenizer=uc.clean_text,\n",
    "                        ngram_range=(1,3),\n",
    "                        max_features=2000,\n",
    "                        min_df=5, max_df=0.2)"
   ]
  },
  {
   "cell_type": "code",
   "execution_count": null,
   "metadata": {
    "ExecuteTime": {
     "end_time": "2020-11-14T04:57:55.278937Z",
     "start_time": "2020-11-14T04:29:31.676858Z"
    },
    "id": "OMVpMc1rvKxq",
    "outputId": "fe3d5f1b-c17d-486d-d923-1203b238275f"
   },
   "outputs": [
    {
     "name": "stdout",
     "output_type": "stream",
     "text": [
      "              precision    recall  f1-score   support\n",
      "\n",
      "    Negative       0.75      0.76      0.75     20132\n",
      "    Positive       0.75      0.75      0.75     19868\n",
      "\n",
      "    accuracy                           0.75     40000\n",
      "   macro avg       0.75      0.75      0.75     40000\n",
      "weighted avg       0.75      0.75      0.75     40000\n",
      "\n"
     ]
    },
    {
     "data": {
      "image/png": "[encoded data removed]",
      "text/plain": [
       "<Figure size 432x288 with 2 Axes>"
      ]
     },
     "metadata": {
      "needs_background": "light",
      "tags": []
     },
     "output_type": "display_data"
    }
   ],
   "source": [
    "\"\"\"\n",
    "tfidf = TfidfVectorizer(tokenizer=uc.clean_text,\n",
    "                        ngram_range=(1,3),\n",
    "                        max_features=2000,\n",
    "                        min_df=5, max_df=0.2)\n",
    "\"\"\"\n",
    "nb_tfidf_model, report = uc.evaluate_binary_model(label='NB_lg_tfidf',\n",
    "                                                  model='NB',\n",
    "                                                  vectorizer=tfidf,\n",
    "                                                  data=data)"
   ]
  },
  {
   "cell_type": "code",
   "execution_count": null,
   "metadata": {
    "ExecuteTime": {
     "end_time": "2020-11-14T04:58:22.583104Z",
     "start_time": "2020-11-14T04:58:22.575963Z"
    },
    "id": "upHCSWHgvKxq",
    "outputId": "738084d9-9924-400a-cfdf-2c3eb11f2ff0"
   },
   "outputs": [
    {
     "data": {
      "text/plain": [
       "{'label': 'NB_lg_tfidf',\n",
       " 'run_time': 1703.390268087387,\n",
       " 'train_row': 120000,\n",
       " 'test_row': 40000,\n",
       " 'total_row': 160000,\n",
       " 'negative_recall': 0.7564573812835287,\n",
       " 'positive_recall': 0.7486410308033018,\n",
       " 'test_accuracy': 0.752575,\n",
       " 'average_time': 0.01064618917554617}"
      ]
     },
     "execution_count": 20,
     "metadata": {
      "tags": []
     },
     "output_type": "execute_result"
    }
   ],
   "source": [
    "report"
   ]
  },
  {
   "cell_type": "code",
   "execution_count": null,
   "metadata": {
    "ExecuteTime": {
     "end_time": "2020-11-14T05:14:53.823601Z",
     "start_time": "2020-11-14T05:14:53.226320Z"
    },
    "id": "9mq-yzSgvKxq"
   },
   "outputs": [],
   "source": [
    "uc.save_data(nb_tfidf_model, 'models/nb_tfidf_model')"
   ]
  },
  {
   "cell_type": "code",
   "execution_count": null,
   "metadata": {
    "ExecuteTime": {
     "end_time": "2020-11-14T05:15:09.235323Z",
     "start_time": "2020-11-14T05:15:09.232195Z"
    },
    "id": "C5e_jbVGvKxq"
   },
   "outputs": [],
   "source": [
    "uc.save_data(report, 'models/nb_tfidf_model_report')"
   ]
  },
  {
   "cell_type": "code",
   "execution_count": null,
   "metadata": {
    "ExecuteTime": {
     "end_time": "2020-11-20T21:14:24.665686Z",
     "start_time": "2020-11-20T21:14:23.712044Z"
    },
    "id": "i8xVAMxzvKxq"
   },
   "outputs": [],
   "source": [
    "binary_model = uc.load_data('models/nb_tfidf_model')\n",
    "\n",
    "def prototype(model='binary'):\n",
    "    user_input = input('Write a review: ')\n",
    "    \n",
    "#     text = get_clean_text(user_input)\n",
    "#     word_emb = get_vector(text)\n",
    "    if model=='binary':\n",
    "        model = binary_model\n",
    "    else:\n",
    "        model = multiclass_word_emb\n",
    "    print('-'*30)\n",
    "#     print('Product: ', predict_product(text))\n",
    "    print('Sentiment: ', predict_sentiment(model, user_input))\n",
    "    print('Confidence: ', round(get_confidence(model, user_input)*100, 2), '%')\n",
    "    print('-'*30)\n",
    "    print('\\n')\n",
    "def get_clean_text(text):\n",
    "    text = ' '.join(uc.clean_text(text))\n",
    "    return text\n",
    "\n",
    "def get_vector(text):\n",
    "    word_emb = np.concatenate(uc.get_vec(text).reshape(-1,1), axis=0).reshape(-1, 300)\n",
    "    return word_emb\n",
    "\n",
    "def predict_sentiment(model, text):\n",
    "    predict = model.predict([text])\n",
    "    return predict[0]\n",
    "\n",
    "def predict_product(text):\n",
    "    predict = product_predictor.predict(text)\n",
    "    return predict[0]\n",
    "\n",
    "def get_confidence(model, text):\n",
    "    prob = model.predict_proba([text])\n",
    "    return max(prob[0])"
   ]
  },
  {
   "cell_type": "code",
   "execution_count": null,
   "metadata": {
    "ExecuteTime": {
     "end_time": "2020-11-19T19:23:03.339031Z",
     "start_time": "2020-11-19T19:22:34.243550Z"
    },
    "id": "Zh-I-mEWvKxq",
    "outputId": "b82ce735-41e4-4210-e0dd-edfe852b59de",
    "scrolled": true
   },
   "outputs": [
    {
     "name": "stdout",
     "output_type": "stream",
     "text": [
      "Write a review: d\n",
      "------------------------------\n",
      "Sentiment:  Positive\n",
      "Confidence:  50.08 %\n",
      "------------------------------\n",
      "\n",
      "\n",
      "Write a review: do it\n",
      "------------------------------\n",
      "Sentiment:  Positive\n",
      "Confidence:  50.08 %\n",
      "------------------------------\n",
      "\n",
      "\n",
      "Write a review: love it\n",
      "------------------------------\n",
      "Sentiment:  Positive\n",
      "Confidence:  76.9 %\n",
      "------------------------------\n",
      "\n",
      "\n",
      "Write a review: hate it\n",
      "------------------------------\n",
      "Sentiment:  Negative\n",
      "Confidence:  86.47 %\n",
      "------------------------------\n",
      "\n",
      "\n",
      "Write a review: luvin it\n",
      "------------------------------\n",
      "Sentiment:  Positive\n",
      "Confidence:  50.08 %\n",
      "------------------------------\n",
      "\n",
      "\n",
      "Write a review: luv\n",
      "------------------------------\n",
      "Sentiment:  Positive\n",
      "Confidence:  72.2 %\n",
      "------------------------------\n",
      "\n",
      "\n",
      "Write a review: lov\n",
      "------------------------------\n",
      "Sentiment:  Positive\n",
      "Confidence:  50.08 %\n",
      "------------------------------\n",
      "\n",
      "\n",
      "Write a review: love\n",
      "------------------------------\n",
      "Sentiment:  Positive\n",
      "Confidence:  76.9 %\n",
      "------------------------------\n",
      "\n",
      "\n",
      "Write a review: luv\n",
      "------------------------------\n",
      "Sentiment:  Positive\n",
      "Confidence:  72.2 %\n",
      "------------------------------\n",
      "\n",
      "\n",
      "Write a review: lov\n",
      "------------------------------\n",
      "Sentiment:  Positive\n",
      "Confidence:  50.08 %\n",
      "------------------------------\n",
      "\n",
      "\n",
      "Write a review: \n",
      "------------------------------\n",
      "Sentiment:  Positive\n",
      "Confidence:  50.08 %\n",
      "------------------------------\n",
      "\n",
      "\n"
     ]
    },
    {
     "ename": "KeyboardInterrupt",
     "evalue": "",
     "output_type": "error",
     "traceback": [
      "\u001b[0;31m---------------------------------------------------------------------------\u001b[0m",
      "\u001b[0;31mKeyboardInterrupt\u001b[0m                         Traceback (most recent call last)",
      "\u001b[0;32m/opt/anaconda3/envs/learn-env/lib/python3.6/site-packages/ipykernel/kernelbase.py\u001b[0m in \u001b[0;36m_input_request\u001b[0;34m(self, prompt, ident, parent, password)\u001b[0m\n\u001b[1;32m    884\u001b[0m             \u001b[0;32mtry\u001b[0m\u001b[0;34m:\u001b[0m\u001b[0;34m\u001b[0m\u001b[0;34m\u001b[0m\u001b[0m\n\u001b[0;32m--> 885\u001b[0;31m                 \u001b[0mident\u001b[0m\u001b[0;34m,\u001b[0m \u001b[0mreply\u001b[0m \u001b[0;34m=\u001b[0m \u001b[0mself\u001b[0m\u001b[0;34m.\u001b[0m\u001b[0msession\u001b[0m\u001b[0;34m.\u001b[0m\u001b[0mrecv\u001b[0m\u001b[0;34m(\u001b[0m\u001b[0mself\u001b[0m\u001b[0;34m.\u001b[0m\u001b[0mstdin_socket\u001b[0m\u001b[0;34m,\u001b[0m \u001b[0;36m0\u001b[0m\u001b[0;34m)\u001b[0m\u001b[0;34m\u001b[0m\u001b[0;34m\u001b[0m\u001b[0m\n\u001b[0m\u001b[1;32m    886\u001b[0m             \u001b[0;32mexcept\u001b[0m \u001b[0mException\u001b[0m\u001b[0;34m:\u001b[0m\u001b[0;34m\u001b[0m\u001b[0;34m\u001b[0m\u001b[0m\n",
      "\u001b[0;32m/opt/anaconda3/envs/learn-env/lib/python3.6/site-packages/jupyter_client/session.py\u001b[0m in \u001b[0;36mrecv\u001b[0;34m(self, socket, mode, content, copy)\u001b[0m\n\u001b[1;32m    802\u001b[0m         \u001b[0;32mtry\u001b[0m\u001b[0;34m:\u001b[0m\u001b[0;34m\u001b[0m\u001b[0;34m\u001b[0m\u001b[0m\n\u001b[0;32m--> 803\u001b[0;31m             \u001b[0mmsg_list\u001b[0m \u001b[0;34m=\u001b[0m \u001b[0msocket\u001b[0m\u001b[0;34m.\u001b[0m\u001b[0mrecv_multipart\u001b[0m\u001b[0;34m(\u001b[0m\u001b[0mmode\u001b[0m\u001b[0;34m,\u001b[0m \u001b[0mcopy\u001b[0m\u001b[0;34m=\u001b[0m\u001b[0mcopy\u001b[0m\u001b[0;34m)\u001b[0m\u001b[0;34m\u001b[0m\u001b[0;34m\u001b[0m\u001b[0m\n\u001b[0m\u001b[1;32m    804\u001b[0m         \u001b[0;32mexcept\u001b[0m \u001b[0mzmq\u001b[0m\u001b[0;34m.\u001b[0m\u001b[0mZMQError\u001b[0m \u001b[0;32mas\u001b[0m \u001b[0me\u001b[0m\u001b[0;34m:\u001b[0m\u001b[0;34m\u001b[0m\u001b[0;34m\u001b[0m\u001b[0m\n",
      "\u001b[0;32m/opt/anaconda3/envs/learn-env/lib/python3.6/site-packages/zmq/sugar/socket.py\u001b[0m in \u001b[0;36mrecv_multipart\u001b[0;34m(self, flags, copy, track)\u001b[0m\n\u001b[1;32m    474\u001b[0m         \"\"\"\n\u001b[0;32m--> 475\u001b[0;31m         \u001b[0mparts\u001b[0m \u001b[0;34m=\u001b[0m \u001b[0;34m[\u001b[0m\u001b[0mself\u001b[0m\u001b[0;34m.\u001b[0m\u001b[0mrecv\u001b[0m\u001b[0;34m(\u001b[0m\u001b[0mflags\u001b[0m\u001b[0;34m,\u001b[0m \u001b[0mcopy\u001b[0m\u001b[0;34m=\u001b[0m\u001b[0mcopy\u001b[0m\u001b[0;34m,\u001b[0m \u001b[0mtrack\u001b[0m\u001b[0;34m=\u001b[0m\u001b[0mtrack\u001b[0m\u001b[0;34m)\u001b[0m\u001b[0;34m]\u001b[0m\u001b[0;34m\u001b[0m\u001b[0;34m\u001b[0m\u001b[0m\n\u001b[0m\u001b[1;32m    476\u001b[0m         \u001b[0;31m# have first part already, only loop while more to receive\u001b[0m\u001b[0;34m\u001b[0m\u001b[0;34m\u001b[0m\u001b[0;34m\u001b[0m\u001b[0m\n",
      "\u001b[0;32mzmq/backend/cython/socket.pyx\u001b[0m in \u001b[0;36mzmq.backend.cython.socket.Socket.recv\u001b[0;34m()\u001b[0m\n",
      "\u001b[0;32mzmq/backend/cython/socket.pyx\u001b[0m in \u001b[0;36mzmq.backend.cython.socket.Socket.recv\u001b[0;34m()\u001b[0m\n",
      "\u001b[0;32mzmq/backend/cython/socket.pyx\u001b[0m in \u001b[0;36mzmq.backend.cython.socket._recv_copy\u001b[0;34m()\u001b[0m\n",
      "\u001b[0;32m/opt/anaconda3/envs/learn-env/lib/python3.6/site-packages/zmq/backend/cython/checkrc.pxd\u001b[0m in \u001b[0;36mzmq.backend.cython.checkrc._check_rc\u001b[0;34m()\u001b[0m\n",
      "\u001b[0;31mKeyboardInterrupt\u001b[0m: ",
      "\nDuring handling of the above exception, another exception occurred:\n",
      "\u001b[0;31mKeyboardInterrupt\u001b[0m                         Traceback (most recent call last)",
      "\u001b[0;32m<ipython-input-12-b7f45d04cc99>\u001b[0m in \u001b[0;36m<module>\u001b[0;34m\u001b[0m\n\u001b[1;32m      1\u001b[0m \u001b[0;32mwhile\u001b[0m \u001b[0;32mTrue\u001b[0m\u001b[0;34m:\u001b[0m\u001b[0;34m\u001b[0m\u001b[0;34m\u001b[0m\u001b[0m\n\u001b[0;32m----> 2\u001b[0;31m     \u001b[0mprototype\u001b[0m\u001b[0;34m(\u001b[0m\u001b[0;34m)\u001b[0m\u001b[0;34m\u001b[0m\u001b[0;34m\u001b[0m\u001b[0m\n\u001b[0m",
      "\u001b[0;32m<ipython-input-11-e790f21e37ac>\u001b[0m in \u001b[0;36mprototype\u001b[0;34m(model)\u001b[0m\n\u001b[1;32m      2\u001b[0m \u001b[0;34m\u001b[0m\u001b[0m\n\u001b[1;32m      3\u001b[0m \u001b[0;32mdef\u001b[0m \u001b[0mprototype\u001b[0m\u001b[0;34m(\u001b[0m\u001b[0mmodel\u001b[0m\u001b[0;34m=\u001b[0m\u001b[0;34m'binary'\u001b[0m\u001b[0;34m)\u001b[0m\u001b[0;34m:\u001b[0m\u001b[0;34m\u001b[0m\u001b[0;34m\u001b[0m\u001b[0m\n\u001b[0;32m----> 4\u001b[0;31m     \u001b[0muser_input\u001b[0m \u001b[0;34m=\u001b[0m \u001b[0minput\u001b[0m\u001b[0;34m(\u001b[0m\u001b[0;34m'Write a review: '\u001b[0m\u001b[0;34m)\u001b[0m\u001b[0;34m\u001b[0m\u001b[0;34m\u001b[0m\u001b[0m\n\u001b[0m\u001b[1;32m      5\u001b[0m \u001b[0;34m\u001b[0m\u001b[0m\n\u001b[1;32m      6\u001b[0m \u001b[0;31m#     text = get_clean_text(user_input)\u001b[0m\u001b[0;34m\u001b[0m\u001b[0;34m\u001b[0m\u001b[0;34m\u001b[0m\u001b[0m\n",
      "\u001b[0;32m/opt/anaconda3/envs/learn-env/lib/python3.6/site-packages/ipykernel/kernelbase.py\u001b[0m in \u001b[0;36mraw_input\u001b[0;34m(self, prompt)\u001b[0m\n\u001b[1;32m    858\u001b[0m             \u001b[0mself\u001b[0m\u001b[0;34m.\u001b[0m\u001b[0m_parent_ident\u001b[0m\u001b[0;34m,\u001b[0m\u001b[0;34m\u001b[0m\u001b[0;34m\u001b[0m\u001b[0m\n\u001b[1;32m    859\u001b[0m             \u001b[0mself\u001b[0m\u001b[0;34m.\u001b[0m\u001b[0m_parent_header\u001b[0m\u001b[0;34m,\u001b[0m\u001b[0;34m\u001b[0m\u001b[0;34m\u001b[0m\u001b[0m\n\u001b[0;32m--> 860\u001b[0;31m             \u001b[0mpassword\u001b[0m\u001b[0;34m=\u001b[0m\u001b[0;32mFalse\u001b[0m\u001b[0;34m,\u001b[0m\u001b[0;34m\u001b[0m\u001b[0;34m\u001b[0m\u001b[0m\n\u001b[0m\u001b[1;32m    861\u001b[0m         )\n\u001b[1;32m    862\u001b[0m \u001b[0;34m\u001b[0m\u001b[0m\n",
      "\u001b[0;32m/opt/anaconda3/envs/learn-env/lib/python3.6/site-packages/ipykernel/kernelbase.py\u001b[0m in \u001b[0;36m_input_request\u001b[0;34m(self, prompt, ident, parent, password)\u001b[0m\n\u001b[1;32m    888\u001b[0m             \u001b[0;32mexcept\u001b[0m \u001b[0mKeyboardInterrupt\u001b[0m\u001b[0;34m:\u001b[0m\u001b[0;34m\u001b[0m\u001b[0;34m\u001b[0m\u001b[0m\n\u001b[1;32m    889\u001b[0m                 \u001b[0;31m# re-raise KeyboardInterrupt, to truncate traceback\u001b[0m\u001b[0;34m\u001b[0m\u001b[0;34m\u001b[0m\u001b[0;34m\u001b[0m\u001b[0m\n\u001b[0;32m--> 890\u001b[0;31m                 \u001b[0;32mraise\u001b[0m \u001b[0mKeyboardInterrupt\u001b[0m\u001b[0;34m\u001b[0m\u001b[0;34m\u001b[0m\u001b[0m\n\u001b[0m\u001b[1;32m    891\u001b[0m             \u001b[0;32melse\u001b[0m\u001b[0;34m:\u001b[0m\u001b[0;34m\u001b[0m\u001b[0;34m\u001b[0m\u001b[0m\n\u001b[1;32m    892\u001b[0m                 \u001b[0;32mbreak\u001b[0m\u001b[0;34m\u001b[0m\u001b[0;34m\u001b[0m\u001b[0m\n",
      "\u001b[0;31mKeyboardInterrupt\u001b[0m: "
     ]
    }
   ],
   "source": [
    "while True:\n",
    "    prototype()"
   ]
  },
  {
   "cell_type": "code",
   "execution_count": null,
   "metadata": {
    "ExecuteTime": {
     "end_time": "2020-11-19T19:23:41.340747Z",
     "start_time": "2020-11-19T19:23:41.337950Z"
    },
    "id": "1i_LsmdAvKxq"
   },
   "outputs": [],
   "source": [
    "from spacy import displacy"
   ]
  },
  {
   "cell_type": "code",
   "execution_count": null,
   "metadata": {
    "ExecuteTime": {
     "end_time": "2020-11-19T19:23:46.022166Z",
     "start_time": "2020-11-19T19:23:42.372061Z"
    },
    "id": "LxJhdvuJvKxq",
    "outputId": "f9ec4984-9bad-483d-8fbd-2a07eb4be34c"
   },
   "outputs": [
    {
     "name": "stdout",
     "output_type": "stream",
     "text": [
      "write text: this Iphone is amazing\n"
     ]
    },
    {
     "data": {
      "text/html": [
       "<div class=\"entities\" style=\"line-height: 2.5; direction: ltr\">this \n",
       "<mark class=\"entity\" style=\"background: #7aecec; padding: 0.45em 0.6em; margin: 0 0.25em; line-height: 1; border-radius: 0.35em; box-decoration-break: clone; -webkit-box-decoration-break: clone\">\n",
       "    Iphone\n",
       "    <span style=\"font-size: 0.8em; font-weight: bold; line-height: 1; border-radius: 0.35em; text-transform: uppercase; vertical-align: middle; margin-left: 0.5rem\">ORG</span>\n",
       "</mark>\n",
       " is amazing</div>"
      ],
      "text/plain": [
       "<IPython.core.display.HTML object>"
      ]
     },
     "metadata": {
      "tags": []
     },
     "output_type": "display_data"
    }
   ],
   "source": [
    "user_input = input('write text: ')\n",
    "doc = nlp(user_input)\n",
    "displacy.render(doc, style='ent', jupyter=True)"
   ]
  },
  {
   "cell_type": "code",
   "execution_count": null,
   "metadata": {
    "ExecuteTime": {
     "end_time": "2020-11-20T22:12:09.272093Z",
     "start_time": "2020-11-20T22:11:59.014601Z"
    },
    "id": "ejRJD4l7vKxq"
   },
   "outputs": [],
   "source": [
    "nlp = spacy.load('en_core_web_lg')"
   ]
  },
  {
   "cell_type": "code",
   "execution_count": null,
   "metadata": {
    "ExecuteTime": {
     "end_time": "2020-11-20T22:15:34.266414Z",
     "start_time": "2020-11-20T22:15:34.249702Z"
    },
    "id": "-Xhc9xRGvKxq",
    "outputId": "3d097ba3-e7e5-4676-8463-29c2b26fc41d"
   },
   "outputs": [
    {
     "data": {
      "text/plain": [
       "1129267    @Juneya But I bet he likes them, maybe even ju...\n",
       "210387     Just finished four hours of cleaning ... exhau...\n",
       "33635                                back at work, booooooo \n",
       "27043      it would be much better if all my friends woul...\n",
       "708669                                 Also: I am a fatass. \n",
       "                                 ...                        \n",
       "259178     this song's middle change just doesn't want to...\n",
       "1414414                 @officialnjonas Good luck with that \n",
       "131932              @ProudGamerTweet I rather average 32370 \n",
       "671155     Pickin up @misstinayao waitin on @sadittysash ...\n",
       "121958     @ home studying for maths wooot ! im so going ...\n",
       "Name: text, Length: 8000, dtype: object"
      ]
     },
     "execution_count": 49,
     "metadata": {
      "tags": []
     },
     "output_type": "execute_result"
    }
   ],
   "source": [
    "X_train"
   ]
  },
  {
   "cell_type": "markdown",
   "metadata": {
    "id": "Igw47VR4vKxq"
   },
   "source": [
    "# Deep NLP"
   ]
  },
  {
   "cell_type": "code",
   "execution_count": 11,
   "metadata": {
    "ExecuteTime": {
     "end_time": "2020-11-23T15:28:19.748705Z",
     "start_time": "2020-11-23T15:28:19.178803Z"
    },
    "id": "ly36eqOWvKxq"
   },
   "outputs": [],
   "source": [
    "# Define X and y\n",
    "X = permanent['text']\n",
    "y = permanent['sentiment']\n",
    "\n",
    "# Splits test set\n",
    "X_train, X_test, y_train, y_test = train_test_split(X, y, train_size=0.01, random_state=42)\n",
    "\n",
    "# Splits traint set into train and validation set\n",
    "X_train, X_val, y_train, y_val = train_test_split(X_train, y_train, train_size=0.50, random_state=42)"
   ]
  },
  {
   "cell_type": "code",
   "execution_count": 12,
   "metadata": {
    "ExecuteTime": {
     "end_time": "2020-11-20T22:17:38.139115Z",
     "start_time": "2020-11-20T22:16:49.488520Z"
    },
    "colab": {
     "base_uri": "https://localhost:8080/",
     "height": 198
    },
    "id": "shMdvCeVvKxq",
    "outputId": "948ba1c9-573b-4f1f-b017-6a5fb126145d"
   },
   "outputs": [
    {
     "ename": "NameError",
     "evalue": "ignored",
     "output_type": "error",
     "traceback": [
      "\u001b[0;31m---------------------------------------------------------------------------\u001b[0m",
      "\u001b[0;31mNameError\u001b[0m                                 Traceback (most recent call last)",
      "\u001b[0;32m<ipython-input-12-b6ce4212051f>\u001b[0m in \u001b[0;36m<module>\u001b[0;34m()\u001b[0m\n\u001b[1;32m      1\u001b[0m \u001b[0mX_train\u001b[0m \u001b[0;34m=\u001b[0m \u001b[0mpd\u001b[0m\u001b[0;34m.\u001b[0m\u001b[0mDataFrame\u001b[0m\u001b[0;34m(\u001b[0m\u001b[0mX_train\u001b[0m\u001b[0;34m)\u001b[0m\u001b[0;34m\u001b[0m\u001b[0;34m\u001b[0m\u001b[0m\n\u001b[1;32m      2\u001b[0m \u001b[0mX_train\u001b[0m\u001b[0;34m.\u001b[0m\u001b[0mcolumns\u001b[0m \u001b[0;34m=\u001b[0m \u001b[0;34m[\u001b[0m\u001b[0;34m'text'\u001b[0m\u001b[0;34m]\u001b[0m\u001b[0;34m\u001b[0m\u001b[0;34m\u001b[0m\u001b[0m\n\u001b[0;32m----> 3\u001b[0;31m \u001b[0mX_train\u001b[0m\u001b[0;34m[\u001b[0m\u001b[0;34m'clean'\u001b[0m\u001b[0;34m]\u001b[0m \u001b[0;34m=\u001b[0m \u001b[0mX_train\u001b[0m\u001b[0;34m[\u001b[0m\u001b[0;34m'text'\u001b[0m\u001b[0;34m]\u001b[0m\u001b[0;34m.\u001b[0m\u001b[0mapply\u001b[0m\u001b[0;34m(\u001b[0m\u001b[0muc\u001b[0m\u001b[0;34m.\u001b[0m\u001b[0mclean_text\u001b[0m\u001b[0;34m)\u001b[0m\u001b[0;34m\u001b[0m\u001b[0;34m\u001b[0m\u001b[0m\n\u001b[0m",
      "\u001b[0;31mNameError\u001b[0m: name 'uc' is not defined"
     ]
    }
   ],
   "source": [
    "X_train = pd.DataFrame(X_train)\n",
    "X_train.columns = ['text']\n",
    "X_train['clean'] = X_train['text'].apply(uc.clean_text)"
   ]
  },
  {
   "cell_type": "code",
   "execution_count": 31,
   "metadata": {
    "ExecuteTime": {
     "end_time": "2020-11-20T22:17:38.163025Z",
     "start_time": "2020-11-20T22:17:38.141425Z"
    },
    "colab": {
     "base_uri": "https://localhost:8080/"
    },
    "id": "s6odGL-SvKxq",
    "outputId": "a70142a6-7068-46c4-a957-5ac9a1fc0fde"
   },
   "outputs": [
    {
     "data": {
      "text/plain": [
       "[array([[  101,  4122,  2000, ...,     0,     0,     0],\n",
       "        [  101,  1030,  9092, ...,     0,     0,     0],\n",
       "        [  101, 14743,  1012, ...,     0,     0,     0],\n",
       "        ...,\n",
       "        [  101,  4671,  9260, ...,     0,     0,     0],\n",
       "        [  101,  2003,  3913, ...,     0,     0,     0],\n",
       "        [  101, 22091,  2860, ...,     0,     0,     0]]),\n",
       " array([[0, 0, 0, ..., 0, 0, 0],\n",
       "        [0, 0, 0, ..., 0, 0, 0],\n",
       "        [0, 0, 0, ..., 0, 0, 0],\n",
       "        ...,\n",
       "        [0, 0, 0, ..., 0, 0, 0],\n",
       "        [0, 0, 0, ..., 0, 0, 0],\n",
       "        [0, 0, 0, ..., 0, 0, 0]])]"
      ]
     },
     "execution_count": 31,
     "metadata": {
      "tags": []
     },
     "output_type": "execute_result"
    }
   ],
   "source": [
    "X_train"
   ]
  },
  {
   "cell_type": "code",
   "execution_count": null,
   "metadata": {
    "ExecuteTime": {
     "end_time": "2020-11-20T21:15:37.201365Z",
     "start_time": "2020-11-20T21:15:37.198735Z"
    },
    "id": "O8IH_rPfvKxq"
   },
   "outputs": [],
   "source": [
    "BUFFER_SIZE = 10000\n",
    "BATCH_SIZE = 64\n",
    "\n",
    "padded_shapes = ([None], ())"
   ]
  },
  {
   "cell_type": "code",
   "execution_count": null,
   "metadata": {
    "id": "T_0sxlNQvKxr"
   },
   "outputs": [],
   "source": [
    "model = tf.keras.Sequential([tf.keras.layers.Embedding(encoder.vocab_size, 64),\n",
    "                             tf.keras.layers.Bidirectional(tf.keras.layers.LSTM(64)),\n",
    "                             tf.keras.layers.Dense(64, activation='relu'),\n",
    "                             tf.keras.layers.Dense(1, activation='sigmoid')])\n",
    "\n",
    "model.compile(loss='binary_crossentropy', \n",
    "              optimizer=tf.keras.optimizers.Adam(1e-4),\n",
    "              metrics=['accuracy'])\n",
    "\n",
    "history = model.fit(dataset, epochs=5, validation_data=test_dataset,\n",
    "          validation_steps=30)"
   ]
  },
  {
   "cell_type": "markdown",
   "metadata": {
    "id": "jjrnnYvf0NQM"
   },
   "source": [
    "# Deep NLP using Ktrain"
   ]
  },
  {
   "cell_type": "code",
   "execution_count": 13,
   "metadata": {
    "id": "cd24pVz-0a6z"
   },
   "outputs": [],
   "source": [
    "# Splits test set\n",
    "data_train, data_test = train_test_split(permanent, train_size=0.05, random_state=42)\n",
    "\n",
    "# Splits traint set into train and validation set\n",
    "data_train, data_val = train_test_split(data_train, train_size=0.70, random_state=42)"
   ]
  },
  {
   "cell_type": "code",
   "execution_count": 14,
   "metadata": {
    "id": "wyI--8zwz7Ne"
   },
   "outputs": [],
   "source": [
    "nlp = spacy.load('en_core_web_sm')"
   ]
  },
  {
   "cell_type": "code",
   "execution_count": 15,
   "metadata": {
    "id": "2YbS-lNwzyCY"
   },
   "outputs": [],
   "source": [
    "def clean_text(text, stopwords=False, tweet=True):\n",
    "    \"\"\"\n",
    "    Cleans and tokenizes tweet text data.\n",
    "    Args:\n",
    "        text (str): tweet text data\n",
    "        \n",
    "        stopwords (bool): True if stopwords needs to be removed\n",
    "        \n",
    "        tweet (bool): True if text data are tweets.\n",
    "    \n",
    "    Returns:\n",
    "        tokens (array): Array of tokenized words from given text.\n",
    "    \"\"\"\n",
    "\n",
    "    if tweet:\n",
    "        # text = re.sub(r'@\\S+', '', text) # Gets rid of any mentions\n",
    "        text = re.sub(r'RT\\S+', '', text) # Gets rid of any retweets\n",
    "        text = re.sub(r'#', '', text) # Gets rid of hashtag sign\n",
    "        text = re.sub(r'https?:\\/\\/\\S+', '', text) # Gets rid of any links\n",
    "        # text = re.sub(r'[0-9]+.?[0-9]+', '', text) # Gets rid of X.X where X are numbers\n",
    "        text = re.sub(r'#?(sx|Sx|SX)\\S+', '', text) # Gets rid common mentions\n",
    "        text = re.sub(r'(&quot;|&Quot;)', '', text) # Gets rid of quotes    \n",
    "        text = re.sub(r'(&amp;|&Amp;)', '', text) # Gets rid of quotes\n",
    "        text = re.sub(r'link', '', text) # Gets rid of quotes\n",
    "    doc = nlp(text)\n",
    "\n",
    "    tokens = []\n",
    "    for token in doc:\n",
    "        if token.lemma_ != '-PRON-': # if token is not a pronoun\n",
    "            temp_token = token.lemma_.lower().strip()\n",
    "        else:\n",
    "            temp_token = token.lower_\n",
    "        tokens.append(temp_token)\n",
    "    \n",
    "    if stopwords:\n",
    "        tokens_stopped = [token for token in tokens if token not in stopwords_list]\n",
    "    else:\n",
    "        tokens_stopped = tokens\n",
    "    \n",
    "    return ' '.join(tokens_stopped)"
   ]
  },
  {
   "cell_type": "code",
   "execution_count": 16,
   "metadata": {
    "ExecuteTime": {
     "end_time": "2020-11-23T15:11:07.878322Z",
     "start_time": "2020-11-23T15:11:07.875335Z"
    },
    "colab": {
     "base_uri": "https://localhost:8080/"
    },
    "id": "OH9B2e3-vKxr",
    "outputId": "66e8ed42-e9b3-4555-cac6-4ca47015bbad"
   },
   "outputs": [
    {
     "name": "stdout",
     "output_type": "stream",
     "text": [
      "Collecting ktrain\n",
      "\u001b[?25l  Downloading https://files.pythonhosted.org/packages/bd/52/aa566f14064dd8904e37d2346431465f20a053df8ad89eae246dcc073dc5/ktrain-0.25.0.tar.gz (25.3MB)\n",
      "\u001b[K     |████████████████████████████████| 25.3MB 2.0MB/s \n",
      "\u001b[?25hRequirement already satisfied: scikit-learn>=0.21.3 in /usr/local/lib/python3.6/dist-packages (from ktrain) (0.22.2.post1)\n",
      "Requirement already satisfied: matplotlib>=3.0.0 in /usr/local/lib/python3.6/dist-packages (from ktrain) (3.2.2)\n",
      "Requirement already satisfied: pandas>=1.0.1 in /usr/local/lib/python3.6/dist-packages (from ktrain) (1.1.4)\n",
      "Requirement already satisfied: fastprogress>=0.1.21 in /usr/local/lib/python3.6/dist-packages (from ktrain) (1.0.0)\n",
      "Collecting keras_bert>=0.86.0\n",
      "  Downloading https://files.pythonhosted.org/packages/e2/7f/95fabd29f4502924fa3f09ff6538c5a7d290dfef2c2fe076d3d1a16e08f0/keras-bert-0.86.0.tar.gz\n",
      "Requirement already satisfied: requests in /usr/local/lib/python3.6/dist-packages (from ktrain) (2.23.0)\n",
      "Requirement already satisfied: joblib in /usr/local/lib/python3.6/dist-packages (from ktrain) (0.17.0)\n",
      "Collecting langdetect\n",
      "\u001b[?25l  Downloading https://files.pythonhosted.org/packages/56/a3/8407c1e62d5980188b4acc45ef3d94b933d14a2ebc9ef3505f22cf772570/langdetect-1.0.8.tar.gz (981kB)\n",
      "\u001b[K     |████████████████████████████████| 983kB 47.2MB/s \n",
      "\u001b[?25hRequirement already satisfied: jieba in /usr/local/lib/python3.6/dist-packages (from ktrain) (0.42.1)\n",
      "Collecting cchardet\n",
      "\u001b[?25l  Downloading https://files.pythonhosted.org/packages/a0/e5/a0b9edd8664ea3b0d3270c451ebbf86655ed9fc4c3e4c45b9afae9c2e382/cchardet-2.1.7-cp36-cp36m-manylinux2010_x86_64.whl (263kB)\n",
      "\u001b[K     |████████████████████████████████| 266kB 43.9MB/s \n",
      "\u001b[?25hRequirement already satisfied: networkx>=2.3 in /usr/local/lib/python3.6/dist-packages (from ktrain) (2.5)\n",
      "Requirement already satisfied: bokeh in /usr/local/lib/python3.6/dist-packages (from ktrain) (2.1.1)\n",
      "Collecting seqeval==0.0.19\n",
      "  Downloading https://files.pythonhosted.org/packages/93/e5/b7705156a77f742cfe4fc6f22d0c71591edb2d243328dff2f8fc0f933ab6/seqeval-0.0.19.tar.gz\n",
      "Requirement already satisfied: packaging in /usr/local/lib/python3.6/dist-packages (from ktrain) (20.4)\n",
      "Collecting transformers>=3.1.0\n",
      "\u001b[?25l  Downloading https://files.pythonhosted.org/packages/3a/83/e74092e7f24a08d751aa59b37a9fc572b2e4af3918cb66f7766c3affb1b4/transformers-3.5.1-py3-none-any.whl (1.3MB)\n",
      "\u001b[K     |████████████████████████████████| 1.3MB 42.8MB/s \n",
      "\u001b[?25hRequirement already satisfied: ipython in /usr/local/lib/python3.6/dist-packages (from ktrain) (5.5.0)\n",
      "Collecting syntok\n",
      "  Downloading https://files.pythonhosted.org/packages/8c/76/a49e73a04b3e3a14ce232e8e28a1587f8108baa665644fe8c40e307e792e/syntok-1.3.1.tar.gz\n",
      "Collecting whoosh\n",
      "\u001b[?25l  Downloading https://files.pythonhosted.org/packages/ba/19/24d0f1f454a2c1eb689ca28d2f178db81e5024f42d82729a4ff6771155cf/Whoosh-2.7.4-py2.py3-none-any.whl (468kB)\n",
      "\u001b[K     |████████████████████████████████| 471kB 49.3MB/s \n",
      "\u001b[?25hRequirement already satisfied: numpy>=1.11.0 in /usr/local/lib/python3.6/dist-packages (from scikit-learn>=0.21.3->ktrain) (1.18.5)\n",
      "Requirement already satisfied: scipy>=0.17.0 in /usr/local/lib/python3.6/dist-packages (from scikit-learn>=0.21.3->ktrain) (1.4.1)\n",
      "Requirement already satisfied: cycler>=0.10 in /usr/local/lib/python3.6/dist-packages (from matplotlib>=3.0.0->ktrain) (0.10.0)\n",
      "Requirement already satisfied: kiwisolver>=1.0.1 in /usr/local/lib/python3.6/dist-packages (from matplotlib>=3.0.0->ktrain) (1.3.1)\n",
      "Requirement already satisfied: python-dateutil>=2.1 in /usr/local/lib/python3.6/dist-packages (from matplotlib>=3.0.0->ktrain) (2.8.1)\n",
      "Requirement already satisfied: pyparsing!=2.0.4,!=2.1.2,!=2.1.6,>=2.0.1 in /usr/local/lib/python3.6/dist-packages (from matplotlib>=3.0.0->ktrain) (2.4.7)\n",
      "Requirement already satisfied: pytz>=2017.2 in /usr/local/lib/python3.6/dist-packages (from pandas>=1.0.1->ktrain) (2018.9)\n",
      "Requirement already satisfied: Keras>=2.4.3 in /usr/local/lib/python3.6/dist-packages (from keras_bert>=0.86.0->ktrain) (2.4.3)\n",
      "Collecting keras-transformer>=0.38.0\n",
      "  Downloading https://files.pythonhosted.org/packages/89/6c/d6f0c164f4cc16fbc0d0fea85f5526e87a7d2df7b077809e422a7e626150/keras-transformer-0.38.0.tar.gz\n",
      "Requirement already satisfied: idna<3,>=2.5 in /usr/local/lib/python3.6/dist-packages (from requests->ktrain) (2.10)\n",
      "Requirement already satisfied: urllib3!=1.25.0,!=1.25.1,<1.26,>=1.21.1 in /usr/local/lib/python3.6/dist-packages (from requests->ktrain) (1.24.3)\n",
      "Requirement already satisfied: certifi>=2017.4.17 in /usr/local/lib/python3.6/dist-packages (from requests->ktrain) (2020.11.8)\n",
      "Requirement already satisfied: chardet<4,>=3.0.2 in /usr/local/lib/python3.6/dist-packages (from requests->ktrain) (3.0.4)\n",
      "Requirement already satisfied: six in /usr/local/lib/python3.6/dist-packages (from langdetect->ktrain) (1.15.0)\n",
      "Requirement already satisfied: decorator>=4.3.0 in /usr/local/lib/python3.6/dist-packages (from networkx>=2.3->ktrain) (4.4.2)\n",
      "Requirement already satisfied: pillow>=4.0 in /usr/local/lib/python3.6/dist-packages (from bokeh->ktrain) (7.0.0)\n",
      "Requirement already satisfied: PyYAML>=3.10 in /usr/local/lib/python3.6/dist-packages (from bokeh->ktrain) (3.13)\n",
      "Requirement already satisfied: typing-extensions>=3.7.4 in /usr/local/lib/python3.6/dist-packages (from bokeh->ktrain) (3.7.4.3)\n",
      "Requirement already satisfied: Jinja2>=2.7 in /usr/local/lib/python3.6/dist-packages (from bokeh->ktrain) (2.11.2)\n",
      "Requirement already satisfied: tornado>=5.1 in /usr/local/lib/python3.6/dist-packages (from bokeh->ktrain) (5.1.1)\n",
      "Collecting sacremoses\n",
      "\u001b[?25l  Downloading https://files.pythonhosted.org/packages/7d/34/09d19aff26edcc8eb2a01bed8e98f13a1537005d31e95233fd48216eed10/sacremoses-0.0.43.tar.gz (883kB)\n",
      "\u001b[K     |████████████████████████████████| 890kB 38.3MB/s \n",
      "\u001b[?25hRequirement already satisfied: filelock in /usr/local/lib/python3.6/dist-packages (from transformers>=3.1.0->ktrain) (3.0.12)\n",
      "Collecting tokenizers==0.9.3\n",
      "\u001b[?25l  Downloading https://files.pythonhosted.org/packages/4c/34/b39eb9994bc3c999270b69c9eea40ecc6f0e97991dba28282b9fd32d44ee/tokenizers-0.9.3-cp36-cp36m-manylinux1_x86_64.whl (2.9MB)\n",
      "\u001b[K     |████████████████████████████████| 2.9MB 47.9MB/s \n",
      "\u001b[?25hRequirement already satisfied: regex!=2019.12.17 in /usr/local/lib/python3.6/dist-packages (from transformers>=3.1.0->ktrain) (2019.12.20)\n",
      "Requirement already satisfied: tqdm>=4.27 in /usr/local/lib/python3.6/dist-packages (from transformers>=3.1.0->ktrain) (4.41.1)\n",
      "Requirement already satisfied: protobuf in /usr/local/lib/python3.6/dist-packages (from transformers>=3.1.0->ktrain) (3.12.4)\n",
      "Collecting sentencepiece==0.1.91\n",
      "\u001b[?25l  Downloading https://files.pythonhosted.org/packages/d4/a4/d0a884c4300004a78cca907a6ff9a5e9fe4f090f5d95ab341c53d28cbc58/sentencepiece-0.1.91-cp36-cp36m-manylinux1_x86_64.whl (1.1MB)\n",
      "\u001b[K     |████████████████████████████████| 1.1MB 43.7MB/s \n",
      "\u001b[?25hRequirement already satisfied: dataclasses; python_version < \"3.7\" in /usr/local/lib/python3.6/dist-packages (from transformers>=3.1.0->ktrain) (0.8)\n",
      "Requirement already satisfied: pickleshare in /usr/local/lib/python3.6/dist-packages (from ipython->ktrain) (0.7.5)\n",
      "Requirement already satisfied: simplegeneric>0.8 in /usr/local/lib/python3.6/dist-packages (from ipython->ktrain) (0.8.1)\n",
      "Requirement already satisfied: traitlets>=4.2 in /usr/local/lib/python3.6/dist-packages (from ipython->ktrain) (4.3.3)\n",
      "Requirement already satisfied: pygments in /usr/local/lib/python3.6/dist-packages (from ipython->ktrain) (2.6.1)\n",
      "Requirement already satisfied: setuptools>=18.5 in /usr/local/lib/python3.6/dist-packages (from ipython->ktrain) (50.3.2)\n",
      "Requirement already satisfied: prompt-toolkit<2.0.0,>=1.0.4 in /usr/local/lib/python3.6/dist-packages (from ipython->ktrain) (1.0.18)\n",
      "Requirement already satisfied: pexpect; sys_platform != \"win32\" in /usr/local/lib/python3.6/dist-packages (from ipython->ktrain) (4.8.0)\n",
      "Requirement already satisfied: h5py in /usr/local/lib/python3.6/dist-packages (from Keras>=2.4.3->keras_bert>=0.86.0->ktrain) (2.10.0)\n",
      "Collecting keras-pos-embd>=0.11.0\n",
      "  Downloading https://files.pythonhosted.org/packages/09/70/b63ed8fc660da2bb6ae29b9895401c628da5740c048c190b5d7107cadd02/keras-pos-embd-0.11.0.tar.gz\n",
      "Collecting keras-multi-head>=0.27.0\n",
      "  Downloading https://files.pythonhosted.org/packages/e6/32/45adf2549450aca7867deccfa04af80a0ab1ca139af44b16bc669e0e09cd/keras-multi-head-0.27.0.tar.gz\n",
      "Collecting keras-layer-normalization>=0.14.0\n",
      "  Downloading https://files.pythonhosted.org/packages/a4/0e/d1078df0494bac9ce1a67954e5380b6e7569668f0f3b50a9531c62c1fc4a/keras-layer-normalization-0.14.0.tar.gz\n",
      "Collecting keras-position-wise-feed-forward>=0.6.0\n",
      "  Downloading https://files.pythonhosted.org/packages/e3/59/f0faa1037c033059e7e9e7758e6c23b4d1c0772cd48de14c4b6fd4033ad5/keras-position-wise-feed-forward-0.6.0.tar.gz\n",
      "Collecting keras-embed-sim>=0.8.0\n",
      "  Downloading https://files.pythonhosted.org/packages/57/ef/61a1e39082c9e1834a2d09261d4a0b69f7c818b359216d4e1912b20b1c86/keras-embed-sim-0.8.0.tar.gz\n",
      "Requirement already satisfied: MarkupSafe>=0.23 in /usr/local/lib/python3.6/dist-packages (from Jinja2>=2.7->bokeh->ktrain) (1.1.1)\n",
      "Requirement already satisfied: click in /usr/local/lib/python3.6/dist-packages (from sacremoses->transformers>=3.1.0->ktrain) (7.1.2)\n",
      "Requirement already satisfied: ipython-genutils in /usr/local/lib/python3.6/dist-packages (from traitlets>=4.2->ipython->ktrain) (0.2.0)\n",
      "Requirement already satisfied: wcwidth in /usr/local/lib/python3.6/dist-packages (from prompt-toolkit<2.0.0,>=1.0.4->ipython->ktrain) (0.2.5)\n",
      "Requirement already satisfied: ptyprocess>=0.5 in /usr/local/lib/python3.6/dist-packages (from pexpect; sys_platform != \"win32\"->ipython->ktrain) (0.6.0)\n",
      "Collecting keras-self-attention==0.46.0\n",
      "  Downloading https://files.pythonhosted.org/packages/15/6b/c804924a056955fa1f3ff767945187103cfc851ba9bd0fc5a6c6bc18e2eb/keras-self-attention-0.46.0.tar.gz\n",
      "Building wheels for collected packages: ktrain, keras-bert, langdetect, seqeval, syntok, keras-transformer, sacremoses, keras-pos-embd, keras-multi-head, keras-layer-normalization, keras-position-wise-feed-forward, keras-embed-sim, keras-self-attention\n",
      "  Building wheel for ktrain (setup.py) ... \u001b[?25l\u001b[?25hdone\n",
      "  Created wheel for ktrain: filename=ktrain-0.25.0-cp36-none-any.whl size=25274500 sha256=30cd6a9a97405426da29df8f1bfe7b6c865fbd9dc878b74954b82b62372e7022\n",
      "  Stored in directory: /root/.cache/pip/wheels/5c/73/05/f36d0027bb6575384e21506dbba8db36a7825f15a24f09b2d5\n",
      "  Building wheel for keras-bert (setup.py) ... \u001b[?25l\u001b[?25hdone\n",
      "  Created wheel for keras-bert: filename=keras_bert-0.86.0-cp36-none-any.whl size=34145 sha256=5b7a1186ce83d8b4831ff68d87077aa3737f6880013f0d9e423308e43aee7418\n",
      "  Stored in directory: /root/.cache/pip/wheels/66/f0/b1/748128b58562fc9e31b907bb5e2ab6a35eb37695e83911236b\n",
      "  Building wheel for langdetect (setup.py) ... \u001b[?25l\u001b[?25hdone\n",
      "  Created wheel for langdetect: filename=langdetect-1.0.8-cp36-none-any.whl size=993195 sha256=0c3c2c246dd3ef22a34ec862a9d4c226ed29f0de084d3ff7021537bb9d4de118\n",
      "  Stored in directory: /root/.cache/pip/wheels/8d/b3/aa/6d99de9f3841d7d3d40a60ea06e6d669e8e5012e6c8b947a57\n",
      "  Building wheel for seqeval (setup.py) ... \u001b[?25l\u001b[?25hdone\n",
      "  Created wheel for seqeval: filename=seqeval-0.0.19-cp36-none-any.whl size=9919 sha256=a77f124691a6ca4aac5fa770e5082642e91f1e922a73f287ce7d17b2b1ca3b86\n",
      "  Stored in directory: /root/.cache/pip/wheels/8d/1f/bf/1198beceed805a2099060975f6281d1b01046dd279e19c97be\n",
      "  Building wheel for syntok (setup.py) ... \u001b[?25l\u001b[?25hdone\n",
      "  Created wheel for syntok: filename=syntok-1.3.1-cp36-none-any.whl size=20919 sha256=efa2ac4effc97ac88c880b4fac4a05b028cf1b6f742bb89c0a11ff051e62658a\n",
      "  Stored in directory: /root/.cache/pip/wheels/51/c6/a4/be1920586c49469846bcd2888200bdecfe109ec421dab9be2d\n",
      "  Building wheel for keras-transformer (setup.py) ... \u001b[?25l\u001b[?25hdone\n",
      "  Created wheel for keras-transformer: filename=keras_transformer-0.38.0-cp36-none-any.whl size=12942 sha256=2fdc76602dd4008d4f25cf31e8ab5388f112924d8aaf6edf21d26c521064c5fa\n",
      "  Stored in directory: /root/.cache/pip/wheels/e5/fb/3a/37b2b9326c799aa010ae46a04ddb04f320d8c77c0b7e837f4e\n",
      "  Building wheel for sacremoses (setup.py) ... \u001b[?25l\u001b[?25hdone\n",
      "  Created wheel for sacremoses: filename=sacremoses-0.0.43-cp36-none-any.whl size=893257 sha256=19fe5ce4e5bad9e1141bfabf9806a1352e6c1bf037d03635835b120e512a13a5\n",
      "  Stored in directory: /root/.cache/pip/wheels/29/3c/fd/7ce5c3f0666dab31a50123635e6fb5e19ceb42ce38d4e58f45\n",
      "  Building wheel for keras-pos-embd (setup.py) ... \u001b[?25l\u001b[?25hdone\n",
      "  Created wheel for keras-pos-embd: filename=keras_pos_embd-0.11.0-cp36-none-any.whl size=7554 sha256=1a2286bdf411d5f5d314844a2473acaf173c53a74bd663d56ebf57a21f56c802\n",
      "  Stored in directory: /root/.cache/pip/wheels/5b/a1/a0/ce6b1d49ba1a9a76f592e70cf297b05c96bc9f418146761032\n",
      "  Building wheel for keras-multi-head (setup.py) ... \u001b[?25l\u001b[?25hdone\n",
      "  Created wheel for keras-multi-head: filename=keras_multi_head-0.27.0-cp36-none-any.whl size=15612 sha256=511135d1b4005c7f1838967678dd5984b54edb3441c2a254f58075398508686f\n",
      "  Stored in directory: /root/.cache/pip/wheels/b5/b4/49/0a0c27dcb93c13af02fea254ff51d1a43a924dd4e5b7a7164d\n",
      "  Building wheel for keras-layer-normalization (setup.py) ... \u001b[?25l\u001b[?25hdone\n",
      "  Created wheel for keras-layer-normalization: filename=keras_layer_normalization-0.14.0-cp36-none-any.whl size=5268 sha256=bdaa5853fc67f1f4ed8e17728c160f8d5f504e85567c7948059a086f64a2a0a2\n",
      "  Stored in directory: /root/.cache/pip/wheels/54/80/22/a638a7d406fd155e507aa33d703e3fa2612b9eb7bb4f4fe667\n",
      "  Building wheel for keras-position-wise-feed-forward (setup.py) ... \u001b[?25l\u001b[?25hdone\n",
      "  Created wheel for keras-position-wise-feed-forward: filename=keras_position_wise_feed_forward-0.6.0-cp36-none-any.whl size=5626 sha256=a24b6e78be250d3ccb14be896bb577b6ae7abd6c82e26882c6d426d98e7fd951\n",
      "  Stored in directory: /root/.cache/pip/wheels/39/e2/e2/3514fef126a00574b13bc0b9e23891800158df3a3c19c96e3b\n",
      "  Building wheel for keras-embed-sim (setup.py) ... \u001b[?25l\u001b[?25hdone\n",
      "  Created wheel for keras-embed-sim: filename=keras_embed_sim-0.8.0-cp36-none-any.whl size=4559 sha256=451bae3f55d6e3a8721810c7c97d27efdbfc1963cff0216924a00ac7ac280b7c\n",
      "  Stored in directory: /root/.cache/pip/wheels/49/45/8b/c111f6cc8bec253e984677de73a6f4f5d2f1649f42aac191c8\n",
      "  Building wheel for keras-self-attention (setup.py) ... \u001b[?25l\u001b[?25hdone\n",
      "  Created wheel for keras-self-attention: filename=keras_self_attention-0.46.0-cp36-none-any.whl size=17278 sha256=5c90f0ff1eb862f794502d61aead073ad4fede2c69905b3ebd2eb6215904ce8c\n",
      "  Stored in directory: /root/.cache/pip/wheels/d2/2e/80/fec4c05eb23c8e13b790e26d207d6e0ffe8013fad8c6bdd4d2\n",
      "Successfully built ktrain keras-bert langdetect seqeval syntok keras-transformer sacremoses keras-pos-embd keras-multi-head keras-layer-normalization keras-position-wise-feed-forward keras-embed-sim keras-self-attention\n",
      "Installing collected packages: keras-pos-embd, keras-self-attention, keras-multi-head, keras-layer-normalization, keras-position-wise-feed-forward, keras-embed-sim, keras-transformer, keras-bert, langdetect, cchardet, seqeval, sacremoses, tokenizers, sentencepiece, transformers, syntok, whoosh, ktrain\n",
      "Successfully installed cchardet-2.1.7 keras-bert-0.86.0 keras-embed-sim-0.8.0 keras-layer-normalization-0.14.0 keras-multi-head-0.27.0 keras-pos-embd-0.11.0 keras-position-wise-feed-forward-0.6.0 keras-self-attention-0.46.0 keras-transformer-0.38.0 ktrain-0.25.0 langdetect-1.0.8 sacremoses-0.0.43 sentencepiece-0.1.91 seqeval-0.0.19 syntok-1.3.1 tokenizers-0.9.3 transformers-3.5.1 whoosh-2.7.4\n"
     ]
    }
   ],
   "source": [
    "!pip install ktrain"
   ]
  },
  {
   "cell_type": "code",
   "execution_count": 17,
   "metadata": {
    "id": "XQiyea5n00Pq"
   },
   "outputs": [],
   "source": [
    "data_train['clean_text'] = data_train['text'].apply(clean_text)"
   ]
  },
  {
   "cell_type": "markdown",
   "metadata": {
    "id": "UFwNxsi20iNo"
   },
   "source": []
  },
  {
   "cell_type": "code",
   "execution_count": 18,
   "metadata": {
    "id": "KoAjhFhBdCjP"
   },
   "outputs": [],
   "source": [
    "data_val['clean_text'] = data_val['text'].apply(clean_text)"
   ]
  },
  {
   "cell_type": "code",
   "execution_count": null,
   "metadata": {
    "id": "rqw58Kb91io7"
   },
   "outputs": [],
   "source": [
    "data_train.to_csv(DATA_PATH,'data_train.csv')\n",
    "data_val.to_csv(DATA_PATH,'data_val.csv')"
   ]
  },
  {
   "cell_type": "code",
   "execution_count": 19,
   "metadata": {
    "ExecuteTime": {
     "end_time": "2020-11-23T15:28:12.137681Z",
     "start_time": "2020-11-23T15:28:11.257307Z"
    },
    "id": "XzPdgjOvvKxr"
   },
   "outputs": [],
   "source": [
    "import ktrain\n",
    "from ktrain import text"
   ]
  },
  {
   "cell_type": "code",
   "execution_count": 40,
   "metadata": {
    "colab": {
     "base_uri": "https://localhost:8080/",
     "height": 419
    },
    "id": "rHX34qSQbLGu",
    "outputId": "4034d582-f372-4a6a-d902-96cd527edf16"
   },
   "outputs": [
    {
     "data": {
      "text/html": [
       "<div>\n",
       "<style scoped>\n",
       "    .dataframe tbody tr th:only-of-type {\n",
       "        vertical-align: middle;\n",
       "    }\n",
       "\n",
       "    .dataframe tbody tr th {\n",
       "        vertical-align: top;\n",
       "    }\n",
       "\n",
       "    .dataframe thead th {\n",
       "        text-align: right;\n",
       "    }\n",
       "</style>\n",
       "<table border=\"1\" class=\"dataframe\">\n",
       "  <thead>\n",
       "    <tr style=\"text-align: right;\">\n",
       "      <th></th>\n",
       "      <th>sentiment</th>\n",
       "      <th>text</th>\n",
       "      <th>clean_text</th>\n",
       "    </tr>\n",
       "  </thead>\n",
       "  <tbody>\n",
       "    <tr>\n",
       "      <th>1581102</th>\n",
       "      <td>Positive</td>\n",
       "      <td>@FeeshaC I read Brida already. It's an okay bo...</td>\n",
       "      <td>@feeshac i read brida already . it be an okay ...</td>\n",
       "    </tr>\n",
       "    <tr>\n",
       "      <th>356348</th>\n",
       "      <td>Negative</td>\n",
       "      <td>WHY WAIT AGAIN? I absolutely HATE waiting! one...</td>\n",
       "      <td>why wait again ? i absolutely hate wait ! one ...</td>\n",
       "    </tr>\n",
       "    <tr>\n",
       "      <th>1199758</th>\n",
       "      <td>Positive</td>\n",
       "      <td>#fr @zalete hey  any pointer?</td>\n",
       "      <td>fr @zalete hey  any pointer ?</td>\n",
       "    </tr>\n",
       "    <tr>\n",
       "      <th>1369983</th>\n",
       "      <td>Positive</td>\n",
       "      <td>My niece is here shhhhhh she's asleep</td>\n",
       "      <td>my niece be here shhhhhh she be asleep</td>\n",
       "    </tr>\n",
       "    <tr>\n",
       "      <th>149336</th>\n",
       "      <td>Negative</td>\n",
       "      <td>@SleeplessInATX didn't make it 2 the Frank Gom...</td>\n",
       "      <td>@sleeplessinatx do not make it 2 the frank gom...</td>\n",
       "    </tr>\n",
       "    <tr>\n",
       "      <th>...</th>\n",
       "      <td>...</td>\n",
       "      <td>...</td>\n",
       "      <td>...</td>\n",
       "    </tr>\n",
       "    <tr>\n",
       "      <th>533299</th>\n",
       "      <td>Negative</td>\n",
       "      <td>anyone got a job for me? i'm so looking for a ...</td>\n",
       "      <td>anyone get a job for me ? i be so look for a j...</td>\n",
       "    </tr>\n",
       "    <tr>\n",
       "      <th>1291820</th>\n",
       "      <td>Positive</td>\n",
       "      <td>love to @kaliie for buying me english lollies ...</td>\n",
       "      <td>love to @kaliie for buy me english lolly ( whi...</td>\n",
       "    </tr>\n",
       "    <tr>\n",
       "      <th>157462</th>\n",
       "      <td>Negative</td>\n",
       "      <td>express editing... no fun!!</td>\n",
       "      <td>express editing ... no fun ! !</td>\n",
       "    </tr>\n",
       "    <tr>\n",
       "      <th>1055327</th>\n",
       "      <td>Positive</td>\n",
       "      <td>Is layin out</td>\n",
       "      <td>be layin out</td>\n",
       "    </tr>\n",
       "    <tr>\n",
       "      <th>335347</th>\n",
       "      <td>Negative</td>\n",
       "      <td>aww :/ no one is on aim</td>\n",
       "      <td>aww :/ no one be on aim</td>\n",
       "    </tr>\n",
       "  </tbody>\n",
       "</table>\n",
       "<p>56000 rows × 3 columns</p>\n",
       "</div>"
      ],
      "text/plain": [
       "        sentiment  ...                                         clean_text\n",
       "1581102  Positive  ...  @feeshac i read brida already . it be an okay ...\n",
       "356348   Negative  ...  why wait again ? i absolutely hate wait ! one ...\n",
       "1199758  Positive  ...                      fr @zalete hey  any pointer ?\n",
       "1369983  Positive  ...             my niece be here shhhhhh she be asleep\n",
       "149336   Negative  ...  @sleeplessinatx do not make it 2 the frank gom...\n",
       "...           ...  ...                                                ...\n",
       "533299   Negative  ...  anyone get a job for me ? i be so look for a j...\n",
       "1291820  Positive  ...  love to @kaliie for buy me english lolly ( whi...\n",
       "157462   Negative  ...                     express editing ... no fun ! !\n",
       "1055327  Positive  ...                                       be layin out\n",
       "335347   Negative  ...                            aww :/ no one be on aim\n",
       "\n",
       "[56000 rows x 3 columns]"
      ]
     },
     "execution_count": 40,
     "metadata": {
      "tags": []
     },
     "output_type": "execute_result"
    }
   ],
   "source": [
    "data_train"
   ]
  },
  {
   "cell_type": "code",
   "execution_count": 35,
   "metadata": {
    "ExecuteTime": {
     "end_time": "2020-11-23T15:28:31.576831Z",
     "start_time": "2020-11-23T15:28:28.166407Z"
    },
    "colab": {
     "base_uri": "https://localhost:8080/",
     "height": 136
    },
    "id": "1TdFZHV-vKxr",
    "outputId": "bd74dffb-548c-47a9-cbe7-49bd6e7db050"
   },
   "outputs": [
    {
     "name": "stdout",
     "output_type": "stream",
     "text": [
      "preprocessing train...\n",
      "language: en\n"
     ]
    },
    {
     "data": {
      "text/html": [
       "done."
      ],
      "text/plain": [
       "<IPython.core.display.HTML object>"
      ]
     },
     "metadata": {
      "tags": []
     },
     "output_type": "display_data"
    },
    {
     "name": "stdout",
     "output_type": "stream",
     "text": [
      "Is Multi-Label? False\n",
      "preprocessing test...\n",
      "language: en\n"
     ]
    },
    {
     "data": {
      "text/html": [
       "done."
      ],
      "text/plain": [
       "<IPython.core.display.HTML object>"
      ]
     },
     "metadata": {
      "tags": []
     },
     "output_type": "display_data"
    }
   ],
   "source": [
    "(X_train, y_train), (X_test, y_test), preprocess = text.texts_from_df(train_df = data_train, \n",
    "                                                                       text_column = 'text',\n",
    "                                                                       label_columns = 'sentiment',\n",
    "                                                                       val_df = data_val,\n",
    "                                                                       max_features=35000,\n",
    "                                                                       maxlen = 512,\n",
    "                                                                       preprocess_mode = 'bert')"
   ]
  },
  {
   "cell_type": "code",
   "execution_count": 36,
   "metadata": {
    "ExecuteTime": {
     "end_time": "2020-11-23T15:31:21.766815Z",
     "start_time": "2020-11-23T15:31:15.589489Z"
    },
    "colab": {
     "base_uri": "https://localhost:8080/"
    },
    "id": "Lo23y3SZvKxr",
    "outputId": "b521ac87-2e9d-4341-f27b-bd9a929036c8"
   },
   "outputs": [
    {
     "name": "stdout",
     "output_type": "stream",
     "text": [
      "Is Multi-Label? False\n",
      "maxlen is 512\n",
      "done.\n"
     ]
    }
   ],
   "source": [
    "# creates model\n",
    "model = text.text_classifier(name='bert',\n",
    "                             train_data = (X_train, y_train),\n",
    "                             preproc = preprocess)"
   ]
  },
  {
   "cell_type": "code",
   "execution_count": 37,
   "metadata": {
    "ExecuteTime": {
     "end_time": "2020-11-23T15:33:37.261051Z",
     "start_time": "2020-11-23T15:33:35.820539Z"
    },
    "id": "Na9pMFQ7vKxr"
   },
   "outputs": [],
   "source": [
    "# Get learning rate\n",
    "learner = ktrain.get_learner(model = model, \n",
    "                             train_data = (X_train, y_train),\n",
    "                             val_data = (X_test, y_test),\n",
    "                             batch_size = 8) # max_len determines the batch size"
   ]
  },
  {
   "cell_type": "code",
   "execution_count": 27,
   "metadata": {
    "colab": {
     "base_uri": "https://localhost:8080/",
     "height": 368
    },
    "id": "Gso3yhvmvKxr",
    "outputId": "d44555fb-a93e-4ec2-9016-766fc5e3b11c"
   },
   "outputs": [
    {
     "name": "stdout",
     "output_type": "stream",
     "text": [
      "simulating training for different learning rates... this may take a few moments...\n",
      "Epoch 1/3\n",
      "7000/7000 [==============================] - 3475s 496ms/step - loss: 0.0618 - accuracy: 0.9810\n",
      "Epoch 2/3\n",
      "7000/7000 [==============================] - 3471s 496ms/step - loss: 0.2192 - accuracy: 0.9125\n",
      "\n",
      "\n",
      "done.\n",
      "Please invoke the Learner.lr_plot() method to visually inspect the loss plot to help identify the maximal learning rate associated with falling loss.\n"
     ]
    },
    {
     "ename": "TypeError",
     "evalue": "ignored",
     "output_type": "error",
     "traceback": [
      "\u001b[0;31m---------------------------------------------------------------------------\u001b[0m",
      "\u001b[0;31mTypeError\u001b[0m                                 Traceback (most recent call last)",
      "\u001b[0;32m<ipython-input-27-d85214c82171>\u001b[0m in \u001b[0;36m<module>\u001b[0;34m()\u001b[0m\n\u001b[1;32m      1\u001b[0m \u001b[0;31m# this might take days to run!!!!!\u001b[0m\u001b[0;34m\u001b[0m\u001b[0;34m\u001b[0m\u001b[0;34m\u001b[0m\u001b[0m\n\u001b[1;32m      2\u001b[0m \u001b[0mlearner\u001b[0m\u001b[0;34m.\u001b[0m\u001b[0mlr_find\u001b[0m\u001b[0;34m(\u001b[0m\u001b[0mmax_epochs\u001b[0m\u001b[0;34m=\u001b[0m\u001b[0;36m3\u001b[0m\u001b[0;34m)\u001b[0m \u001b[0;31m# finds best learning rate\u001b[0m\u001b[0;34m\u001b[0m\u001b[0;34m\u001b[0m\u001b[0m\n\u001b[0;32m----> 3\u001b[0;31m \u001b[0mlearner\u001b[0m\u001b[0;34m.\u001b[0m\u001b[0mlr_plot\u001b[0m\u001b[0;34m(\u001b[0m\u001b[0mmax_epochs\u001b[0m\u001b[0;34m=\u001b[0m\u001b[0;36m3\u001b[0m\u001b[0;34m)\u001b[0m \u001b[0;31m# plots learning rate\u001b[0m\u001b[0;34m\u001b[0m\u001b[0;34m\u001b[0m\u001b[0m\n\u001b[0m\u001b[1;32m      4\u001b[0m \u001b[0;31m# Optimal learning rate for this model is _________.\u001b[0m\u001b[0;34m\u001b[0m\u001b[0;34m\u001b[0m\u001b[0;34m\u001b[0m\u001b[0m\n",
      "\u001b[0;31mTypeError\u001b[0m: lr_plot() got an unexpected keyword argument 'max_epochs'"
     ]
    }
   ],
   "source": [
    "# this might take days to run!!!!!\n",
    "learner.lr_find(max_epochs=3) # finds best learning rate\n",
    "learner.lr_plot() # plots learning rate\n",
    "# Optimal learning rate for this model is _________."
   ]
  },
  {
   "cell_type": "code",
   "execution_count": 28,
   "metadata": {
    "colab": {
     "base_uri": "https://localhost:8080/",
     "height": 283
    },
    "id": "jIl_X-BaZqj1",
    "outputId": "fcbcbcb1-d0ac-47c9-b3de-d519f48c0442"
   },
   "outputs": [
    {
     "data": {
      "image/png": "[encoded data removed]",
      "text/plain": [
       "<Figure size 432x288 with 1 Axes>"
      ]
     },
     "metadata": {
      "needs_background": "light",
      "tags": []
     },
     "output_type": "display_data"
    }
   ],
   "source": [
    "learner.lr_plot() "
   ]
  },
  {
   "cell_type": "code",
   "execution_count": 23,
   "metadata": {
    "ExecuteTime": {
     "end_time": "2020-11-23T15:37:53.285668Z",
     "start_time": "2020-11-23T15:36:10.058303Z"
    },
    "colab": {
     "base_uri": "https://localhost:8080/"
    },
    "id": "uDLPLqXJvKxr",
    "outputId": "5b22300a-c91a-4b7a-ff73-2526df2bc1a7"
   },
   "outputs": [
    {
     "name": "stdout",
     "output_type": "stream",
     "text": [
      "\n",
      "\n",
      "begin training using onecycle policy with max lr of 5e-05...\n",
      "Epoch 1/3\n",
      "7000/7000 [==============================] - 3830s 547ms/step - loss: 0.4125 - accuracy: 0.8127 - val_loss: 0.3947 - val_accuracy: 0.8249\n",
      "Epoch 2/3\n",
      "7000/7000 [==============================] - 3823s 546ms/step - loss: 0.3440 - accuracy: 0.8532 - val_loss: 0.3835 - val_accuracy: 0.8336\n",
      "Epoch 3/3\n",
      "7000/7000 [==============================] - 3820s 546ms/step - loss: 0.1698 - accuracy: 0.9357 - val_loss: 0.4731 - val_accuracy: 0.8358\n"
     ]
    },
    {
     "data": {
      "text/plain": [
       "<tensorflow.python.keras.callbacks.History at 0x7f8d6c16d908>"
      ]
     },
     "execution_count": 23,
     "metadata": {
      "tags": []
     },
     "output_type": "execute_result"
    }
   ],
   "source": [
    "learner.fit_onecycle(lr = 5e-5, epochs = 3)"
   ]
  },
  {
   "cell_type": "code",
   "execution_count": 25,
   "metadata": {
    "id": "Ct5BiGRyvKxr"
   },
   "outputs": [],
   "source": [
    "# predictor\n",
    "predictor = ktrain.get_predictor(learner.model, preprocess)\n",
    "MODEL_PATH = 'drive/MyDrive/models/'\n",
    "# saves the model\n",
    "predictor.save(MODEL_PATH+'BERT_1') #ngram_5, max_len_400, max_feature20000\n",
    "\n"
   ]
  },
  {
   "cell_type": "code",
   "execution_count": null,
   "metadata": {
    "id": "fpKQeCUSZ3fQ"
   },
   "outputs": [],
   "source": [
    "predictor = ktrain.load_predictor('/tmp/mymnist')"
   ]
  },
  {
   "cell_type": "code",
   "execution_count": 33,
   "metadata": {
    "colab": {
     "base_uri": "https://localhost:8080/"
    },
    "id": "DqZ61mQjaX3d",
    "outputId": "48b0a531-2b49-41d3-9d85-990c749f5c7a"
   },
   "outputs": [
    {
     "name": "stdout",
     "output_type": "stream",
     "text": [
      "\n",
      "\n",
      "begin training using onecycle policy with max lr of 1e-05...\n",
      "Epoch 1/5\n",
      "7000/7000 [==============================] - 4394s 628ms/step - loss: 0.4422 - accuracy: 0.7907 - val_loss: 0.3827 - val_accuracy: 0.8315\n",
      "Epoch 2/5\n",
      "7000/7000 [==============================] - 4303s 615ms/step - loss: 0.3454 - accuracy: 0.8494 - val_loss: 0.3661 - val_accuracy: 0.8401\n",
      "Epoch 3/5\n",
      "7000/7000 [==============================] - 4280s 611ms/step - loss: 0.2626 - accuracy: 0.8926 - val_loss: 0.4054 - val_accuracy: 0.8388\n",
      "Epoch 4/5\n",
      "7000/7000 [==============================] - 4284s 612ms/step - loss: 0.1329 - accuracy: 0.9503 - val_loss: 0.5138 - val_accuracy: 0.8348\n",
      "Epoch 5/5\n",
      "7000/7000 [==============================] - 4286s 612ms/step - loss: 0.0557 - accuracy: 0.9811 - val_loss: 0.6727 - val_accuracy: 0.8379\n"
     ]
    },
    {
     "data": {
      "text/plain": [
       "<tensorflow.python.keras.callbacks.History at 0x7f8da34c3748>"
      ]
     },
     "execution_count": 33,
     "metadata": {
      "tags": []
     },
     "output_type": "execute_result"
    }
   ],
   "source": [
    "learner.fit_onecycle(lr = 1e-5, epochs = 5)"
   ]
  },
  {
   "cell_type": "code",
   "execution_count": 34,
   "metadata": {
    "id": "Kc09jL5kah_1"
   },
   "outputs": [],
   "source": [
    "# predictor\n",
    "predictor = ktrain.get_predictor(learner.model, preprocess)\n",
    "MODEL_PATH = 'drive/MyDrive/models/'\n",
    "# saves the model\n",
    "predictor.save(MODEL_PATH+'BERT_2') #ngram_3, max_len_512, max_feature20000\n",
    "\n"
   ]
  },
  {
   "cell_type": "code",
   "execution_count": 38,
   "metadata": {
    "colab": {
     "base_uri": "https://localhost:8080/"
    },
    "id": "U4spbq3galVy",
    "outputId": "29632306-be23-45df-8f23-e1acadcb5d49"
   },
   "outputs": [
    {
     "name": "stdout",
     "output_type": "stream",
     "text": [
      "early_stopping automatically enabled at patience=5\n",
      "reduce_on_plateau automatically enabled at patience=2\n",
      "\n",
      "\n",
      "begin training using triangular learning rate policy with max lr of 1e-05...\n",
      "Epoch 1/1024\n",
      "7000/7000 [==============================] - 4331s 619ms/step - loss: 0.4144 - accuracy: 0.8082 - val_loss: 0.3625 - val_accuracy: 0.8397\n",
      "Epoch 2/1024\n",
      "7000/7000 [==============================] - 4280s 611ms/step - loss: 0.3068 - accuracy: 0.8699 - val_loss: 0.3648 - val_accuracy: 0.8437\n",
      "Epoch 3/1024\n",
      "7000/7000 [==============================] - ETA: 0s - loss: 0.2274 - accuracy: 0.9097\n",
      "Epoch 00003: Reducing Max LR on Plateau: new max lr will be 5e-06 (if not early_stopping).\n",
      "7000/7000 [==============================] - 4277s 611ms/step - loss: 0.2274 - accuracy: 0.9097 - val_loss: 0.4121 - val_accuracy: 0.8391\n",
      "Epoch 4/1024\n",
      "7000/7000 [==============================] - 4273s 610ms/step - loss: 0.1348 - accuracy: 0.9505 - val_loss: 0.5036 - val_accuracy: 0.8378\n",
      "Epoch 5/1024\n",
      "7000/7000 [==============================] - ETA: 0s - loss: 0.0923 - accuracy: 0.9674\n",
      "Epoch 00005: Reducing Max LR on Plateau: new max lr will be 2.5e-06 (if not early_stopping).\n",
      "7000/7000 [==============================] - 4256s 608ms/step - loss: 0.0923 - accuracy: 0.9674 - val_loss: 0.5822 - val_accuracy: 0.8365\n",
      "Epoch 6/1024\n",
      "7000/7000 [==============================] - ETA: 0s - loss: 0.0583 - accuracy: 0.9807Restoring model weights from the end of the best epoch.\n",
      "7000/7000 [==============================] - 4265s 609ms/step - loss: 0.0583 - accuracy: 0.9807 - val_loss: 0.6782 - val_accuracy: 0.8355\n",
      "Epoch 00006: early stopping\n",
      "Weights from best epoch have been loaded into model.\n"
     ]
    },
    {
     "data": {
      "text/plain": [
       "<tensorflow.python.keras.callbacks.History at 0x7f8981b61c18>"
      ]
     },
     "execution_count": 38,
     "metadata": {
      "tags": []
     },
     "output_type": "execute_result"
    }
   ],
   "source": [
    "learner.autofit(1e-5)"
   ]
  },
  {
   "cell_type": "code",
   "execution_count": 39,
   "metadata": {
    "id": "SHLqL-W7ub2f"
   },
   "outputs": [],
   "source": [
    "# predictor\n",
    "predictor = ktrain.get_predictor(learner.model, preprocess)\n",
    "MODEL_PATH = 'drive/MyDrive/models/'\n",
    "# saves the model\n",
    "predictor.save(MODEL_PATH+'BERT_3') #ngram_1, max_len_512, max_feature 35000\n",
    "\n"
   ]
  },
  {
   "cell_type": "markdown",
   "metadata": {
    "id": "yI1LitdSTGB_"
   },
   "source": [
    "# Load and check the model"
   ]
  },
  {
   "cell_type": "code",
   "execution_count": 2,
   "metadata": {
    "ExecuteTime": {
     "end_time": "2020-12-07T19:46:40.920448Z",
     "start_time": "2020-12-07T19:46:39.938652Z"
    }
   },
   "outputs": [],
   "source": [
    "import ktrain"
   ]
  },
  {
   "cell_type": "code",
   "execution_count": 5,
   "metadata": {
    "ExecuteTime": {
     "end_time": "2020-12-07T19:48:40.699019Z",
     "start_time": "2020-12-07T19:48:29.649867Z"
    }
   },
   "outputs": [],
   "source": [
    "predictor = ktrain.load_predictor('models/BERT_2')"
   ]
  },
  {
   "cell_type": "code",
   "execution_count": 13,
   "metadata": {
    "ExecuteTime": {
     "end_time": "2020-12-07T19:52:35.311898Z",
     "start_time": "2020-12-07T19:52:35.309121Z"
    }
   },
   "outputs": [],
   "source": [
    "data  = [\"I don't like being a student.\"]"
   ]
  },
  {
   "cell_type": "code",
   "execution_count": 14,
   "metadata": {
    "ExecuteTime": {
     "end_time": "2020-12-07T19:52:36.594709Z",
     "start_time": "2020-12-07T19:52:35.604115Z"
    }
   },
   "outputs": [
    {
     "data": {
      "text/html": [],
      "text/plain": [
       "<IPython.core.display.HTML object>"
      ]
     },
     "metadata": {},
     "output_type": "display_data"
    },
    {
     "data": {
      "text/plain": [
       "['Negative']"
      ]
     },
     "execution_count": 14,
     "metadata": {},
     "output_type": "execute_result"
    }
   ],
   "source": [
    "predictor.predict(data)"
   ]
  },
  {
   "cell_type": "code",
   "execution_count": 15,
   "metadata": {
    "ExecuteTime": {
     "end_time": "2020-12-07T19:52:37.645507Z",
     "start_time": "2020-12-07T19:52:36.597223Z"
    }
   },
   "outputs": [
    {
     "data": {
      "text/html": [],
      "text/plain": [
       "<IPython.core.display.HTML object>"
      ]
     },
     "metadata": {},
     "output_type": "display_data"
    },
    {
     "data": {
      "text/plain": [
       "array([[9.994155e-01, 5.844549e-04]], dtype=float32)"
      ]
     },
     "execution_count": 15,
     "metadata": {},
     "output_type": "execute_result"
    }
   ],
   "source": [
    "predictor.predict_proba(data)"
   ]
  },
  {
   "cell_type": "code",
   "execution_count": 16,
   "metadata": {
    "ExecuteTime": {
     "end_time": "2020-12-07T20:04:46.645602Z",
     "start_time": "2020-12-07T20:04:46.637759Z"
    }
   },
   "outputs": [],
   "source": [
    "a = pd.DataFrame({'text':['I love this month']})"
   ]
  },
  {
   "cell_type": "code",
   "execution_count": 17,
   "metadata": {
    "ExecuteTime": {
     "end_time": "2020-12-07T20:04:48.546097Z",
     "start_time": "2020-12-07T20:04:48.528647Z"
    }
   },
   "outputs": [
    {
     "data": {
      "text/html": [
       "<div>\n",
       "<style scoped>\n",
       "    .dataframe tbody tr th:only-of-type {\n",
       "        vertical-align: middle;\n",
       "    }\n",
       "\n",
       "    .dataframe tbody tr th {\n",
       "        vertical-align: top;\n",
       "    }\n",
       "\n",
       "    .dataframe thead th {\n",
       "        text-align: right;\n",
       "    }\n",
       "</style>\n",
       "<table border=\"1\" class=\"dataframe\">\n",
       "  <thead>\n",
       "    <tr style=\"text-align: right;\">\n",
       "      <th></th>\n",
       "      <th>text</th>\n",
       "    </tr>\n",
       "  </thead>\n",
       "  <tbody>\n",
       "    <tr>\n",
       "      <th>0</th>\n",
       "      <td>I love this month</td>\n",
       "    </tr>\n",
       "  </tbody>\n",
       "</table>\n",
       "</div>"
      ],
      "text/plain": [
       "                text\n",
       "0  I love this month"
      ]
     },
     "execution_count": 17,
     "metadata": {},
     "output_type": "execute_result"
    }
   ],
   "source": [
    "a"
   ]
  },
  {
   "cell_type": "code",
   "execution_count": 26,
   "metadata": {
    "ExecuteTime": {
     "end_time": "2020-12-07T20:05:30.442051Z",
     "start_time": "2020-12-07T20:05:30.435089Z"
    }
   },
   "outputs": [
    {
     "data": {
      "text/plain": [
       "array(['I love this month'], dtype=object)"
      ]
     },
     "execution_count": 26,
     "metadata": {},
     "output_type": "execute_result"
    }
   ],
   "source": [
    "a['text'].values"
   ]
  },
  {
   "cell_type": "code",
   "execution_count": 41,
   "metadata": {
    "ExecuteTime": {
     "end_time": "2020-12-08T10:38:54.755031Z",
     "start_time": "2020-12-08T10:38:53.701791Z"
    }
   },
   "outputs": [
    {
     "data": {
      "text/html": [],
      "text/plain": [
       "<IPython.core.display.HTML object>"
      ]
     },
     "metadata": {},
     "output_type": "display_data"
    },
    {
     "data": {
      "text/plain": [
       "0.00026200592"
      ]
     },
     "execution_count": 41,
     "metadata": {},
     "output_type": "execute_result"
    }
   ],
   "source": [
    "predictor.predict_proba(['I love it!'])[0][0]"
   ]
  },
  {
   "cell_type": "code",
   "execution_count": 35,
   "metadata": {
    "ExecuteTime": {
     "end_time": "2020-12-07T20:43:59.844038Z",
     "start_time": "2020-12-07T20:43:59.837236Z"
    }
   },
   "outputs": [
    {
     "data": {
      "text/plain": [
       "True"
      ]
     },
     "execution_count": 35,
     "metadata": {},
     "output_type": "execute_result"
    }
   ],
   "source": [
    "prob[0] < prob[1]"
   ]
  },
  {
   "cell_type": "code",
   "execution_count": 39,
   "metadata": {
    "ExecuteTime": {
     "end_time": "2020-12-07T20:44:23.089007Z",
     "start_time": "2020-12-07T20:44:23.083204Z"
    }
   },
   "outputs": [
    {
     "data": {
      "text/plain": [
       "-0.99973804"
      ]
     },
     "execution_count": 39,
     "metadata": {},
     "output_type": "execute_result"
    }
   ],
   "source": [
    "-prob[1]"
   ]
  },
  {
   "cell_type": "code",
   "execution_count": 37,
   "metadata": {
    "ExecuteTime": {
     "end_time": "2020-12-07T20:44:05.924099Z",
     "start_time": "2020-12-07T20:44:05.918112Z"
    }
   },
   "outputs": [
    {
     "data": {
      "text/plain": [
       "0.00026200592"
      ]
     },
     "execution_count": 37,
     "metadata": {},
     "output_type": "execute_result"
    }
   ],
   "source": [
    "prob[0]"
   ]
  },
  {
   "cell_type": "code",
   "execution_count": 38,
   "metadata": {
    "ExecuteTime": {
     "end_time": "2020-12-07T20:44:08.096749Z",
     "start_time": "2020-12-07T20:44:08.089922Z"
    }
   },
   "outputs": [
    {
     "data": {
      "text/plain": [
       "array([2.6200592e-04, 9.9973804e-01], dtype=float32)"
      ]
     },
     "execution_count": 38,
     "metadata": {},
     "output_type": "execute_result"
    }
   ],
   "source": [
    "prob"
   ]
  },
  {
   "cell_type": "code",
   "execution_count": 1,
   "metadata": {
    "ExecuteTime": {
     "end_time": "2020-12-11T02:19:30.796417Z",
     "start_time": "2020-12-11T02:19:30.787564Z"
    }
   },
   "outputs": [],
   "source": [
    "import time\n",
    "import datetime\n",
    "import keys.keys as keys"
   ]
  },
  {
   "cell_type": "code",
   "execution_count": 2,
   "metadata": {
    "ExecuteTime": {
     "end_time": "2020-12-11T02:19:31.281567Z",
     "start_time": "2020-12-11T02:19:31.142092Z"
    }
   },
   "outputs": [],
   "source": [
    "import sqlite3\n",
    "import tweepy"
   ]
  },
  {
   "cell_type": "code",
   "execution_count": 3,
   "metadata": {
    "ExecuteTime": {
     "end_time": "2020-12-11T02:19:31.507888Z",
     "start_time": "2020-12-11T02:19:31.405008Z"
    }
   },
   "outputs": [
    {
     "ename": "NameError",
     "evalue": "name 'a' is not defined",
     "output_type": "error",
     "traceback": [
      "\u001b[0;31m---------------------------------------------------------------------------\u001b[0m",
      "\u001b[0;31mNameError\u001b[0m                                 Traceback (most recent call last)",
      "\u001b[0;32m<ipython-input-3-73325e8745a2>\u001b[0m in \u001b[0;36m<module>\u001b[0;34m\u001b[0m\n\u001b[0;32m----> 1\u001b[0;31m \u001b[0mtime_ms\u001b[0m \u001b[0;34m=\u001b[0m \u001b[0mtime\u001b[0m\u001b[0;34m.\u001b[0m\u001b[0mmktime\u001b[0m\u001b[0;34m(\u001b[0m\u001b[0mdatetime\u001b[0m\u001b[0;34m.\u001b[0m\u001b[0mdatetime\u001b[0m\u001b[0;34m.\u001b[0m\u001b[0mstrptime\u001b[0m\u001b[0;34m(\u001b[0m\u001b[0ma\u001b[0m\u001b[0;34m,\u001b[0m\u001b[0;34m'%a %b %d %H:%M:%S +0000 %Y'\u001b[0m\u001b[0;34m)\u001b[0m\u001b[0;34m.\u001b[0m\u001b[0mtimetuple\u001b[0m\u001b[0;34m(\u001b[0m\u001b[0;34m)\u001b[0m\u001b[0;34m)\u001b[0m\u001b[0;34m\u001b[0m\u001b[0;34m\u001b[0m\u001b[0m\n\u001b[0m\u001b[1;32m      2\u001b[0m \u001b[0mtime_ms\u001b[0m\u001b[0;34m\u001b[0m\u001b[0;34m\u001b[0m\u001b[0m\n",
      "\u001b[0;31mNameError\u001b[0m: name 'a' is not defined"
     ]
    }
   ],
   "source": [
    "time_ms = time.mktime(datetime.datetime.strptime(a,'%a %b %d %H:%M:%S +0000 %Y').timetuple())\n",
    "time_ms"
   ]
  },
  {
   "cell_type": "code",
   "execution_count": 21,
   "metadata": {
    "ExecuteTime": {
     "end_time": "2020-12-11T02:25:14.505309Z",
     "start_time": "2020-12-11T02:25:14.156148Z"
    }
   },
   "outputs": [],
   "source": [
    "from textblob import TextBlob\n",
    "import pandas as pd"
   ]
  },
  {
   "cell_type": "code",
   "execution_count": 119,
   "metadata": {
    "ExecuteTime": {
     "end_time": "2020-12-11T05:42:00.536783Z",
     "start_time": "2020-12-11T05:42:00.531256Z"
    }
   },
   "outputs": [],
   "source": [
    "# Timestamp for today's date\n",
    "TIMESTAMP = str(datetime.date.today()).replace('-','')\n",
    "\n",
    "### SQL Connection ###\n",
    "conn = sqlite3.connect(f'data/twitter_test.db', check_same_thread=False, timeout=25)\n",
    "c = conn.cursor()"
   ]
  },
  {
   "cell_type": "code",
   "execution_count": 120,
   "metadata": {
    "ExecuteTime": {
     "end_time": "2020-12-11T05:42:03.537606Z",
     "start_time": "2020-12-11T05:42:03.532168Z"
    }
   },
   "outputs": [],
   "source": [
    "def create_table():\n",
    "    c.execute(\"CREATE TABLE IF NOT EXISTS sentiment(unix REAL, id TEXT, user TEXT, tweet TEXT, favorite INT, retweet INT, sentiment REAL)\")\n",
    "    conn.commit()\n",
    "create_table()"
   ]
  },
  {
   "cell_type": "code",
   "execution_count": 5,
   "metadata": {
    "ExecuteTime": {
     "end_time": "2020-12-11T02:19:34.877230Z",
     "start_time": "2020-12-11T02:19:34.873604Z"
    }
   },
   "outputs": [],
   "source": [
    "auth = tweepy.OAuthHandler(consumer_key=keys.CONSUMER_KEY, consumer_secret=keys.CONSUMER_SECRET) ### MUST SET YOUR OWN KEYS\n",
    "auth.set_access_token(keys.ACCESS_KEY, keys.ACCESS_SECRET) ### MUST SET YOUR OWN KEYS\n",
    "api = tweepy.API(auth, wait_on_rate_limit=True)"
   ]
  },
  {
   "cell_type": "code",
   "execution_count": 18,
   "metadata": {
    "ExecuteTime": {
     "end_time": "2020-12-11T02:24:05.128790Z",
     "start_time": "2020-12-11T02:24:05.124349Z"
    }
   },
   "outputs": [],
   "source": [
    "tweets = tweepy.Cursor(api.search, q=['microsoft -filter:retweets'], \n",
    "                               count=100, result_type='recent', \n",
    "                               lang='en').items(100)"
   ]
  },
  {
   "cell_type": "code",
   "execution_count": 110,
   "metadata": {
    "ExecuteTime": {
     "end_time": "2020-12-11T04:31:26.070858Z",
     "start_time": "2020-12-11T04:31:26.062106Z"
    }
   },
   "outputs": [],
   "source": [
    "for tweet in tweets:\n",
    "    data = tweet._json\n",
    "    if not data['retweeted'] and 'RT @' not in data['text']:\n",
    "        tweet = data['text']\n",
    "        a = data['created_at']\n",
    "        time_ms = time.mktime(datetime.datetime.strptime(a,'%a %b %d %H:%M:%S +0000 %Y').timetuple())\n",
    "        favorite = data['favorite_count'] \n",
    "        retweet = data['retweet_count']\n",
    "        id_str = data['id_str']\n",
    "        user_str = data['user']['id_str']\n",
    "\n",
    "#         clean = clean_text(data['text'])\n",
    "        # Sentiment Analysis *Change model if necessarity\n",
    "        sentiment = TextBlob(tweet).sentiment.polarity\n",
    "        print(time_ms, tweet, sentiment)\n",
    "\n",
    "        c.execute(\"INSERT INTO sentiment (unix, id, user, tweet, favorite, retweet, sentiment) VALUES (?, ?, ?, ?, ?, ?, ?)\",\n",
    "                (time_ms, id_str, user_str, tweet, favorite, retweet, sentiment))\n",
    "        conn.commit()\n",
    "    "
   ]
  },
  {
   "cell_type": "code",
   "execution_count": 114,
   "metadata": {
    "ExecuteTime": {
     "end_time": "2020-12-11T04:31:55.893318Z",
     "start_time": "2020-12-11T04:31:55.882477Z"
    }
   },
   "outputs": [],
   "source": [
    "max_length = 500\n",
    "df = pd.read_sql(f\"SELECT * FROM sentiment WHERE tweet LIKE '%Microsoft%' ORDER BY unix DESC LIMIT {max_length}\", conn)"
   ]
  },
  {
   "cell_type": "code",
   "execution_count": 112,
   "metadata": {
    "ExecuteTime": {
     "end_time": "2020-12-11T04:31:30.001381Z",
     "start_time": "2020-12-11T04:31:29.992906Z"
    }
   },
   "outputs": [],
   "source": [
    "df['date'] = pd.to_datetime(df['unix'], unit='ms') #, unit='ms')"
   ]
  },
  {
   "cell_type": "code",
   "execution_count": 100,
   "metadata": {
    "ExecuteTime": {
     "end_time": "2020-12-11T04:16:55.858563Z",
     "start_time": "2020-12-11T04:16:55.855298Z"
    }
   },
   "outputs": [],
   "source": [
    "df.set_index('date', inplace=True)"
   ]
  },
  {
   "cell_type": "code",
   "execution_count": 115,
   "metadata": {
    "ExecuteTime": {
     "end_time": "2020-12-11T04:31:59.710373Z",
     "start_time": "2020-12-11T04:31:59.704117Z"
    }
   },
   "outputs": [
    {
     "data": {
      "text/plain": [
       "(43, 8)"
      ]
     },
     "execution_count": 115,
     "metadata": {},
     "output_type": "execute_result"
    }
   ],
   "source": [
    "df.shape"
   ]
  },
  {
   "cell_type": "code",
   "execution_count": 109,
   "metadata": {
    "ExecuteTime": {
     "end_time": "2020-12-11T04:18:59.490448Z",
     "start_time": "2020-12-11T04:18:59.485928Z"
    }
   },
   "outputs": [
    {
     "data": {
      "text/plain": [
       "403"
      ]
     },
     "execution_count": 109,
     "metadata": {},
     "output_type": "execute_result"
    }
   ],
   "source": [
    "(df.index[0]-df.index[-1]).seconds"
   ]
  },
  {
   "cell_type": "code",
   "execution_count": 102,
   "metadata": {
    "ExecuteTime": {
     "end_time": "2020-12-11T04:16:58.757546Z",
     "start_time": "2020-12-11T04:16:58.753695Z"
    }
   },
   "outputs": [
    {
     "data": {
      "text/plain": [
       "'20s'"
      ]
     },
     "execution_count": 102,
     "metadata": {},
     "output_type": "execute_result"
    }
   ],
   "source": [
    "time_bin = f'{int((df.index[0]-df.index[-1]).seconds/20)}s'\n",
    "time_bin"
   ]
  },
  {
   "cell_type": "code",
   "execution_count": 103,
   "metadata": {
    "ExecuteTime": {
     "end_time": "2020-12-11T04:16:58.948562Z",
     "start_time": "2020-12-11T04:16:58.943981Z"
    }
   },
   "outputs": [],
   "source": [
    "df['sentiment_smoothed'] = df['sentiment'].rolling(int(len(df)/10)).mean()"
   ]
  },
  {
   "cell_type": "code",
   "execution_count": 104,
   "metadata": {
    "ExecuteTime": {
     "end_time": "2020-12-11T04:17:00.703298Z",
     "start_time": "2020-12-11T04:17:00.697871Z"
    }
   },
   "outputs": [
    {
     "data": {
      "text/plain": [
       "2"
      ]
     },
     "execution_count": 104,
     "metadata": {},
     "output_type": "execute_result"
    }
   ],
   "source": [
    "int(len(df)/10)"
   ]
  },
  {
   "cell_type": "code",
   "execution_count": 105,
   "metadata": {
    "ExecuteTime": {
     "end_time": "2020-12-11T04:17:02.126343Z",
     "start_time": "2020-12-11T04:17:02.107518Z"
    }
   },
   "outputs": [
    {
     "data": {
      "text/html": [
       "<div>\n",
       "<style scoped>\n",
       "    .dataframe tbody tr th:only-of-type {\n",
       "        vertical-align: middle;\n",
       "    }\n",
       "\n",
       "    .dataframe tbody tr th {\n",
       "        vertical-align: top;\n",
       "    }\n",
       "\n",
       "    .dataframe thead th {\n",
       "        text-align: right;\n",
       "    }\n",
       "</style>\n",
       "<table border=\"1\" class=\"dataframe\">\n",
       "  <thead>\n",
       "    <tr style=\"text-align: right;\">\n",
       "      <th></th>\n",
       "      <th>unix</th>\n",
       "      <th>id</th>\n",
       "      <th>user</th>\n",
       "      <th>tweet</th>\n",
       "      <th>clean</th>\n",
       "      <th>favorite</th>\n",
       "      <th>retweet</th>\n",
       "      <th>sentiment</th>\n",
       "      <th>sentiment_smoothed</th>\n",
       "    </tr>\n",
       "    <tr>\n",
       "      <th>date</th>\n",
       "      <th></th>\n",
       "      <th></th>\n",
       "      <th></th>\n",
       "      <th></th>\n",
       "      <th></th>\n",
       "      <th></th>\n",
       "      <th></th>\n",
       "      <th></th>\n",
       "      <th></th>\n",
       "    </tr>\n",
       "  </thead>\n",
       "  <tbody>\n",
       "    <tr>\n",
       "      <th>2020-12-11 04:08:34.677</th>\n",
       "      <td>1.607660e+12</td>\n",
       "      <td>1337247882366291969</td>\n",
       "      <td>1257231852529573888</td>\n",
       "      <td>Microsoft: Xbox cloud gaming will finally arri...</td>\n",
       "      <td>microsoft xbox cloud gaming will finally arriv...</td>\n",
       "      <td>0</td>\n",
       "      <td>0</td>\n",
       "      <td>0.000000</td>\n",
       "      <td>NaN</td>\n",
       "    </tr>\n",
       "    <tr>\n",
       "      <th>2020-12-11 04:08:31.678</th>\n",
       "      <td>1.607660e+12</td>\n",
       "      <td>1337247869787660288</td>\n",
       "      <td>1302299817041948675</td>\n",
       "      <td>@howmuchismuch \"so, hypothetically, lets say t...</td>\n",
       "      <td>hypothetically let say that have art history b...</td>\n",
       "      <td>0</td>\n",
       "      <td>0</td>\n",
       "      <td>0.000000</td>\n",
       "      <td>0.000000</td>\n",
       "    </tr>\n",
       "    <tr>\n",
       "      <th>2020-12-11 04:04:45.980</th>\n",
       "      <td>1.607659e+12</td>\n",
       "      <td>1337246923141603328</td>\n",
       "      <td>43422302</td>\n",
       "      <td>#XboxSeriesSRestock #XboxSeriesS in Stock agai...</td>\n",
       "      <td>xboxseriessrestock xboxseriess stock again mic...</td>\n",
       "      <td>0</td>\n",
       "      <td>0</td>\n",
       "      <td>0.000000</td>\n",
       "      <td>0.000000</td>\n",
       "    </tr>\n",
       "    <tr>\n",
       "      <th>2020-12-11 04:04:31.465</th>\n",
       "      <td>1.607659e+12</td>\n",
       "      <td>1337246862261301250</td>\n",
       "      <td>2202405168</td>\n",
       "      <td>@MicrosoftTeams Can’t hold a candle to Zoom. A...</td>\n",
       "      <td>can not hold candle zoom another clunky unreli...</td>\n",
       "      <td>0</td>\n",
       "      <td>0</td>\n",
       "      <td>0.000000</td>\n",
       "      <td>0.000000</td>\n",
       "    </tr>\n",
       "    <tr>\n",
       "      <th>2020-12-11 04:04:28.786</th>\n",
       "      <td>1.607659e+12</td>\n",
       "      <td>1337246851024687105</td>\n",
       "      <td>380052208</td>\n",
       "      <td>@stanton_hampton @TheKrivex @survivetheark So ...</td>\n",
       "      <td>due that microsoft get console exclusive you r...</td>\n",
       "      <td>0</td>\n",
       "      <td>0</td>\n",
       "      <td>0.080357</td>\n",
       "      <td>0.040179</td>\n",
       "    </tr>\n",
       "    <tr>\n",
       "      <th>2020-12-11 04:04:10.645</th>\n",
       "      <td>1.607659e+12</td>\n",
       "      <td>1337246774935908357</td>\n",
       "      <td>175409770</td>\n",
       "      <td>@ATVIAssist Cleared cache, uninstalled, reinst...</td>\n",
       "      <td>clear cache uninstalle reinstall the only way ...</td>\n",
       "      <td>0</td>\n",
       "      <td>0</td>\n",
       "      <td>0.000000</td>\n",
       "      <td>0.040179</td>\n",
       "    </tr>\n",
       "    <tr>\n",
       "      <th>2020-12-11 04:03:59.796</th>\n",
       "      <td>1.607659e+12</td>\n",
       "      <td>1337246729431879682</td>\n",
       "      <td>1314033235203158018</td>\n",
       "      <td>@ComplexMinded Will steam be part of the pc si...</td>\n",
       "      <td>will steam part the side just microsoft</td>\n",
       "      <td>0</td>\n",
       "      <td>0</td>\n",
       "      <td>0.000000</td>\n",
       "      <td>0.000000</td>\n",
       "    </tr>\n",
       "    <tr>\n",
       "      <th>2020-12-11 04:03:58.516</th>\n",
       "      <td>1.607659e+12</td>\n",
       "      <td>1337246724063170562</td>\n",
       "      <td>1101472628647317504</td>\n",
       "      <td>@ZGphotoGaming @SeaOfThieves @Microsoft what a...</td>\n",
       "      <td>what asshole probably bot that really suck not...</td>\n",
       "      <td>0</td>\n",
       "      <td>0</td>\n",
       "      <td>-0.200000</td>\n",
       "      <td>-0.100000</td>\n",
       "    </tr>\n",
       "    <tr>\n",
       "      <th>2020-12-11 04:03:32.175</th>\n",
       "      <td>1.607659e+12</td>\n",
       "      <td>1337246613580869637</td>\n",
       "      <td>1333462354793820161</td>\n",
       "      <td>\"Ad:\" Microsoft Xbox Series X Bundle *Fast Shi...</td>\n",
       "      <td>microsoft xbox series bundle fast shipping</td>\n",
       "      <td>0</td>\n",
       "      <td>0</td>\n",
       "      <td>0.200000</td>\n",
       "      <td>0.000000</td>\n",
       "    </tr>\n",
       "    <tr>\n",
       "      <th>2020-12-11 04:03:23.128</th>\n",
       "      <td>1.607659e+12</td>\n",
       "      <td>1337246575634989057</td>\n",
       "      <td>3178029523</td>\n",
       "      <td>At the @Microsoft Re-imagine Leadership Series...</td>\n",
       "      <td>the imagine leadership series yesterday deputy...</td>\n",
       "      <td>0</td>\n",
       "      <td>0</td>\n",
       "      <td>0.000000</td>\n",
       "      <td>0.100000</td>\n",
       "    </tr>\n",
       "    <tr>\n",
       "      <th>2020-12-11 04:03:12.634</th>\n",
       "      <td>1.607659e+12</td>\n",
       "      <td>1337246531619966978</td>\n",
       "      <td>17703587</td>\n",
       "      <td>@JeffFrick @nrmehta @MalaAnand_ @Microsoft Agr...</td>\n",
       "      <td>agree nick mala toxic culture turn unicorn the...</td>\n",
       "      <td>0</td>\n",
       "      <td>0</td>\n",
       "      <td>0.000000</td>\n",
       "      <td>0.000000</td>\n",
       "    </tr>\n",
       "    <tr>\n",
       "      <th>2020-12-11 04:03:01.146</th>\n",
       "      <td>1.607659e+12</td>\n",
       "      <td>1337246483435974657</td>\n",
       "      <td>1078632141922189312</td>\n",
       "      <td>@SilverMania2 @aarongreenberg That money you g...</td>\n",
       "      <td>that money you give microsoft will back xbox</td>\n",
       "      <td>0</td>\n",
       "      <td>0</td>\n",
       "      <td>0.000000</td>\n",
       "      <td>0.000000</td>\n",
       "    </tr>\n",
       "    <tr>\n",
       "      <th>2020-12-11 04:02:56.456</th>\n",
       "      <td>1.607659e+12</td>\n",
       "      <td>1337246463764688898</td>\n",
       "      <td>14492677</td>\n",
       "      <td>Azure Stack HCI delivers world-class hyperconv...</td>\n",
       "      <td>azure stack hci deliver world class hyperconve...</td>\n",
       "      <td>0</td>\n",
       "      <td>0</td>\n",
       "      <td>0.000000</td>\n",
       "      <td>0.000000</td>\n",
       "    </tr>\n",
       "    <tr>\n",
       "      <th>2020-12-11 04:02:46.936</th>\n",
       "      <td>1.607659e+12</td>\n",
       "      <td>1337246423834910723</td>\n",
       "      <td>709407208</td>\n",
       "      <td>@Xbox I love you Microsoft!😍 #dreamscometrue</td>\n",
       "      <td>love you microsoft dreamscometrue</td>\n",
       "      <td>0</td>\n",
       "      <td>0</td>\n",
       "      <td>0.500000</td>\n",
       "      <td>0.250000</td>\n",
       "    </tr>\n",
       "    <tr>\n",
       "      <th>2020-12-11 04:02:43.808</th>\n",
       "      <td>1.607659e+12</td>\n",
       "      <td>1337246410715041793</td>\n",
       "      <td>700852384</td>\n",
       "      <td>Got a New Laptop for my birthday because I wan...</td>\n",
       "      <td>get new laptop for birthday because want know ...</td>\n",
       "      <td>0</td>\n",
       "      <td>0</td>\n",
       "      <td>0.159091</td>\n",
       "      <td>0.329545</td>\n",
       "    </tr>\n",
       "    <tr>\n",
       "      <th>2020-12-11 04:02:33.788</th>\n",
       "      <td>1.607659e+12</td>\n",
       "      <td>1337246368688205824</td>\n",
       "      <td>707449798790684673</td>\n",
       "      <td>@CindyTomamichel Well, *glances at Microsoft*</td>\n",
       "      <td>well glance microsoft</td>\n",
       "      <td>0</td>\n",
       "      <td>0</td>\n",
       "      <td>0.000000</td>\n",
       "      <td>0.079545</td>\n",
       "    </tr>\n",
       "    <tr>\n",
       "      <th>2020-12-11 04:02:32.797</th>\n",
       "      <td>1.607659e+12</td>\n",
       "      <td>1337246364531613697</td>\n",
       "      <td>910877633331843074</td>\n",
       "      <td>Microsoft Flight Simulator was always planned ...</td>\n",
       "      <td>microsoft flight simulator always plan come xb...</td>\n",
       "      <td>0</td>\n",
       "      <td>0</td>\n",
       "      <td>0.000000</td>\n",
       "      <td>0.000000</td>\n",
       "    </tr>\n",
       "    <tr>\n",
       "      <th>2020-12-11 04:02:29.701</th>\n",
       "      <td>1.607659e+12</td>\n",
       "      <td>1337246351546003456</td>\n",
       "      <td>17105547</td>\n",
       "      <td>Wonder how long it took them to find this font...</td>\n",
       "      <td>wonder how long take them find this font micro...</td>\n",
       "      <td>0</td>\n",
       "      <td>0</td>\n",
       "      <td>-0.050000</td>\n",
       "      <td>-0.025000</td>\n",
       "    </tr>\n",
       "    <tr>\n",
       "      <th>2020-12-11 04:02:08.688</th>\n",
       "      <td>1.607659e+12</td>\n",
       "      <td>1337246263411150852</td>\n",
       "      <td>1140601079450808320</td>\n",
       "      <td>I just earned the Congratulations! badge with ...</td>\n",
       "      <td>just earn the congratulations badge with micro...</td>\n",
       "      <td>0</td>\n",
       "      <td>0</td>\n",
       "      <td>0.000000</td>\n",
       "      <td>-0.025000</td>\n",
       "    </tr>\n",
       "    <tr>\n",
       "      <th>2020-12-11 04:01:56.962</th>\n",
       "      <td>1.607659e+12</td>\n",
       "      <td>1337246214228750336</td>\n",
       "      <td>14492677</td>\n",
       "      <td>New cloud-native breadth threat protection cap...</td>\n",
       "      <td>new cloud native breadth threat protection cap...</td>\n",
       "      <td>0</td>\n",
       "      <td>0</td>\n",
       "      <td>0.136364</td>\n",
       "      <td>0.068182</td>\n",
       "    </tr>\n",
       "    <tr>\n",
       "      <th>2020-12-11 04:01:51.623</th>\n",
       "      <td>1.607659e+12</td>\n",
       "      <td>1337246191835340801</td>\n",
       "      <td>385869185</td>\n",
       "      <td>@Xbox MY CHILDHOOD\\nMY CHILDHOOD\\nTHANK YOU MI...</td>\n",
       "      <td>childhood childhood thank you microsoft for br...</td>\n",
       "      <td>0</td>\n",
       "      <td>0</td>\n",
       "      <td>0.133333</td>\n",
       "      <td>0.134848</td>\n",
       "    </tr>\n",
       "  </tbody>\n",
       "</table>\n",
       "</div>"
      ],
      "text/plain": [
       "                                 unix                   id  \\\n",
       "date                                                         \n",
       "2020-12-11 04:08:34.677  1.607660e+12  1337247882366291969   \n",
       "2020-12-11 04:08:31.678  1.607660e+12  1337247869787660288   \n",
       "2020-12-11 04:04:45.980  1.607659e+12  1337246923141603328   \n",
       "2020-12-11 04:04:31.465  1.607659e+12  1337246862261301250   \n",
       "2020-12-11 04:04:28.786  1.607659e+12  1337246851024687105   \n",
       "2020-12-11 04:04:10.645  1.607659e+12  1337246774935908357   \n",
       "2020-12-11 04:03:59.796  1.607659e+12  1337246729431879682   \n",
       "2020-12-11 04:03:58.516  1.607659e+12  1337246724063170562   \n",
       "2020-12-11 04:03:32.175  1.607659e+12  1337246613580869637   \n",
       "2020-12-11 04:03:23.128  1.607659e+12  1337246575634989057   \n",
       "2020-12-11 04:03:12.634  1.607659e+12  1337246531619966978   \n",
       "2020-12-11 04:03:01.146  1.607659e+12  1337246483435974657   \n",
       "2020-12-11 04:02:56.456  1.607659e+12  1337246463764688898   \n",
       "2020-12-11 04:02:46.936  1.607659e+12  1337246423834910723   \n",
       "2020-12-11 04:02:43.808  1.607659e+12  1337246410715041793   \n",
       "2020-12-11 04:02:33.788  1.607659e+12  1337246368688205824   \n",
       "2020-12-11 04:02:32.797  1.607659e+12  1337246364531613697   \n",
       "2020-12-11 04:02:29.701  1.607659e+12  1337246351546003456   \n",
       "2020-12-11 04:02:08.688  1.607659e+12  1337246263411150852   \n",
       "2020-12-11 04:01:56.962  1.607659e+12  1337246214228750336   \n",
       "2020-12-11 04:01:51.623  1.607659e+12  1337246191835340801   \n",
       "\n",
       "                                        user  \\\n",
       "date                                           \n",
       "2020-12-11 04:08:34.677  1257231852529573888   \n",
       "2020-12-11 04:08:31.678  1302299817041948675   \n",
       "2020-12-11 04:04:45.980             43422302   \n",
       "2020-12-11 04:04:31.465           2202405168   \n",
       "2020-12-11 04:04:28.786            380052208   \n",
       "2020-12-11 04:04:10.645            175409770   \n",
       "2020-12-11 04:03:59.796  1314033235203158018   \n",
       "2020-12-11 04:03:58.516  1101472628647317504   \n",
       "2020-12-11 04:03:32.175  1333462354793820161   \n",
       "2020-12-11 04:03:23.128           3178029523   \n",
       "2020-12-11 04:03:12.634             17703587   \n",
       "2020-12-11 04:03:01.146  1078632141922189312   \n",
       "2020-12-11 04:02:56.456             14492677   \n",
       "2020-12-11 04:02:46.936            709407208   \n",
       "2020-12-11 04:02:43.808            700852384   \n",
       "2020-12-11 04:02:33.788   707449798790684673   \n",
       "2020-12-11 04:02:32.797   910877633331843074   \n",
       "2020-12-11 04:02:29.701             17105547   \n",
       "2020-12-11 04:02:08.688  1140601079450808320   \n",
       "2020-12-11 04:01:56.962             14492677   \n",
       "2020-12-11 04:01:51.623            385869185   \n",
       "\n",
       "                                                                     tweet  \\\n",
       "date                                                                         \n",
       "2020-12-11 04:08:34.677  Microsoft: Xbox cloud gaming will finally arri...   \n",
       "2020-12-11 04:08:31.678  @howmuchismuch \"so, hypothetically, lets say t...   \n",
       "2020-12-11 04:04:45.980  #XboxSeriesSRestock #XboxSeriesS in Stock agai...   \n",
       "2020-12-11 04:04:31.465  @MicrosoftTeams Can’t hold a candle to Zoom. A...   \n",
       "2020-12-11 04:04:28.786  @stanton_hampton @TheKrivex @survivetheark So ...   \n",
       "2020-12-11 04:04:10.645  @ATVIAssist Cleared cache, uninstalled, reinst...   \n",
       "2020-12-11 04:03:59.796  @ComplexMinded Will steam be part of the pc si...   \n",
       "2020-12-11 04:03:58.516  @ZGphotoGaming @SeaOfThieves @Microsoft what a...   \n",
       "2020-12-11 04:03:32.175  \"Ad:\" Microsoft Xbox Series X Bundle *Fast Shi...   \n",
       "2020-12-11 04:03:23.128  At the @Microsoft Re-imagine Leadership Series...   \n",
       "2020-12-11 04:03:12.634  @JeffFrick @nrmehta @MalaAnand_ @Microsoft Agr...   \n",
       "2020-12-11 04:03:01.146  @SilverMania2 @aarongreenberg That money you g...   \n",
       "2020-12-11 04:02:56.456  Azure Stack HCI delivers world-class hyperconv...   \n",
       "2020-12-11 04:02:46.936       @Xbox I love you Microsoft!😍 #dreamscometrue   \n",
       "2020-12-11 04:02:43.808  Got a New Laptop for my birthday because I wan...   \n",
       "2020-12-11 04:02:33.788      @CindyTomamichel Well, *glances at Microsoft*   \n",
       "2020-12-11 04:02:32.797  Microsoft Flight Simulator was always planned ...   \n",
       "2020-12-11 04:02:29.701  Wonder how long it took them to find this font...   \n",
       "2020-12-11 04:02:08.688  I just earned the Congratulations! badge with ...   \n",
       "2020-12-11 04:01:56.962  New cloud-native breadth threat protection cap...   \n",
       "2020-12-11 04:01:51.623  @Xbox MY CHILDHOOD\\nMY CHILDHOOD\\nTHANK YOU MI...   \n",
       "\n",
       "                                                                     clean  \\\n",
       "date                                                                         \n",
       "2020-12-11 04:08:34.677  microsoft xbox cloud gaming will finally arriv...   \n",
       "2020-12-11 04:08:31.678  hypothetically let say that have art history b...   \n",
       "2020-12-11 04:04:45.980  xboxseriessrestock xboxseriess stock again mic...   \n",
       "2020-12-11 04:04:31.465  can not hold candle zoom another clunky unreli...   \n",
       "2020-12-11 04:04:28.786  due that microsoft get console exclusive you r...   \n",
       "2020-12-11 04:04:10.645  clear cache uninstalle reinstall the only way ...   \n",
       "2020-12-11 04:03:59.796            will steam part the side just microsoft   \n",
       "2020-12-11 04:03:58.516  what asshole probably bot that really suck not...   \n",
       "2020-12-11 04:03:32.175         microsoft xbox series bundle fast shipping   \n",
       "2020-12-11 04:03:23.128  the imagine leadership series yesterday deputy...   \n",
       "2020-12-11 04:03:12.634  agree nick mala toxic culture turn unicorn the...   \n",
       "2020-12-11 04:03:01.146       that money you give microsoft will back xbox   \n",
       "2020-12-11 04:02:56.456  azure stack hci deliver world class hyperconve...   \n",
       "2020-12-11 04:02:46.936                  love you microsoft dreamscometrue   \n",
       "2020-12-11 04:02:43.808  get new laptop for birthday because want know ...   \n",
       "2020-12-11 04:02:33.788                              well glance microsoft   \n",
       "2020-12-11 04:02:32.797  microsoft flight simulator always plan come xb...   \n",
       "2020-12-11 04:02:29.701  wonder how long take them find this font micro...   \n",
       "2020-12-11 04:02:08.688  just earn the congratulations badge with micro...   \n",
       "2020-12-11 04:01:56.962  new cloud native breadth threat protection cap...   \n",
       "2020-12-11 04:01:51.623  childhood childhood thank you microsoft for br...   \n",
       "\n",
       "                         favorite  retweet  sentiment  sentiment_smoothed  \n",
       "date                                                                       \n",
       "2020-12-11 04:08:34.677         0        0   0.000000                 NaN  \n",
       "2020-12-11 04:08:31.678         0        0   0.000000            0.000000  \n",
       "2020-12-11 04:04:45.980         0        0   0.000000            0.000000  \n",
       "2020-12-11 04:04:31.465         0        0   0.000000            0.000000  \n",
       "2020-12-11 04:04:28.786         0        0   0.080357            0.040179  \n",
       "2020-12-11 04:04:10.645         0        0   0.000000            0.040179  \n",
       "2020-12-11 04:03:59.796         0        0   0.000000            0.000000  \n",
       "2020-12-11 04:03:58.516         0        0  -0.200000           -0.100000  \n",
       "2020-12-11 04:03:32.175         0        0   0.200000            0.000000  \n",
       "2020-12-11 04:03:23.128         0        0   0.000000            0.100000  \n",
       "2020-12-11 04:03:12.634         0        0   0.000000            0.000000  \n",
       "2020-12-11 04:03:01.146         0        0   0.000000            0.000000  \n",
       "2020-12-11 04:02:56.456         0        0   0.000000            0.000000  \n",
       "2020-12-11 04:02:46.936         0        0   0.500000            0.250000  \n",
       "2020-12-11 04:02:43.808         0        0   0.159091            0.329545  \n",
       "2020-12-11 04:02:33.788         0        0   0.000000            0.079545  \n",
       "2020-12-11 04:02:32.797         0        0   0.000000            0.000000  \n",
       "2020-12-11 04:02:29.701         0        0  -0.050000           -0.025000  \n",
       "2020-12-11 04:02:08.688         0        0   0.000000           -0.025000  \n",
       "2020-12-11 04:01:56.962         0        0   0.136364            0.068182  \n",
       "2020-12-11 04:01:51.623         0        0   0.133333            0.134848  "
      ]
     },
     "execution_count": 105,
     "metadata": {},
     "output_type": "execute_result"
    }
   ],
   "source": [
    "df"
   ]
  },
  {
   "cell_type": "code",
   "execution_count": 106,
   "metadata": {
    "ExecuteTime": {
     "end_time": "2020-12-11T04:17:11.923694Z",
     "start_time": "2020-12-11T04:17:11.918319Z"
    }
   },
   "outputs": [],
   "source": [
    "def df_resample(dataframe, time_bin):\n",
    "    \"\"\"\n",
    "    resamples dataframe according to time bin chose by an user.\n",
    "    \"\"\"\n",
    "    vol_df = dataframe.copy()\n",
    "    vol_df['volume'] = 1\n",
    "    vol_df = vol_df.resample(time_bin).sum()\n",
    "    vol_df.dropna(inplace=True)\n",
    "\n",
    "    dataframe = dataframe.resample(time_bin).mean()\n",
    "    dataframe.dropna(inplace=True)\n",
    "\n",
    "    return dataframe.join(vol_df['volume'])"
   ]
  },
  {
   "cell_type": "code",
   "execution_count": 107,
   "metadata": {
    "ExecuteTime": {
     "end_time": "2020-12-11T04:17:12.400040Z",
     "start_time": "2020-12-11T04:17:12.372996Z"
    }
   },
   "outputs": [
    {
     "data": {
      "text/html": [
       "<div>\n",
       "<style scoped>\n",
       "    .dataframe tbody tr th:only-of-type {\n",
       "        vertical-align: middle;\n",
       "    }\n",
       "\n",
       "    .dataframe tbody tr th {\n",
       "        vertical-align: top;\n",
       "    }\n",
       "\n",
       "    .dataframe thead th {\n",
       "        text-align: right;\n",
       "    }\n",
       "</style>\n",
       "<table border=\"1\" class=\"dataframe\">\n",
       "  <thead>\n",
       "    <tr style=\"text-align: right;\">\n",
       "      <th></th>\n",
       "      <th>unix</th>\n",
       "      <th>favorite</th>\n",
       "      <th>retweet</th>\n",
       "      <th>sentiment</th>\n",
       "      <th>sentiment_smoothed</th>\n",
       "      <th>volume</th>\n",
       "    </tr>\n",
       "    <tr>\n",
       "      <th>date</th>\n",
       "      <th></th>\n",
       "      <th></th>\n",
       "      <th></th>\n",
       "      <th></th>\n",
       "      <th></th>\n",
       "      <th></th>\n",
       "    </tr>\n",
       "  </thead>\n",
       "  <tbody>\n",
       "    <tr>\n",
       "      <th>2020-12-11 04:01:40</th>\n",
       "      <td>1.607659e+12</td>\n",
       "      <td>0.0</td>\n",
       "      <td>0.0</td>\n",
       "      <td>0.134848</td>\n",
       "      <td>0.101515</td>\n",
       "      <td>2</td>\n",
       "    </tr>\n",
       "    <tr>\n",
       "      <th>2020-12-11 04:02:00</th>\n",
       "      <td>1.607659e+12</td>\n",
       "      <td>0.0</td>\n",
       "      <td>0.0</td>\n",
       "      <td>0.000000</td>\n",
       "      <td>-0.025000</td>\n",
       "      <td>1</td>\n",
       "    </tr>\n",
       "    <tr>\n",
       "      <th>2020-12-11 04:02:20</th>\n",
       "      <td>1.607659e+12</td>\n",
       "      <td>0.0</td>\n",
       "      <td>0.0</td>\n",
       "      <td>-0.016667</td>\n",
       "      <td>0.018182</td>\n",
       "      <td>3</td>\n",
       "    </tr>\n",
       "    <tr>\n",
       "      <th>2020-12-11 04:02:40</th>\n",
       "      <td>1.607659e+12</td>\n",
       "      <td>0.0</td>\n",
       "      <td>0.0</td>\n",
       "      <td>0.219697</td>\n",
       "      <td>0.193182</td>\n",
       "      <td>3</td>\n",
       "    </tr>\n",
       "    <tr>\n",
       "      <th>2020-12-11 04:03:00</th>\n",
       "      <td>1.607659e+12</td>\n",
       "      <td>0.0</td>\n",
       "      <td>0.0</td>\n",
       "      <td>0.000000</td>\n",
       "      <td>0.000000</td>\n",
       "      <td>2</td>\n",
       "    </tr>\n",
       "    <tr>\n",
       "      <th>2020-12-11 04:03:20</th>\n",
       "      <td>1.607659e+12</td>\n",
       "      <td>0.0</td>\n",
       "      <td>0.0</td>\n",
       "      <td>0.100000</td>\n",
       "      <td>0.050000</td>\n",
       "      <td>2</td>\n",
       "    </tr>\n",
       "    <tr>\n",
       "      <th>2020-12-11 04:03:40</th>\n",
       "      <td>1.607659e+12</td>\n",
       "      <td>0.0</td>\n",
       "      <td>0.0</td>\n",
       "      <td>-0.100000</td>\n",
       "      <td>-0.050000</td>\n",
       "      <td>2</td>\n",
       "    </tr>\n",
       "    <tr>\n",
       "      <th>2020-12-11 04:04:00</th>\n",
       "      <td>1.607659e+12</td>\n",
       "      <td>0.0</td>\n",
       "      <td>0.0</td>\n",
       "      <td>0.000000</td>\n",
       "      <td>0.040179</td>\n",
       "      <td>1</td>\n",
       "    </tr>\n",
       "    <tr>\n",
       "      <th>2020-12-11 04:04:20</th>\n",
       "      <td>1.607659e+12</td>\n",
       "      <td>0.0</td>\n",
       "      <td>0.0</td>\n",
       "      <td>0.040179</td>\n",
       "      <td>0.020089</td>\n",
       "      <td>2</td>\n",
       "    </tr>\n",
       "    <tr>\n",
       "      <th>2020-12-11 04:04:40</th>\n",
       "      <td>1.607659e+12</td>\n",
       "      <td>0.0</td>\n",
       "      <td>0.0</td>\n",
       "      <td>0.000000</td>\n",
       "      <td>0.000000</td>\n",
       "      <td>1</td>\n",
       "    </tr>\n",
       "    <tr>\n",
       "      <th>2020-12-11 04:08:20</th>\n",
       "      <td>1.607660e+12</td>\n",
       "      <td>0.0</td>\n",
       "      <td>0.0</td>\n",
       "      <td>0.000000</td>\n",
       "      <td>0.000000</td>\n",
       "      <td>2</td>\n",
       "    </tr>\n",
       "  </tbody>\n",
       "</table>\n",
       "</div>"
      ],
      "text/plain": [
       "                             unix  favorite  retweet  sentiment  \\\n",
       "date                                                              \n",
       "2020-12-11 04:01:40  1.607659e+12       0.0      0.0   0.134848   \n",
       "2020-12-11 04:02:00  1.607659e+12       0.0      0.0   0.000000   \n",
       "2020-12-11 04:02:20  1.607659e+12       0.0      0.0  -0.016667   \n",
       "2020-12-11 04:02:40  1.607659e+12       0.0      0.0   0.219697   \n",
       "2020-12-11 04:03:00  1.607659e+12       0.0      0.0   0.000000   \n",
       "2020-12-11 04:03:20  1.607659e+12       0.0      0.0   0.100000   \n",
       "2020-12-11 04:03:40  1.607659e+12       0.0      0.0  -0.100000   \n",
       "2020-12-11 04:04:00  1.607659e+12       0.0      0.0   0.000000   \n",
       "2020-12-11 04:04:20  1.607659e+12       0.0      0.0   0.040179   \n",
       "2020-12-11 04:04:40  1.607659e+12       0.0      0.0   0.000000   \n",
       "2020-12-11 04:08:20  1.607660e+12       0.0      0.0   0.000000   \n",
       "\n",
       "                     sentiment_smoothed  volume  \n",
       "date                                             \n",
       "2020-12-11 04:01:40            0.101515       2  \n",
       "2020-12-11 04:02:00           -0.025000       1  \n",
       "2020-12-11 04:02:20            0.018182       3  \n",
       "2020-12-11 04:02:40            0.193182       3  \n",
       "2020-12-11 04:03:00            0.000000       2  \n",
       "2020-12-11 04:03:20            0.050000       2  \n",
       "2020-12-11 04:03:40           -0.050000       2  \n",
       "2020-12-11 04:04:00            0.040179       1  \n",
       "2020-12-11 04:04:20            0.020089       2  \n",
       "2020-12-11 04:04:40            0.000000       1  \n",
       "2020-12-11 04:08:20            0.000000       2  "
      ]
     },
     "execution_count": 107,
     "metadata": {},
     "output_type": "execute_result"
    }
   ],
   "source": [
    "df_resample(df, time_bin)"
   ]
  },
  {
   "cell_type": "code",
   "execution_count": 53,
   "metadata": {
    "ExecuteTime": {
     "end_time": "2020-12-11T03:19:53.395823Z",
     "start_time": "2020-12-11T03:19:53.392688Z"
    }
   },
   "outputs": [],
   "source": [
    "max_length = 1000"
   ]
  },
  {
   "cell_type": "code",
   "execution_count": 54,
   "metadata": {
    "ExecuteTime": {
     "end_time": "2020-12-11T03:19:58.857738Z",
     "start_time": "2020-12-11T03:19:58.851629Z"
    }
   },
   "outputs": [
    {
     "data": {
      "text/plain": [
       "39"
      ]
     },
     "execution_count": 54,
     "metadata": {},
     "output_type": "execute_result"
    }
   ],
   "source": [
    "df.shape[0]"
   ]
  },
  {
   "cell_type": "code",
   "execution_count": 58,
   "metadata": {
    "ExecuteTime": {
     "end_time": "2020-12-11T03:20:35.128920Z",
     "start_time": "2020-12-11T03:20:35.125665Z"
    }
   },
   "outputs": [],
   "source": [
    "max_length = df.shape[0] if max_length > df.shape[0] else max_length"
   ]
  },
  {
   "cell_type": "code",
   "execution_count": 117,
   "metadata": {
    "ExecuteTime": {
     "end_time": "2020-12-11T05:25:06.162532Z",
     "start_time": "2020-12-11T05:25:06.159922Z"
    }
   },
   "outputs": [],
   "source": [
    "from tweepy.streaming import StreamListener"
   ]
  },
  {
   "cell_type": "code",
   "execution_count": 123,
   "metadata": {
    "ExecuteTime": {
     "end_time": "2020-12-11T05:43:15.795875Z",
     "start_time": "2020-12-11T05:43:15.787815Z"
    }
   },
   "outputs": [],
   "source": [
    "class listener(StreamListener):\n",
    "    def on_data(self, data):\n",
    "        try:\n",
    "            # loads json data\n",
    "            data = json.loads(data)\n",
    "            if not data['retweeted'] and 'RT @' not in data['text']:\n",
    "                tweet = data['text']\n",
    "                time_ms = data['timestamp_ms']\n",
    "                favorite = data['favorite_count'] \n",
    "                retweet = data['retweet_count']\n",
    "                id_str = data['id_str']\n",
    "                user_str = data['user']['id_str']\n",
    "\n",
    "                clean = clean_text(data['text'])\n",
    "                # Sentiment Analysis *Change model if necessarity\n",
    "                sentiment = TextBlob(tweet).sentiment.polarity\n",
    "                print(time_ms, tweet, sentiment)\n",
    "                \n",
    "                c.execute(\"INSERT INTO sentiment (unix, id, user, tweet, clean, favorite, retweet, sentiment) VALUES (?, ?, ?, ?, ?, ?, ?, ?)\",\n",
    "                        (time_ms, id_str, user_str, tweet, clean, favorite, retweet, sentiment))\n",
    "                conn.commit()\n",
    "\n",
    "#                 if sentiment < self.neg_threshold:  ### This NEG_THRESH value can be adjusted by the user\n",
    "#                     proba = self.predictor.predict_proba([tweet])[0]\n",
    "#                     # print('BERT EXCUTED!')\n",
    "#                     if proba[0] > proba[1]:\n",
    "#                         c.execute(\"INSERT INTO flag (unix, id, user, tweet, clean, favorite, retweet, sentiment, dealt) VALUES (?, ?, ?, ?, ?, ?, ?, ?, ?)\",\n",
    "#                             (time_ms, id_str, user_str, tweet, clean, favorite, retweet, sentiment*proba[0], 0))\n",
    "#                         conn.commit()\n",
    "#                         print('Stream: FLAGGGGGEED!')\n",
    "        except KeyError as e:\n",
    "            print(str(e))\n",
    "            time.sleep(2)\n",
    "        return True\n",
    "    \n",
    "    def on_error(self, status):\n",
    "        print(status)\n",
    "        time.sleep(5)"
   ]
  },
  {
   "cell_type": "code",
   "execution_count": 124,
   "metadata": {
    "ExecuteTime": {
     "end_time": "2020-12-11T05:43:17.517828Z",
     "start_time": "2020-12-11T05:43:17.514868Z"
    }
   },
   "outputs": [],
   "source": [
    "twitterStream = tweepy.Stream(auth, listener())"
   ]
  },
  {
   "cell_type": "code",
   "execution_count": 129,
   "metadata": {
    "ExecuteTime": {
     "end_time": "2020-12-11T05:50:30.643661Z",
     "start_time": "2020-12-11T05:50:30.632204Z"
    }
   },
   "outputs": [
    {
     "ename": "TweepError",
     "evalue": "Stream object already connected!",
     "output_type": "error",
     "traceback": [
      "\u001b[0;31m---------------------------------------------------------------------------\u001b[0m",
      "\u001b[0;31mTweepError\u001b[0m                                Traceback (most recent call last)",
      "\u001b[0;32m<ipython-input-129-aba0329d54d1>\u001b[0m in \u001b[0;36m<module>\u001b[0;34m\u001b[0m\n\u001b[0;32m----> 1\u001b[0;31m \u001b[0mtwitterStream\u001b[0m\u001b[0;34m.\u001b[0m\u001b[0mfilter\u001b[0m\u001b[0;34m(\u001b[0m\u001b[0mtrack\u001b[0m\u001b[0;34m=\u001b[0m\u001b[0;34m[\u001b[0m\u001b[0;34m'entity:\"Microsoft\"'\u001b[0m\u001b[0;34m]\u001b[0m\u001b[0;34m,\u001b[0m \u001b[0mfilter_level\u001b[0m\u001b[0;34m=\u001b[0m\u001b[0;34m[\u001b[0m\u001b[0;34m'medium'\u001b[0m\u001b[0;34m]\u001b[0m\u001b[0;34m,\u001b[0m \u001b[0mlanguages\u001b[0m\u001b[0;34m=\u001b[0m\u001b[0;34m[\u001b[0m\u001b[0;34m'en'\u001b[0m\u001b[0;34m]\u001b[0m\u001b[0;34m)\u001b[0m\u001b[0;34m\u001b[0m\u001b[0;34m\u001b[0m\u001b[0m\n\u001b[0m",
      "\u001b[0;32m/opt/anaconda3/envs/learn-env/lib/python3.6/site-packages/tweepy/streaming.py\u001b[0m in \u001b[0;36mfilter\u001b[0;34m(self, follow, track, is_async, locations, stall_warnings, languages, encoding, filter_level)\u001b[0m\n\u001b[1;32m    454\u001b[0m         \u001b[0mself\u001b[0m\u001b[0;34m.\u001b[0m\u001b[0msession\u001b[0m\u001b[0;34m.\u001b[0m\u001b[0mheaders\u001b[0m\u001b[0;34m[\u001b[0m\u001b[0;34m'Content-type'\u001b[0m\u001b[0;34m]\u001b[0m \u001b[0;34m=\u001b[0m \u001b[0;34m\"application/x-www-form-urlencoded\"\u001b[0m\u001b[0;34m\u001b[0m\u001b[0;34m\u001b[0m\u001b[0m\n\u001b[1;32m    455\u001b[0m         \u001b[0;32mif\u001b[0m \u001b[0mself\u001b[0m\u001b[0;34m.\u001b[0m\u001b[0mrunning\u001b[0m\u001b[0;34m:\u001b[0m\u001b[0;34m\u001b[0m\u001b[0;34m\u001b[0m\u001b[0m\n\u001b[0;32m--> 456\u001b[0;31m             \u001b[0;32mraise\u001b[0m \u001b[0mTweepError\u001b[0m\u001b[0;34m(\u001b[0m\u001b[0;34m'Stream object already connected!'\u001b[0m\u001b[0;34m)\u001b[0m\u001b[0;34m\u001b[0m\u001b[0;34m\u001b[0m\u001b[0m\n\u001b[0m\u001b[1;32m    457\u001b[0m         \u001b[0mself\u001b[0m\u001b[0;34m.\u001b[0m\u001b[0murl\u001b[0m \u001b[0;34m=\u001b[0m \u001b[0;34m'/%s/statuses/filter.json'\u001b[0m \u001b[0;34m%\u001b[0m \u001b[0mSTREAM_VERSION\u001b[0m\u001b[0;34m\u001b[0m\u001b[0;34m\u001b[0m\u001b[0m\n\u001b[1;32m    458\u001b[0m         \u001b[0;32mif\u001b[0m \u001b[0mfollow\u001b[0m\u001b[0;34m:\u001b[0m\u001b[0;34m\u001b[0m\u001b[0;34m\u001b[0m\u001b[0m\n",
      "\u001b[0;31mTweepError\u001b[0m: Stream object already connected!"
     ]
    }
   ],
   "source": [
    "twitterStream.filter(track=['entity:\"Microsoft\"'], filter_level=['medium'], languages=['en'])"
   ]
  },
  {
   "cell_type": "code",
   "execution_count": 145,
   "metadata": {
    "ExecuteTime": {
     "end_time": "2020-12-11T15:00:42.409200Z",
     "start_time": "2020-12-11T15:00:41.913483Z"
    }
   },
   "outputs": [
    {
     "data": {
      "image/png": "[encoded data removed]",
      "text/plain": [
       "<Figure size 432x288 with 3 Axes>"
      ]
     },
     "metadata": {
      "needs_background": "light"
     },
     "output_type": "display_data"
    }
   ],
   "source": [
    "import matplotlib.pyplot as plt\n",
    "import numpy as np\n",
    "\n",
    "# Fixing random state for reproducibility\n",
    "np.random.seed(19680801)\n",
    "\n",
    "\n",
    "plt.subplot(211)\n",
    "plt.imshow(np.random.random((100, 100)), cmap=plt.cm.BuPu_r)\n",
    "plt.subplot(212)\n",
    "plt.imshow(np.random.random((100, 100)), cmap=plt.cm.BuPu_r)\n",
    "\n",
    "plt.subplots_adjust(bottom=0.1, right=0.8, top=0.9, hspace=-0.3)\n",
    "cax = plt.axes([0.85, 0.1, 0.075, 0.8])\n",
    "plt.colorbar(cax=cax)\n",
    "plt.show()\n",
    "\n"
   ]
  },
  {
   "cell_type": "code",
   "execution_count": 133,
   "metadata": {
    "ExecuteTime": {
     "end_time": "2020-12-11T14:59:00.578978Z",
     "start_time": "2020-12-11T14:59:00.569099Z"
    }
   },
   "outputs": [],
   "source": [
    "%matplotlib inline"
   ]
  },
  {
   "cell_type": "code",
   "execution_count": null,
   "metadata": {},
   "outputs": [],
   "source": []
  }
 ],
 "metadata": {
  "accelerator": "GPU",
  "colab": {
   "name": "Models.ipynb",
   "provenance": []
  },
  "kernelspec": {
   "display_name": "Python 3",
   "language": "python",
   "name": "python3"
  },
  "language_info": {
   "codemirror_mode": {
    "name": "ipython",
    "version": 3
   },
   "file_extension": ".py",
   "mimetype": "text/x-python",
   "name": "python",
   "nbconvert_exporter": "python",
   "pygments_lexer": "ipython3",
   "version": "3.6.9"
  },
  "toc": {
   "base_numbering": 1,
   "nav_menu": {},
   "number_sections": true,
   "sideBar": true,
   "skip_h1_title": false,
   "title_cell": "Table of Contents",
   "title_sidebar": "Contents",
   "toc_cell": false,
   "toc_position": {},
   "toc_section_display": true,
   "toc_window_display": false
  },
  "varInspector": {
   "cols": {
    "lenName": 16,
    "lenType": 16,
    "lenVar": 40
   },
   "kernels_config": {
    "python": {
     "delete_cmd_postfix": "",
     "delete_cmd_prefix": "del ",
     "library": "var_list.py",
     "varRefreshCmd": "print(var_dic_list())"
    },
    "r": {
     "delete_cmd_postfix": ") ",
     "delete_cmd_prefix": "rm(",
     "library": "var_list.r",
     "varRefreshCmd": "cat(var_dic_list()) "
    }
   },
   "types_to_exclude": [
    "module",
    "function",
    "builtin_function_or_method",
    "instance",
    "_Feature"
   ],
   "window_display": false
  }
 },
 "nbformat": 4,
 "nbformat_minor": 1
}
