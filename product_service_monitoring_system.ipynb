{
 "cells": [
  {
   "cell_type": "code",
   "execution_count": null,
   "metadata": {},
   "outputs": [],
   "source": [
    "Student Name: Sung Hoon Bae\n",
    "\n",
    "Instructor Name: James Irving\n",
    "\n",
    "Review Date: 12/08/2020"
   ]
  },
  {
   "cell_type": "code",
   "execution_count": 152,
   "metadata": {
    "ExecuteTime": {
     "end_time": "2020-12-12T00:44:40.086239Z",
     "start_time": "2020-12-12T00:44:40.071125Z"
    },
    "colab": {
     "base_uri": "https://localhost:8080/"
    },
    "id": "toJxyItxvKxo",
    "outputId": "b45a3fc7-6d56-472c-c79c-70d25cfa692c"
   },
   "outputs": [],
   "source": [
    "import warnings\n",
    "warnings.filterwarnings(action='ignore')\n",
    "import tensorflow as tf\n",
    "import matplotlib.pyplot as plt\n",
    "import pandas as pd\n",
    "import numpy as np\n",
    "import seaborn as sns\n",
    "from sklearn.pipeline import Pipeline\n",
    "import spacy\n",
    "from sklearn.feature_extraction.text import TfidfVectorizer\n",
    "\n",
    "from sklearn.model_selection import train_test_split\n",
    "from sklearn.preprocessing import LabelEncoder\n",
    "\n",
    "from sklearn.linear_model import LogisticRegression\n",
    "from sklearn.naive_bayes import MultinomialNB\n",
    "\n",
    "import re\n",
    "\n",
    "import src.useful_codes as uc\n",
    "import pickle\n",
    "import vaderSentiment"
   ]
  },
  {
   "cell_type": "markdown",
   "metadata": {},
   "source": [
    "# Introduction"
   ]
  },
  {
   "attachments": {},
   "cell_type": "markdown",
   "metadata": {
    "ExecuteTime": {
     "end_time": "2020-12-11T23:00:31.610168Z",
     "start_time": "2020-12-11T23:00:31.600927Z"
    }
   },
   "source": [
    "## Business Case\n",
    "As of January of 2020, there are approximately 145 million users on Twitter. 22% of Americans are on Twitter and 500 million tweets are sent each day globally. This is why many companies internationally use Twitter for marketing. In fact 80% of Twitter users have mentioned a brand in a tweet, and 77% of Twitter users feel more positive when their tweets have been replied by the mentioned brand [1].\n",
    "\n",
    "We believe that Twitter is one of the platforms that provides people to share their opinion, evaluations, attitudes, and emotions about virtually anything including certain products freely, and for any companies, this is like a gold mine waiting to be mined for `opinions are central to almost all human activities and are key influencers of our behaviors` [2].\n",
    "\n",
    "\n",
    "Sources:\n",
    "\n",
    "[1] https://unsplash.com/photos/ulRlAm1ITMU\n",
    "\n",
    "[2]. Bing Liu, https://www.morganclaypool.com/doi/abs/10.2200/s00416ed1v01y201204hlt016\n",
    "\n",
    "## Goals\n",
    "Create a dashboard that can\n",
    "\t\n",
    "\t[1] stream tweets with filters so that we listen to relevant key words and phrases,\n",
    "\t\n",
    "\t[2] effectively classify tweets into negative, neutral, and positive sentiments, and\n",
    "\n",
    "\t[3] Flag the strongly negative tweets so they can be dealt with if necessary."
   ]
  },
  {
   "cell_type": "markdown",
   "metadata": {
    "id": "1ojft65svKxp"
   },
   "source": [
    "# Data\n",
    "We will be building our twitter sentiment model using a dataset that contains 1.4 million tweets provided by Kaggle. If you wish to download the dataset, you can go to this <a href='https://www.kaggle.com/kazanova/sentiment140'>LINK</a> to access the dataset."
   ]
  },
  {
   "cell_type": "code",
   "execution_count": 3,
   "metadata": {
    "ExecuteTime": {
     "end_time": "2020-11-23T15:28:00.676889Z",
     "start_time": "2020-11-23T15:27:56.989594Z"
    },
    "colab": {
     "base_uri": "https://localhost:8080/",
     "height": 358
    },
    "id": "k_yMmoPWvKxp",
    "outputId": "2b3c4856-09b0-4e2d-da6e-f4aa12ba2a27"
   },
   "outputs": [
    {
     "ename": "FileNotFoundError",
     "evalue": "ignored",
     "output_type": "error",
     "traceback": [
      "\u001b[0;31m---------------------------------------------------------------------------\u001b[0m",
      "\u001b[0;31mFileNotFoundError\u001b[0m                         Traceback (most recent call last)",
      "\u001b[0;32m<ipython-input-3-7a3dbbf7c22c>\u001b[0m in \u001b[0;36m<module>\u001b[0;34m()\u001b[0m\n\u001b[1;32m      2\u001b[0m \u001b[0mcolumns\u001b[0m \u001b[0;34m=\u001b[0m \u001b[0;34m[\u001b[0m\u001b[0;34m'sentiment'\u001b[0m\u001b[0;34m,\u001b[0m \u001b[0;34m'id'\u001b[0m\u001b[0;34m,\u001b[0m \u001b[0;34m'date'\u001b[0m\u001b[0;34m,\u001b[0m \u001b[0;34m'query'\u001b[0m\u001b[0;34m,\u001b[0m \u001b[0;34m'user_id'\u001b[0m\u001b[0;34m,\u001b[0m \u001b[0;34m'text'\u001b[0m\u001b[0;34m]\u001b[0m\u001b[0;34m\u001b[0m\u001b[0;34m\u001b[0m\u001b[0m\n\u001b[1;32m      3\u001b[0m permanent = pd.read_csv('datasets/tweet_sentiments.csv',\n\u001b[0;32m----> 4\u001b[0;31m                         encoding='latin', header=None)\n\u001b[0m\u001b[1;32m      5\u001b[0m \u001b[0mpermanent\u001b[0m\u001b[0;34m.\u001b[0m\u001b[0mcolumns\u001b[0m \u001b[0;34m=\u001b[0m \u001b[0mcolumns\u001b[0m\u001b[0;34m\u001b[0m\u001b[0;34m\u001b[0m\u001b[0m\n",
      "\u001b[0;32m/usr/local/lib/python3.6/dist-packages/pandas/io/parsers.py\u001b[0m in \u001b[0;36mread_csv\u001b[0;34m(filepath_or_buffer, sep, delimiter, header, names, index_col, usecols, squeeze, prefix, mangle_dupe_cols, dtype, engine, converters, true_values, false_values, skipinitialspace, skiprows, skipfooter, nrows, na_values, keep_default_na, na_filter, verbose, skip_blank_lines, parse_dates, infer_datetime_format, keep_date_col, date_parser, dayfirst, cache_dates, iterator, chunksize, compression, thousands, decimal, lineterminator, quotechar, quoting, doublequote, escapechar, comment, encoding, dialect, error_bad_lines, warn_bad_lines, delim_whitespace, low_memory, memory_map, float_precision)\u001b[0m\n\u001b[1;32m    686\u001b[0m     )\n\u001b[1;32m    687\u001b[0m \u001b[0;34m\u001b[0m\u001b[0m\n\u001b[0;32m--> 688\u001b[0;31m     \u001b[0;32mreturn\u001b[0m \u001b[0m_read\u001b[0m\u001b[0;34m(\u001b[0m\u001b[0mfilepath_or_buffer\u001b[0m\u001b[0;34m,\u001b[0m \u001b[0mkwds\u001b[0m\u001b[0;34m)\u001b[0m\u001b[0;34m\u001b[0m\u001b[0;34m\u001b[0m\u001b[0m\n\u001b[0m\u001b[1;32m    689\u001b[0m \u001b[0;34m\u001b[0m\u001b[0m\n\u001b[1;32m    690\u001b[0m \u001b[0;34m\u001b[0m\u001b[0m\n",
      "\u001b[0;32m/usr/local/lib/python3.6/dist-packages/pandas/io/parsers.py\u001b[0m in \u001b[0;36m_read\u001b[0;34m(filepath_or_buffer, kwds)\u001b[0m\n\u001b[1;32m    452\u001b[0m \u001b[0;34m\u001b[0m\u001b[0m\n\u001b[1;32m    453\u001b[0m     \u001b[0;31m# Create the parser.\u001b[0m\u001b[0;34m\u001b[0m\u001b[0;34m\u001b[0m\u001b[0;34m\u001b[0m\u001b[0m\n\u001b[0;32m--> 454\u001b[0;31m     \u001b[0mparser\u001b[0m \u001b[0;34m=\u001b[0m \u001b[0mTextFileReader\u001b[0m\u001b[0;34m(\u001b[0m\u001b[0mfp_or_buf\u001b[0m\u001b[0;34m,\u001b[0m \u001b[0;34m**\u001b[0m\u001b[0mkwds\u001b[0m\u001b[0;34m)\u001b[0m\u001b[0;34m\u001b[0m\u001b[0;34m\u001b[0m\u001b[0m\n\u001b[0m\u001b[1;32m    455\u001b[0m \u001b[0;34m\u001b[0m\u001b[0m\n\u001b[1;32m    456\u001b[0m     \u001b[0;32mif\u001b[0m \u001b[0mchunksize\u001b[0m \u001b[0;32mor\u001b[0m \u001b[0miterator\u001b[0m\u001b[0;34m:\u001b[0m\u001b[0;34m\u001b[0m\u001b[0;34m\u001b[0m\u001b[0m\n",
      "\u001b[0;32m/usr/local/lib/python3.6/dist-packages/pandas/io/parsers.py\u001b[0m in \u001b[0;36m__init__\u001b[0;34m(self, f, engine, **kwds)\u001b[0m\n\u001b[1;32m    946\u001b[0m             \u001b[0mself\u001b[0m\u001b[0;34m.\u001b[0m\u001b[0moptions\u001b[0m\u001b[0;34m[\u001b[0m\u001b[0;34m\"has_index_names\"\u001b[0m\u001b[0;34m]\u001b[0m \u001b[0;34m=\u001b[0m \u001b[0mkwds\u001b[0m\u001b[0;34m[\u001b[0m\u001b[0;34m\"has_index_names\"\u001b[0m\u001b[0;34m]\u001b[0m\u001b[0;34m\u001b[0m\u001b[0;34m\u001b[0m\u001b[0m\n\u001b[1;32m    947\u001b[0m \u001b[0;34m\u001b[0m\u001b[0m\n\u001b[0;32m--> 948\u001b[0;31m         \u001b[0mself\u001b[0m\u001b[0;34m.\u001b[0m\u001b[0m_make_engine\u001b[0m\u001b[0;34m(\u001b[0m\u001b[0mself\u001b[0m\u001b[0;34m.\u001b[0m\u001b[0mengine\u001b[0m\u001b[0;34m)\u001b[0m\u001b[0;34m\u001b[0m\u001b[0;34m\u001b[0m\u001b[0m\n\u001b[0m\u001b[1;32m    949\u001b[0m \u001b[0;34m\u001b[0m\u001b[0m\n\u001b[1;32m    950\u001b[0m     \u001b[0;32mdef\u001b[0m \u001b[0mclose\u001b[0m\u001b[0;34m(\u001b[0m\u001b[0mself\u001b[0m\u001b[0;34m)\u001b[0m\u001b[0;34m:\u001b[0m\u001b[0;34m\u001b[0m\u001b[0;34m\u001b[0m\u001b[0m\n",
      "\u001b[0;32m/usr/local/lib/python3.6/dist-packages/pandas/io/parsers.py\u001b[0m in \u001b[0;36m_make_engine\u001b[0;34m(self, engine)\u001b[0m\n\u001b[1;32m   1178\u001b[0m     \u001b[0;32mdef\u001b[0m \u001b[0m_make_engine\u001b[0m\u001b[0;34m(\u001b[0m\u001b[0mself\u001b[0m\u001b[0;34m,\u001b[0m \u001b[0mengine\u001b[0m\u001b[0;34m=\u001b[0m\u001b[0;34m\"c\"\u001b[0m\u001b[0;34m)\u001b[0m\u001b[0;34m:\u001b[0m\u001b[0;34m\u001b[0m\u001b[0;34m\u001b[0m\u001b[0m\n\u001b[1;32m   1179\u001b[0m         \u001b[0;32mif\u001b[0m \u001b[0mengine\u001b[0m \u001b[0;34m==\u001b[0m \u001b[0;34m\"c\"\u001b[0m\u001b[0;34m:\u001b[0m\u001b[0;34m\u001b[0m\u001b[0;34m\u001b[0m\u001b[0m\n\u001b[0;32m-> 1180\u001b[0;31m             \u001b[0mself\u001b[0m\u001b[0;34m.\u001b[0m\u001b[0m_engine\u001b[0m \u001b[0;34m=\u001b[0m \u001b[0mCParserWrapper\u001b[0m\u001b[0;34m(\u001b[0m\u001b[0mself\u001b[0m\u001b[0;34m.\u001b[0m\u001b[0mf\u001b[0m\u001b[0;34m,\u001b[0m \u001b[0;34m**\u001b[0m\u001b[0mself\u001b[0m\u001b[0;34m.\u001b[0m\u001b[0moptions\u001b[0m\u001b[0;34m)\u001b[0m\u001b[0;34m\u001b[0m\u001b[0;34m\u001b[0m\u001b[0m\n\u001b[0m\u001b[1;32m   1181\u001b[0m         \u001b[0;32melse\u001b[0m\u001b[0;34m:\u001b[0m\u001b[0;34m\u001b[0m\u001b[0;34m\u001b[0m\u001b[0m\n\u001b[1;32m   1182\u001b[0m             \u001b[0;32mif\u001b[0m \u001b[0mengine\u001b[0m \u001b[0;34m==\u001b[0m \u001b[0;34m\"python\"\u001b[0m\u001b[0;34m:\u001b[0m\u001b[0;34m\u001b[0m\u001b[0;34m\u001b[0m\u001b[0m\n",
      "\u001b[0;32m/usr/local/lib/python3.6/dist-packages/pandas/io/parsers.py\u001b[0m in \u001b[0;36m__init__\u001b[0;34m(self, src, **kwds)\u001b[0m\n\u001b[1;32m   1991\u001b[0m         \u001b[0;32mif\u001b[0m \u001b[0mkwds\u001b[0m\u001b[0;34m.\u001b[0m\u001b[0mget\u001b[0m\u001b[0;34m(\u001b[0m\u001b[0;34m\"compression\"\u001b[0m\u001b[0;34m)\u001b[0m \u001b[0;32mis\u001b[0m \u001b[0;32mNone\u001b[0m \u001b[0;32mand\u001b[0m \u001b[0mencoding\u001b[0m\u001b[0;34m:\u001b[0m\u001b[0;34m\u001b[0m\u001b[0;34m\u001b[0m\u001b[0m\n\u001b[1;32m   1992\u001b[0m             \u001b[0;32mif\u001b[0m \u001b[0misinstance\u001b[0m\u001b[0;34m(\u001b[0m\u001b[0msrc\u001b[0m\u001b[0;34m,\u001b[0m \u001b[0mstr\u001b[0m\u001b[0;34m)\u001b[0m\u001b[0;34m:\u001b[0m\u001b[0;34m\u001b[0m\u001b[0;34m\u001b[0m\u001b[0m\n\u001b[0;32m-> 1993\u001b[0;31m                 \u001b[0msrc\u001b[0m \u001b[0;34m=\u001b[0m \u001b[0mopen\u001b[0m\u001b[0;34m(\u001b[0m\u001b[0msrc\u001b[0m\u001b[0;34m,\u001b[0m \u001b[0;34m\"rb\"\u001b[0m\u001b[0;34m)\u001b[0m\u001b[0;34m\u001b[0m\u001b[0;34m\u001b[0m\u001b[0m\n\u001b[0m\u001b[1;32m   1994\u001b[0m                 \u001b[0mself\u001b[0m\u001b[0;34m.\u001b[0m\u001b[0mhandles\u001b[0m\u001b[0;34m.\u001b[0m\u001b[0mappend\u001b[0m\u001b[0;34m(\u001b[0m\u001b[0msrc\u001b[0m\u001b[0;34m)\u001b[0m\u001b[0;34m\u001b[0m\u001b[0;34m\u001b[0m\u001b[0m\n\u001b[1;32m   1995\u001b[0m \u001b[0;34m\u001b[0m\u001b[0m\n",
      "\u001b[0;31mFileNotFoundError\u001b[0m: [Errno 2] No such file or directory: 'datasets/tweet_sentiments.csv'"
     ]
    }
   ],
   "source": [
    "# importing data\n",
    "columns = ['sentiment', 'id', 'date', 'query', 'user_id', 'text']\n",
    "permanent = pd.read_csv('datasets/tweet_sentiments.csv',\n",
    "                        encoding='latin', header=None)\n",
    "permanent.columns = columns"
   ]
  },
  {
   "cell_type": "markdown",
   "metadata": {
    "id": "qtg5o9oTysQD"
   },
   "source": [
    "## Processing Data"
   ]
  },
  {
   "cell_type": "markdown",
   "metadata": {
    "id": "1ESV2cusyw48"
   },
   "source": [
    "**Use the following codes if using Google Colab**"
   ]
  },
  {
   "cell_type": "code",
   "execution_count": 6,
   "metadata": {
    "colab": {
     "base_uri": "https://localhost:8080/"
    },
    "id": "Tyo9_4iYyzwW",
    "outputId": "9890dc89-d933-4465-85f4-5f91c9f4122a"
   },
   "outputs": [
    {
     "name": "stdout",
     "output_type": "stream",
     "text": [
      "Mounted at /content/drive\n"
     ]
    }
   ],
   "source": [
    "from google.colab import drive\n",
    "drive.mount('/content/drive')"
   ]
  },
  {
   "cell_type": "code",
   "execution_count": 7,
   "metadata": {
    "id": "vhJNs_NU1hZ4"
   },
   "outputs": [],
   "source": [
    "DATA_PATH = 'drive/MyDrive/dataset/twitter_sentiment/'"
   ]
  },
  {
   "cell_type": "code",
   "execution_count": null,
   "metadata": {
    "ExecuteTime": {
     "end_time": "2020-12-11T23:12:22.895431Z",
     "start_time": "2020-12-11T23:12:22.770874Z"
    },
    "id": "w7Bti06yvKxp"
   },
   "outputs": [],
   "source": [
    "# importing data\n",
    "columns = ['sentiment', 'id', 'date', 'query', 'user_id', 'text']\n",
    "permanent = pd.read_csv(DATA_PATH+'/tweet_sentiments.csv',\n",
    "                        encoding='latin', header=None)\n",
    "permanent.columns = columns"
   ]
  },
  {
   "cell_type": "markdown",
   "metadata": {
    "id": "C0D1GzlZvKxp"
   },
   "source": [
    "Since we only care about the texts and their sentiments, we will drop other columns."
   ]
  },
  {
   "cell_type": "code",
   "execution_count": 9,
   "metadata": {
    "ExecuteTime": {
     "end_time": "2020-11-23T15:28:00.734199Z",
     "start_time": "2020-11-23T15:28:00.708284Z"
    },
    "id": "ebDu5HpNvKxp"
   },
   "outputs": [],
   "source": [
    "permanent = permanent[['sentiment', 'text']]\n",
    "\n",
    "# Changes 0, 4 into categorical values: Negative and Positive\n",
    "sentiment_dict = {0:'Negative', 4:'Positive'}\n",
    "permanent['sentiment'] = permanent['sentiment'].apply(lambda x: sentiment_dict[x]);"
   ]
  },
  {
   "cell_type": "markdown",
   "metadata": {},
   "source": [
    "### Class Balance"
   ]
  },
  {
   "cell_type": "code",
   "execution_count": 11,
   "metadata": {
    "ExecuteTime": {
     "end_time": "2020-11-23T15:28:01.390931Z",
     "start_time": "2020-11-23T15:28:01.018212Z"
    },
    "colab": {
     "base_uri": "https://localhost:8080/",
     "height": 436
    },
    "id": "P4sb6Q2uvKxp",
    "outputId": "684e7edd-5266-4b54-b412-7576a4d9e1c7"
   },
   "outputs": [
    {
     "data": {
      "text/plain": [
       "[Text(0, 0.5, 'Number of Tweets'),\n",
       " Text(0.5, 0, 'Sentiment'),\n",
       " Text(0.5, 1.0, 'Sentiment Distribution')]"
      ]
     },
     "execution_count": 11,
     "metadata": {
      "tags": []
     },
     "output_type": "execute_result"
    },
    {
     "data": {
      "image/png": "[encoded data removed]",
      "text/plain": [
       "<Figure size 504x360 with 1 Axes>"
      ]
     },
     "metadata": {
      "needs_background": "light",
      "tags": []
     },
     "output_type": "display_data"
    }
   ],
   "source": [
    "fig, ax = plt.subplots(figsize=(7,5))\n",
    "permanent['sentiment'].value_counts().plot(kind='bar')\n",
    "ax.set(xlabel='Sentiment', ylabel='Number of Tweets', title='Sentiment Distribution')"
   ]
  },
  {
   "cell_type": "markdown",
   "metadata": {
    "id": "tAkdxKYyvKxq"
   },
   "source": [
    "Lovely! No class imbalance!"
   ]
  },
  {
   "cell_type": "markdown",
   "metadata": {},
   "source": [
    "### Spliting the data"
   ]
  },
  {
   "cell_type": "code",
   "execution_count": 146,
   "metadata": {
    "ExecuteTime": {
     "end_time": "2020-12-12T00:27:42.772581Z",
     "start_time": "2020-12-12T00:27:42.625124Z"
    },
    "id": "2TFRRuZqvKxq"
   },
   "outputs": [],
   "source": [
    "# Define X and y\n",
    "X = permanent['text']\n",
    "y = permanent['sentiment']\n",
    "\n",
    "# Splits test set\n",
    "X_train, X_test, y_train, y_test = train_test_split(X, y, train_size=80000, test_size=20000, random_state=42)\n",
    "\n",
    "# Splits traint set into train and validation set\n",
    "# X_train, X_val, y_train, y_val = train_test_split(X_train, y_train, train_size=0.70, random_state=42)"
   ]
  },
  {
   "cell_type": "markdown",
   "metadata": {},
   "source": [
    "# Machine Learning Model #1: TF-IDF Model"
   ]
  },
  {
   "cell_type": "code",
   "execution_count": 147,
   "metadata": {
    "ExecuteTime": {
     "end_time": "2020-12-12T00:27:44.997255Z",
     "start_time": "2020-12-12T00:27:44.994325Z"
    },
    "id": "F6L7WnbNvKxq"
   },
   "outputs": [],
   "source": [
    "# Initiates models\n",
    "nb = MultinomialNB()\n",
    "lr = LogisticRegression(solver='liblinear')"
   ]
  },
  {
   "cell_type": "code",
   "execution_count": 148,
   "metadata": {
    "ExecuteTime": {
     "end_time": "2020-12-12T00:27:45.556257Z",
     "start_time": "2020-12-12T00:27:45.552808Z"
    },
    "id": "fHUvEj16vKxq"
   },
   "outputs": [],
   "source": [
    "data = {'X': X_train, 'y': y_train}"
   ]
  },
  {
   "cell_type": "code",
   "execution_count": 149,
   "metadata": {
    "ExecuteTime": {
     "end_time": "2020-12-12T00:27:51.578772Z",
     "start_time": "2020-12-12T00:27:51.575402Z"
    },
    "id": "Zwxq9fmkvKxq"
   },
   "outputs": [],
   "source": [
    "tfidf = TfidfVectorizer(tokenizer=uc.clean_text,\n",
    "                        ngram_range=(1,3),\n",
    "                        max_features=2000,\n",
    "                        min_df=5, max_df=0.2)"
   ]
  },
  {
   "cell_type": "code",
   "execution_count": 150,
   "metadata": {
    "ExecuteTime": {
     "end_time": "2020-12-12T00:41:58.461947Z",
     "start_time": "2020-12-12T00:27:58.638812Z"
    },
    "id": "OMVpMc1rvKxq",
    "outputId": "fe3d5f1b-c17d-486d-d923-1203b238275f"
   },
   "outputs": [
    {
     "name": "stdout",
     "output_type": "stream",
     "text": [
      "              precision    recall  f1-score   support\n",
      "\n",
      "           0       0.69      0.75      0.72      9831\n",
      "           1       0.74      0.67      0.70     10169\n",
      "\n",
      "    accuracy                           0.71     20000\n",
      "   macro avg       0.71      0.71      0.71     20000\n",
      "weighted avg       0.71      0.71      0.71     20000\n",
      "\n"
     ]
    },
    {
     "data": {
      "image/png": "[encoded data removed]",
      "text/plain": [
       "<Figure size 432x288 with 2 Axes>"
      ]
     },
     "metadata": {
      "needs_background": "light"
     },
     "output_type": "display_data"
    }
   ],
   "source": [
    "\"\"\"\n",
    "tfidf = TfidfVectorizer(tokenizer=uc.clean_text,\n",
    "                        ngram_range=(1,3),\n",
    "                        max_features=2000,\n",
    "                        min_df=5, max_df=0.2)\n",
    "\"\"\"\n",
    "nb_tfidf_model, report = uc.evaluate_binary_model(label='NB_lg_tfidf',\n",
    "                                                  model='NB',\n",
    "                                                  vectorizer=tfidf,\n",
    "                                                  data=data)"
   ]
  },
  {
   "cell_type": "code",
   "execution_count": null,
   "metadata": {
    "ExecuteTime": {
     "end_time": "2020-11-14T04:58:22.583104Z",
     "start_time": "2020-11-14T04:58:22.575963Z"
    },
    "id": "upHCSWHgvKxq",
    "outputId": "738084d9-9924-400a-cfdf-2c3eb11f2ff0"
   },
   "outputs": [
    {
     "data": {
      "text/plain": [
       "{'label': 'NB_lg_tfidf',\n",
       " 'run_time': 1703.390268087387,\n",
       " 'train_row': 120000,\n",
       " 'test_row': 40000,\n",
       " 'total_row': 160000,\n",
       " 'negative_recall': 0.7564573812835287,\n",
       " 'positive_recall': 0.7486410308033018,\n",
       " 'test_accuracy': 0.752575,\n",
       " 'average_time': 0.01064618917554617}"
      ]
     },
     "execution_count": 20,
     "metadata": {
      "tags": []
     },
     "output_type": "execute_result"
    }
   ],
   "source": [
    "report"
   ]
  },
  {
   "cell_type": "code",
   "execution_count": 153,
   "metadata": {
    "ExecuteTime": {
     "end_time": "2020-12-12T00:45:30.672990Z",
     "start_time": "2020-12-12T00:45:30.656519Z"
    },
    "id": "9mq-yzSgvKxq"
   },
   "outputs": [],
   "source": [
    "uc.save_data(nb_tfidf_model, 'models/nb_tfidf_model')"
   ]
  },
  {
   "cell_type": "code",
   "execution_count": 154,
   "metadata": {
    "ExecuteTime": {
     "end_time": "2020-12-12T00:45:35.525513Z",
     "start_time": "2020-12-12T00:45:35.522428Z"
    },
    "id": "C5e_jbVGvKxq"
   },
   "outputs": [],
   "source": [
    "uc.save_data(report, 'models/nb_tfidf_model_report')"
   ]
  },
  {
   "cell_type": "code",
   "execution_count": 155,
   "metadata": {
    "ExecuteTime": {
     "end_time": "2020-12-12T00:45:48.392718Z",
     "start_time": "2020-12-12T00:45:48.389539Z"
    },
    "id": "i8xVAMxzvKxq"
   },
   "outputs": [],
   "source": [
    "# binary_model = uc.load_data('models/nb_tfidf_model')\n",
    "\n",
    "# def prototype(model='binary'):\n",
    "#     user_input = input('Write a review: ')\n",
    "    \n",
    "# #     text = get_clean_text(user_input)\n",
    "# #     word_emb = get_vector(text)\n",
    "#     if model=='binary':\n",
    "#         model = binary_model\n",
    "#     else:\n",
    "#         model = multiclass_word_emb\n",
    "#     print('-'*30)\n",
    "# #     print('Product: ', predict_product(text))\n",
    "#     print('Sentiment: ', predict_sentiment(model, user_input))\n",
    "#     print('Confidence: ', round(get_confidence(model, user_input)*100, 2), '%')\n",
    "#     print('-'*30)\n",
    "#     print('\\n')\n",
    "# def get_clean_text(text):\n",
    "#     text = ' '.join(uc.clean_text(text))\n",
    "#     return text\n",
    "\n",
    "# def get_vector(text):\n",
    "#     word_emb = np.concatenate(uc.get_vec(text).reshape(-1,1), axis=0).reshape(-1, 300)\n",
    "#     return word_emb\n",
    "\n",
    "# def predict_sentiment(model, text):\n",
    "#     predict = model.predict([text])\n",
    "#     return predict[0]\n",
    "\n",
    "# def predict_product(text):\n",
    "#     predict = product_predictor.predict(text)\n",
    "#     return predict[0]\n",
    "\n",
    "# def get_confidence(model, text):\n",
    "#     prob = model.predict_proba([text])\n",
    "#     return max(prob[0])"
   ]
  },
  {
   "cell_type": "markdown",
   "metadata": {
    "id": "jjrnnYvf0NQM"
   },
   "source": [
    "# Deep NLP  Model using Ktrain"
   ]
  },
  {
   "cell_type": "markdown",
   "metadata": {},
   "source": [
    "## Data Preparation"
   ]
  },
  {
   "cell_type": "code",
   "execution_count": 13,
   "metadata": {
    "id": "cd24pVz-0a6z"
   },
   "outputs": [],
   "source": [
    "# Splits test set\n",
    "data_train, data_test = train_test_split(permanent, train_size=0.05, random_state=42)\n",
    "\n",
    "# Splits traint set into train and validation set\n",
    "data_train, data_val = train_test_split(data_train, train_size=0.70, random_state=42)"
   ]
  },
  {
   "cell_type": "code",
   "execution_count": 14,
   "metadata": {
    "id": "wyI--8zwz7Ne"
   },
   "outputs": [],
   "source": [
    "nlp = spacy.load('en_core_web_sm')"
   ]
  },
  {
   "cell_type": "code",
   "execution_count": 15,
   "metadata": {
    "id": "2YbS-lNwzyCY"
   },
   "outputs": [],
   "source": [
    "def clean_text(text, stopwords=False, tweet=True):\n",
    "    \"\"\"\n",
    "    Cleans and tokenizes tweet text data.\n",
    "    Args:\n",
    "        text (str): tweet text data\n",
    "        \n",
    "        stopwords (bool): True if stopwords needs to be removed\n",
    "        \n",
    "        tweet (bool): True if text data are tweets.\n",
    "    \n",
    "    Returns:\n",
    "        tokens (array): Array of tokenized words from given text.\n",
    "    \"\"\"\n",
    "\n",
    "    if tweet:\n",
    "        # text = re.sub(r'@\\S+', '', text) # Gets rid of any mentions\n",
    "        text = re.sub(r'RT\\S+', '', text) # Gets rid of any retweets\n",
    "        text = re.sub(r'#', '', text) # Gets rid of hashtag sign\n",
    "        text = re.sub(r'https?:\\/\\/\\S+', '', text) # Gets rid of any links\n",
    "        # text = re.sub(r'[0-9]+.?[0-9]+', '', text) # Gets rid of X.X where X are numbers\n",
    "        text = re.sub(r'#?(sx|Sx|SX)\\S+', '', text) # Gets rid common mentions\n",
    "        text = re.sub(r'(&quot;|&Quot;)', '', text) # Gets rid of quotes    \n",
    "        text = re.sub(r'(&amp;|&Amp;)', '', text) # Gets rid of quotes\n",
    "        text = re.sub(r'link', '', text) # Gets rid of quotes\n",
    "    doc = nlp(text)\n",
    "\n",
    "    tokens = []\n",
    "    for token in doc:\n",
    "        if token.lemma_ != '-PRON-': # if token is not a pronoun\n",
    "            temp_token = token.lemma_.lower().strip()\n",
    "        else:\n",
    "            temp_token = token.lower_\n",
    "        tokens.append(temp_token)\n",
    "    \n",
    "    if stopwords:\n",
    "        tokens_stopped = [token for token in tokens if token not in stopwords_list]\n",
    "    else:\n",
    "        tokens_stopped = tokens\n",
    "    \n",
    "    return ' '.join(tokens_stopped)"
   ]
  },
  {
   "cell_type": "code",
   "execution_count": 2,
   "metadata": {
    "ExecuteTime": {
     "end_time": "2020-12-11T23:02:59.709795Z",
     "start_time": "2020-12-11T23:02:59.707492Z"
    },
    "colab": {
     "base_uri": "https://localhost:8080/"
    },
    "id": "OH9B2e3-vKxr",
    "outputId": "66e8ed42-e9b3-4555-cac6-4ca47015bbad"
   },
   "outputs": [],
   "source": [
    "# !pip install ktrain"
   ]
  },
  {
   "cell_type": "code",
   "execution_count": 17,
   "metadata": {
    "id": "XQiyea5n00Pq"
   },
   "outputs": [],
   "source": [
    "data_train['clean_text'] = data_train['text'].apply(clean_text)"
   ]
  },
  {
   "cell_type": "code",
   "execution_count": 18,
   "metadata": {
    "id": "KoAjhFhBdCjP"
   },
   "outputs": [],
   "source": [
    "data_val['clean_text'] = data_val['text'].apply(clean_text)"
   ]
  },
  {
   "cell_type": "code",
   "execution_count": null,
   "metadata": {
    "id": "rqw58Kb91io7"
   },
   "outputs": [],
   "source": [
    "data_train.to_csv(DATA_PATH,'data_train.csv')\n",
    "data_val.to_csv(DATA_PATH,'data_val.csv')"
   ]
  },
  {
   "cell_type": "code",
   "execution_count": 19,
   "metadata": {
    "ExecuteTime": {
     "end_time": "2020-11-23T15:28:12.137681Z",
     "start_time": "2020-11-23T15:28:11.257307Z"
    },
    "id": "XzPdgjOvvKxr"
   },
   "outputs": [],
   "source": [
    "import ktrain\n",
    "from ktrain import text"
   ]
  },
  {
   "cell_type": "code",
   "execution_count": 40,
   "metadata": {
    "colab": {
     "base_uri": "https://localhost:8080/",
     "height": 419
    },
    "id": "rHX34qSQbLGu",
    "outputId": "4034d582-f372-4a6a-d902-96cd527edf16"
   },
   "outputs": [
    {
     "data": {
      "text/html": [
       "<div>\n",
       "<style scoped>\n",
       "    .dataframe tbody tr th:only-of-type {\n",
       "        vertical-align: middle;\n",
       "    }\n",
       "\n",
       "    .dataframe tbody tr th {\n",
       "        vertical-align: top;\n",
       "    }\n",
       "\n",
       "    .dataframe thead th {\n",
       "        text-align: right;\n",
       "    }\n",
       "</style>\n",
       "<table border=\"1\" class=\"dataframe\">\n",
       "  <thead>\n",
       "    <tr style=\"text-align: right;\">\n",
       "      <th></th>\n",
       "      <th>sentiment</th>\n",
       "      <th>text</th>\n",
       "      <th>clean_text</th>\n",
       "    </tr>\n",
       "  </thead>\n",
       "  <tbody>\n",
       "    <tr>\n",
       "      <th>1581102</th>\n",
       "      <td>Positive</td>\n",
       "      <td>@FeeshaC I read Brida already. It's an okay bo...</td>\n",
       "      <td>@feeshac i read brida already . it be an okay ...</td>\n",
       "    </tr>\n",
       "    <tr>\n",
       "      <th>356348</th>\n",
       "      <td>Negative</td>\n",
       "      <td>WHY WAIT AGAIN? I absolutely HATE waiting! one...</td>\n",
       "      <td>why wait again ? i absolutely hate wait ! one ...</td>\n",
       "    </tr>\n",
       "    <tr>\n",
       "      <th>1199758</th>\n",
       "      <td>Positive</td>\n",
       "      <td>#fr @zalete hey  any pointer?</td>\n",
       "      <td>fr @zalete hey  any pointer ?</td>\n",
       "    </tr>\n",
       "    <tr>\n",
       "      <th>1369983</th>\n",
       "      <td>Positive</td>\n",
       "      <td>My niece is here shhhhhh she's asleep</td>\n",
       "      <td>my niece be here shhhhhh she be asleep</td>\n",
       "    </tr>\n",
       "    <tr>\n",
       "      <th>149336</th>\n",
       "      <td>Negative</td>\n",
       "      <td>@SleeplessInATX didn't make it 2 the Frank Gom...</td>\n",
       "      <td>@sleeplessinatx do not make it 2 the frank gom...</td>\n",
       "    </tr>\n",
       "    <tr>\n",
       "      <th>...</th>\n",
       "      <td>...</td>\n",
       "      <td>...</td>\n",
       "      <td>...</td>\n",
       "    </tr>\n",
       "    <tr>\n",
       "      <th>533299</th>\n",
       "      <td>Negative</td>\n",
       "      <td>anyone got a job for me? i'm so looking for a ...</td>\n",
       "      <td>anyone get a job for me ? i be so look for a j...</td>\n",
       "    </tr>\n",
       "    <tr>\n",
       "      <th>1291820</th>\n",
       "      <td>Positive</td>\n",
       "      <td>love to @kaliie for buying me english lollies ...</td>\n",
       "      <td>love to @kaliie for buy me english lolly ( whi...</td>\n",
       "    </tr>\n",
       "    <tr>\n",
       "      <th>157462</th>\n",
       "      <td>Negative</td>\n",
       "      <td>express editing... no fun!!</td>\n",
       "      <td>express editing ... no fun ! !</td>\n",
       "    </tr>\n",
       "    <tr>\n",
       "      <th>1055327</th>\n",
       "      <td>Positive</td>\n",
       "      <td>Is layin out</td>\n",
       "      <td>be layin out</td>\n",
       "    </tr>\n",
       "    <tr>\n",
       "      <th>335347</th>\n",
       "      <td>Negative</td>\n",
       "      <td>aww :/ no one is on aim</td>\n",
       "      <td>aww :/ no one be on aim</td>\n",
       "    </tr>\n",
       "  </tbody>\n",
       "</table>\n",
       "<p>56000 rows × 3 columns</p>\n",
       "</div>"
      ],
      "text/plain": [
       "        sentiment  ...                                         clean_text\n",
       "1581102  Positive  ...  @feeshac i read brida already . it be an okay ...\n",
       "356348   Negative  ...  why wait again ? i absolutely hate wait ! one ...\n",
       "1199758  Positive  ...                      fr @zalete hey  any pointer ?\n",
       "1369983  Positive  ...             my niece be here shhhhhh she be asleep\n",
       "149336   Negative  ...  @sleeplessinatx do not make it 2 the frank gom...\n",
       "...           ...  ...                                                ...\n",
       "533299   Negative  ...  anyone get a job for me ? i be so look for a j...\n",
       "1291820  Positive  ...  love to @kaliie for buy me english lolly ( whi...\n",
       "157462   Negative  ...                     express editing ... no fun ! !\n",
       "1055327  Positive  ...                                       be layin out\n",
       "335347   Negative  ...                            aww :/ no one be on aim\n",
       "\n",
       "[56000 rows x 3 columns]"
      ]
     },
     "execution_count": 40,
     "metadata": {
      "tags": []
     },
     "output_type": "execute_result"
    }
   ],
   "source": [
    "data_train"
   ]
  },
  {
   "cell_type": "code",
   "execution_count": 35,
   "metadata": {
    "ExecuteTime": {
     "end_time": "2020-11-23T15:28:31.576831Z",
     "start_time": "2020-11-23T15:28:28.166407Z"
    },
    "colab": {
     "base_uri": "https://localhost:8080/",
     "height": 136
    },
    "id": "1TdFZHV-vKxr",
    "outputId": "bd74dffb-548c-47a9-cbe7-49bd6e7db050"
   },
   "outputs": [
    {
     "name": "stdout",
     "output_type": "stream",
     "text": [
      "preprocessing train...\n",
      "language: en\n"
     ]
    },
    {
     "data": {
      "text/html": [
       "done."
      ],
      "text/plain": [
       "<IPython.core.display.HTML object>"
      ]
     },
     "metadata": {
      "tags": []
     },
     "output_type": "display_data"
    },
    {
     "name": "stdout",
     "output_type": "stream",
     "text": [
      "Is Multi-Label? False\n",
      "preprocessing test...\n",
      "language: en\n"
     ]
    },
    {
     "data": {
      "text/html": [
       "done."
      ],
      "text/plain": [
       "<IPython.core.display.HTML object>"
      ]
     },
     "metadata": {
      "tags": []
     },
     "output_type": "display_data"
    }
   ],
   "source": [
    "# Prepares the data for training\n",
    "(X_train, y_train), (X_test, y_test), preprocess = text.texts_from_df(train_df = data_train, \n",
    "                                                                       text_column = 'text',\n",
    "                                                                       label_columns = 'sentiment',\n",
    "                                                                       val_df = data_val,\n",
    "                                                                       max_features=35000,\n",
    "                                                                       maxlen = 512,\n",
    "                                                                       preprocess_mode = 'bert')"
   ]
  },
  {
   "cell_type": "markdown",
   "metadata": {},
   "source": [
    "## Defining the model"
   ]
  },
  {
   "cell_type": "code",
   "execution_count": 36,
   "metadata": {
    "ExecuteTime": {
     "end_time": "2020-11-23T15:31:21.766815Z",
     "start_time": "2020-11-23T15:31:15.589489Z"
    },
    "colab": {
     "base_uri": "https://localhost:8080/"
    },
    "id": "Lo23y3SZvKxr",
    "outputId": "b521ac87-2e9d-4341-f27b-bd9a929036c8"
   },
   "outputs": [
    {
     "name": "stdout",
     "output_type": "stream",
     "text": [
      "Is Multi-Label? False\n",
      "maxlen is 512\n",
      "done.\n"
     ]
    }
   ],
   "source": [
    "# creates model\n",
    "model = text.text_classifier(name='bert',\n",
    "                             train_data = (X_train, y_train),\n",
    "                             preproc = preprocess)"
   ]
  },
  {
   "cell_type": "code",
   "execution_count": 37,
   "metadata": {
    "ExecuteTime": {
     "end_time": "2020-11-23T15:33:37.261051Z",
     "start_time": "2020-11-23T15:33:35.820539Z"
    },
    "id": "Na9pMFQ7vKxr"
   },
   "outputs": [],
   "source": [
    "# Get learning rate\n",
    "learner = ktrain.get_learner(model = model, \n",
    "                             train_data = (X_train, y_train),\n",
    "                             val_data = (X_test, y_test),\n",
    "                             batch_size = 8) # max_len determines the batch size"
   ]
  },
  {
   "cell_type": "markdown",
   "metadata": {
    "ExecuteTime": {
     "end_time": "2020-12-11T23:03:41.877897Z",
     "start_time": "2020-12-11T23:03:41.875197Z"
    }
   },
   "source": [
    "## Calculating Optimal Learning Rate"
   ]
  },
  {
   "cell_type": "code",
   "execution_count": 27,
   "metadata": {
    "colab": {
     "base_uri": "https://localhost:8080/",
     "height": 368
    },
    "id": "Gso3yhvmvKxr",
    "outputId": "d44555fb-a93e-4ec2-9016-766fc5e3b11c"
   },
   "outputs": [
    {
     "name": "stdout",
     "output_type": "stream",
     "text": [
      "simulating training for different learning rates... this may take a few moments...\n",
      "Epoch 1/3\n",
      "7000/7000 [==============================] - 3475s 496ms/step - loss: 0.0618 - accuracy: 0.9810\n",
      "Epoch 2/3\n",
      "7000/7000 [==============================] - 3471s 496ms/step - loss: 0.2192 - accuracy: 0.9125\n",
      "\n",
      "\n",
      "done.\n",
      "Please invoke the Learner.lr_plot() method to visually inspect the loss plot to help identify the maximal learning rate associated with falling loss.\n"
     ]
    },
    {
     "ename": "TypeError",
     "evalue": "ignored",
     "output_type": "error",
     "traceback": [
      "\u001b[0;31m---------------------------------------------------------------------------\u001b[0m",
      "\u001b[0;31mTypeError\u001b[0m                                 Traceback (most recent call last)",
      "\u001b[0;32m<ipython-input-27-d85214c82171>\u001b[0m in \u001b[0;36m<module>\u001b[0;34m()\u001b[0m\n\u001b[1;32m      1\u001b[0m \u001b[0;31m# this might take days to run!!!!!\u001b[0m\u001b[0;34m\u001b[0m\u001b[0;34m\u001b[0m\u001b[0;34m\u001b[0m\u001b[0m\n\u001b[1;32m      2\u001b[0m \u001b[0mlearner\u001b[0m\u001b[0;34m.\u001b[0m\u001b[0mlr_find\u001b[0m\u001b[0;34m(\u001b[0m\u001b[0mmax_epochs\u001b[0m\u001b[0;34m=\u001b[0m\u001b[0;36m3\u001b[0m\u001b[0;34m)\u001b[0m \u001b[0;31m# finds best learning rate\u001b[0m\u001b[0;34m\u001b[0m\u001b[0;34m\u001b[0m\u001b[0m\n\u001b[0;32m----> 3\u001b[0;31m \u001b[0mlearner\u001b[0m\u001b[0;34m.\u001b[0m\u001b[0mlr_plot\u001b[0m\u001b[0;34m(\u001b[0m\u001b[0mmax_epochs\u001b[0m\u001b[0;34m=\u001b[0m\u001b[0;36m3\u001b[0m\u001b[0;34m)\u001b[0m \u001b[0;31m# plots learning rate\u001b[0m\u001b[0;34m\u001b[0m\u001b[0;34m\u001b[0m\u001b[0m\n\u001b[0m\u001b[1;32m      4\u001b[0m \u001b[0;31m# Optimal learning rate for this model is _________.\u001b[0m\u001b[0;34m\u001b[0m\u001b[0;34m\u001b[0m\u001b[0;34m\u001b[0m\u001b[0m\n",
      "\u001b[0;31mTypeError\u001b[0m: lr_plot() got an unexpected keyword argument 'max_epochs'"
     ]
    }
   ],
   "source": [
    "# this might take days to run!!!!!\n",
    "learner.lr_find(max_epochs=3) # finds best learning rate\n",
    "learner.lr_plot() # plots learning rate\n",
    "# Optimal learning rate for this model is _________."
   ]
  },
  {
   "cell_type": "code",
   "execution_count": 28,
   "metadata": {
    "colab": {
     "base_uri": "https://localhost:8080/",
     "height": 283
    },
    "id": "jIl_X-BaZqj1",
    "outputId": "fcbcbcb1-d0ac-47c9-b3de-d519f48c0442"
   },
   "outputs": [
    {
     "data": {
      "image/png": "[encoded data removed]",
      "text/plain": [
       "<Figure size 432x288 with 1 Axes>"
      ]
     },
     "metadata": {
      "needs_background": "light",
      "tags": []
     },
     "output_type": "display_data"
    }
   ],
   "source": [
    "learner.lr_plot() "
   ]
  },
  {
   "cell_type": "markdown",
   "metadata": {},
   "source": [
    "> It seems like our optimal learning rate is between 10e-6 to 10-5!"
   ]
  },
  {
   "cell_type": "markdown",
   "metadata": {},
   "source": [
    "## Training BERT #1: Learning Rate = 5e-5"
   ]
  },
  {
   "cell_type": "markdown",
   "metadata": {},
   "source": [
    "**Fitting the model**"
   ]
  },
  {
   "cell_type": "code",
   "execution_count": 23,
   "metadata": {
    "ExecuteTime": {
     "end_time": "2020-11-23T15:37:53.285668Z",
     "start_time": "2020-11-23T15:36:10.058303Z"
    },
    "colab": {
     "base_uri": "https://localhost:8080/"
    },
    "id": "uDLPLqXJvKxr",
    "outputId": "5b22300a-c91a-4b7a-ff73-2526df2bc1a7"
   },
   "outputs": [
    {
     "name": "stdout",
     "output_type": "stream",
     "text": [
      "\n",
      "\n",
      "begin training using onecycle policy with max lr of 5e-05...\n",
      "Epoch 1/3\n",
      "7000/7000 [==============================] - 3830s 547ms/step - loss: 0.4125 - accuracy: 0.8127 - val_loss: 0.3947 - val_accuracy: 0.8249\n",
      "Epoch 2/3\n",
      "7000/7000 [==============================] - 3823s 546ms/step - loss: 0.3440 - accuracy: 0.8532 - val_loss: 0.3835 - val_accuracy: 0.8336\n",
      "Epoch 3/3\n",
      "7000/7000 [==============================] - 3820s 546ms/step - loss: 0.1698 - accuracy: 0.9357 - val_loss: 0.4731 - val_accuracy: 0.8358\n"
     ]
    },
    {
     "data": {
      "text/plain": [
       "<tensorflow.python.keras.callbacks.History at 0x7f8d6c16d908>"
      ]
     },
     "execution_count": 23,
     "metadata": {
      "tags": []
     },
     "output_type": "execute_result"
    }
   ],
   "source": [
    "learner.fit_onecycle(lr = 5e-5, epochs = 3)"
   ]
  },
  {
   "cell_type": "markdown",
   "metadata": {},
   "source": [
    "**Saving the model**"
   ]
  },
  {
   "cell_type": "code",
   "execution_count": 25,
   "metadata": {
    "id": "Ct5BiGRyvKxr"
   },
   "outputs": [],
   "source": [
    "# predictor\n",
    "predictor = ktrain.get_predictor(learner.model, preprocess)\n",
    "MODEL_PATH = 'drive/MyDrive/models/'\n",
    "# saves the model\n",
    "predictor.save(MODEL_PATH+'BERT_1') #ngram_5, max_len_400, max_feature20000"
   ]
  },
  {
   "cell_type": "code",
   "execution_count": null,
   "metadata": {
    "id": "fpKQeCUSZ3fQ"
   },
   "outputs": [],
   "source": [
    "predictor = ktrain.load_predictor('/tmp/mymnist')"
   ]
  },
  {
   "cell_type": "markdown",
   "metadata": {},
   "source": [
    "## Training BERT #2: Learning Rate = 1e-5"
   ]
  },
  {
   "cell_type": "markdown",
   "metadata": {},
   "source": [
    "**Fitting the model**"
   ]
  },
  {
   "cell_type": "code",
   "execution_count": 33,
   "metadata": {
    "colab": {
     "base_uri": "https://localhost:8080/"
    },
    "id": "DqZ61mQjaX3d",
    "outputId": "48b0a531-2b49-41d3-9d85-990c749f5c7a"
   },
   "outputs": [
    {
     "name": "stdout",
     "output_type": "stream",
     "text": [
      "\n",
      "\n",
      "begin training using onecycle policy with max lr of 1e-05...\n",
      "Epoch 1/5\n",
      "7000/7000 [==============================] - 4394s 628ms/step - loss: 0.4422 - accuracy: 0.7907 - val_loss: 0.3827 - val_accuracy: 0.8315\n",
      "Epoch 2/5\n",
      "7000/7000 [==============================] - 4303s 615ms/step - loss: 0.3454 - accuracy: 0.8494 - val_loss: 0.3661 - val_accuracy: 0.8401\n",
      "Epoch 3/5\n",
      "7000/7000 [==============================] - 4280s 611ms/step - loss: 0.2626 - accuracy: 0.8926 - val_loss: 0.4054 - val_accuracy: 0.8388\n",
      "Epoch 4/5\n",
      "7000/7000 [==============================] - 4284s 612ms/step - loss: 0.1329 - accuracy: 0.9503 - val_loss: 0.5138 - val_accuracy: 0.8348\n",
      "Epoch 5/5\n",
      "7000/7000 [==============================] - 4286s 612ms/step - loss: 0.0557 - accuracy: 0.9811 - val_loss: 0.6727 - val_accuracy: 0.8379\n"
     ]
    },
    {
     "data": {
      "text/plain": [
       "<tensorflow.python.keras.callbacks.History at 0x7f8da34c3748>"
      ]
     },
     "execution_count": 33,
     "metadata": {
      "tags": []
     },
     "output_type": "execute_result"
    }
   ],
   "source": [
    "learner.fit_onecycle(lr = 1e-5, epochs = 5)"
   ]
  },
  {
   "cell_type": "markdown",
   "metadata": {},
   "source": [
    "**Saving the model**"
   ]
  },
  {
   "cell_type": "code",
   "execution_count": 34,
   "metadata": {
    "id": "Kc09jL5kah_1"
   },
   "outputs": [],
   "source": [
    "# predictor\n",
    "predictor = ktrain.get_predictor(learner.model, preprocess)\n",
    "MODEL_PATH = 'drive/MyDrive/models/'\n",
    "# saves the model\n",
    "predictor.save(MODEL_PATH+'BERT_2') #ngram_3, max_len_512, max_feature20000\n",
    "\n"
   ]
  },
  {
   "cell_type": "markdown",
   "metadata": {},
   "source": [
    "## Training BERT #3: Learning Rate = 1e-5 with autofit"
   ]
  },
  {
   "cell_type": "markdown",
   "metadata": {},
   "source": [
    "**Fitting the Model: it will automatically stop once the model does not get any better**"
   ]
  },
  {
   "cell_type": "code",
   "execution_count": 38,
   "metadata": {
    "colab": {
     "base_uri": "https://localhost:8080/"
    },
    "id": "U4spbq3galVy",
    "outputId": "29632306-be23-45df-8f23-e1acadcb5d49"
   },
   "outputs": [
    {
     "name": "stdout",
     "output_type": "stream",
     "text": [
      "early_stopping automatically enabled at patience=5\n",
      "reduce_on_plateau automatically enabled at patience=2\n",
      "\n",
      "\n",
      "begin training using triangular learning rate policy with max lr of 1e-05...\n",
      "Epoch 1/1024\n",
      "7000/7000 [==============================] - 4331s 619ms/step - loss: 0.4144 - accuracy: 0.8082 - val_loss: 0.3625 - val_accuracy: 0.8397\n",
      "Epoch 2/1024\n",
      "7000/7000 [==============================] - 4280s 611ms/step - loss: 0.3068 - accuracy: 0.8699 - val_loss: 0.3648 - val_accuracy: 0.8437\n",
      "Epoch 3/1024\n",
      "7000/7000 [==============================] - ETA: 0s - loss: 0.2274 - accuracy: 0.9097\n",
      "Epoch 00003: Reducing Max LR on Plateau: new max lr will be 5e-06 (if not early_stopping).\n",
      "7000/7000 [==============================] - 4277s 611ms/step - loss: 0.2274 - accuracy: 0.9097 - val_loss: 0.4121 - val_accuracy: 0.8391\n",
      "Epoch 4/1024\n",
      "7000/7000 [==============================] - 4273s 610ms/step - loss: 0.1348 - accuracy: 0.9505 - val_loss: 0.5036 - val_accuracy: 0.8378\n",
      "Epoch 5/1024\n",
      "7000/7000 [==============================] - ETA: 0s - loss: 0.0923 - accuracy: 0.9674\n",
      "Epoch 00005: Reducing Max LR on Plateau: new max lr will be 2.5e-06 (if not early_stopping).\n",
      "7000/7000 [==============================] - 4256s 608ms/step - loss: 0.0923 - accuracy: 0.9674 - val_loss: 0.5822 - val_accuracy: 0.8365\n",
      "Epoch 6/1024\n",
      "7000/7000 [==============================] - ETA: 0s - loss: 0.0583 - accuracy: 0.9807Restoring model weights from the end of the best epoch.\n",
      "7000/7000 [==============================] - 4265s 609ms/step - loss: 0.0583 - accuracy: 0.9807 - val_loss: 0.6782 - val_accuracy: 0.8355\n",
      "Epoch 00006: early stopping\n",
      "Weights from best epoch have been loaded into model.\n"
     ]
    },
    {
     "data": {
      "text/plain": [
       "<tensorflow.python.keras.callbacks.History at 0x7f8981b61c18>"
      ]
     },
     "execution_count": 38,
     "metadata": {
      "tags": []
     },
     "output_type": "execute_result"
    }
   ],
   "source": [
    "learner.autofit(1e-5)"
   ]
  },
  {
   "cell_type": "markdown",
   "metadata": {},
   "source": [
    "**Saving the model**"
   ]
  },
  {
   "cell_type": "code",
   "execution_count": 39,
   "metadata": {
    "id": "SHLqL-W7ub2f"
   },
   "outputs": [],
   "source": [
    "# predictor\n",
    "predictor = ktrain.get_predictor(learner.model, preprocess)\n",
    "MODEL_PATH = 'drive/MyDrive/models/'\n",
    "# saves the model\n",
    "predictor.save(MODEL_PATH+'BERT_3') #ngram_1, max_len_512, max_feature 35000\n",
    "\n"
   ]
  },
  {
   "cell_type": "markdown",
   "metadata": {
    "id": "yI1LitdSTGB_"
   },
   "source": [
    "# Check Different Models"
   ]
  },
  {
   "cell_type": "markdown",
   "metadata": {},
   "source": [
    "Accuracy isn't the everything we want form our model. We want to make sure our model can deliver what we want with efficiency. Here, we will compare TextBlob Model and BERT Model.|"
   ]
  },
  {
   "cell_type": "markdown",
   "metadata": {
    "ExecuteTime": {
     "end_time": "2020-12-11T23:11:03.901683Z",
     "start_time": "2020-12-11T23:11:03.899299Z"
    }
   },
   "source": [
    "## Preparing Test Data"
   ]
  },
  {
   "cell_type": "code",
   "execution_count": 5,
   "metadata": {
    "ExecuteTime": {
     "end_time": "2020-12-11T23:11:12.014978Z",
     "start_time": "2020-12-11T23:11:11.368854Z"
    }
   },
   "outputs": [],
   "source": [
    "import pandas as pd"
   ]
  },
  {
   "cell_type": "code",
   "execution_count": 172,
   "metadata": {
    "ExecuteTime": {
     "end_time": "2020-12-12T00:53:22.877674Z",
     "start_time": "2020-12-12T00:53:18.831549Z"
    }
   },
   "outputs": [],
   "source": [
    "# importing data\n",
    "columns = ['sentiment', 'id', 'date', 'query', 'user_id', 'text']\n",
    "permanent = pd.read_csv('datasets/tweet_sentiments.csv',\n",
    "                        encoding='latin', header=None)\n",
    "permanent.columns = columns"
   ]
  },
  {
   "cell_type": "code",
   "execution_count": 173,
   "metadata": {
    "ExecuteTime": {
     "end_time": "2020-12-12T00:53:23.524950Z",
     "start_time": "2020-12-12T00:53:22.880169Z"
    }
   },
   "outputs": [],
   "source": [
    "permanent = permanent[['sentiment', 'text']]\n",
    "\n",
    "# Changes 0, 4 into categorical values: Negative and Positive\n",
    "sentiment_dict = {0:0, 4:1}\n",
    "permanent['sentiment'] = permanent['sentiment'].apply(lambda x: sentiment_dict[x]);"
   ]
  },
  {
   "cell_type": "code",
   "execution_count": 174,
   "metadata": {
    "ExecuteTime": {
     "end_time": "2020-12-12T00:53:23.536327Z",
     "start_time": "2020-12-12T00:53:23.527287Z"
    }
   },
   "outputs": [
    {
     "data": {
      "text/html": [
       "<div>\n",
       "<style scoped>\n",
       "    .dataframe tbody tr th:only-of-type {\n",
       "        vertical-align: middle;\n",
       "    }\n",
       "\n",
       "    .dataframe tbody tr th {\n",
       "        vertical-align: top;\n",
       "    }\n",
       "\n",
       "    .dataframe thead th {\n",
       "        text-align: right;\n",
       "    }\n",
       "</style>\n",
       "<table border=\"1\" class=\"dataframe\">\n",
       "  <thead>\n",
       "    <tr style=\"text-align: right;\">\n",
       "      <th></th>\n",
       "      <th>sentiment</th>\n",
       "      <th>text</th>\n",
       "    </tr>\n",
       "  </thead>\n",
       "  <tbody>\n",
       "    <tr>\n",
       "      <th>0</th>\n",
       "      <td>0</td>\n",
       "      <td>@switchfoot http://twitpic.com/2y1zl - Awww, t...</td>\n",
       "    </tr>\n",
       "    <tr>\n",
       "      <th>1</th>\n",
       "      <td>0</td>\n",
       "      <td>is upset that he can't update his Facebook by ...</td>\n",
       "    </tr>\n",
       "    <tr>\n",
       "      <th>2</th>\n",
       "      <td>0</td>\n",
       "      <td>@Kenichan I dived many times for the ball. Man...</td>\n",
       "    </tr>\n",
       "    <tr>\n",
       "      <th>3</th>\n",
       "      <td>0</td>\n",
       "      <td>my whole body feels itchy and like its on fire</td>\n",
       "    </tr>\n",
       "    <tr>\n",
       "      <th>4</th>\n",
       "      <td>0</td>\n",
       "      <td>@nationwideclass no, it's not behaving at all....</td>\n",
       "    </tr>\n",
       "  </tbody>\n",
       "</table>\n",
       "</div>"
      ],
      "text/plain": [
       "   sentiment                                               text\n",
       "0          0  @switchfoot http://twitpic.com/2y1zl - Awww, t...\n",
       "1          0  is upset that he can't update his Facebook by ...\n",
       "2          0  @Kenichan I dived many times for the ball. Man...\n",
       "3          0    my whole body feels itchy and like its on fire \n",
       "4          0  @nationwideclass no, it's not behaving at all...."
      ]
     },
     "execution_count": 174,
     "metadata": {},
     "output_type": "execute_result"
    }
   ],
   "source": [
    "permanent.head()"
   ]
  },
  {
   "cell_type": "code",
   "execution_count": 175,
   "metadata": {
    "ExecuteTime": {
     "end_time": "2020-12-12T00:53:24.039831Z",
     "start_time": "2020-12-12T00:53:23.538672Z"
    }
   },
   "outputs": [],
   "source": [
    "# Define X and y\n",
    "X = permanent['text']\n",
    "y = permanent['sentiment']\n",
    "\n",
    "# Splits test set\n",
    "_, X_test, _, y_test = train_test_split(X, y, test_size=1000, random_state=42)"
   ]
  },
  {
   "cell_type": "markdown",
   "metadata": {},
   "source": [
    "Now, we will compare TextBlob vs. BERT in terms of accuracy and computational time."
   ]
  },
  {
   "cell_type": "code",
   "execution_count": 91,
   "metadata": {
    "ExecuteTime": {
     "end_time": "2020-12-11T23:32:06.736594Z",
     "start_time": "2020-12-11T23:32:06.733666Z"
    }
   },
   "outputs": [],
   "source": [
    "result = []"
   ]
  },
  {
   "cell_type": "markdown",
   "metadata": {},
   "source": [
    "## TextBlob"
   ]
  },
  {
   "cell_type": "code",
   "execution_count": 92,
   "metadata": {
    "ExecuteTime": {
     "end_time": "2020-12-11T23:32:07.044124Z",
     "start_time": "2020-12-11T23:32:07.041124Z"
    }
   },
   "outputs": [],
   "source": [
    "from textblob import TextBlob\n",
    "import time\n",
    "import datetime\n",
    "from sklearn.metrics import accuracy_score, recall_score, confusion_matrix"
   ]
  },
  {
   "cell_type": "code",
   "execution_count": 191,
   "metadata": {
    "ExecuteTime": {
     "end_time": "2020-12-12T00:55:32.984938Z",
     "start_time": "2020-12-12T00:55:32.981691Z"
    }
   },
   "outputs": [],
   "source": [
    "def polarity(text):\n",
    "    sentiment = TextBlob(text).polarity\n",
    "    return 0 if sentiment < 0 else 1"
   ]
  },
  {
   "cell_type": "code",
   "execution_count": 105,
   "metadata": {
    "ExecuteTime": {
     "end_time": "2020-12-11T23:32:20.615450Z",
     "start_time": "2020-12-11T23:32:20.612438Z"
    }
   },
   "outputs": [],
   "source": [
    "result.append({'model': 'TextBlob', 'accuracy':None, 'negative_recall':None, 'average_computational_time':None})"
   ]
  },
  {
   "cell_type": "code",
   "execution_count": 192,
   "metadata": {
    "ExecuteTime": {
     "end_time": "2020-12-12T00:55:35.066695Z",
     "start_time": "2020-12-12T00:55:34.537194Z"
    }
   },
   "outputs": [],
   "source": [
    "# Speed\n",
    "start_time = time.time()\n",
    "text_blob = [polarity(text) for text in X_test]\n",
    "end_time = time.time()\n",
    "delta_time = (end_time - start_time)\n",
    "result[0]['average_time_per_tweet (ms)'] = delta_time/1000 * 1000 # time per tweet in ms"
   ]
  },
  {
   "cell_type": "code",
   "execution_count": 193,
   "metadata": {
    "ExecuteTime": {
     "end_time": "2020-12-12T00:55:35.074845Z",
     "start_time": "2020-12-12T00:55:35.068353Z"
    }
   },
   "outputs": [],
   "source": [
    "# Accuracy \n",
    "result[0]['accuracy'] = accuracy_score(y_test, text_blob)\n",
    "# Recall\n",
    "result[0]['negative_recall']= recall_score(y_test, text_blob, average=None)[0]"
   ]
  },
  {
   "cell_type": "code",
   "execution_count": 194,
   "metadata": {
    "ExecuteTime": {
     "end_time": "2020-12-12T00:55:35.504605Z",
     "start_time": "2020-12-12T00:55:35.499786Z"
    }
   },
   "outputs": [
    {
     "data": {
      "text/plain": [
       "{'model': 'TextBlob',\n",
       " 'accuracy': 0.631,\n",
       " 'negative_recall': 0.3528225806451613,\n",
       " 'average_time_per_tweet (ms)': 0.5769839286804199,\n",
       " 'average_computational_time': 0.5260429382324219}"
      ]
     },
     "execution_count": 194,
     "metadata": {},
     "output_type": "execute_result"
    }
   ],
   "source": [
    "result[0]"
   ]
  },
  {
   "cell_type": "code",
   "execution_count": 109,
   "metadata": {
    "ExecuteTime": {
     "end_time": "2020-12-11T23:32:24.287480Z",
     "start_time": "2020-12-11T23:32:24.280280Z"
    }
   },
   "outputs": [
    {
     "data": {
      "text/plain": [
       "array([[368, 128],\n",
       "       [251, 253]])"
      ]
     },
     "execution_count": 109,
     "metadata": {},
     "output_type": "execute_result"
    }
   ],
   "source": [
    "confusion_matrix(y_test, text_blob)"
   ]
  },
  {
   "cell_type": "markdown",
   "metadata": {},
   "source": [
    "## BERT Model"
   ]
  },
  {
   "cell_type": "code",
   "execution_count": 110,
   "metadata": {
    "ExecuteTime": {
     "end_time": "2020-12-11T23:32:39.714757Z",
     "start_time": "2020-12-11T23:32:38.793397Z"
    }
   },
   "outputs": [],
   "source": [
    "import ktrain"
   ]
  },
  {
   "cell_type": "code",
   "execution_count": 111,
   "metadata": {
    "ExecuteTime": {
     "end_time": "2020-12-11T23:32:48.709733Z",
     "start_time": "2020-12-11T23:32:39.783963Z"
    }
   },
   "outputs": [],
   "source": [
    "predictor = ktrain.load_predictor('models/BERT_2')"
   ]
  },
  {
   "cell_type": "code",
   "execution_count": 112,
   "metadata": {
    "ExecuteTime": {
     "end_time": "2020-12-11T23:32:50.089350Z",
     "start_time": "2020-12-11T23:32:50.086342Z"
    }
   },
   "outputs": [],
   "source": [
    "result.append({'model': 'BERT', 'accuracy':None, 'negative_recall':None, 'average_computational_time':None})"
   ]
  },
  {
   "cell_type": "code",
   "execution_count": 118,
   "metadata": {
    "ExecuteTime": {
     "end_time": "2020-12-11T23:48:55.966093Z",
     "start_time": "2020-12-11T23:35:02.498391Z"
    }
   },
   "outputs": [
    {
     "data": {
      "text/html": [],
      "text/plain": [
       "<IPython.core.display.HTML object>"
      ]
     },
     "metadata": {},
     "output_type": "display_data"
    }
   ],
   "source": [
    "# Speed\n",
    "start_time = time.time()\n",
    "bert =predictor.predict(list(X_test))\n",
    "end_time = time.time()\n",
    "delta_time = (end_time - start_time)\n",
    "result[1]['average_time_per_tweet (ms)'] = delta_time/1000 * 1000 # time per tweet in ms"
   ]
  },
  {
   "cell_type": "code",
   "execution_count": 120,
   "metadata": {
    "ExecuteTime": {
     "end_time": "2020-12-12T00:16:25.709316Z",
     "start_time": "2020-12-12T00:16:25.706060Z"
    }
   },
   "outputs": [],
   "source": [
    "# Converts categorical to labels\n",
    "bert = [0 if x=='Negative' else 1 for x in bert]"
   ]
  },
  {
   "cell_type": "code",
   "execution_count": 125,
   "metadata": {
    "ExecuteTime": {
     "end_time": "2020-12-12T00:17:34.720719Z",
     "start_time": "2020-12-12T00:17:34.714318Z"
    }
   },
   "outputs": [],
   "source": [
    "# Accuracy \n",
    "result[1]['accuracy'] = accuracy_score(y_test, bert)\n",
    "# Recall\n",
    "result[1]['negative_recall']= recall_score(y_test, bert, average=None)[0]"
   ]
  },
  {
   "cell_type": "markdown",
   "metadata": {
    "ExecuteTime": {
     "end_time": "2020-12-12T00:46:17.335462Z",
     "start_time": "2020-12-12T00:46:17.332955Z"
    }
   },
   "source": [
    "## VADER Model"
   ]
  },
  {
   "cell_type": "code",
   "execution_count": 157,
   "metadata": {
    "ExecuteTime": {
     "end_time": "2020-12-12T00:47:14.827092Z",
     "start_time": "2020-12-12T00:47:14.817356Z"
    }
   },
   "outputs": [],
   "source": [
    "from vaderSentiment.vaderSentiment import SentimentIntensityAnalyzer"
   ]
  },
  {
   "cell_type": "code",
   "execution_count": 167,
   "metadata": {
    "ExecuteTime": {
     "end_time": "2020-12-12T00:51:59.721334Z",
     "start_time": "2020-12-12T00:51:59.703368Z"
    }
   },
   "outputs": [],
   "source": [
    "analyser = SentimentIntensityAnalyzer()"
   ]
  },
  {
   "cell_type": "code",
   "execution_count": 168,
   "metadata": {
    "ExecuteTime": {
     "end_time": "2020-12-12T00:52:52.027463Z",
     "start_time": "2020-12-12T00:52:52.024301Z"
    }
   },
   "outputs": [],
   "source": [
    "result.append({'model': 'VADER', 'accuracy':None, 'negative_recall':None, 'average_computational_time':None})"
   ]
  },
  {
   "cell_type": "code",
   "execution_count": 187,
   "metadata": {
    "ExecuteTime": {
     "end_time": "2020-12-12T00:55:21.958418Z",
     "start_time": "2020-12-12T00:55:21.955163Z"
    }
   },
   "outputs": [],
   "source": [
    "def vader_analyzer(sentence):\n",
    "    score = analyser.polarity_scores(sentence)\n",
    "    return 1 if score['compound'] > 0 else 0"
   ]
  },
  {
   "cell_type": "code",
   "execution_count": 188,
   "metadata": {
    "ExecuteTime": {
     "end_time": "2020-12-12T00:55:22.295676Z",
     "start_time": "2020-12-12T00:55:22.169252Z"
    }
   },
   "outputs": [],
   "source": [
    "# Speed\n",
    "start_time = time.time()\n",
    "vader =[vader_analyzer(tweet) for tweet in X_test]\n",
    "end_time = time.time()\n",
    "delta_time = (end_time - start_time)\n",
    "result[2]['average_time_per_tweet (ms)'] = delta_time/1000 * 1000 # time per tweet in ms"
   ]
  },
  {
   "cell_type": "code",
   "execution_count": 189,
   "metadata": {
    "ExecuteTime": {
     "end_time": "2020-12-12T00:55:22.654795Z",
     "start_time": "2020-12-12T00:55:22.648230Z"
    }
   },
   "outputs": [],
   "source": [
    "# Accuracy \n",
    "result[2]['accuracy'] = accuracy_score(y_test, vader)\n",
    "# Recall\n",
    "result[2]['negative_recall']= recall_score(y_test, vader, average=None)[0]"
   ]
  },
  {
   "cell_type": "markdown",
   "metadata": {},
   "source": [
    "## Reult Comparison"
   ]
  },
  {
   "cell_type": "code",
   "execution_count": 198,
   "metadata": {
    "ExecuteTime": {
     "end_time": "2020-12-12T00:56:56.135086Z",
     "start_time": "2020-12-12T00:56:56.125593Z"
    }
   },
   "outputs": [
    {
     "data": {
      "text/html": [
       "<div>\n",
       "<style scoped>\n",
       "    .dataframe tbody tr th:only-of-type {\n",
       "        vertical-align: middle;\n",
       "    }\n",
       "\n",
       "    .dataframe tbody tr th {\n",
       "        vertical-align: top;\n",
       "    }\n",
       "\n",
       "    .dataframe thead th {\n",
       "        text-align: right;\n",
       "    }\n",
       "</style>\n",
       "<table border=\"1\" class=\"dataframe\">\n",
       "  <thead>\n",
       "    <tr style=\"text-align: right;\">\n",
       "      <th></th>\n",
       "      <th>model</th>\n",
       "      <th>accuracy</th>\n",
       "      <th>negative_recall</th>\n",
       "      <th>average_time_per_tweet (ms)</th>\n",
       "    </tr>\n",
       "  </thead>\n",
       "  <tbody>\n",
       "    <tr>\n",
       "      <th>0</th>\n",
       "      <td>TextBlob</td>\n",
       "      <td>0.631</td>\n",
       "      <td>0.352823</td>\n",
       "      <td>0.576984</td>\n",
       "    </tr>\n",
       "    <tr>\n",
       "      <th>1</th>\n",
       "      <td>BERT</td>\n",
       "      <td>0.834</td>\n",
       "      <td>0.854839</td>\n",
       "      <td>833.463886</td>\n",
       "    </tr>\n",
       "    <tr>\n",
       "      <th>2</th>\n",
       "      <td>VADER</td>\n",
       "      <td>0.664</td>\n",
       "      <td>0.689516</td>\n",
       "      <td>0.122489</td>\n",
       "    </tr>\n",
       "  </tbody>\n",
       "</table>\n",
       "</div>"
      ],
      "text/plain": [
       "      model  accuracy  negative_recall  average_time_per_tweet (ms)\n",
       "0  TextBlob     0.631         0.352823                     0.576984\n",
       "1      BERT     0.834         0.854839                   833.463886\n",
       "2     VADER     0.664         0.689516                     0.122489"
      ]
     },
     "execution_count": 198,
     "metadata": {},
     "output_type": "execute_result"
    }
   ],
   "source": [
    "result_df = pd.DataFrame(result)\n",
    "result_df"
   ]
  },
  {
   "cell_type": "markdown",
   "metadata": {},
   "source": [
    "# Conclusion"
   ]
  },
  {
   "cell_type": "markdown",
   "metadata": {},
   "source": [
    "## TextBlob"
   ]
  },
  {
   "cell_type": "markdown",
   "metadata": {},
   "source": [
    "**Test Result (n=1000)**\n",
    "    - Accuracy = 62.1%\n",
    "    - Negative Recall = 74.2%\n",
    "    - Time per tweet = 0.577 ms\n",
    "\n",
    "**Pros:**\n",
    "    - It's very simple to use.\n",
    "    - Potentially use for other languages since it's powered by Google Translate.\n",
    "**Cons:**\n",
    "    - It is relative fast (compared to Deep NLP and NLTK) but slower than spacy.\n",
    "    - It does not provide features like dependency parsing, word vectors etc. which is provided by spacy.\n",
    "\n",
    "Source: https://www.analyticsvidhya.com/blog/2018/02/natural-language-processing-for-beginners-using-textblob/"
   ]
  },
  {
   "cell_type": "markdown",
   "metadata": {
    "ExecuteTime": {
     "end_time": "2020-12-12T00:41:58.466271Z",
     "start_time": "2020-12-12T00:41:58.463713Z"
    }
   },
   "source": [
    "## BERT"
   ]
  },
  {
   "cell_type": "markdown",
   "metadata": {},
   "source": [
    "**Test Result (n=1000)**\n",
    "    - Accuracy = 83.4%\n",
    "    - Negative Recall = 85.5%\n",
    "    - Time per tweet =833.5 ms\n",
    "\n",
    "**Pros:**\n",
    "    - It's powerful and can be used for other NLP purposes other than sentiments.\n",
    "    - High accuracy.\n",
    "**Cons:**\n",
    "    - It is slow to train and execute."
   ]
  },
  {
   "cell_type": "markdown",
   "metadata": {},
   "source": [
    "## VADER"
   ]
  },
  {
   "cell_type": "markdown",
   "metadata": {},
   "source": [
    "**Test Result (n=1000)**\n",
    "    - Accuracy = 66.4%\n",
    "    - Negative Recall = 69.0%\n",
    "    - Time per tweet = 0.122 ms\n",
    "\n",
    "**Pros:**\n",
    "    - It works exceedingly well on social media type text, yet readily generalizes to multiple domains\n",
    "    - It doesn’t require any training data but is constructed from a generalizable, valence-based, human-curated gold standard sentiment lexicon\n",
    "    - It is fast enough to be used online with streaming data, and\n",
    "    - It does not severely suffer from a speed-performance tradeoff.\n",
    "**Cons:**\n",
    "    - Low accuracy and recall\n",
    "    \n",
    "Source: https://medium.com/analytics-vidhya/simplifying-social-media-sentiment-analysis-using-vader-in-python-f9e6ec6fc52f"
   ]
  },
  {
   "cell_type": "markdown",
   "metadata": {},
   "source": [
    "## Final Remark"
   ]
  },
  {
   "cell_type": "markdown",
   "metadata": {},
   "source": [
    "We will use VADER to prelimarily filter any neutral tweets, then use BERT to analyze more extreme end tweets."
   ]
  },
  {
   "cell_type": "markdown",
   "metadata": {},
   "source": [
    "# Dashboard"
   ]
  },
  {
   "cell_type": "markdown",
   "metadata": {},
   "source": [
    "## Keyword Selection"
   ]
  },
  {
   "cell_type": "markdown",
   "metadata": {},
   "source": [
    "<img src='images/dashboard_1.png'>\n",
    "\n",
    "**Keyword**\n",
    "You are able to select up to two keywords to monitor online. If you choose to choose two keywords, you **must** separate them by a comma!\n",
    "\n",
    "*if no keyword is selected, then it streams \n",
    "\n",
    "**Graph1**\n",
    "This graph represents moving average value of sentiments towards the keywords you have selected along with number of tweets sent.\n",
    "\n",
    "**Graph2**\n",
    "This pie graph represents sentiment distribution towards your keyword.\n",
    "\n",
    "<img src='images/dashboard_2.png'>\n",
    "\n",
    "By clicking `Generate Word Cloud`, it generates frequently used words in tweets related to the keywords for each sentiment. \n",
    "\n",
    "<img src='images/dashboard_3.png'>\n",
    "\n",
    "**Table1**\n",
    "This table shows recent tweets sent filtered by the keywords chosen. You are able to click on `link` button to access the actual tweet.\n",
    "\n",
    "**Table2**\n",
    "This table shows recent flagged tweets that are strongly negative.\n",
    "\n",
    "**Saving data into .csv file**\n",
    "You **must** click `GENERATE CSV FILE` before you can download the files. You can either download the whole raw tweet data or just the flagged ones."
   ]
  },
  {
   "cell_type": "markdown",
   "metadata": {},
   "source": [
    "# Further Studies"
   ]
  },
  {
   "cell_type": "markdown",
   "metadata": {},
   "source": [
    "1. Database structure\n",
    "    - As the database size increases, it might get too much for sqlite3 to handle. So, we want to separate database into parts so only when a large number of data is requested, we can combine or join smaller databases. \n",
    "2. Reply feature\n",
    "    - It would be nice if we could add a feature where you could reply to any of tweets shown in the dashboard without going to twitter page.\n",
    "3. Multiple keywords\n",
    "    - It would be nice if multiple keywords can be analyzed and followed at a given time.\n",
    "4. Table Editing Mode\n",
    "    - Modify flagged tweets in the dashboard so that a user can classify flagged tweets as 'resolved', 'false negative', or 'other' for further customer service / data analysis.\n",
    "5. Further analysis on both positive and negative tweets\n",
    "    - Find any correlation between tweet trends with how the company is doing to help with future direction of a company.\n"
   ]
  },
  {
   "cell_type": "code",
   "execution_count": null,
   "metadata": {},
   "outputs": [],
   "source": []
  }
 ],
 "metadata": {
  "accelerator": "GPU",
  "colab": {
   "name": "Models.ipynb",
   "provenance": []
  },
  "kernelspec": {
   "display_name": "Python 3",
   "language": "python",
   "name": "python3"
  },
  "language_info": {
   "codemirror_mode": {
    "name": "ipython",
    "version": 3
   },
   "file_extension": ".py",
   "mimetype": "text/x-python",
   "name": "python",
   "nbconvert_exporter": "python",
   "pygments_lexer": "ipython3",
   "version": "3.6.9"
  },
  "toc": {
   "base_numbering": 1,
   "nav_menu": {},
   "number_sections": true,
   "sideBar": true,
   "skip_h1_title": false,
   "title_cell": "Table of Contents",
   "title_sidebar": "Contents",
   "toc_cell": false,
   "toc_position": {
    "height": "calc(100% - 180px)",
    "left": "10px",
    "top": "150px",
    "width": "501.594px"
   },
   "toc_section_display": true,
   "toc_window_display": true
  },
  "varInspector": {
   "cols": {
    "lenName": 16,
    "lenType": 16,
    "lenVar": 40
   },
   "kernels_config": {
    "python": {
     "delete_cmd_postfix": "",
     "delete_cmd_prefix": "del ",
     "library": "var_list.py",
     "varRefreshCmd": "print(var_dic_list())"
    },
    "r": {
     "delete_cmd_postfix": ") ",
     "delete_cmd_prefix": "rm(",
     "library": "var_list.r",
     "varRefreshCmd": "cat(var_dic_list()) "
    }
   },
   "types_to_exclude": [
    "module",
    "function",
    "builtin_function_or_method",
    "instance",
    "_Feature"
   ],
   "window_display": false
  }
 },
 "nbformat": 4,
 "nbformat_minor": 1
}
