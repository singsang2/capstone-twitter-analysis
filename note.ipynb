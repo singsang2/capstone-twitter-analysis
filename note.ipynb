{
 "cells": [
  {
   "cell_type": "code",
   "execution_count": 34,
   "metadata": {
    "ExecuteTime": {
     "end_time": "2021-01-15T21:14:27.473292Z",
     "start_time": "2021-01-15T21:14:27.447656Z"
    }
   },
   "outputs": [],
   "source": [
    "\n",
    "import requests\n",
    "import os\n",
    "import json\n",
    "import keys.keys as keys\n",
    "# To set your enviornment variables in your terminal run the following line:\n",
    "# export 'BEARER_TOKEN'='<your_bearer_token>'\n",
    "\n",
    "\n",
    "def create_headers(bearer_token):\n",
    "    headers = {\"Authorization\": \"Bearer {}\".format(bearer_token)}\n",
    "    return headers\n",
    "\n",
    "\n",
    "def get_rules(headers, bearer_token):\n",
    "    response = requests.get(\n",
    "        \"https://api.twitter.com/2/tweets/search/stream/rules\", headers=headers\n",
    "    )\n",
    "    if response.status_code != 200:\n",
    "        raise Exception(\n",
    "            \"Cannot get rules (HTTP {}): {}\".format(response.status_code, response.text)\n",
    "        )\n",
    "    print(json.dumps(response.json()))\n",
    "    return response.json()\n",
    "\n",
    "\n",
    "def delete_all_rules(headers, bearer_token, rules):\n",
    "    if rules is None or \"data\" not in rules:\n",
    "        return None\n",
    "\n",
    "    ids = list(map(lambda rule: rule[\"id\"], rules[\"data\"]))\n",
    "    payload = {\"delete\": {\"ids\": ids}}\n",
    "    response = requests.post(\n",
    "        \"https://api.twitter.com/2/tweets/search/stream/rules\",\n",
    "        headers=headers,\n",
    "        json=payload\n",
    "    )\n",
    "    if response.status_code != 200:\n",
    "        raise Exception(\n",
    "            \"Cannot delete rules (HTTP {}): {}\".format(\n",
    "                response.status_code, response.text\n",
    "            )\n",
    "        )\n",
    "    print(json.dumps(response.json()))\n",
    "\n",
    "\n",
    "def set_rules(headers, delete, bearer_token):\n",
    "    # You can adjust the rules if needed\n",
    "    sample_rules = [\n",
    "        {\"value\": \"entity:Microsoft OR Azure OR entity:Excel OR powerpoint OR entity:Teams OR entity:Surface lang:en -is:retweet\", \"tag\": \"Microsoft\"},\n",
    "        {\"value\": \"entity:Apple OR entity:iPad OR entity:iPhone OR entity:Mac OR airpod OR macbook lang:en -is:retweet\", \"tag\": \"Apple\"}\n",
    "    ]\n",
    "    payload = {\"add\": sample_rules}\n",
    "    response = requests.post(\n",
    "        \"https://api.twitter.com/2/tweets/search/stream/rules\",\n",
    "        headers=headers,\n",
    "        json=payload,\n",
    "    )\n",
    "    if response.status_code != 201:\n",
    "        raise Exception(\n",
    "            \"Cannot add rules (HTTP {}): {}\".format(response.status_code, response.text)\n",
    "        )\n",
    "    print(json.dumps(response.json()))\n",
    "\n",
    "\n",
    "def get_stream(headers, set, bearer_token):\n",
    "    response = requests.get(\n",
    "        \"https://api.twitter.com/2/tweets/search/stream?tweet.fields=created_at&expansions=author_id&user.fields=created_at\", headers=headers, stream=True,\n",
    "    )\n",
    "    print(response.status_code)\n",
    "    if response.status_code != 200:\n",
    "        raise Exception(\n",
    "            \"Cannot get stream (HTTP {}): {}\".format(\n",
    "                response.status_code, response.text\n",
    "            )\n",
    "        )\n",
    "    for response_line in response.iter_lines():\n",
    "        if response_line:\n",
    "            data = json.loads(response_line)['data']\n",
    "            tag = json.loads(response_line)['matching_rules']\n",
    "            print(data.keys(), tag)\n",
    "            tweet = data['text']\n",
    "            time_ms = datetime.strptime(data['created_at'], \"%Y-%m-%dT%H:%M:%S.%fZ\").timestamp()\n",
    "            id_str = data['id']\n",
    "            user_str = data['author_id']\n",
    "            print(tweet, time_ms, id_str, user_str, tag[0]['tag'])\n",
    "            print(type(time_ms))\n",
    "            break\n",
    "\n",
    "\n",
    "\n",
    "def main():\n",
    "    bearer_token = keys.BEARER_TOKEN #os.environ.get(\"BEARER_TOKEN\")\n",
    "    headers = create_headers(bearer_token)\n",
    "    rules = get_rules(headers, bearer_token)\n",
    "    delete = delete_all_rules(headers, bearer_token, rules)\n",
    "    new_rules = set_rules(headers, delete, bearer_token)\n",
    "    get_stream(headers, new_rules, bearer_token)"
   ]
  },
  {
   "cell_type": "code",
   "execution_count": 35,
   "metadata": {
    "ExecuteTime": {
     "end_time": "2021-01-15T21:14:31.661002Z",
     "start_time": "2021-01-15T21:14:28.045593Z"
    }
   },
   "outputs": [
    {
     "name": "stdout",
     "output_type": "stream",
     "text": [
      "{\"data\": [{\"id\": \"1350189503999307781\", \"value\": \"entity:Microsoft OR Azure OR entity:Excel OR powerpoint OR entity:Teams OR entity:Surface lang:en -is:retweet\", \"tag\": \"Microsoft\"}, {\"id\": \"1350189503999307780\", \"value\": \"entity:Apple OR entity:iPad OR entity:iPhone OR entity:Mac OR airpod OR macbook lang:en -is:retweet\", \"tag\": \"Apple\"}], \"meta\": {\"sent\": \"2021-01-15T21:14:28.219Z\"}}\n",
      "{\"meta\": {\"sent\": \"2021-01-15T21:14:29.597Z\", \"summary\": {\"deleted\": 2, \"not_deleted\": 0}}}\n",
      "{\"data\": [{\"value\": \"entity:Microsoft OR Azure OR entity:Excel OR powerpoint OR entity:Teams OR entity:Surface lang:en -is:retweet\", \"tag\": \"Microsoft\", \"id\": \"1350189638284169219\"}, {\"value\": \"entity:Apple OR entity:iPad OR entity:iPhone OR entity:Mac OR airpod OR macbook lang:en -is:retweet\", \"tag\": \"Apple\", \"id\": \"1350189638284169220\"}], \"meta\": {\"sent\": \"2021-01-15T21:14:31.155Z\", \"summary\": {\"created\": 2, \"not_created\": 0, \"valid\": 2, \"invalid\": 0}}}\n",
      "200\n",
      "dict_keys(['id', 'text', 'created_at', 'author_id']) [{'id': 1350189638284169219, 'tag': 'Microsoft'}]\n",
      "The Looney Left is developing the Mark of the Beast. Microsoft, Salesforce, Oracle Join Hands To Develop COVID-19 Vaccine Passports $AAPL $CRM $GOOG https://t.co/l1jZ6hwbNM via @benzinga 2021-01-15T21:14:21.000Z 1350189603509121025 1331293137843728384 Microsoft\n"
     ]
    }
   ],
   "source": [
    "a = main()"
   ]
  },
  {
   "cell_type": "code",
   "execution_count": 36,
   "metadata": {
    "ExecuteTime": {
     "end_time": "2021-01-15T21:20:09.215784Z",
     "start_time": "2021-01-15T21:20:09.211854Z"
    }
   },
   "outputs": [
    {
     "data": {
      "text/plain": [
       "NoneType"
      ]
     },
     "execution_count": 36,
     "metadata": {},
     "output_type": "execute_result"
    }
   ],
   "source": [
    "type(a)"
   ]
  },
  {
   "cell_type": "code",
   "execution_count": 89,
   "metadata": {
    "ExecuteTime": {
     "end_time": "2021-01-15T22:28:21.190884Z",
     "start_time": "2021-01-15T22:28:21.184455Z"
    }
   },
   "outputs": [
    {
     "data": {
      "text/plain": [
       "datetime.datetime(2021, 1, 15, 21, 14, 21)"
      ]
     },
     "execution_count": 89,
     "metadata": {},
     "output_type": "execute_result"
    }
   ],
   "source": [
    "datetime.strptime('2021-01-15T21:14:21.000 UTC', \"%Y-%m-%dT%H:%M:%S.%f %Z\")"
   ]
  },
  {
   "cell_type": "code",
   "execution_count": 93,
   "metadata": {
    "ExecuteTime": {
     "end_time": "2021-01-15T22:30:03.267134Z",
     "start_time": "2021-01-15T22:30:03.262360Z"
    }
   },
   "outputs": [
    {
     "data": {
      "text/plain": [
       "1610763261.0"
      ]
     },
     "execution_count": 93,
     "metadata": {},
     "output_type": "execute_result"
    }
   ],
   "source": [
    "datetime.strptime('2021-01-15T21:14:21.000Z', \"%Y-%m-%dT%H:%M:%S.%fZ\").timestamp()"
   ]
  },
  {
   "cell_type": "code",
   "execution_count": 2,
   "metadata": {
    "ExecuteTime": {
     "end_time": "2021-01-19T03:00:14.367383Z",
     "start_time": "2021-01-19T03:00:14.363427Z"
    }
   },
   "outputs": [],
   "source": [
    "from datetime import datetime"
   ]
  },
  {
   "cell_type": "code",
   "execution_count": 3,
   "metadata": {
    "ExecuteTime": {
     "end_time": "2021-01-19T03:00:14.782166Z",
     "start_time": "2021-01-19T03:00:14.769838Z"
    }
   },
   "outputs": [
    {
     "data": {
      "text/plain": [
       "('EST', 'EDT')"
      ]
     },
     "execution_count": 3,
     "metadata": {},
     "output_type": "execute_result"
    }
   ],
   "source": [
    "import time\n",
    "time.tzname"
   ]
  },
  {
   "cell_type": "code",
   "execution_count": 1,
   "metadata": {
    "ExecuteTime": {
     "end_time": "2021-01-19T03:00:10.529023Z",
     "start_time": "2021-01-19T03:00:10.008210Z"
    }
   },
   "outputs": [],
   "source": [
    "import pandas as pd"
   ]
  },
  {
   "cell_type": "code",
   "execution_count": 109,
   "metadata": {
    "ExecuteTime": {
     "end_time": "2021-01-15T23:02:31.894354Z",
     "start_time": "2021-01-15T23:02:31.874085Z"
    }
   },
   "outputs": [
    {
     "ename": "AttributeError",
     "evalue": "module 'datetime' has no attribute 'now'",
     "output_type": "error",
     "traceback": [
      "\u001b[0;31m---------------------------------------------------------------------------\u001b[0m",
      "\u001b[0;31mAttributeError\u001b[0m                            Traceback (most recent call last)",
      "\u001b[0;32m<ipython-input-109-303321cc44a3>\u001b[0m in \u001b[0;36m<module>\u001b[0;34m\u001b[0m\n\u001b[0;32m----> 1\u001b[0;31m \u001b[0mdatetime\u001b[0m\u001b[0;34m.\u001b[0m\u001b[0mnow\u001b[0m\u001b[0;34m(\u001b[0m\u001b[0;34m)\u001b[0m\u001b[0;34m\u001b[0m\u001b[0;34m\u001b[0m\u001b[0m\n\u001b[0m",
      "\u001b[0;31mAttributeError\u001b[0m: module 'datetime' has no attribute 'now'"
     ]
    }
   ],
   "source": [
    "datetime.now()"
   ]
  },
  {
   "cell_type": "code",
   "execution_count": 113,
   "metadata": {
    "ExecuteTime": {
     "end_time": "2021-01-15T23:02:36.894579Z",
     "start_time": "2021-01-15T23:02:36.890083Z"
    }
   },
   "outputs": [
    {
     "data": {
      "text/plain": [
       "1610751756.89121"
      ]
     },
     "execution_count": 113,
     "metadata": {},
     "output_type": "execute_result"
    }
   ],
   "source": [
    "t = datetime.timestamp(datetime.now())\n",
    "t"
   ]
  },
  {
   "cell_type": "code",
   "execution_count": 114,
   "metadata": {
    "ExecuteTime": {
     "end_time": "2021-01-15T23:02:37.126123Z",
     "start_time": "2021-01-15T23:02:37.118797Z"
    }
   },
   "outputs": [
    {
     "data": {
      "text/plain": [
       "Timestamp('2021-01-15 21:14:21')"
      ]
     },
     "execution_count": 114,
     "metadata": {},
     "output_type": "execute_result"
    }
   ],
   "source": [
    "pd.to_datetime(datetime.fromtimestamp(1610763261.0))"
   ]
  },
  {
   "cell_type": "code",
   "execution_count": 94,
   "metadata": {
    "ExecuteTime": {
     "end_time": "2021-01-15T22:30:11.160422Z",
     "start_time": "2021-01-15T22:30:11.155832Z"
    }
   },
   "outputs": [
    {
     "data": {
      "text/plain": [
       "Timestamp('2021-01-16 02:14:21')"
      ]
     },
     "execution_count": 94,
     "metadata": {},
     "output_type": "execute_result"
    }
   ],
   "source": [
    "pd.to_datetime(1610763261.0, unit='s')"
   ]
  },
  {
   "cell_type": "code",
   "execution_count": 15,
   "metadata": {
    "ExecuteTime": {
     "end_time": "2021-01-19T03:15:57.231798Z",
     "start_time": "2021-01-19T03:15:23.469853Z"
    }
   },
   "outputs": [
    {
     "name": "stderr",
     "output_type": "stream",
     "text": [
      "WARNING: Logging before flag parsing goes to stderr.\n",
      "W0118 22:15:37.185989 4797619712 core.py:204] In /opt/anaconda3/envs/learn-env/lib/python3.6/site-packages/matplotlib/mpl-data/stylelib/_classic_test.mplstyle: \n",
      "The text.latex.preview rcparam was deprecated in Matplotlib 3.3 and will be removed two minor releases later.\n",
      "W0118 22:15:37.187672 4797619712 core.py:204] In /opt/anaconda3/envs/learn-env/lib/python3.6/site-packages/matplotlib/mpl-data/stylelib/_classic_test.mplstyle: \n",
      "The mathtext.fallback_to_cm rcparam was deprecated in Matplotlib 3.3 and will be removed two minor releases later.\n",
      "W0118 22:15:37.188516 4797619712 core.py:204] In /opt/anaconda3/envs/learn-env/lib/python3.6/site-packages/matplotlib/mpl-data/stylelib/_classic_test.mplstyle: Support for setting the 'mathtext.fallback_to_cm' rcParam is deprecated since 3.3 and will be removed two minor releases later; use 'mathtext.fallback : 'cm' instead.\n",
      "W0118 22:15:37.189178 4797619712 core.py:204] In /opt/anaconda3/envs/learn-env/lib/python3.6/site-packages/matplotlib/mpl-data/stylelib/_classic_test.mplstyle: \n",
      "The validate_bool_maybe_none function was deprecated in Matplotlib 3.3 and will be removed two minor releases later.\n",
      "W0118 22:15:37.189939 4797619712 core.py:204] In /opt/anaconda3/envs/learn-env/lib/python3.6/site-packages/matplotlib/mpl-data/stylelib/_classic_test.mplstyle: \n",
      "The savefig.jpeg_quality rcparam was deprecated in Matplotlib 3.3 and will be removed two minor releases later.\n",
      "W0118 22:15:37.190560 4797619712 core.py:204] In /opt/anaconda3/envs/learn-env/lib/python3.6/site-packages/matplotlib/mpl-data/stylelib/_classic_test.mplstyle: \n",
      "The keymap.all_axes rcparam was deprecated in Matplotlib 3.3 and will be removed two minor releases later.\n",
      "W0118 22:15:37.191206 4797619712 core.py:204] In /opt/anaconda3/envs/learn-env/lib/python3.6/site-packages/matplotlib/mpl-data/stylelib/_classic_test.mplstyle: \n",
      "The animation.avconv_path rcparam was deprecated in Matplotlib 3.3 and will be removed two minor releases later.\n",
      "W0118 22:15:37.192112 4797619712 core.py:204] In /opt/anaconda3/envs/learn-env/lib/python3.6/site-packages/matplotlib/mpl-data/stylelib/_classic_test.mplstyle: \n",
      "The animation.avconv_args rcparam was deprecated in Matplotlib 3.3 and will be removed two minor releases later.\n"
     ]
    }
   ],
   "source": [
    "import sqlite3\n",
    "\n",
    "import re\n",
    "import spacy\n",
    "nlp = spacy.load('en_core_web_lg')\n",
    "import ktrain\n",
    "import datetime\n",
    "\n",
    "# Load BERT model\n",
    "MODEL_PATH = 'models/BERT_2'\n",
    "predictor = ktrain.load_predictor(MODEL_PATH)"
   ]
  },
  {
   "cell_type": "code",
   "execution_count": 1,
   "metadata": {
    "ExecuteTime": {
     "end_time": "2021-02-17T16:33:02.083575Z",
     "start_time": "2021-02-17T16:33:02.073030Z"
    }
   },
   "outputs": [
    {
     "data": {
      "text/plain": [
       "'20210217'"
      ]
     },
     "execution_count": 1,
     "metadata": {},
     "output_type": "execute_result"
    }
   ],
   "source": [
    "import sqlite3\n",
    "import datetime\n",
    "# Timestamp for today's date\n",
    "TIMESTAMP = str(datetime.date.today()).replace('-','')\n",
    "TIMESTAMP"
   ]
  },
  {
   "cell_type": "code",
   "execution_count": 3,
   "metadata": {
    "ExecuteTime": {
     "end_time": "2021-02-17T16:33:52.622427Z",
     "start_time": "2021-02-17T16:33:52.618323Z"
    }
   },
   "outputs": [],
   "source": [
    "# streamer = twitter_stream.streamTwitter([], TIMESTAMP)\n",
    "\n",
    "### SQL Connection ###\n",
    "conn = sqlite3.connect(f'data/twitter_{TIMESTAMP}_v2.db', check_same_thread=False, timeout=25)\n",
    "c = conn.cursor()"
   ]
  },
  {
   "cell_type": "code",
   "execution_count": 5,
   "metadata": {
    "ExecuteTime": {
     "end_time": "2021-02-17T16:34:09.121029Z",
     "start_time": "2021-02-17T16:34:09.114311Z"
    }
   },
   "outputs": [
    {
     "data": {
      "text/plain": [
       "[(1613597432000.0,\n",
       "  '1362076978728345615',\n",
       "  '3882884975',\n",
       "  'United Way of the Mohawk Valley has Take and Make meal boxes that will be given away through three distribution days. City of Utica residents in need can sign-up now to reserve their meal box, containing 5 meals for a family of 5 by visiting: https://t.co/oDGJXFyYz7',\n",
       "  'United',\n",
       "  0.4215),\n",
       " (1613597438000.0,\n",
       "  '1362077003080491017',\n",
       "  '1145359310920306689',\n",
       "  '@AniUTD @midwingba @NotoriousManc How is what you’ve just said not the same thing as saying “those who are Ole in are not United fans”?',\n",
       "  'United',\n",
       "  -0.3252),\n",
       " (1613597439000.0,\n",
       "  '1362077009107685377',\n",
       "  '101248683',\n",
       "  \"Football twitter is the worst. If Henry had played for United, he'd have been better than Maradona and on par with Ronaldo. People on here are so biased and agenda driven. https://t.co/HVlZZ6MT2P\",\n",
       "  'United',\n",
       "  0.0667),\n",
       " (1613597443000.0,\n",
       "  '1362077022718218240',\n",
       "  '419112498',\n",
       "  '@notseanv3 I watch nearly every United game dfkm',\n",
       "  'United',\n",
       "  0.4215),\n",
       " (1613597449000.0,\n",
       "  '1362077051533025280',\n",
       "  '1324386429569564674',\n",
       "  '@inside7__ United tax innit',\n",
       "  'United',\n",
       "  0.4215)]"
      ]
     },
     "execution_count": 5,
     "metadata": {},
     "output_type": "execute_result"
    }
   ],
   "source": [
    "c.execute(\"SELECT * FROM sentiment\").fetchall()"
   ]
  },
  {
   "cell_type": "code",
   "execution_count": 55,
   "metadata": {
    "ExecuteTime": {
     "end_time": "2021-01-19T04:52:38.341989Z",
     "start_time": "2021-01-19T04:52:38.322827Z"
    }
   },
   "outputs": [],
   "source": [
    "# SQL Database\n",
    "def create_table(cursor, conn):\n",
    "    cursor.execute(\"CREATE TABLE IF NOT EXISTS flagged(id TEXT, tweet TEXT, vader REAL, bert REAL, mood TEXT, sentiment REAL)\")\n",
    "    conn.commit()\n",
    "\n",
    "def create_clean_table(cursor, conn):\n",
    "    cursor.execute(\"CREATE TABLE IF NOT EXISTS clean(unix REAL, id TEXT, clean TEXT)\")\n",
    "    conn.commit()\n",
    "create_clean_table(c, conn)"
   ]
  },
  {
   "cell_type": "code",
   "execution_count": 40,
   "metadata": {
    "ExecuteTime": {
     "end_time": "2021-01-19T03:35:22.420458Z",
     "start_time": "2021-01-19T03:35:22.410479Z"
    }
   },
   "outputs": [],
   "source": [
    "c.execute(\"DROP TABLE flagged\")\n",
    "conn.commit()"
   ]
  },
  {
   "cell_type": "code",
   "execution_count": 130,
   "metadata": {
    "ExecuteTime": {
     "end_time": "2021-01-19T08:11:54.081211Z",
     "start_time": "2021-01-19T08:11:54.054981Z"
    }
   },
   "outputs": [],
   "source": [
    "### spaCy tokenizer ###\n",
    "def clean_text(text, stopwords=False, tweet=True):\n",
    "    \"\"\"\n",
    "    Cleans and tokenizes tweet text data.\n",
    "    Args:\n",
    "        text (str): tweet text data\n",
    "        \n",
    "        stopwords (bool): True if stopwords needs to be removed\n",
    "        \n",
    "        tweet (bool): True if text data are tweets.\n",
    "    \n",
    "    Returns:\n",
    "        tokens (array): Array of tokenized words from given text.\n",
    "    \"\"\"\n",
    "\n",
    "    if tweet:\n",
    "        text = re.sub(r'@\\S+', '', text) # Gets rid of any mentions\n",
    "#         text = re.sub(r'RT\\S+', '', text) # Gets rid of any retweets\n",
    "        text = re.sub(r'#', '', text) # Gets rid of hashtag sign\n",
    "        text = re.sub(r'https?:\\/\\/\\S+', '', text) # Gets rid of any links\n",
    "#         text = re.sub(r'[0-9]+.?[0-9]+', '', text) # Gets rid of X.X where X are numbers\n",
    "        text = re.sub(r'(&quot;|&Quot;)', '', text) # Gets rid of quotes    \n",
    "        text = re.sub(r'(&amp;|&Amp;)', '', text) # Gets rid of quotes\n",
    "        text = re.sub(r'link', '', text) # Gets rid of quotes\n",
    "    doc = nlp(text)\n",
    "\n",
    "    tokens = []\n",
    "    for token in doc:\n",
    "        if token.lemma_ != '-PRON-': # if token is not a pronoun\n",
    "            temp_token = token.lemma_.lower().strip()\n",
    "        else:\n",
    "            temp_token = token.lower_\n",
    "        tokens.append(temp_token)\n",
    "    \n",
    "    if stopwords:\n",
    "        # tokens_stopped = [token for token in tokens if token not in stopwords_list and len(token)>2]\n",
    "        pass\n",
    "    else:\n",
    "        tokens_stopped = [token for token in tokens if len(token)>2]\n",
    "    c.update(tokens_stopped)\n",
    "    return ' '.join(tokens_stopped)\n"
   ]
  },
  {
   "cell_type": "code",
   "execution_count": 131,
   "metadata": {
    "ExecuteTime": {
     "end_time": "2021-01-19T08:12:13.278158Z",
     "start_time": "2021-01-19T08:12:13.065600Z"
    }
   },
   "outputs": [
    {
     "data": {
      "text/plain": [
       "'cat cat dog dog fish fish'"
      ]
     },
     "execution_count": 131,
     "metadata": {},
     "output_type": "execute_result"
    }
   ],
   "source": [
    "clean_text('cat cats dog dogs fish fishes')"
   ]
  },
  {
   "cell_type": "code",
   "execution_count": 132,
   "metadata": {
    "ExecuteTime": {
     "end_time": "2021-01-19T08:12:18.736736Z",
     "start_time": "2021-01-19T08:12:18.722105Z"
    }
   },
   "outputs": [
    {
     "data": {
      "text/plain": [
       "Counter({'a': 1, 'b': 1, 'cat': 2, 'dog': 2, 'fish': 2})"
      ]
     },
     "execution_count": 132,
     "metadata": {},
     "output_type": "execute_result"
    }
   ],
   "source": [
    "c"
   ]
  },
  {
   "cell_type": "code",
   "execution_count": 25,
   "metadata": {
    "ExecuteTime": {
     "end_time": "2021-01-19T03:23:14.478123Z",
     "start_time": "2021-01-19T03:23:14.475224Z"
    }
   },
   "outputs": [],
   "source": [
    "clean_time = datetime.datetime.timestamp(datetime.datetime.now())*1000\n",
    "analyze_time = clean_time"
   ]
  },
  {
   "cell_type": "code",
   "execution_count": 29,
   "metadata": {
    "ExecuteTime": {
     "end_time": "2021-01-19T03:25:18.026314Z",
     "start_time": "2021-01-19T03:24:59.495624Z"
    }
   },
   "outputs": [
    {
     "name": "stdout",
     "output_type": "stream",
     "text": [
      "There are 20 new tweets!\n"
     ]
    },
    {
     "data": {
      "text/html": [],
      "text/plain": [
       "<IPython.core.display.HTML object>"
      ]
     },
     "metadata": {},
     "output_type": "display_data"
    },
    {
     "name": "stdout",
     "output_type": "stream",
     "text": [
      "There are 2 new tweets!\n"
     ]
    },
    {
     "name": "stderr",
     "output_type": "stream",
     "text": [
      "/opt/anaconda3/envs/learn-env/lib/python3.6/site-packages/ktrain/text/preprocessor.py:209: UserWarning: List or array of two texts supplied, so task being treated as text classification. If this is a sentence pair classification task, please cast to tuple.\n",
      "  'If this is a sentence pair classification task, please cast to tuple.')\n"
     ]
    },
    {
     "data": {
      "text/html": [],
      "text/plain": [
       "<IPython.core.display.HTML object>"
      ]
     },
     "metadata": {},
     "output_type": "display_data"
    },
    {
     "ename": "KeyboardInterrupt",
     "evalue": "",
     "output_type": "error",
     "traceback": [
      "\u001b[0;31m---------------------------------------------------------------------------\u001b[0m",
      "\u001b[0;31mKeyboardInterrupt\u001b[0m                         Traceback (most recent call last)",
      "\u001b[0;32m<ipython-input-29-9a763db53888>\u001b[0m in \u001b[0;36m<module>\u001b[0;34m\u001b[0m\n\u001b[1;32m     14\u001b[0m         \u001b[0mnew_df\u001b[0m\u001b[0;34m[\u001b[0m\u001b[0;34m'VADER'\u001b[0m\u001b[0;34m]\u001b[0m \u001b[0;34m=\u001b[0m \u001b[0mtemp_df\u001b[0m\u001b[0;34m[\u001b[0m\u001b[0;34m'sentiment'\u001b[0m\u001b[0;34m]\u001b[0m\u001b[0;34m\u001b[0m\u001b[0;34m\u001b[0m\u001b[0m\n\u001b[1;32m     15\u001b[0m \u001b[0;34m\u001b[0m\u001b[0m\n\u001b[0;32m---> 16\u001b[0;31m         \u001b[0mproba\u001b[0m \u001b[0;34m=\u001b[0m \u001b[0mpredictor\u001b[0m\u001b[0;34m.\u001b[0m\u001b[0mpredict_proba\u001b[0m\u001b[0;34m(\u001b[0m\u001b[0mlist\u001b[0m\u001b[0;34m(\u001b[0m\u001b[0mnew_df\u001b[0m\u001b[0;34m[\u001b[0m\u001b[0;34m'clean'\u001b[0m\u001b[0;34m]\u001b[0m\u001b[0;34m)\u001b[0m\u001b[0;34m)\u001b[0m\u001b[0;34m\u001b[0m\u001b[0;34m\u001b[0m\u001b[0m\n\u001b[0m\u001b[1;32m     17\u001b[0m \u001b[0;34m\u001b[0m\u001b[0m\n\u001b[1;32m     18\u001b[0m         \u001b[0mbert\u001b[0m \u001b[0;34m=\u001b[0m \u001b[0;34m[\u001b[0m\u001b[0;34m]\u001b[0m\u001b[0;34m\u001b[0m\u001b[0;34m\u001b[0m\u001b[0m\n",
      "\u001b[0;32m/opt/anaconda3/envs/learn-env/lib/python3.6/site-packages/ktrain/text/predictor.py\u001b[0m in \u001b[0;36mpredict_proba\u001b[0;34m(self, texts)\u001b[0m\n\u001b[1;32m     82\u001b[0m         \u001b[0mReturns\u001b[0m \u001b[0mprobabilities\u001b[0m \u001b[0mof\u001b[0m \u001b[0meach\u001b[0m \u001b[0;32mclass\u001b[0m\u001b[0;34m.\u001b[0m\u001b[0;34m\u001b[0m\u001b[0;34m\u001b[0m\u001b[0m\n\u001b[1;32m     83\u001b[0m         \"\"\"\n\u001b[0;32m---> 84\u001b[0;31m         \u001b[0;32mreturn\u001b[0m \u001b[0mself\u001b[0m\u001b[0;34m.\u001b[0m\u001b[0mpredict\u001b[0m\u001b[0;34m(\u001b[0m\u001b[0mtexts\u001b[0m\u001b[0;34m,\u001b[0m \u001b[0mreturn_proba\u001b[0m\u001b[0;34m=\u001b[0m\u001b[0;32mTrue\u001b[0m\u001b[0;34m)\u001b[0m\u001b[0;34m\u001b[0m\u001b[0;34m\u001b[0m\u001b[0m\n\u001b[0m\u001b[1;32m     85\u001b[0m \u001b[0;34m\u001b[0m\u001b[0m\n\u001b[1;32m     86\u001b[0m \u001b[0;34m\u001b[0m\u001b[0m\n",
      "\u001b[0;32m/opt/anaconda3/envs/learn-env/lib/python3.6/site-packages/ktrain/text/predictor.py\u001b[0m in \u001b[0;36mpredict\u001b[0;34m(self, texts, return_proba)\u001b[0m\n\u001b[1;32m     56\u001b[0m         \u001b[0;32melse\u001b[0m\u001b[0;34m:\u001b[0m\u001b[0;34m\u001b[0m\u001b[0;34m\u001b[0m\u001b[0m\n\u001b[1;32m     57\u001b[0m             \u001b[0mtexts\u001b[0m \u001b[0;34m=\u001b[0m \u001b[0mself\u001b[0m\u001b[0;34m.\u001b[0m\u001b[0mpreproc\u001b[0m\u001b[0;34m.\u001b[0m\u001b[0mpreprocess\u001b[0m\u001b[0;34m(\u001b[0m\u001b[0mtexts\u001b[0m\u001b[0;34m)\u001b[0m\u001b[0;34m\u001b[0m\u001b[0;34m\u001b[0m\u001b[0m\n\u001b[0;32m---> 58\u001b[0;31m             \u001b[0mpreds\u001b[0m \u001b[0;34m=\u001b[0m \u001b[0mself\u001b[0m\u001b[0;34m.\u001b[0m\u001b[0mmodel\u001b[0m\u001b[0;34m.\u001b[0m\u001b[0mpredict\u001b[0m\u001b[0;34m(\u001b[0m\u001b[0mtexts\u001b[0m\u001b[0;34m,\u001b[0m \u001b[0mbatch_size\u001b[0m\u001b[0;34m=\u001b[0m\u001b[0mself\u001b[0m\u001b[0;34m.\u001b[0m\u001b[0mbatch_size\u001b[0m\u001b[0;34m)\u001b[0m\u001b[0;34m\u001b[0m\u001b[0;34m\u001b[0m\u001b[0m\n\u001b[0m\u001b[1;32m     59\u001b[0m \u001b[0;34m\u001b[0m\u001b[0m\n\u001b[1;32m     60\u001b[0m         \u001b[0;31m# process predictions\u001b[0m\u001b[0;34m\u001b[0m\u001b[0;34m\u001b[0m\u001b[0;34m\u001b[0m\u001b[0m\n",
      "\u001b[0;32m/opt/anaconda3/envs/learn-env/lib/python3.6/site-packages/tensorflow/python/keras/engine/training.py\u001b[0m in \u001b[0;36m_method_wrapper\u001b[0;34m(self, *args, **kwargs)\u001b[0m\n\u001b[1;32m    128\u001b[0m       raise ValueError('{} is not supported in multi-worker mode.'.format(\n\u001b[1;32m    129\u001b[0m           method.__name__))\n\u001b[0;32m--> 130\u001b[0;31m     \u001b[0;32mreturn\u001b[0m \u001b[0mmethod\u001b[0m\u001b[0;34m(\u001b[0m\u001b[0mself\u001b[0m\u001b[0;34m,\u001b[0m \u001b[0;34m*\u001b[0m\u001b[0margs\u001b[0m\u001b[0;34m,\u001b[0m \u001b[0;34m**\u001b[0m\u001b[0mkwargs\u001b[0m\u001b[0;34m)\u001b[0m\u001b[0;34m\u001b[0m\u001b[0;34m\u001b[0m\u001b[0m\n\u001b[0m\u001b[1;32m    131\u001b[0m \u001b[0;34m\u001b[0m\u001b[0m\n\u001b[1;32m    132\u001b[0m   return tf_decorator.make_decorator(\n",
      "\u001b[0;32m/opt/anaconda3/envs/learn-env/lib/python3.6/site-packages/tensorflow/python/keras/engine/training.py\u001b[0m in \u001b[0;36mpredict\u001b[0;34m(self, x, batch_size, verbose, steps, callbacks, max_queue_size, workers, use_multiprocessing)\u001b[0m\n\u001b[1;32m   1597\u001b[0m           \u001b[0;32mfor\u001b[0m \u001b[0mstep\u001b[0m \u001b[0;32min\u001b[0m \u001b[0mdata_handler\u001b[0m\u001b[0;34m.\u001b[0m\u001b[0msteps\u001b[0m\u001b[0;34m(\u001b[0m\u001b[0;34m)\u001b[0m\u001b[0;34m:\u001b[0m\u001b[0;34m\u001b[0m\u001b[0;34m\u001b[0m\u001b[0m\n\u001b[1;32m   1598\u001b[0m             \u001b[0mcallbacks\u001b[0m\u001b[0;34m.\u001b[0m\u001b[0mon_predict_batch_begin\u001b[0m\u001b[0;34m(\u001b[0m\u001b[0mstep\u001b[0m\u001b[0;34m)\u001b[0m\u001b[0;34m\u001b[0m\u001b[0;34m\u001b[0m\u001b[0m\n\u001b[0;32m-> 1599\u001b[0;31m             \u001b[0mtmp_batch_outputs\u001b[0m \u001b[0;34m=\u001b[0m \u001b[0mpredict_function\u001b[0m\u001b[0;34m(\u001b[0m\u001b[0miterator\u001b[0m\u001b[0;34m)\u001b[0m\u001b[0;34m\u001b[0m\u001b[0;34m\u001b[0m\u001b[0m\n\u001b[0m\u001b[1;32m   1600\u001b[0m             \u001b[0;32mif\u001b[0m \u001b[0mdata_handler\u001b[0m\u001b[0;34m.\u001b[0m\u001b[0mshould_sync\u001b[0m\u001b[0;34m:\u001b[0m\u001b[0;34m\u001b[0m\u001b[0;34m\u001b[0m\u001b[0m\n\u001b[1;32m   1601\u001b[0m               \u001b[0mcontext\u001b[0m\u001b[0;34m.\u001b[0m\u001b[0masync_wait\u001b[0m\u001b[0;34m(\u001b[0m\u001b[0;34m)\u001b[0m\u001b[0;34m\u001b[0m\u001b[0;34m\u001b[0m\u001b[0m\n",
      "\u001b[0;32m/opt/anaconda3/envs/learn-env/lib/python3.6/site-packages/tensorflow/python/eager/def_function.py\u001b[0m in \u001b[0;36m__call__\u001b[0;34m(self, *args, **kwds)\u001b[0m\n\u001b[1;32m    778\u001b[0m       \u001b[0;32melse\u001b[0m\u001b[0;34m:\u001b[0m\u001b[0;34m\u001b[0m\u001b[0;34m\u001b[0m\u001b[0m\n\u001b[1;32m    779\u001b[0m         \u001b[0mcompiler\u001b[0m \u001b[0;34m=\u001b[0m \u001b[0;34m\"nonXla\"\u001b[0m\u001b[0;34m\u001b[0m\u001b[0;34m\u001b[0m\u001b[0m\n\u001b[0;32m--> 780\u001b[0;31m         \u001b[0mresult\u001b[0m \u001b[0;34m=\u001b[0m \u001b[0mself\u001b[0m\u001b[0;34m.\u001b[0m\u001b[0m_call\u001b[0m\u001b[0;34m(\u001b[0m\u001b[0;34m*\u001b[0m\u001b[0margs\u001b[0m\u001b[0;34m,\u001b[0m \u001b[0;34m**\u001b[0m\u001b[0mkwds\u001b[0m\u001b[0;34m)\u001b[0m\u001b[0;34m\u001b[0m\u001b[0;34m\u001b[0m\u001b[0m\n\u001b[0m\u001b[1;32m    781\u001b[0m \u001b[0;34m\u001b[0m\u001b[0m\n\u001b[1;32m    782\u001b[0m       \u001b[0mnew_tracing_count\u001b[0m \u001b[0;34m=\u001b[0m \u001b[0mself\u001b[0m\u001b[0;34m.\u001b[0m\u001b[0m_get_tracing_count\u001b[0m\u001b[0;34m(\u001b[0m\u001b[0;34m)\u001b[0m\u001b[0;34m\u001b[0m\u001b[0;34m\u001b[0m\u001b[0m\n",
      "\u001b[0;32m/opt/anaconda3/envs/learn-env/lib/python3.6/site-packages/tensorflow/python/eager/def_function.py\u001b[0m in \u001b[0;36m_call\u001b[0;34m(self, *args, **kwds)\u001b[0m\n\u001b[1;32m    812\u001b[0m       \u001b[0;31m# In this case we have not created variables on the first call. So we can\u001b[0m\u001b[0;34m\u001b[0m\u001b[0;34m\u001b[0m\u001b[0;34m\u001b[0m\u001b[0m\n\u001b[1;32m    813\u001b[0m       \u001b[0;31m# run the first trace but we should fail if variables are created.\u001b[0m\u001b[0;34m\u001b[0m\u001b[0;34m\u001b[0m\u001b[0;34m\u001b[0m\u001b[0m\n\u001b[0;32m--> 814\u001b[0;31m       \u001b[0mresults\u001b[0m \u001b[0;34m=\u001b[0m \u001b[0mself\u001b[0m\u001b[0;34m.\u001b[0m\u001b[0m_stateful_fn\u001b[0m\u001b[0;34m(\u001b[0m\u001b[0;34m*\u001b[0m\u001b[0margs\u001b[0m\u001b[0;34m,\u001b[0m \u001b[0;34m**\u001b[0m\u001b[0mkwds\u001b[0m\u001b[0;34m)\u001b[0m\u001b[0;34m\u001b[0m\u001b[0;34m\u001b[0m\u001b[0m\n\u001b[0m\u001b[1;32m    815\u001b[0m       \u001b[0;32mif\u001b[0m \u001b[0mself\u001b[0m\u001b[0;34m.\u001b[0m\u001b[0m_created_variables\u001b[0m\u001b[0;34m:\u001b[0m\u001b[0;34m\u001b[0m\u001b[0;34m\u001b[0m\u001b[0m\n\u001b[1;32m    816\u001b[0m         raise ValueError(\"Creating variables on a non-first call to a function\"\n",
      "\u001b[0;32m/opt/anaconda3/envs/learn-env/lib/python3.6/site-packages/tensorflow/python/eager/function.py\u001b[0m in \u001b[0;36m__call__\u001b[0;34m(self, *args, **kwargs)\u001b[0m\n\u001b[1;32m   2827\u001b[0m     \u001b[0;32mwith\u001b[0m \u001b[0mself\u001b[0m\u001b[0;34m.\u001b[0m\u001b[0m_lock\u001b[0m\u001b[0;34m:\u001b[0m\u001b[0;34m\u001b[0m\u001b[0;34m\u001b[0m\u001b[0m\n\u001b[1;32m   2828\u001b[0m       \u001b[0mgraph_function\u001b[0m\u001b[0;34m,\u001b[0m \u001b[0margs\u001b[0m\u001b[0;34m,\u001b[0m \u001b[0mkwargs\u001b[0m \u001b[0;34m=\u001b[0m \u001b[0mself\u001b[0m\u001b[0;34m.\u001b[0m\u001b[0m_maybe_define_function\u001b[0m\u001b[0;34m(\u001b[0m\u001b[0margs\u001b[0m\u001b[0;34m,\u001b[0m \u001b[0mkwargs\u001b[0m\u001b[0;34m)\u001b[0m\u001b[0;34m\u001b[0m\u001b[0;34m\u001b[0m\u001b[0m\n\u001b[0;32m-> 2829\u001b[0;31m     \u001b[0;32mreturn\u001b[0m \u001b[0mgraph_function\u001b[0m\u001b[0;34m.\u001b[0m\u001b[0m_filtered_call\u001b[0m\u001b[0;34m(\u001b[0m\u001b[0margs\u001b[0m\u001b[0;34m,\u001b[0m \u001b[0mkwargs\u001b[0m\u001b[0;34m)\u001b[0m  \u001b[0;31m# pylint: disable=protected-access\u001b[0m\u001b[0;34m\u001b[0m\u001b[0;34m\u001b[0m\u001b[0m\n\u001b[0m\u001b[1;32m   2830\u001b[0m \u001b[0;34m\u001b[0m\u001b[0m\n\u001b[1;32m   2831\u001b[0m   \u001b[0;34m@\u001b[0m\u001b[0mproperty\u001b[0m\u001b[0;34m\u001b[0m\u001b[0;34m\u001b[0m\u001b[0m\n",
      "\u001b[0;32m/opt/anaconda3/envs/learn-env/lib/python3.6/site-packages/tensorflow/python/eager/function.py\u001b[0m in \u001b[0;36m_filtered_call\u001b[0;34m(self, args, kwargs, cancellation_manager)\u001b[0m\n\u001b[1;32m   1846\u001b[0m                            resource_variable_ops.BaseResourceVariable))],\n\u001b[1;32m   1847\u001b[0m         \u001b[0mcaptured_inputs\u001b[0m\u001b[0;34m=\u001b[0m\u001b[0mself\u001b[0m\u001b[0;34m.\u001b[0m\u001b[0mcaptured_inputs\u001b[0m\u001b[0;34m,\u001b[0m\u001b[0;34m\u001b[0m\u001b[0;34m\u001b[0m\u001b[0m\n\u001b[0;32m-> 1848\u001b[0;31m         cancellation_manager=cancellation_manager)\n\u001b[0m\u001b[1;32m   1849\u001b[0m \u001b[0;34m\u001b[0m\u001b[0m\n\u001b[1;32m   1850\u001b[0m   \u001b[0;32mdef\u001b[0m \u001b[0m_call_flat\u001b[0m\u001b[0;34m(\u001b[0m\u001b[0mself\u001b[0m\u001b[0;34m,\u001b[0m \u001b[0margs\u001b[0m\u001b[0;34m,\u001b[0m \u001b[0mcaptured_inputs\u001b[0m\u001b[0;34m,\u001b[0m \u001b[0mcancellation_manager\u001b[0m\u001b[0;34m=\u001b[0m\u001b[0;32mNone\u001b[0m\u001b[0;34m)\u001b[0m\u001b[0;34m:\u001b[0m\u001b[0;34m\u001b[0m\u001b[0;34m\u001b[0m\u001b[0m\n",
      "\u001b[0;32m/opt/anaconda3/envs/learn-env/lib/python3.6/site-packages/tensorflow/python/eager/function.py\u001b[0m in \u001b[0;36m_call_flat\u001b[0;34m(self, args, captured_inputs, cancellation_manager)\u001b[0m\n\u001b[1;32m   1922\u001b[0m       \u001b[0;31m# No tape is watching; skip to running the function.\u001b[0m\u001b[0;34m\u001b[0m\u001b[0;34m\u001b[0m\u001b[0;34m\u001b[0m\u001b[0m\n\u001b[1;32m   1923\u001b[0m       return self._build_call_outputs(self._inference_function.call(\n\u001b[0;32m-> 1924\u001b[0;31m           ctx, args, cancellation_manager=cancellation_manager))\n\u001b[0m\u001b[1;32m   1925\u001b[0m     forward_backward = self._select_forward_and_backward_functions(\n\u001b[1;32m   1926\u001b[0m         \u001b[0margs\u001b[0m\u001b[0;34m,\u001b[0m\u001b[0;34m\u001b[0m\u001b[0;34m\u001b[0m\u001b[0m\n",
      "\u001b[0;32m/opt/anaconda3/envs/learn-env/lib/python3.6/site-packages/tensorflow/python/eager/function.py\u001b[0m in \u001b[0;36mcall\u001b[0;34m(self, ctx, args, cancellation_manager)\u001b[0m\n\u001b[1;32m    548\u001b[0m               \u001b[0minputs\u001b[0m\u001b[0;34m=\u001b[0m\u001b[0margs\u001b[0m\u001b[0;34m,\u001b[0m\u001b[0;34m\u001b[0m\u001b[0;34m\u001b[0m\u001b[0m\n\u001b[1;32m    549\u001b[0m               \u001b[0mattrs\u001b[0m\u001b[0;34m=\u001b[0m\u001b[0mattrs\u001b[0m\u001b[0;34m,\u001b[0m\u001b[0;34m\u001b[0m\u001b[0;34m\u001b[0m\u001b[0m\n\u001b[0;32m--> 550\u001b[0;31m               ctx=ctx)\n\u001b[0m\u001b[1;32m    551\u001b[0m         \u001b[0;32melse\u001b[0m\u001b[0;34m:\u001b[0m\u001b[0;34m\u001b[0m\u001b[0;34m\u001b[0m\u001b[0m\n\u001b[1;32m    552\u001b[0m           outputs = execute.execute_with_cancellation(\n",
      "\u001b[0;32m/opt/anaconda3/envs/learn-env/lib/python3.6/site-packages/tensorflow/python/eager/execute.py\u001b[0m in \u001b[0;36mquick_execute\u001b[0;34m(op_name, num_outputs, inputs, attrs, ctx, name)\u001b[0m\n\u001b[1;32m     58\u001b[0m     \u001b[0mctx\u001b[0m\u001b[0;34m.\u001b[0m\u001b[0mensure_initialized\u001b[0m\u001b[0;34m(\u001b[0m\u001b[0;34m)\u001b[0m\u001b[0;34m\u001b[0m\u001b[0;34m\u001b[0m\u001b[0m\n\u001b[1;32m     59\u001b[0m     tensors = pywrap_tfe.TFE_Py_Execute(ctx._handle, device_name, op_name,\n\u001b[0;32m---> 60\u001b[0;31m                                         inputs, attrs, num_outputs)\n\u001b[0m\u001b[1;32m     61\u001b[0m   \u001b[0;32mexcept\u001b[0m \u001b[0mcore\u001b[0m\u001b[0;34m.\u001b[0m\u001b[0m_NotOkStatusException\u001b[0m \u001b[0;32mas\u001b[0m \u001b[0me\u001b[0m\u001b[0;34m:\u001b[0m\u001b[0;34m\u001b[0m\u001b[0;34m\u001b[0m\u001b[0m\n\u001b[1;32m     62\u001b[0m     \u001b[0;32mif\u001b[0m \u001b[0mname\u001b[0m \u001b[0;32mis\u001b[0m \u001b[0;32mnot\u001b[0m \u001b[0;32mNone\u001b[0m\u001b[0;34m:\u001b[0m\u001b[0;34m\u001b[0m\u001b[0;34m\u001b[0m\u001b[0m\n",
      "\u001b[0;31mKeyboardInterrupt\u001b[0m: "
     ]
    }
   ],
   "source": [
    "while 1:\n",
    "    clean_df = pd.read_sql(f\"\"\"SELECT * FROM sentiment \n",
    "                      WHERE unix > {clean_time} AND sentiment NOT BETWEEN -0.3 AND 0.3\n",
    "                      ORDER BY unix ASC\"\"\", conn)\n",
    "    print(f'There are {len(clean_df)} new tweets to clean!')\n",
    "    new_clean_df = pd.DataFrame(columns=['unix', 'id', 'clean'])\n",
    "    new_clean_df['unix'] = temp_df['unix']\n",
    "    new_clean_df['id'] = temp_df['id']\n",
    "    new_clean_df['clean'] = temp_df['tweet'].apply(clean_text)\n",
    "    \n",
    "    new_clean_df.to_sql('clean', conn, if_exists='append', index=False)\n",
    "    \n",
    "    clean_time = clean_df.iloc[-1]['unix']\n",
    "    \n",
    "    temp_df = pd.read_sql(f\"\"\"SELECT s.unix, s.id, s.sentiment, c.clean FROM sentiment s\n",
    "                              JOIN clean c\n",
    "                              ON s.id = c.id\n",
    "                              WHERE s.unix > {analyze_time} AND sentiment NOT BETWEEN -0.69 and 0.79\n",
    "                              ORDER BY s.unix ASC\"\"\", conn)\n",
    "    if len(temp_df) > 0:\n",
    "        print(f'There are {len(temp_df)} new tweets to analyze!')\n",
    "        analyze_time = temp_df.iloc[-1]['unix']\n",
    "        \n",
    "        new_df = pd.DataFrame(columns=['unix', 'id', 'clean', 'VADER', 'BERT', 'mood', 'sentiment'])\n",
    "        \n",
    "        new_df['clean'] = temp_df['clean']\n",
    "        new_df['unix'] = temp_df['unix']\n",
    "        new_df['id'] = temp_df['id']\n",
    "        new_df['VADER'] = temp_df['sentiment']\n",
    "\n",
    "        proba = predictor.predict_proba(list(new_df['clean']))\n",
    "\n",
    "        bert = []\n",
    "        mood = []\n",
    "        senti = []\n",
    "        for i, prob in enumerate(proba):\n",
    "            if prob[0] > prob[1]:\n",
    "                bert.append(prob[0])\n",
    "                if new_df['VADER'][i] < 0:\n",
    "                    senti.append(new_df['VADER'][i]*prob[0])\n",
    "                    mood.append('Negative')\n",
    "                else:\n",
    "                    senti.append(0)\n",
    "                    mood.append('?')\n",
    "            else:\n",
    "                bert.append(prob[1])\n",
    "                if new_df['VADER'][i] > 0:\n",
    "                    senti.append(new_df['VADER'][i]*prob[1])\n",
    "                    mood.append('Positive')\n",
    "                else:\n",
    "                    senti.append(0)\n",
    "                    mood.append('?')\n",
    "\n",
    "        new_df['BERT'] = bert\n",
    "        new_df['mood'] = mood\n",
    "        new_df['sentiment'] = senti\n",
    "        \n",
    "        new_df.to_sql('flagged', conn, if_exists='append', index=False)\n",
    "\n",
    "    else:\n",
    "        print('No new tweets.')\n",
    "    \n",
    "    "
   ]
  },
  {
   "cell_type": "code",
   "execution_count": 18,
   "metadata": {
    "ExecuteTime": {
     "end_time": "2021-01-19T03:17:12.699565Z",
     "start_time": "2021-01-19T03:17:12.676271Z"
    }
   },
   "outputs": [
    {
     "data": {
      "text/html": [
       "<div>\n",
       "<style scoped>\n",
       "    .dataframe tbody tr th:only-of-type {\n",
       "        vertical-align: middle;\n",
       "    }\n",
       "\n",
       "    .dataframe tbody tr th {\n",
       "        vertical-align: top;\n",
       "    }\n",
       "\n",
       "    .dataframe thead th {\n",
       "        text-align: right;\n",
       "    }\n",
       "</style>\n",
       "<table border=\"1\" class=\"dataframe\">\n",
       "  <thead>\n",
       "    <tr style=\"text-align: right;\">\n",
       "      <th></th>\n",
       "      <th>unix</th>\n",
       "      <th>id</th>\n",
       "      <th>clean</th>\n",
       "      <th>VADER</th>\n",
       "      <th>BERT</th>\n",
       "      <th>sentiment</th>\n",
       "      <th>score</th>\n",
       "    </tr>\n",
       "  </thead>\n",
       "  <tbody>\n",
       "    <tr>\n",
       "      <th>0</th>\n",
       "      <td>1.611026e+12</td>\n",
       "      <td>1351367952126382084</td>\n",
       "      <td>we’re apple pod now make sure like share rate ...</td>\n",
       "      <td>0.9039</td>\n",
       "      <td>NaN</td>\n",
       "      <td>NaN</td>\n",
       "      <td>NaN</td>\n",
       "    </tr>\n",
       "  </tbody>\n",
       "</table>\n",
       "</div>"
      ],
      "text/plain": [
       "           unix                   id  \\\n",
       "0  1.611026e+12  1351367952126382084   \n",
       "\n",
       "                                               clean   VADER BERT sentiment  \\\n",
       "0  we’re apple pod now make sure like share rate ...  0.9039  NaN       NaN   \n",
       "\n",
       "  score  \n",
       "0   NaN  "
      ]
     },
     "execution_count": 18,
     "metadata": {},
     "output_type": "execute_result"
    }
   ],
   "source": [
    "temp_df.to_sql('flagged', conn, if)"
   ]
  },
  {
   "cell_type": "code",
   "execution_count": 57,
   "metadata": {
    "ExecuteTime": {
     "end_time": "2021-01-19T05:23:14.006043Z",
     "start_time": "2021-01-19T05:23:13.836062Z"
    }
   },
   "outputs": [
    {
     "data": {
      "text/html": [
       "<div>\n",
       "<style scoped>\n",
       "    .dataframe tbody tr th:only-of-type {\n",
       "        vertical-align: middle;\n",
       "    }\n",
       "\n",
       "    .dataframe tbody tr th {\n",
       "        vertical-align: top;\n",
       "    }\n",
       "\n",
       "    .dataframe thead th {\n",
       "        text-align: right;\n",
       "    }\n",
       "</style>\n",
       "<table border=\"1\" class=\"dataframe\">\n",
       "  <thead>\n",
       "    <tr style=\"text-align: right;\">\n",
       "      <th></th>\n",
       "      <th>unix</th>\n",
       "      <th>id</th>\n",
       "      <th>clean</th>\n",
       "      <th>vader</th>\n",
       "      <th>bert</th>\n",
       "      <th>mood</th>\n",
       "      <th>sentiment</th>\n",
       "    </tr>\n",
       "  </thead>\n",
       "  <tbody>\n",
       "    <tr>\n",
       "      <th>0</th>\n",
       "      <td>1.611027e+12</td>\n",
       "      <td>1351372833218310145</td>\n",
       "      <td>this shit ugly</td>\n",
       "      <td>-0.7845</td>\n",
       "      <td>0.999300</td>\n",
       "      <td>Negative</td>\n",
       "      <td>-0.783951</td>\n",
       "    </tr>\n",
       "    <tr>\n",
       "      <th>1</th>\n",
       "      <td>1.611027e+12</td>\n",
       "      <td>1351372845117566977</td>\n",
       "      <td>here how many job biden propose minimum wage c...</td>\n",
       "      <td>-0.6908</td>\n",
       "      <td>0.967845</td>\n",
       "      <td>Negative</td>\n",
       "      <td>-0.668588</td>\n",
       "    </tr>\n",
       "    <tr>\n",
       "      <th>2</th>\n",
       "      <td>1.611027e+12</td>\n",
       "      <td>1351372870539210752</td>\n",
       "      <td>choose gab during the exodus like marry the go...</td>\n",
       "      <td>0.8176</td>\n",
       "      <td>0.999182</td>\n",
       "      <td>Positive</td>\n",
       "      <td>0.816931</td>\n",
       "    </tr>\n",
       "    <tr>\n",
       "      <th>3</th>\n",
       "      <td>1.611027e+12</td>\n",
       "      <td>1351372884493611010</td>\n",
       "      <td>yooo not kno snappin like this straight</td>\n",
       "      <td>-0.7756</td>\n",
       "      <td>0.885258</td>\n",
       "      <td>Negative</td>\n",
       "      <td>-0.686606</td>\n",
       "    </tr>\n",
       "    <tr>\n",
       "      <th>4</th>\n",
       "      <td>1.611027e+12</td>\n",
       "      <td>1351372899551227904</td>\n",
       "      <td>good song ever gay cowboy song for the win</td>\n",
       "      <td>0.8402</td>\n",
       "      <td>0.999658</td>\n",
       "      <td>Positive</td>\n",
       "      <td>0.839913</td>\n",
       "    </tr>\n",
       "    <tr>\n",
       "      <th>...</th>\n",
       "      <td>...</td>\n",
       "      <td>...</td>\n",
       "      <td>...</td>\n",
       "      <td>...</td>\n",
       "      <td>...</td>\n",
       "      <td>...</td>\n",
       "      <td>...</td>\n",
       "    </tr>\n",
       "    <tr>\n",
       "      <th>1611</th>\n",
       "      <td>1.611034e+12</td>\n",
       "      <td>1351399162315620352</td>\n",
       "      <td>dude look him google and just start tear sad</td>\n",
       "      <td>-0.7798</td>\n",
       "      <td>0.999683</td>\n",
       "      <td>Negative</td>\n",
       "      <td>-0.779553</td>\n",
       "    </tr>\n",
       "    <tr>\n",
       "      <th>1612</th>\n",
       "      <td>1.611034e+12</td>\n",
       "      <td>1351399166258401280</td>\n",
       "      <td>honestly make the good playlist apple music wi...</td>\n",
       "      <td>0.8176</td>\n",
       "      <td>0.999688</td>\n",
       "      <td>Positive</td>\n",
       "      <td>0.817345</td>\n",
       "    </tr>\n",
       "    <tr>\n",
       "      <th>1613</th>\n",
       "      <td>1.611034e+12</td>\n",
       "      <td>1351399175552970755</td>\n",
       "      <td>nowplaying the great dy'jahthe great</td>\n",
       "      <td>0.8555</td>\n",
       "      <td>0.999683</td>\n",
       "      <td>Positive</td>\n",
       "      <td>0.855228</td>\n",
       "    </tr>\n",
       "    <tr>\n",
       "      <th>1614</th>\n",
       "      <td>1.611034e+12</td>\n",
       "      <td>1351399186856554497</td>\n",
       "      <td>this love baby deserve home not death</td>\n",
       "      <td>0.7933</td>\n",
       "      <td>0.847237</td>\n",
       "      <td>Positive</td>\n",
       "      <td>0.672113</td>\n",
       "    </tr>\n",
       "    <tr>\n",
       "      <th>1615</th>\n",
       "      <td>1.611034e+12</td>\n",
       "      <td>1351399207563771905</td>\n",
       "      <td>pick today kala wala ako delivery this week th...</td>\n",
       "      <td>0.9001</td>\n",
       "      <td>0.995046</td>\n",
       "      <td>Positive</td>\n",
       "      <td>0.895641</td>\n",
       "    </tr>\n",
       "  </tbody>\n",
       "</table>\n",
       "<p>1616 rows × 7 columns</p>\n",
       "</div>"
      ],
      "text/plain": [
       "              unix                   id  \\\n",
       "0     1.611027e+12  1351372833218310145   \n",
       "1     1.611027e+12  1351372845117566977   \n",
       "2     1.611027e+12  1351372870539210752   \n",
       "3     1.611027e+12  1351372884493611010   \n",
       "4     1.611027e+12  1351372899551227904   \n",
       "...            ...                  ...   \n",
       "1611  1.611034e+12  1351399162315620352   \n",
       "1612  1.611034e+12  1351399166258401280   \n",
       "1613  1.611034e+12  1351399175552970755   \n",
       "1614  1.611034e+12  1351399186856554497   \n",
       "1615  1.611034e+12  1351399207563771905   \n",
       "\n",
       "                                                  clean   vader      bert  \\\n",
       "0                                        this shit ugly -0.7845  0.999300   \n",
       "1     here how many job biden propose minimum wage c... -0.6908  0.967845   \n",
       "2     choose gab during the exodus like marry the go...  0.8176  0.999182   \n",
       "3               yooo not kno snappin like this straight -0.7756  0.885258   \n",
       "4            good song ever gay cowboy song for the win  0.8402  0.999658   \n",
       "...                                                 ...     ...       ...   \n",
       "1611       dude look him google and just start tear sad -0.7798  0.999683   \n",
       "1612  honestly make the good playlist apple music wi...  0.8176  0.999688   \n",
       "1613               nowplaying the great dy'jahthe great  0.8555  0.999683   \n",
       "1614              this love baby deserve home not death  0.7933  0.847237   \n",
       "1615  pick today kala wala ako delivery this week th...  0.9001  0.995046   \n",
       "\n",
       "          mood  sentiment  \n",
       "0     Negative  -0.783951  \n",
       "1     Negative  -0.668588  \n",
       "2     Positive   0.816931  \n",
       "3     Negative  -0.686606  \n",
       "4     Positive   0.839913  \n",
       "...        ...        ...  \n",
       "1611  Negative  -0.779553  \n",
       "1612  Positive   0.817345  \n",
       "1613  Positive   0.855228  \n",
       "1614  Positive   0.672113  \n",
       "1615  Positive   0.895641  \n",
       "\n",
       "[1616 rows x 7 columns]"
      ]
     },
     "execution_count": 57,
     "metadata": {},
     "output_type": "execute_result"
    }
   ],
   "source": [
    "pd.read_sql(f\"\"\"SELECT * FROM flagged\"\"\", conn)"
   ]
  },
  {
   "cell_type": "code",
   "execution_count": 58,
   "metadata": {
    "ExecuteTime": {
     "end_time": "2021-01-19T05:23:21.313947Z",
     "start_time": "2021-01-19T05:23:20.681782Z"
    }
   },
   "outputs": [
    {
     "data": {
      "text/html": [
       "<div>\n",
       "<style scoped>\n",
       "    .dataframe tbody tr th:only-of-type {\n",
       "        vertical-align: middle;\n",
       "    }\n",
       "\n",
       "    .dataframe tbody tr th {\n",
       "        vertical-align: top;\n",
       "    }\n",
       "\n",
       "    .dataframe thead th {\n",
       "        text-align: right;\n",
       "    }\n",
       "</style>\n",
       "<table border=\"1\" class=\"dataframe\">\n",
       "  <thead>\n",
       "    <tr style=\"text-align: right;\">\n",
       "      <th></th>\n",
       "      <th>unix</th>\n",
       "      <th>id</th>\n",
       "      <th>user</th>\n",
       "      <th>tweet</th>\n",
       "      <th>favorite</th>\n",
       "      <th>retweet</th>\n",
       "      <th>sentiment</th>\n",
       "    </tr>\n",
       "  </thead>\n",
       "  <tbody>\n",
       "    <tr>\n",
       "      <th>0</th>\n",
       "      <td>1.611003e+12</td>\n",
       "      <td>1351268906233683971</td>\n",
       "      <td>819187069155164160</td>\n",
       "      <td>Also please google ‘fair’. I’d like to know ho...</td>\n",
       "      <td>0</td>\n",
       "      <td>0</td>\n",
       "      <td>0.8591</td>\n",
       "    </tr>\n",
       "    <tr>\n",
       "      <th>1</th>\n",
       "      <td>1.611003e+12</td>\n",
       "      <td>1351268906682503168</td>\n",
       "      <td>1378233426</td>\n",
       "      <td>Motherfucker, you live right next to me and yo...</td>\n",
       "      <td>0</td>\n",
       "      <td>0</td>\n",
       "      <td>-0.8591</td>\n",
       "    </tr>\n",
       "    <tr>\n",
       "      <th>2</th>\n",
       "      <td>1.611003e+12</td>\n",
       "      <td>1351268908343455750</td>\n",
       "      <td>710183821120020481</td>\n",
       "      <td>\"Cowboys for Trump\" founder arrested by FBI - ...</td>\n",
       "      <td>0</td>\n",
       "      <td>0</td>\n",
       "      <td>-0.4767</td>\n",
       "    </tr>\n",
       "    <tr>\n",
       "      <th>3</th>\n",
       "      <td>1.611003e+12</td>\n",
       "      <td>1351268909895221248</td>\n",
       "      <td>467035743</td>\n",
       "      <td>The way she blinks rapidly at one point, as he...</td>\n",
       "      <td>0</td>\n",
       "      <td>0</td>\n",
       "      <td>-0.4019</td>\n",
       "    </tr>\n",
       "    <tr>\n",
       "      <th>4</th>\n",
       "      <td>1.611003e+12</td>\n",
       "      <td>1351268910289604610</td>\n",
       "      <td>88445570</td>\n",
       "      <td>Remember that #MLK denounced the Vietnam War a...</td>\n",
       "      <td>0</td>\n",
       "      <td>0</td>\n",
       "      <td>0.0516</td>\n",
       "    </tr>\n",
       "    <tr>\n",
       "      <th>...</th>\n",
       "      <td>...</td>\n",
       "      <td>...</td>\n",
       "      <td>...</td>\n",
       "      <td>...</td>\n",
       "      <td>...</td>\n",
       "      <td>...</td>\n",
       "      <td>...</td>\n",
       "    </tr>\n",
       "    <tr>\n",
       "      <th>104429</th>\n",
       "      <td>1.611034e+12</td>\n",
       "      <td>1351399800692883456</td>\n",
       "      <td>4520377515</td>\n",
       "      <td>@basyirdeen Beli la apple smartwatch</td>\n",
       "      <td>0</td>\n",
       "      <td>0</td>\n",
       "      <td>0.0000</td>\n",
       "    </tr>\n",
       "    <tr>\n",
       "      <th>104430</th>\n",
       "      <td>1.611034e+12</td>\n",
       "      <td>1351399800797683712</td>\n",
       "      <td>911627225778159617</td>\n",
       "      <td>Thank God🙏</td>\n",
       "      <td>0</td>\n",
       "      <td>0</td>\n",
       "      <td>0.5574</td>\n",
       "    </tr>\n",
       "    <tr>\n",
       "      <th>104431</th>\n",
       "      <td>1.611034e+12</td>\n",
       "      <td>1351399801187831809</td>\n",
       "      <td>3300417306</td>\n",
       "      <td>@amoonforbright HHHAHSHDHDHS AN APPLE A DAY KE...</td>\n",
       "      <td>0</td>\n",
       "      <td>0</td>\n",
       "      <td>-0.4767</td>\n",
       "    </tr>\n",
       "    <tr>\n",
       "      <th>104432</th>\n",
       "      <td>1.611034e+12</td>\n",
       "      <td>1351399801233891332</td>\n",
       "      <td>1328003668906446848</td>\n",
       "      <td>@nambulous @vneckendpoint @mr3smiley @Wario64 ...</td>\n",
       "      <td>0</td>\n",
       "      <td>0</td>\n",
       "      <td>-0.2960</td>\n",
       "    </tr>\n",
       "    <tr>\n",
       "      <th>104433</th>\n",
       "      <td>1.611034e+12</td>\n",
       "      <td>1351399802043437056</td>\n",
       "      <td>276699246</td>\n",
       "      <td>look at this exquisite choice of outfits 🤩🤩🤩 h...</td>\n",
       "      <td>0</td>\n",
       "      <td>0</td>\n",
       "      <td>0.0000</td>\n",
       "    </tr>\n",
       "  </tbody>\n",
       "</table>\n",
       "<p>104434 rows × 7 columns</p>\n",
       "</div>"
      ],
      "text/plain": [
       "                unix                   id                 user  \\\n",
       "0       1.611003e+12  1351268906233683971   819187069155164160   \n",
       "1       1.611003e+12  1351268906682503168           1378233426   \n",
       "2       1.611003e+12  1351268908343455750   710183821120020481   \n",
       "3       1.611003e+12  1351268909895221248            467035743   \n",
       "4       1.611003e+12  1351268910289604610             88445570   \n",
       "...              ...                  ...                  ...   \n",
       "104429  1.611034e+12  1351399800692883456           4520377515   \n",
       "104430  1.611034e+12  1351399800797683712   911627225778159617   \n",
       "104431  1.611034e+12  1351399801187831809           3300417306   \n",
       "104432  1.611034e+12  1351399801233891332  1328003668906446848   \n",
       "104433  1.611034e+12  1351399802043437056            276699246   \n",
       "\n",
       "                                                    tweet  favorite  retweet  \\\n",
       "0       Also please google ‘fair’. I’d like to know ho...         0        0   \n",
       "1       Motherfucker, you live right next to me and yo...         0        0   \n",
       "2       \"Cowboys for Trump\" founder arrested by FBI - ...         0        0   \n",
       "3       The way she blinks rapidly at one point, as he...         0        0   \n",
       "4       Remember that #MLK denounced the Vietnam War a...         0        0   \n",
       "...                                                   ...       ...      ...   \n",
       "104429               @basyirdeen Beli la apple smartwatch         0        0   \n",
       "104430                                         Thank God🙏         0        0   \n",
       "104431  @amoonforbright HHHAHSHDHDHS AN APPLE A DAY KE...         0        0   \n",
       "104432  @nambulous @vneckendpoint @mr3smiley @Wario64 ...         0        0   \n",
       "104433  look at this exquisite choice of outfits 🤩🤩🤩 h...         0        0   \n",
       "\n",
       "        sentiment  \n",
       "0          0.8591  \n",
       "1         -0.8591  \n",
       "2         -0.4767  \n",
       "3         -0.4019  \n",
       "4          0.0516  \n",
       "...           ...  \n",
       "104429     0.0000  \n",
       "104430     0.5574  \n",
       "104431    -0.4767  \n",
       "104432    -0.2960  \n",
       "104433     0.0000  \n",
       "\n",
       "[104434 rows x 7 columns]"
      ]
     },
     "execution_count": 58,
     "metadata": {},
     "output_type": "execute_result"
    }
   ],
   "source": [
    "pd.read_sql(f\"\"\"SELECT * FROM sentiment\"\"\", conn)"
   ]
  },
  {
   "cell_type": "code",
   "execution_count": 43,
   "metadata": {
    "ExecuteTime": {
     "end_time": "2021-01-19T03:51:07.648718Z",
     "start_time": "2021-01-19T03:51:06.231876Z"
    }
   },
   "outputs": [
    {
     "data": {
      "text/html": [
       "<div>\n",
       "<style scoped>\n",
       "    .dataframe tbody tr th:only-of-type {\n",
       "        vertical-align: middle;\n",
       "    }\n",
       "\n",
       "    .dataframe tbody tr th {\n",
       "        vertical-align: top;\n",
       "    }\n",
       "\n",
       "    .dataframe thead th {\n",
       "        text-align: right;\n",
       "    }\n",
       "</style>\n",
       "<table border=\"1\" class=\"dataframe\">\n",
       "  <thead>\n",
       "    <tr style=\"text-align: right;\">\n",
       "      <th></th>\n",
       "      <th>unix</th>\n",
       "      <th>id</th>\n",
       "      <th>tweet</th>\n",
       "      <th>sentiment</th>\n",
       "    </tr>\n",
       "  </thead>\n",
       "  <tbody>\n",
       "    <tr>\n",
       "      <th>0</th>\n",
       "      <td>1.611028e+12</td>\n",
       "      <td>1351376566022930433</td>\n",
       "      <td>#MSGKNotice\\n\\nHere's an updated tracking numb...</td>\n",
       "      <td>0.839407</td>\n",
       "    </tr>\n",
       "    <tr>\n",
       "      <th>1</th>\n",
       "      <td>1.611028e+12</td>\n",
       "      <td>1351376545965772802</td>\n",
       "      <td>@ScrambledEggWit What the hell?!!?!?!? I mean ...</td>\n",
       "      <td>-0.826925</td>\n",
       "    </tr>\n",
       "    <tr>\n",
       "      <th>2</th>\n",
       "      <td>1.611028e+12</td>\n",
       "      <td>1351376496623931392</td>\n",
       "      <td>Congratulation🥰🥰🥰It is very good❤️🐰🐥🇹🇭I love u</td>\n",
       "      <td>0.982814</td>\n",
       "    </tr>\n",
       "    <tr>\n",
       "      <th>3</th>\n",
       "      <td>1.611028e+12</td>\n",
       "      <td>1351376444228837376</td>\n",
       "      <td>I have a weird red mark on my boob and I’m too...</td>\n",
       "      <td>-0.901821</td>\n",
       "    </tr>\n",
       "    <tr>\n",
       "      <th>4</th>\n",
       "      <td>1.611028e+12</td>\n",
       "      <td>1351376438641901572</td>\n",
       "      <td>Still waiting for the soundbyte where Trump in...</td>\n",
       "      <td>-0.769172</td>\n",
       "    </tr>\n",
       "    <tr>\n",
       "      <th>5</th>\n",
       "      <td>1.611028e+12</td>\n",
       "      <td>1351376427770281987</td>\n",
       "      <td>@afzal_zulkifli hai kak aku jual nih💛\\n\\nNETFL...</td>\n",
       "      <td>0.000000</td>\n",
       "    </tr>\n",
       "    <tr>\n",
       "      <th>6</th>\n",
       "      <td>1.611028e+12</td>\n",
       "      <td>1351376417410473985</td>\n",
       "      <td>Reduced to just $64,900!!! 😱😮\\n\\nKelsey Adam |...</td>\n",
       "      <td>-0.754026</td>\n",
       "    </tr>\n",
       "    <tr>\n",
       "      <th>7</th>\n",
       "      <td>1.611028e+12</td>\n",
       "      <td>1351376414268915712</td>\n",
       "      <td>👿👿HEY JOE!!!!! ILLEGAL IMMIGRANTS ARE COMING S...</td>\n",
       "      <td>0.000000</td>\n",
       "    </tr>\n",
       "    <tr>\n",
       "      <th>8</th>\n",
       "      <td>1.611028e+12</td>\n",
       "      <td>1351376349152174080</td>\n",
       "      <td>#MSGKNotice\\n\\nHere's an updated tracking numb...</td>\n",
       "      <td>0.839407</td>\n",
       "    </tr>\n",
       "    <tr>\n",
       "      <th>9</th>\n",
       "      <td>1.611028e+12</td>\n",
       "      <td>1351376344551022593</td>\n",
       "      <td>I'll admit it - I started How To Be An Antirac...</td>\n",
       "      <td>0.796832</td>\n",
       "    </tr>\n",
       "  </tbody>\n",
       "</table>\n",
       "</div>"
      ],
      "text/plain": [
       "           unix                   id  \\\n",
       "0  1.611028e+12  1351376566022930433   \n",
       "1  1.611028e+12  1351376545965772802   \n",
       "2  1.611028e+12  1351376496623931392   \n",
       "3  1.611028e+12  1351376444228837376   \n",
       "4  1.611028e+12  1351376438641901572   \n",
       "5  1.611028e+12  1351376427770281987   \n",
       "6  1.611028e+12  1351376417410473985   \n",
       "7  1.611028e+12  1351376414268915712   \n",
       "8  1.611028e+12  1351376349152174080   \n",
       "9  1.611028e+12  1351376344551022593   \n",
       "\n",
       "                                               tweet  sentiment  \n",
       "0  #MSGKNotice\\n\\nHere's an updated tracking numb...   0.839407  \n",
       "1  @ScrambledEggWit What the hell?!!?!?!? I mean ...  -0.826925  \n",
       "2     Congratulation🥰🥰🥰It is very good❤️🐰🐥🇹🇭I love u   0.982814  \n",
       "3  I have a weird red mark on my boob and I’m too...  -0.901821  \n",
       "4  Still waiting for the soundbyte where Trump in...  -0.769172  \n",
       "5  @afzal_zulkifli hai kak aku jual nih💛\\n\\nNETFL...   0.000000  \n",
       "6  Reduced to just $64,900!!! 😱😮\\n\\nKelsey Adam |...  -0.754026  \n",
       "7  👿👿HEY JOE!!!!! ILLEGAL IMMIGRANTS ARE COMING S...   0.000000  \n",
       "8  #MSGKNotice\\n\\nHere's an updated tracking numb...   0.839407  \n",
       "9  I'll admit it - I started How To Be An Antirac...   0.796832  "
      ]
     },
     "execution_count": 43,
     "metadata": {},
     "output_type": "execute_result"
    }
   ],
   "source": [
    "QUERY = \"\"\"\n",
    "        SELECT s.unix, s.id, s.tweet, f.sentiment\n",
    "        FROM sentiment s\n",
    "        JOIN flagged f\n",
    "        ON s.id = f.id\n",
    "        WHERE f.sentiment != '?'\n",
    "        ORDER BY s.unix DESC\n",
    "        LIMIT 10\n",
    "        \"\"\"\n",
    "pd.read_sql(QUERY, conn)"
   ]
  },
  {
   "cell_type": "code",
   "execution_count": 50,
   "metadata": {
    "ExecuteTime": {
     "end_time": "2021-01-19T04:10:37.063769Z",
     "start_time": "2021-01-19T04:10:36.986535Z"
    }
   },
   "outputs": [],
   "source": [
    "keywords = ['Apple']\n",
    "q = ' OR '.join([f\"tweet LIKE '%{word}%'\" for word in keywords])\n",
    "q = f'({q})'\n",
    "query = f\"\"\"\n",
    "        SELECT s.unix, s.id, s.tweet, f.sentiment, f.mood\n",
    "        FROM sentiment s\n",
    "        JOIN flagged f\n",
    "        ON s.id = f.id\n",
    "        WHERE {q} AND f.mood != '?'\n",
    "        ORDER BY s.unix DESC\n",
    "        LIMIT 50\n",
    "        \"\"\"\n",
    "a = pd.read_sql(query, conn)"
   ]
  },
  {
   "cell_type": "code",
   "execution_count": 53,
   "metadata": {
    "ExecuteTime": {
     "end_time": "2021-01-19T04:10:48.351160Z",
     "start_time": "2021-01-19T04:10:48.344065Z"
    }
   },
   "outputs": [
    {
     "data": {
      "text/plain": [
       "0     0.7962\n",
       "1    -0.8068\n",
       "2     0.9369\n",
       "3    -0.8357\n",
       "4     0.7904\n",
       "5    -0.7415\n",
       "6    -0.7092\n",
       "7     0.8534\n",
       "8     0.8014\n",
       "9    -0.6896\n",
       "10    0.8554\n",
       "11   -0.7556\n",
       "12   -0.7453\n",
       "13    0.9696\n",
       "14    0.9151\n",
       "15   -0.8057\n",
       "16   -0.6397\n",
       "17    0.8122\n",
       "18    0.4460\n",
       "19    0.8647\n",
       "20   -0.7002\n",
       "21    0.8714\n",
       "22    0.8026\n",
       "23   -0.7961\n",
       "24    0.8126\n",
       "25   -0.6896\n",
       "26   -0.4294\n",
       "27   -0.7836\n",
       "28   -0.8423\n",
       "29   -0.6895\n",
       "30    0.8618\n",
       "31    0.8476\n",
       "32   -0.8269\n",
       "33   -0.6900\n",
       "34    0.8624\n",
       "35   -0.7001\n",
       "36   -0.8078\n",
       "37   -0.8126\n",
       "38    0.8517\n",
       "39   -0.8362\n",
       "40   -0.7844\n",
       "41    0.9256\n",
       "42    0.8544\n",
       "43    0.8820\n",
       "44    0.8122\n",
       "45   -0.7950\n",
       "46    0.8157\n",
       "47   -0.8795\n",
       "48    0.9418\n",
       "49    0.5829\n",
       "Name: sentiment, dtype: float64"
      ]
     },
     "execution_count": 53,
     "metadata": {},
     "output_type": "execute_result"
    }
   ],
   "source": [
    "round(a['sentiment'],3)"
   ]
  },
  {
   "cell_type": "code",
   "execution_count": 64,
   "metadata": {
    "ExecuteTime": {
     "end_time": "2021-01-19T06:18:41.364981Z",
     "start_time": "2021-01-19T06:17:10.646474Z"
    }
   },
   "outputs": [
    {
     "name": "stdout",
     "output_type": "stream",
     "text": [
      "There are 4 new tweets to clean!\n",
      "1611037035002.0\n",
      "There are 1 new tweets to analyze!\n"
     ]
    },
    {
     "data": {
      "text/html": [],
      "text/plain": [
       "<IPython.core.display.HTML object>"
      ]
     },
     "metadata": {},
     "output_type": "display_data"
    },
    {
     "name": "stdout",
     "output_type": "stream",
     "text": [
      "There are 6 new tweets to clean!\n",
      "1611037044144.0\n",
      "There are 1 new tweets to analyze!\n"
     ]
    },
    {
     "data": {
      "text/html": [],
      "text/plain": [
       "<IPython.core.display.HTML object>"
      ]
     },
     "metadata": {},
     "output_type": "display_data"
    },
    {
     "name": "stdout",
     "output_type": "stream",
     "text": [
      "There are 6 new tweets to clean!\n",
      "1611037050003.0\n",
      "There are 1 new tweets to analyze!\n"
     ]
    },
    {
     "data": {
      "text/html": [],
      "text/plain": [
       "<IPython.core.display.HTML object>"
      ]
     },
     "metadata": {},
     "output_type": "display_data"
    },
    {
     "name": "stdout",
     "output_type": "stream",
     "text": [
      "There are 7 new tweets to clean!\n",
      "1611037056451.0\n",
      "No new tweets to analyze\n",
      "There are 9 new tweets to clean!\n",
      "1611037061493.0\n",
      "No new tweets to analyze\n",
      "There are 7 new tweets to clean!\n",
      "1611037065995.0\n",
      "No new tweets to analyze\n",
      "There are 3 new tweets to clean!\n",
      "1611037070572.0\n",
      "There are 1 new tweets to analyze!\n"
     ]
    },
    {
     "data": {
      "text/html": [],
      "text/plain": [
       "<IPython.core.display.HTML object>"
      ]
     },
     "metadata": {},
     "output_type": "display_data"
    },
    {
     "name": "stdout",
     "output_type": "stream",
     "text": [
      "There are 10 new tweets to clean!\n",
      "1611037078524.0\n",
      "There are 2 new tweets to analyze!\n"
     ]
    },
    {
     "name": "stderr",
     "output_type": "stream",
     "text": [
      "/opt/anaconda3/envs/learn-env/lib/python3.6/site-packages/ktrain/text/preprocessor.py:209: UserWarning: List or array of two texts supplied, so task being treated as text classification. If this is a sentence pair classification task, please cast to tuple.\n",
      "  'If this is a sentence pair classification task, please cast to tuple.')\n"
     ]
    },
    {
     "data": {
      "text/html": [],
      "text/plain": [
       "<IPython.core.display.HTML object>"
      ]
     },
     "metadata": {},
     "output_type": "display_data"
    },
    {
     "name": "stdout",
     "output_type": "stream",
     "text": [
      "There are 11 new tweets to clean!\n",
      "1611037085597.0\n",
      "No new tweets to analyze\n",
      "There are 5 new tweets to clean!\n",
      "1611037090247.0\n",
      "There are 1 new tweets to analyze!\n"
     ]
    },
    {
     "data": {
      "text/html": [],
      "text/plain": [
       "<IPython.core.display.HTML object>"
      ]
     },
     "metadata": {},
     "output_type": "display_data"
    },
    {
     "name": "stdout",
     "output_type": "stream",
     "text": [
      "There are 6 new tweets to clean!\n",
      "1611037097241.0\n",
      "There are 1 new tweets to analyze!\n"
     ]
    },
    {
     "data": {
      "text/html": [],
      "text/plain": [
       "<IPython.core.display.HTML object>"
      ]
     },
     "metadata": {},
     "output_type": "display_data"
    },
    {
     "name": "stdout",
     "output_type": "stream",
     "text": [
      "There are 13 new tweets to clean!\n",
      "1611037105426.0\n",
      "There are 2 new tweets to analyze!\n"
     ]
    },
    {
     "data": {
      "text/html": [],
      "text/plain": [
       "<IPython.core.display.HTML object>"
      ]
     },
     "metadata": {},
     "output_type": "display_data"
    },
    {
     "name": "stdout",
     "output_type": "stream",
     "text": [
      "There are 13 new tweets to clean!\n",
      "1611037111586.0\n",
      "There are 4 new tweets to analyze!\n"
     ]
    },
    {
     "data": {
      "text/html": [],
      "text/plain": [
       "<IPython.core.display.HTML object>"
      ]
     },
     "metadata": {},
     "output_type": "display_data"
    },
    {
     "ename": "KeyboardInterrupt",
     "evalue": "",
     "output_type": "error",
     "traceback": [
      "\u001b[0;31m---------------------------------------------------------------------------\u001b[0m",
      "\u001b[0;31mKeyboardInterrupt\u001b[0m                         Traceback (most recent call last)",
      "\u001b[0;32m<ipython-input-64-5c02d4b94adf>\u001b[0m in \u001b[0;36m<module>\u001b[0;34m\u001b[0m\n\u001b[1;32m     35\u001b[0m         \u001b[0mnew_df\u001b[0m\u001b[0;34m[\u001b[0m\u001b[0;34m'VADER'\u001b[0m\u001b[0;34m]\u001b[0m \u001b[0;34m=\u001b[0m \u001b[0mtemp_df\u001b[0m\u001b[0;34m[\u001b[0m\u001b[0;34m'sentiment'\u001b[0m\u001b[0;34m]\u001b[0m\u001b[0;34m\u001b[0m\u001b[0;34m\u001b[0m\u001b[0m\n\u001b[1;32m     36\u001b[0m \u001b[0;34m\u001b[0m\u001b[0m\n\u001b[0;32m---> 37\u001b[0;31m         \u001b[0mproba\u001b[0m \u001b[0;34m=\u001b[0m \u001b[0mpredictor\u001b[0m\u001b[0;34m.\u001b[0m\u001b[0mpredict_proba\u001b[0m\u001b[0;34m(\u001b[0m\u001b[0mlist\u001b[0m\u001b[0;34m(\u001b[0m\u001b[0mnew_df\u001b[0m\u001b[0;34m[\u001b[0m\u001b[0;34m'clean'\u001b[0m\u001b[0;34m]\u001b[0m\u001b[0;34m)\u001b[0m\u001b[0;34m)\u001b[0m\u001b[0;34m\u001b[0m\u001b[0;34m\u001b[0m\u001b[0m\n\u001b[0m\u001b[1;32m     38\u001b[0m \u001b[0;34m\u001b[0m\u001b[0m\n\u001b[1;32m     39\u001b[0m         \u001b[0mbert\u001b[0m \u001b[0;34m=\u001b[0m \u001b[0;34m[\u001b[0m\u001b[0;34m]\u001b[0m\u001b[0;34m\u001b[0m\u001b[0;34m\u001b[0m\u001b[0m\n",
      "\u001b[0;32m/opt/anaconda3/envs/learn-env/lib/python3.6/site-packages/ktrain/text/predictor.py\u001b[0m in \u001b[0;36mpredict_proba\u001b[0;34m(self, texts)\u001b[0m\n\u001b[1;32m     82\u001b[0m         \u001b[0mReturns\u001b[0m \u001b[0mprobabilities\u001b[0m \u001b[0mof\u001b[0m \u001b[0meach\u001b[0m \u001b[0;32mclass\u001b[0m\u001b[0;34m.\u001b[0m\u001b[0;34m\u001b[0m\u001b[0;34m\u001b[0m\u001b[0m\n\u001b[1;32m     83\u001b[0m         \"\"\"\n\u001b[0;32m---> 84\u001b[0;31m         \u001b[0;32mreturn\u001b[0m \u001b[0mself\u001b[0m\u001b[0;34m.\u001b[0m\u001b[0mpredict\u001b[0m\u001b[0;34m(\u001b[0m\u001b[0mtexts\u001b[0m\u001b[0;34m,\u001b[0m \u001b[0mreturn_proba\u001b[0m\u001b[0;34m=\u001b[0m\u001b[0;32mTrue\u001b[0m\u001b[0;34m)\u001b[0m\u001b[0;34m\u001b[0m\u001b[0;34m\u001b[0m\u001b[0m\n\u001b[0m\u001b[1;32m     85\u001b[0m \u001b[0;34m\u001b[0m\u001b[0m\n\u001b[1;32m     86\u001b[0m \u001b[0;34m\u001b[0m\u001b[0m\n",
      "\u001b[0;32m/opt/anaconda3/envs/learn-env/lib/python3.6/site-packages/ktrain/text/predictor.py\u001b[0m in \u001b[0;36mpredict\u001b[0;34m(self, texts, return_proba)\u001b[0m\n\u001b[1;32m     56\u001b[0m         \u001b[0;32melse\u001b[0m\u001b[0;34m:\u001b[0m\u001b[0;34m\u001b[0m\u001b[0;34m\u001b[0m\u001b[0m\n\u001b[1;32m     57\u001b[0m             \u001b[0mtexts\u001b[0m \u001b[0;34m=\u001b[0m \u001b[0mself\u001b[0m\u001b[0;34m.\u001b[0m\u001b[0mpreproc\u001b[0m\u001b[0;34m.\u001b[0m\u001b[0mpreprocess\u001b[0m\u001b[0;34m(\u001b[0m\u001b[0mtexts\u001b[0m\u001b[0;34m)\u001b[0m\u001b[0;34m\u001b[0m\u001b[0;34m\u001b[0m\u001b[0m\n\u001b[0;32m---> 58\u001b[0;31m             \u001b[0mpreds\u001b[0m \u001b[0;34m=\u001b[0m \u001b[0mself\u001b[0m\u001b[0;34m.\u001b[0m\u001b[0mmodel\u001b[0m\u001b[0;34m.\u001b[0m\u001b[0mpredict\u001b[0m\u001b[0;34m(\u001b[0m\u001b[0mtexts\u001b[0m\u001b[0;34m,\u001b[0m \u001b[0mbatch_size\u001b[0m\u001b[0;34m=\u001b[0m\u001b[0mself\u001b[0m\u001b[0;34m.\u001b[0m\u001b[0mbatch_size\u001b[0m\u001b[0;34m)\u001b[0m\u001b[0;34m\u001b[0m\u001b[0;34m\u001b[0m\u001b[0m\n\u001b[0m\u001b[1;32m     59\u001b[0m \u001b[0;34m\u001b[0m\u001b[0m\n\u001b[1;32m     60\u001b[0m         \u001b[0;31m# process predictions\u001b[0m\u001b[0;34m\u001b[0m\u001b[0;34m\u001b[0m\u001b[0;34m\u001b[0m\u001b[0m\n",
      "\u001b[0;32m/opt/anaconda3/envs/learn-env/lib/python3.6/site-packages/tensorflow/python/keras/engine/training.py\u001b[0m in \u001b[0;36m_method_wrapper\u001b[0;34m(self, *args, **kwargs)\u001b[0m\n\u001b[1;32m    128\u001b[0m       raise ValueError('{} is not supported in multi-worker mode.'.format(\n\u001b[1;32m    129\u001b[0m           method.__name__))\n\u001b[0;32m--> 130\u001b[0;31m     \u001b[0;32mreturn\u001b[0m \u001b[0mmethod\u001b[0m\u001b[0;34m(\u001b[0m\u001b[0mself\u001b[0m\u001b[0;34m,\u001b[0m \u001b[0;34m*\u001b[0m\u001b[0margs\u001b[0m\u001b[0;34m,\u001b[0m \u001b[0;34m**\u001b[0m\u001b[0mkwargs\u001b[0m\u001b[0;34m)\u001b[0m\u001b[0;34m\u001b[0m\u001b[0;34m\u001b[0m\u001b[0m\n\u001b[0m\u001b[1;32m    131\u001b[0m \u001b[0;34m\u001b[0m\u001b[0m\n\u001b[1;32m    132\u001b[0m   return tf_decorator.make_decorator(\n",
      "\u001b[0;32m/opt/anaconda3/envs/learn-env/lib/python3.6/site-packages/tensorflow/python/keras/engine/training.py\u001b[0m in \u001b[0;36mpredict\u001b[0;34m(self, x, batch_size, verbose, steps, callbacks, max_queue_size, workers, use_multiprocessing)\u001b[0m\n\u001b[1;32m   1597\u001b[0m           \u001b[0;32mfor\u001b[0m \u001b[0mstep\u001b[0m \u001b[0;32min\u001b[0m \u001b[0mdata_handler\u001b[0m\u001b[0;34m.\u001b[0m\u001b[0msteps\u001b[0m\u001b[0;34m(\u001b[0m\u001b[0;34m)\u001b[0m\u001b[0;34m:\u001b[0m\u001b[0;34m\u001b[0m\u001b[0;34m\u001b[0m\u001b[0m\n\u001b[1;32m   1598\u001b[0m             \u001b[0mcallbacks\u001b[0m\u001b[0;34m.\u001b[0m\u001b[0mon_predict_batch_begin\u001b[0m\u001b[0;34m(\u001b[0m\u001b[0mstep\u001b[0m\u001b[0;34m)\u001b[0m\u001b[0;34m\u001b[0m\u001b[0;34m\u001b[0m\u001b[0m\n\u001b[0;32m-> 1599\u001b[0;31m             \u001b[0mtmp_batch_outputs\u001b[0m \u001b[0;34m=\u001b[0m \u001b[0mpredict_function\u001b[0m\u001b[0;34m(\u001b[0m\u001b[0miterator\u001b[0m\u001b[0;34m)\u001b[0m\u001b[0;34m\u001b[0m\u001b[0;34m\u001b[0m\u001b[0m\n\u001b[0m\u001b[1;32m   1600\u001b[0m             \u001b[0;32mif\u001b[0m \u001b[0mdata_handler\u001b[0m\u001b[0;34m.\u001b[0m\u001b[0mshould_sync\u001b[0m\u001b[0;34m:\u001b[0m\u001b[0;34m\u001b[0m\u001b[0;34m\u001b[0m\u001b[0m\n\u001b[1;32m   1601\u001b[0m               \u001b[0mcontext\u001b[0m\u001b[0;34m.\u001b[0m\u001b[0masync_wait\u001b[0m\u001b[0;34m(\u001b[0m\u001b[0;34m)\u001b[0m\u001b[0;34m\u001b[0m\u001b[0;34m\u001b[0m\u001b[0m\n",
      "\u001b[0;32m/opt/anaconda3/envs/learn-env/lib/python3.6/site-packages/tensorflow/python/eager/def_function.py\u001b[0m in \u001b[0;36m__call__\u001b[0;34m(self, *args, **kwds)\u001b[0m\n\u001b[1;32m    778\u001b[0m       \u001b[0;32melse\u001b[0m\u001b[0;34m:\u001b[0m\u001b[0;34m\u001b[0m\u001b[0;34m\u001b[0m\u001b[0m\n\u001b[1;32m    779\u001b[0m         \u001b[0mcompiler\u001b[0m \u001b[0;34m=\u001b[0m \u001b[0;34m\"nonXla\"\u001b[0m\u001b[0;34m\u001b[0m\u001b[0;34m\u001b[0m\u001b[0m\n\u001b[0;32m--> 780\u001b[0;31m         \u001b[0mresult\u001b[0m \u001b[0;34m=\u001b[0m \u001b[0mself\u001b[0m\u001b[0;34m.\u001b[0m\u001b[0m_call\u001b[0m\u001b[0;34m(\u001b[0m\u001b[0;34m*\u001b[0m\u001b[0margs\u001b[0m\u001b[0;34m,\u001b[0m \u001b[0;34m**\u001b[0m\u001b[0mkwds\u001b[0m\u001b[0;34m)\u001b[0m\u001b[0;34m\u001b[0m\u001b[0;34m\u001b[0m\u001b[0m\n\u001b[0m\u001b[1;32m    781\u001b[0m \u001b[0;34m\u001b[0m\u001b[0m\n\u001b[1;32m    782\u001b[0m       \u001b[0mnew_tracing_count\u001b[0m \u001b[0;34m=\u001b[0m \u001b[0mself\u001b[0m\u001b[0;34m.\u001b[0m\u001b[0m_get_tracing_count\u001b[0m\u001b[0;34m(\u001b[0m\u001b[0;34m)\u001b[0m\u001b[0;34m\u001b[0m\u001b[0;34m\u001b[0m\u001b[0m\n",
      "\u001b[0;32m/opt/anaconda3/envs/learn-env/lib/python3.6/site-packages/tensorflow/python/eager/def_function.py\u001b[0m in \u001b[0;36m_call\u001b[0;34m(self, *args, **kwds)\u001b[0m\n\u001b[1;32m    812\u001b[0m       \u001b[0;31m# In this case we have not created variables on the first call. So we can\u001b[0m\u001b[0;34m\u001b[0m\u001b[0;34m\u001b[0m\u001b[0;34m\u001b[0m\u001b[0m\n\u001b[1;32m    813\u001b[0m       \u001b[0;31m# run the first trace but we should fail if variables are created.\u001b[0m\u001b[0;34m\u001b[0m\u001b[0;34m\u001b[0m\u001b[0;34m\u001b[0m\u001b[0m\n\u001b[0;32m--> 814\u001b[0;31m       \u001b[0mresults\u001b[0m \u001b[0;34m=\u001b[0m \u001b[0mself\u001b[0m\u001b[0;34m.\u001b[0m\u001b[0m_stateful_fn\u001b[0m\u001b[0;34m(\u001b[0m\u001b[0;34m*\u001b[0m\u001b[0margs\u001b[0m\u001b[0;34m,\u001b[0m \u001b[0;34m**\u001b[0m\u001b[0mkwds\u001b[0m\u001b[0;34m)\u001b[0m\u001b[0;34m\u001b[0m\u001b[0;34m\u001b[0m\u001b[0m\n\u001b[0m\u001b[1;32m    815\u001b[0m       \u001b[0;32mif\u001b[0m \u001b[0mself\u001b[0m\u001b[0;34m.\u001b[0m\u001b[0m_created_variables\u001b[0m\u001b[0;34m:\u001b[0m\u001b[0;34m\u001b[0m\u001b[0;34m\u001b[0m\u001b[0m\n\u001b[1;32m    816\u001b[0m         raise ValueError(\"Creating variables on a non-first call to a function\"\n",
      "\u001b[0;32m/opt/anaconda3/envs/learn-env/lib/python3.6/site-packages/tensorflow/python/eager/function.py\u001b[0m in \u001b[0;36m__call__\u001b[0;34m(self, *args, **kwargs)\u001b[0m\n\u001b[1;32m   2827\u001b[0m     \u001b[0;32mwith\u001b[0m \u001b[0mself\u001b[0m\u001b[0;34m.\u001b[0m\u001b[0m_lock\u001b[0m\u001b[0;34m:\u001b[0m\u001b[0;34m\u001b[0m\u001b[0;34m\u001b[0m\u001b[0m\n\u001b[1;32m   2828\u001b[0m       \u001b[0mgraph_function\u001b[0m\u001b[0;34m,\u001b[0m \u001b[0margs\u001b[0m\u001b[0;34m,\u001b[0m \u001b[0mkwargs\u001b[0m \u001b[0;34m=\u001b[0m \u001b[0mself\u001b[0m\u001b[0;34m.\u001b[0m\u001b[0m_maybe_define_function\u001b[0m\u001b[0;34m(\u001b[0m\u001b[0margs\u001b[0m\u001b[0;34m,\u001b[0m \u001b[0mkwargs\u001b[0m\u001b[0;34m)\u001b[0m\u001b[0;34m\u001b[0m\u001b[0;34m\u001b[0m\u001b[0m\n\u001b[0;32m-> 2829\u001b[0;31m     \u001b[0;32mreturn\u001b[0m \u001b[0mgraph_function\u001b[0m\u001b[0;34m.\u001b[0m\u001b[0m_filtered_call\u001b[0m\u001b[0;34m(\u001b[0m\u001b[0margs\u001b[0m\u001b[0;34m,\u001b[0m \u001b[0mkwargs\u001b[0m\u001b[0;34m)\u001b[0m  \u001b[0;31m# pylint: disable=protected-access\u001b[0m\u001b[0;34m\u001b[0m\u001b[0;34m\u001b[0m\u001b[0m\n\u001b[0m\u001b[1;32m   2830\u001b[0m \u001b[0;34m\u001b[0m\u001b[0m\n\u001b[1;32m   2831\u001b[0m   \u001b[0;34m@\u001b[0m\u001b[0mproperty\u001b[0m\u001b[0;34m\u001b[0m\u001b[0;34m\u001b[0m\u001b[0m\n",
      "\u001b[0;32m/opt/anaconda3/envs/learn-env/lib/python3.6/site-packages/tensorflow/python/eager/function.py\u001b[0m in \u001b[0;36m_filtered_call\u001b[0;34m(self, args, kwargs, cancellation_manager)\u001b[0m\n\u001b[1;32m   1846\u001b[0m                            resource_variable_ops.BaseResourceVariable))],\n\u001b[1;32m   1847\u001b[0m         \u001b[0mcaptured_inputs\u001b[0m\u001b[0;34m=\u001b[0m\u001b[0mself\u001b[0m\u001b[0;34m.\u001b[0m\u001b[0mcaptured_inputs\u001b[0m\u001b[0;34m,\u001b[0m\u001b[0;34m\u001b[0m\u001b[0;34m\u001b[0m\u001b[0m\n\u001b[0;32m-> 1848\u001b[0;31m         cancellation_manager=cancellation_manager)\n\u001b[0m\u001b[1;32m   1849\u001b[0m \u001b[0;34m\u001b[0m\u001b[0m\n\u001b[1;32m   1850\u001b[0m   \u001b[0;32mdef\u001b[0m \u001b[0m_call_flat\u001b[0m\u001b[0;34m(\u001b[0m\u001b[0mself\u001b[0m\u001b[0;34m,\u001b[0m \u001b[0margs\u001b[0m\u001b[0;34m,\u001b[0m \u001b[0mcaptured_inputs\u001b[0m\u001b[0;34m,\u001b[0m \u001b[0mcancellation_manager\u001b[0m\u001b[0;34m=\u001b[0m\u001b[0;32mNone\u001b[0m\u001b[0;34m)\u001b[0m\u001b[0;34m:\u001b[0m\u001b[0;34m\u001b[0m\u001b[0;34m\u001b[0m\u001b[0m\n",
      "\u001b[0;32m/opt/anaconda3/envs/learn-env/lib/python3.6/site-packages/tensorflow/python/eager/function.py\u001b[0m in \u001b[0;36m_call_flat\u001b[0;34m(self, args, captured_inputs, cancellation_manager)\u001b[0m\n\u001b[1;32m   1922\u001b[0m       \u001b[0;31m# No tape is watching; skip to running the function.\u001b[0m\u001b[0;34m\u001b[0m\u001b[0;34m\u001b[0m\u001b[0;34m\u001b[0m\u001b[0m\n\u001b[1;32m   1923\u001b[0m       return self._build_call_outputs(self._inference_function.call(\n\u001b[0;32m-> 1924\u001b[0;31m           ctx, args, cancellation_manager=cancellation_manager))\n\u001b[0m\u001b[1;32m   1925\u001b[0m     forward_backward = self._select_forward_and_backward_functions(\n\u001b[1;32m   1926\u001b[0m         \u001b[0margs\u001b[0m\u001b[0;34m,\u001b[0m\u001b[0;34m\u001b[0m\u001b[0;34m\u001b[0m\u001b[0m\n",
      "\u001b[0;32m/opt/anaconda3/envs/learn-env/lib/python3.6/site-packages/tensorflow/python/eager/function.py\u001b[0m in \u001b[0;36mcall\u001b[0;34m(self, ctx, args, cancellation_manager)\u001b[0m\n\u001b[1;32m    548\u001b[0m               \u001b[0minputs\u001b[0m\u001b[0;34m=\u001b[0m\u001b[0margs\u001b[0m\u001b[0;34m,\u001b[0m\u001b[0;34m\u001b[0m\u001b[0;34m\u001b[0m\u001b[0m\n\u001b[1;32m    549\u001b[0m               \u001b[0mattrs\u001b[0m\u001b[0;34m=\u001b[0m\u001b[0mattrs\u001b[0m\u001b[0;34m,\u001b[0m\u001b[0;34m\u001b[0m\u001b[0;34m\u001b[0m\u001b[0m\n\u001b[0;32m--> 550\u001b[0;31m               ctx=ctx)\n\u001b[0m\u001b[1;32m    551\u001b[0m         \u001b[0;32melse\u001b[0m\u001b[0;34m:\u001b[0m\u001b[0;34m\u001b[0m\u001b[0;34m\u001b[0m\u001b[0m\n\u001b[1;32m    552\u001b[0m           outputs = execute.execute_with_cancellation(\n",
      "\u001b[0;32m/opt/anaconda3/envs/learn-env/lib/python3.6/site-packages/tensorflow/python/eager/execute.py\u001b[0m in \u001b[0;36mquick_execute\u001b[0;34m(op_name, num_outputs, inputs, attrs, ctx, name)\u001b[0m\n\u001b[1;32m     58\u001b[0m     \u001b[0mctx\u001b[0m\u001b[0;34m.\u001b[0m\u001b[0mensure_initialized\u001b[0m\u001b[0;34m(\u001b[0m\u001b[0;34m)\u001b[0m\u001b[0;34m\u001b[0m\u001b[0;34m\u001b[0m\u001b[0m\n\u001b[1;32m     59\u001b[0m     tensors = pywrap_tfe.TFE_Py_Execute(ctx._handle, device_name, op_name,\n\u001b[0;32m---> 60\u001b[0;31m                                         inputs, attrs, num_outputs)\n\u001b[0m\u001b[1;32m     61\u001b[0m   \u001b[0;32mexcept\u001b[0m \u001b[0mcore\u001b[0m\u001b[0;34m.\u001b[0m\u001b[0m_NotOkStatusException\u001b[0m \u001b[0;32mas\u001b[0m \u001b[0me\u001b[0m\u001b[0;34m:\u001b[0m\u001b[0;34m\u001b[0m\u001b[0;34m\u001b[0m\u001b[0m\n\u001b[1;32m     62\u001b[0m     \u001b[0;32mif\u001b[0m \u001b[0mname\u001b[0m \u001b[0;32mis\u001b[0m \u001b[0;32mnot\u001b[0m \u001b[0;32mNone\u001b[0m\u001b[0;34m:\u001b[0m\u001b[0;34m\u001b[0m\u001b[0;34m\u001b[0m\u001b[0m\n",
      "\u001b[0;31mKeyboardInterrupt\u001b[0m: "
     ]
    }
   ],
   "source": [
    "create_table(c, conn)\n",
    "create_clean_table(c, conn)\n",
    "\n",
    "clean_time = datetime.datetime.timestamp(datetime.datetime.now())*1000\n",
    "analyze_time = clean_time\n",
    "time.sleep(10)\n",
    "while 1:\n",
    "    clean_df = pd.read_sql(f\"\"\"SELECT * FROM sentiment \n",
    "                                WHERE unix > {clean_time} AND sentiment NOT BETWEEN -0.1 AND 0.1\n",
    "                                ORDER BY unix ASC\"\"\", conn)\n",
    "    print(f'There are {len(clean_df)} new tweets to clean!')\n",
    "    new_clean_df = pd.DataFrame(columns=['unix', 'id', 'clean'])\n",
    "    new_clean_df['unix'] = clean_df['unix']\n",
    "    new_clean_df['id'] = clean_df['id']\n",
    "    new_clean_df['clean'] = clean_df['tweet'].apply(clean_text)\n",
    "\n",
    "    new_clean_df.to_sql('clean', conn, if_exists='append', index=False)\n",
    "    print(clean_df.iloc[-1]['unix'])\n",
    "    clean_time = clean_df.iloc[-1]['unix']\n",
    "\n",
    "    temp_df = pd.read_sql(f\"\"\"SELECT s.unix, s.id, s.sentiment, c.clean FROM sentiment s\n",
    "                            JOIN clean c\n",
    "                            ON s.id = c.id\n",
    "                            WHERE s.unix > {analyze_time} AND sentiment NOT BETWEEN -0.69 and 0.79\n",
    "                            ORDER BY s.unix ASC\"\"\", conn)\n",
    "    if len(temp_df) > 0:\n",
    "        print(f'There are {len(temp_df)} new tweets to analyze!')\n",
    "        analyze_time = temp_df.iloc[-1]['unix']\n",
    "\n",
    "        new_df = pd.DataFrame(columns=['unix', 'id', 'clean', 'VADER', 'BERT', 'mood', 'sentiment'])\n",
    "\n",
    "        new_df['clean'] = temp_df['clean']\n",
    "        new_df['unix'] = temp_df['unix']\n",
    "        new_df['id'] = temp_df['id']\n",
    "        new_df['VADER'] = temp_df['sentiment']\n",
    "\n",
    "        proba = predictor.predict_proba(list(new_df['clean']))\n",
    "\n",
    "        bert = []\n",
    "        mood = []\n",
    "        senti = []\n",
    "        for i, prob in enumerate(proba):\n",
    "            if prob[0] > prob[1]:\n",
    "                bert.append(prob[0])\n",
    "                if new_df['VADER'][i] < 0:\n",
    "                    senti.append(new_df['VADER'][i]*prob[0])\n",
    "                    mood.append('Negative')\n",
    "                else:\n",
    "                    senti.append(0)\n",
    "                    mood.append('?')\n",
    "            else:\n",
    "                bert.append(prob[1])\n",
    "                if new_df['VADER'][i] > 0:\n",
    "                    senti.append(new_df['VADER'][i]*prob[1])\n",
    "                    mood.append('Positive')\n",
    "                else:\n",
    "                    senti.append(0)\n",
    "                    mood.append('?')\n",
    "\n",
    "        new_df['BERT'] = bert\n",
    "        new_df['mood'] = mood\n",
    "        new_df['sentiment'] = senti\n",
    "\n",
    "        new_df.to_sql('flagged', conn, if_exists='append', index=False)\n",
    "        time.sleep(5)\n",
    "    else:\n",
    "        print('No new tweets to analyze')\n",
    "        analyze_time = clean_time\n",
    "        time.sleep(5)"
   ]
  },
  {
   "cell_type": "code",
   "execution_count": 62,
   "metadata": {
    "ExecuteTime": {
     "end_time": "2021-01-19T06:16:39.270549Z",
     "start_time": "2021-01-19T06:16:39.240743Z"
    }
   },
   "outputs": [],
   "source": [
    "clean_df = pd.read_sql(f\"\"\"SELECT * FROM sentiment \n",
    "                                WHERE unix > {clean_time} AND sentiment NOT BETWEEN -0.3 AND 0.3\n",
    "                                ORDER BY unix ASC\"\"\", conn)"
   ]
  },
  {
   "cell_type": "code",
   "execution_count": 63,
   "metadata": {
    "ExecuteTime": {
     "end_time": "2021-01-19T06:16:41.725538Z",
     "start_time": "2021-01-19T06:16:41.693329Z"
    }
   },
   "outputs": [
    {
     "data": {
      "text/html": [
       "<div>\n",
       "<style scoped>\n",
       "    .dataframe tbody tr th:only-of-type {\n",
       "        vertical-align: middle;\n",
       "    }\n",
       "\n",
       "    .dataframe tbody tr th {\n",
       "        vertical-align: top;\n",
       "    }\n",
       "\n",
       "    .dataframe thead th {\n",
       "        text-align: right;\n",
       "    }\n",
       "</style>\n",
       "<table border=\"1\" class=\"dataframe\">\n",
       "  <thead>\n",
       "    <tr style=\"text-align: right;\">\n",
       "      <th></th>\n",
       "      <th>unix</th>\n",
       "      <th>id</th>\n",
       "      <th>user</th>\n",
       "      <th>tweet</th>\n",
       "      <th>favorite</th>\n",
       "      <th>retweet</th>\n",
       "      <th>sentiment</th>\n",
       "    </tr>\n",
       "  </thead>\n",
       "  <tbody>\n",
       "    <tr>\n",
       "      <th>0</th>\n",
       "      <td>1.611037e+12</td>\n",
       "      <td>1351413086243020801</td>\n",
       "      <td>851039153160568832</td>\n",
       "      <td>@fukujang0627 Hey Fiona, I'm down in Australia...</td>\n",
       "      <td>0</td>\n",
       "      <td>0</td>\n",
       "      <td>0.3400</td>\n",
       "    </tr>\n",
       "    <tr>\n",
       "      <th>1</th>\n",
       "      <td>1.611037e+12</td>\n",
       "      <td>1351413087660863488</td>\n",
       "      <td>710967690354012162</td>\n",
       "      <td>Fuck You</td>\n",
       "      <td>0</td>\n",
       "      <td>0</td>\n",
       "      <td>-0.5423</td>\n",
       "    </tr>\n",
       "    <tr>\n",
       "      <th>2</th>\n",
       "      <td>1.611037e+12</td>\n",
       "      <td>1351413095860756490</td>\n",
       "      <td>1216865290048475136</td>\n",
       "      <td>@RenKozaki I would make you a sad playlist but...</td>\n",
       "      <td>0</td>\n",
       "      <td>0</td>\n",
       "      <td>0.5023</td>\n",
       "    </tr>\n",
       "    <tr>\n",
       "      <th>3</th>\n",
       "      <td>1.611037e+12</td>\n",
       "      <td>1351413095915278337</td>\n",
       "      <td>28873866</td>\n",
       "      <td>@allegedly_adam Apple juice for sure.</td>\n",
       "      <td>0</td>\n",
       "      <td>0</td>\n",
       "      <td>0.3182</td>\n",
       "    </tr>\n",
       "    <tr>\n",
       "      <th>4</th>\n",
       "      <td>1.611037e+12</td>\n",
       "      <td>1351413095986565122</td>\n",
       "      <td>1109867900691607552</td>\n",
       "      <td>If we can’t agree on anything in 2021, we can ...</td>\n",
       "      <td>0</td>\n",
       "      <td>0</td>\n",
       "      <td>0.7126</td>\n",
       "    </tr>\n",
       "    <tr>\n",
       "      <th>5</th>\n",
       "      <td>1.611037e+12</td>\n",
       "      <td>1351413104387772417</td>\n",
       "      <td>1344742438242574342</td>\n",
       "      <td>Too bad Trump PUSHED A GATES VACCINE MADE IN C...</td>\n",
       "      <td>0</td>\n",
       "      <td>0</td>\n",
       "      <td>-0.5423</td>\n",
       "    </tr>\n",
       "    <tr>\n",
       "      <th>6</th>\n",
       "      <td>1.611037e+12</td>\n",
       "      <td>1351413106254221314</td>\n",
       "      <td>3733663577</td>\n",
       "      <td>My shit https://t.co/q6QQm2esrT</td>\n",
       "      <td>0</td>\n",
       "      <td>0</td>\n",
       "      <td>-0.5574</td>\n",
       "    </tr>\n",
       "    <tr>\n",
       "      <th>7</th>\n",
       "      <td>1.611037e+12</td>\n",
       "      <td>1351413107726446592</td>\n",
       "      <td>1228036236142661632</td>\n",
       "      <td>@MaxBoot @FCC No Need.  After all the networks...</td>\n",
       "      <td>0</td>\n",
       "      <td>0</td>\n",
       "      <td>-0.6705</td>\n",
       "    </tr>\n",
       "    <tr>\n",
       "      <th>8</th>\n",
       "      <td>1.611037e+12</td>\n",
       "      <td>1351413109831954438</td>\n",
       "      <td>4460961973</td>\n",
       "      <td>https://t.co/4gJIXgOURl... join us again and r...</td>\n",
       "      <td>0</td>\n",
       "      <td>0</td>\n",
       "      <td>0.8192</td>\n",
       "    </tr>\n",
       "    <tr>\n",
       "      <th>9</th>\n",
       "      <td>1.611037e+12</td>\n",
       "      <td>1351413111157264385</td>\n",
       "      <td>1271000551</td>\n",
       "      <td>New Event Now On. GET Rank S Monsters. App Sto...</td>\n",
       "      <td>0</td>\n",
       "      <td>0</td>\n",
       "      <td>0.3400</td>\n",
       "    </tr>\n",
       "    <tr>\n",
       "      <th>10</th>\n",
       "      <td>1.611037e+12</td>\n",
       "      <td>1351413113149665280</td>\n",
       "      <td>770554974078054400</td>\n",
       "      <td>San Jose: Trubbish 97.8% (14/15/15) CP:509 (L1...</td>\n",
       "      <td>0</td>\n",
       "      <td>0</td>\n",
       "      <td>-0.4939</td>\n",
       "    </tr>\n",
       "    <tr>\n",
       "      <th>11</th>\n",
       "      <td>1.611037e+12</td>\n",
       "      <td>1351413118459494400</td>\n",
       "      <td>878914712</td>\n",
       "      <td>Logged onto Facebook for the first time in yea...</td>\n",
       "      <td>0</td>\n",
       "      <td>0</td>\n",
       "      <td>-0.3612</td>\n",
       "    </tr>\n",
       "    <tr>\n",
       "      <th>12</th>\n",
       "      <td>1.611037e+12</td>\n",
       "      <td>1351413118879064065</td>\n",
       "      <td>1320638314286895104</td>\n",
       "      <td>@omgubuntu There is 1 new comment on your arti...</td>\n",
       "      <td>0</td>\n",
       "      <td>0</td>\n",
       "      <td>0.4019</td>\n",
       "    </tr>\n",
       "    <tr>\n",
       "      <th>13</th>\n",
       "      <td>1.611037e+12</td>\n",
       "      <td>1351413119374028800</td>\n",
       "      <td>1305581635669237766</td>\n",
       "      <td>happy birthday mac:( rip king 🤎\\nhttps://t.co/...</td>\n",
       "      <td>0</td>\n",
       "      <td>0</td>\n",
       "      <td>0.5719</td>\n",
       "    </tr>\n",
       "    <tr>\n",
       "      <th>14</th>\n",
       "      <td>1.611037e+12</td>\n",
       "      <td>1351413120267390976</td>\n",
       "      <td>20740646</td>\n",
       "      <td>FUCK YOU, BARNEY AFFLECK, YOU FUCKER!!! BWAHAH...</td>\n",
       "      <td>0</td>\n",
       "      <td>0</td>\n",
       "      <td>-0.9088</td>\n",
       "    </tr>\n",
       "    <tr>\n",
       "      <th>15</th>\n",
       "      <td>1.611037e+12</td>\n",
       "      <td>1351413124675547136</td>\n",
       "      <td>988288658859089922</td>\n",
       "      <td>Looking for best career opportunities in the w...</td>\n",
       "      <td>0</td>\n",
       "      <td>0</td>\n",
       "      <td>0.8885</td>\n",
       "    </tr>\n",
       "    <tr>\n",
       "      <th>16</th>\n",
       "      <td>1.611037e+12</td>\n",
       "      <td>1351413128504872963</td>\n",
       "      <td>3328813920</td>\n",
       "      <td>@Apple Every one of those Glasses/cups you tip...</td>\n",
       "      <td>0</td>\n",
       "      <td>0</td>\n",
       "      <td>0.6808</td>\n",
       "    </tr>\n",
       "    <tr>\n",
       "      <th>17</th>\n",
       "      <td>1.611037e+12</td>\n",
       "      <td>1351413129549389824</td>\n",
       "      <td>1322991760541323264</td>\n",
       "      <td>The motif of someone gets hurt https://t.co/NC...</td>\n",
       "      <td>0</td>\n",
       "      <td>0</td>\n",
       "      <td>-0.5267</td>\n",
       "    </tr>\n",
       "    <tr>\n",
       "      <th>18</th>\n",
       "      <td>1.611037e+12</td>\n",
       "      <td>1351413132372000769</td>\n",
       "      <td>1249212788565671936</td>\n",
       "      <td>@IsaiahVinson1 @Terry_S_S @Sora_Sakurai As muc...</td>\n",
       "      <td>0</td>\n",
       "      <td>0</td>\n",
       "      <td>0.8176</td>\n",
       "    </tr>\n",
       "    <tr>\n",
       "      <th>19</th>\n",
       "      <td>1.611037e+12</td>\n",
       "      <td>1351413135496736769</td>\n",
       "      <td>1286132148257210368</td>\n",
       "      <td>Status report on One UI 3.0. Very enjoyable. I...</td>\n",
       "      <td>0</td>\n",
       "      <td>0</td>\n",
       "      <td>0.8051</td>\n",
       "    </tr>\n",
       "    <tr>\n",
       "      <th>20</th>\n",
       "      <td>1.611037e+12</td>\n",
       "      <td>1351413140215525376</td>\n",
       "      <td>1339434771261353985</td>\n",
       "      <td>I have a weird attachment to Facebook idk I ju...</td>\n",
       "      <td>0</td>\n",
       "      <td>0</td>\n",
       "      <td>0.4588</td>\n",
       "    </tr>\n",
       "    <tr>\n",
       "      <th>21</th>\n",
       "      <td>1.611037e+12</td>\n",
       "      <td>1351413141129863170</td>\n",
       "      <td>1032212354929442816</td>\n",
       "      <td>Manage your key activities in one place more e...</td>\n",
       "      <td>0</td>\n",
       "      <td>0</td>\n",
       "      <td>0.4576</td>\n",
       "    </tr>\n",
       "    <tr>\n",
       "      <th>22</th>\n",
       "      <td>1.611037e+12</td>\n",
       "      <td>1351413146938974209</td>\n",
       "      <td>741339977137717248</td>\n",
       "      <td>I need my old Facebook back 😂</td>\n",
       "      <td>0</td>\n",
       "      <td>0</td>\n",
       "      <td>0.4404</td>\n",
       "    </tr>\n",
       "    <tr>\n",
       "      <th>23</th>\n",
       "      <td>1.611037e+12</td>\n",
       "      <td>1351413148020928513</td>\n",
       "      <td>1327561530058031110</td>\n",
       "      <td>Nice finally someone publicly reading out alou...</td>\n",
       "      <td>0</td>\n",
       "      <td>0</td>\n",
       "      <td>0.7672</td>\n",
       "    </tr>\n",
       "    <tr>\n",
       "      <th>24</th>\n",
       "      <td>1.611037e+12</td>\n",
       "      <td>1351413156564893696</td>\n",
       "      <td>121813785</td>\n",
       "      <td>@benmjohnson @Spotify Game subscriptions up th...</td>\n",
       "      <td>0</td>\n",
       "      <td>0</td>\n",
       "      <td>0.7579</td>\n",
       "    </tr>\n",
       "    <tr>\n",
       "      <th>25</th>\n",
       "      <td>1.611037e+12</td>\n",
       "      <td>1351413163279826944</td>\n",
       "      <td>1312285462124359680</td>\n",
       "      <td>APPLE PIZZA MY MANS IS EATING GOOD</td>\n",
       "      <td>0</td>\n",
       "      <td>0</td>\n",
       "      <td>0.4404</td>\n",
       "    </tr>\n",
       "    <tr>\n",
       "      <th>26</th>\n",
       "      <td>1.611037e+12</td>\n",
       "      <td>1351413165754609664</td>\n",
       "      <td>1300907685479698432</td>\n",
       "      <td>@IamAfrican2221 @ntsikimazwai How old are xap ...</td>\n",
       "      <td>0</td>\n",
       "      <td>0</td>\n",
       "      <td>-0.3274</td>\n",
       "    </tr>\n",
       "    <tr>\n",
       "      <th>27</th>\n",
       "      <td>1.611037e+12</td>\n",
       "      <td>1351413171135930368</td>\n",
       "      <td>1333665742307414018</td>\n",
       "      <td>@mspenguin74 @IlhanMN Another Member of the Tr...</td>\n",
       "      <td>0</td>\n",
       "      <td>0</td>\n",
       "      <td>-0.4588</td>\n",
       "    </tr>\n",
       "    <tr>\n",
       "      <th>28</th>\n",
       "      <td>1.611037e+12</td>\n",
       "      <td>1351413172209504257</td>\n",
       "      <td>962264144908095488</td>\n",
       "      <td>Our,s Dada is great.</td>\n",
       "      <td>0</td>\n",
       "      <td>0</td>\n",
       "      <td>0.6249</td>\n",
       "    </tr>\n",
       "    <tr>\n",
       "      <th>29</th>\n",
       "      <td>1.611037e+12</td>\n",
       "      <td>1351413175149879296</td>\n",
       "      <td>1026757519740465152</td>\n",
       "      <td>@300ZXGirl @The_Red_Mamba_ @JennaEllisEsq Yeah...</td>\n",
       "      <td>0</td>\n",
       "      <td>0</td>\n",
       "      <td>0.6124</td>\n",
       "    </tr>\n",
       "    <tr>\n",
       "      <th>30</th>\n",
       "      <td>1.611037e+12</td>\n",
       "      <td>1351413175170772992</td>\n",
       "      <td>462590423</td>\n",
       "      <td>I think this message spends to all people no m...</td>\n",
       "      <td>0</td>\n",
       "      <td>0</td>\n",
       "      <td>0.4265</td>\n",
       "    </tr>\n",
       "    <tr>\n",
       "      <th>31</th>\n",
       "      <td>1.611037e+12</td>\n",
       "      <td>1351413176215220225</td>\n",
       "      <td>1340562665610108930</td>\n",
       "      <td>Watch it\\n“May you live every day of your life...</td>\n",
       "      <td>0</td>\n",
       "      <td>0</td>\n",
       "      <td>0.6249</td>\n",
       "    </tr>\n",
       "    <tr>\n",
       "      <th>32</th>\n",
       "      <td>1.611037e+12</td>\n",
       "      <td>1351413181172760577</td>\n",
       "      <td>1318389421096382465</td>\n",
       "      <td>\"I should gag you with this. . .\"</td>\n",
       "      <td>0</td>\n",
       "      <td>0</td>\n",
       "      <td>-0.3400</td>\n",
       "    </tr>\n",
       "    <tr>\n",
       "      <th>33</th>\n",
       "      <td>1.611037e+12</td>\n",
       "      <td>1351413190798630913</td>\n",
       "      <td>1339032858044690433</td>\n",
       "      <td>if it's really Mick, napakaBONGGACEOUS nmn ng ...</td>\n",
       "      <td>0</td>\n",
       "      <td>0</td>\n",
       "      <td>0.7650</td>\n",
       "    </tr>\n",
       "    <tr>\n",
       "      <th>34</th>\n",
       "      <td>1.611037e+12</td>\n",
       "      <td>1351413202152656897</td>\n",
       "      <td>1314235562379808768</td>\n",
       "      <td>that time when i searched up power on google a...</td>\n",
       "      <td>0</td>\n",
       "      <td>0</td>\n",
       "      <td>-0.4588</td>\n",
       "    </tr>\n",
       "    <tr>\n",
       "      <th>35</th>\n",
       "      <td>1.611037e+12</td>\n",
       "      <td>1351413205898153986</td>\n",
       "      <td>1239921239193292800</td>\n",
       "      <td>I’m so glad I didn’t drunk tweet last week☺️☺️...</td>\n",
       "      <td>0</td>\n",
       "      <td>0</td>\n",
       "      <td>0.8858</td>\n",
       "    </tr>\n",
       "    <tr>\n",
       "      <th>36</th>\n",
       "      <td>1.611037e+12</td>\n",
       "      <td>1351413211040419842</td>\n",
       "      <td>347736221</td>\n",
       "      <td>I swear ima brat with my dad he posted me on F...</td>\n",
       "      <td>0</td>\n",
       "      <td>0</td>\n",
       "      <td>-0.7906</td>\n",
       "    </tr>\n",
       "  </tbody>\n",
       "</table>\n",
       "</div>"
      ],
      "text/plain": [
       "            unix                   id                 user  \\\n",
       "0   1.611037e+12  1351413086243020801   851039153160568832   \n",
       "1   1.611037e+12  1351413087660863488   710967690354012162   \n",
       "2   1.611037e+12  1351413095860756490  1216865290048475136   \n",
       "3   1.611037e+12  1351413095915278337             28873866   \n",
       "4   1.611037e+12  1351413095986565122  1109867900691607552   \n",
       "5   1.611037e+12  1351413104387772417  1344742438242574342   \n",
       "6   1.611037e+12  1351413106254221314           3733663577   \n",
       "7   1.611037e+12  1351413107726446592  1228036236142661632   \n",
       "8   1.611037e+12  1351413109831954438           4460961973   \n",
       "9   1.611037e+12  1351413111157264385           1271000551   \n",
       "10  1.611037e+12  1351413113149665280   770554974078054400   \n",
       "11  1.611037e+12  1351413118459494400            878914712   \n",
       "12  1.611037e+12  1351413118879064065  1320638314286895104   \n",
       "13  1.611037e+12  1351413119374028800  1305581635669237766   \n",
       "14  1.611037e+12  1351413120267390976             20740646   \n",
       "15  1.611037e+12  1351413124675547136   988288658859089922   \n",
       "16  1.611037e+12  1351413128504872963           3328813920   \n",
       "17  1.611037e+12  1351413129549389824  1322991760541323264   \n",
       "18  1.611037e+12  1351413132372000769  1249212788565671936   \n",
       "19  1.611037e+12  1351413135496736769  1286132148257210368   \n",
       "20  1.611037e+12  1351413140215525376  1339434771261353985   \n",
       "21  1.611037e+12  1351413141129863170  1032212354929442816   \n",
       "22  1.611037e+12  1351413146938974209   741339977137717248   \n",
       "23  1.611037e+12  1351413148020928513  1327561530058031110   \n",
       "24  1.611037e+12  1351413156564893696            121813785   \n",
       "25  1.611037e+12  1351413163279826944  1312285462124359680   \n",
       "26  1.611037e+12  1351413165754609664  1300907685479698432   \n",
       "27  1.611037e+12  1351413171135930368  1333665742307414018   \n",
       "28  1.611037e+12  1351413172209504257   962264144908095488   \n",
       "29  1.611037e+12  1351413175149879296  1026757519740465152   \n",
       "30  1.611037e+12  1351413175170772992            462590423   \n",
       "31  1.611037e+12  1351413176215220225  1340562665610108930   \n",
       "32  1.611037e+12  1351413181172760577  1318389421096382465   \n",
       "33  1.611037e+12  1351413190798630913  1339032858044690433   \n",
       "34  1.611037e+12  1351413202152656897  1314235562379808768   \n",
       "35  1.611037e+12  1351413205898153986  1239921239193292800   \n",
       "36  1.611037e+12  1351413211040419842            347736221   \n",
       "\n",
       "                                                tweet  favorite  retweet  \\\n",
       "0   @fukujang0627 Hey Fiona, I'm down in Australia...         0        0   \n",
       "1                                            Fuck You         0        0   \n",
       "2   @RenKozaki I would make you a sad playlist but...         0        0   \n",
       "3               @allegedly_adam Apple juice for sure.         0        0   \n",
       "4   If we can’t agree on anything in 2021, we can ...         0        0   \n",
       "5   Too bad Trump PUSHED A GATES VACCINE MADE IN C...         0        0   \n",
       "6                     My shit https://t.co/q6QQm2esrT         0        0   \n",
       "7   @MaxBoot @FCC No Need.  After all the networks...         0        0   \n",
       "8   https://t.co/4gJIXgOURl... join us again and r...         0        0   \n",
       "9   New Event Now On. GET Rank S Monsters. App Sto...         0        0   \n",
       "10  San Jose: Trubbish 97.8% (14/15/15) CP:509 (L1...         0        0   \n",
       "11  Logged onto Facebook for the first time in yea...         0        0   \n",
       "12  @omgubuntu There is 1 new comment on your arti...         0        0   \n",
       "13  happy birthday mac:( rip king 🤎\\nhttps://t.co/...         0        0   \n",
       "14  FUCK YOU, BARNEY AFFLECK, YOU FUCKER!!! BWAHAH...         0        0   \n",
       "15  Looking for best career opportunities in the w...         0        0   \n",
       "16  @Apple Every one of those Glasses/cups you tip...         0        0   \n",
       "17  The motif of someone gets hurt https://t.co/NC...         0        0   \n",
       "18  @IsaiahVinson1 @Terry_S_S @Sora_Sakurai As muc...         0        0   \n",
       "19  Status report on One UI 3.0. Very enjoyable. I...         0        0   \n",
       "20  I have a weird attachment to Facebook idk I ju...         0        0   \n",
       "21  Manage your key activities in one place more e...         0        0   \n",
       "22                      I need my old Facebook back 😂         0        0   \n",
       "23  Nice finally someone publicly reading out alou...         0        0   \n",
       "24  @benmjohnson @Spotify Game subscriptions up th...         0        0   \n",
       "25                 APPLE PIZZA MY MANS IS EATING GOOD         0        0   \n",
       "26  @IamAfrican2221 @ntsikimazwai How old are xap ...         0        0   \n",
       "27  @mspenguin74 @IlhanMN Another Member of the Tr...         0        0   \n",
       "28                               Our,s Dada is great.         0        0   \n",
       "29  @300ZXGirl @The_Red_Mamba_ @JennaEllisEsq Yeah...         0        0   \n",
       "30  I think this message spends to all people no m...         0        0   \n",
       "31  Watch it\\n“May you live every day of your life...         0        0   \n",
       "32                  \"I should gag you with this. . .\"         0        0   \n",
       "33  if it's really Mick, napakaBONGGACEOUS nmn ng ...         0        0   \n",
       "34  that time when i searched up power on google a...         0        0   \n",
       "35  I’m so glad I didn’t drunk tweet last week☺️☺️...         0        0   \n",
       "36  I swear ima brat with my dad he posted me on F...         0        0   \n",
       "\n",
       "    sentiment  \n",
       "0      0.3400  \n",
       "1     -0.5423  \n",
       "2      0.5023  \n",
       "3      0.3182  \n",
       "4      0.7126  \n",
       "5     -0.5423  \n",
       "6     -0.5574  \n",
       "7     -0.6705  \n",
       "8      0.8192  \n",
       "9      0.3400  \n",
       "10    -0.4939  \n",
       "11    -0.3612  \n",
       "12     0.4019  \n",
       "13     0.5719  \n",
       "14    -0.9088  \n",
       "15     0.8885  \n",
       "16     0.6808  \n",
       "17    -0.5267  \n",
       "18     0.8176  \n",
       "19     0.8051  \n",
       "20     0.4588  \n",
       "21     0.4576  \n",
       "22     0.4404  \n",
       "23     0.7672  \n",
       "24     0.7579  \n",
       "25     0.4404  \n",
       "26    -0.3274  \n",
       "27    -0.4588  \n",
       "28     0.6249  \n",
       "29     0.6124  \n",
       "30     0.4265  \n",
       "31     0.6249  \n",
       "32    -0.3400  \n",
       "33     0.7650  \n",
       "34    -0.4588  \n",
       "35     0.8858  \n",
       "36    -0.7906  "
      ]
     },
     "execution_count": 63,
     "metadata": {},
     "output_type": "execute_result"
    }
   ],
   "source": [
    "clean_df"
   ]
  },
  {
   "cell_type": "code",
   "execution_count": 76,
   "metadata": {
    "ExecuteTime": {
     "end_time": "2021-01-19T06:28:52.481824Z",
     "start_time": "2021-01-19T06:28:52.416797Z"
    }
   },
   "outputs": [
    {
     "ename": "ValueError",
     "evalue": "time data '1611037061' does not match format '%d/%m/%Y' (match)",
     "output_type": "error",
     "traceback": [
      "\u001b[0;31m---------------------------------------------------------------------------\u001b[0m",
      "\u001b[0;31mTypeError\u001b[0m                                 Traceback (most recent call last)",
      "\u001b[0;32m/opt/anaconda3/envs/learn-env/lib/python3.6/site-packages/pandas/core/tools/datetimes.py\u001b[0m in \u001b[0;36m_convert_listlike_datetimes\u001b[0;34m(arg, format, name, tz, unit, errors, infer_datetime_format, dayfirst, yearfirst, exact)\u001b[0m\n\u001b[1;32m    449\u001b[0m             \u001b[0;32mtry\u001b[0m\u001b[0;34m:\u001b[0m\u001b[0;34m\u001b[0m\u001b[0;34m\u001b[0m\u001b[0m\n\u001b[0;32m--> 450\u001b[0;31m                 \u001b[0mvalues\u001b[0m\u001b[0;34m,\u001b[0m \u001b[0mtz\u001b[0m \u001b[0;34m=\u001b[0m \u001b[0mconversion\u001b[0m\u001b[0;34m.\u001b[0m\u001b[0mdatetime_to_datetime64\u001b[0m\u001b[0;34m(\u001b[0m\u001b[0marg\u001b[0m\u001b[0;34m)\u001b[0m\u001b[0;34m\u001b[0m\u001b[0;34m\u001b[0m\u001b[0m\n\u001b[0m\u001b[1;32m    451\u001b[0m                 \u001b[0mdta\u001b[0m \u001b[0;34m=\u001b[0m \u001b[0mDatetimeArray\u001b[0m\u001b[0;34m(\u001b[0m\u001b[0mvalues\u001b[0m\u001b[0;34m,\u001b[0m \u001b[0mdtype\u001b[0m\u001b[0;34m=\u001b[0m\u001b[0mtz_to_dtype\u001b[0m\u001b[0;34m(\u001b[0m\u001b[0mtz\u001b[0m\u001b[0;34m)\u001b[0m\u001b[0;34m)\u001b[0m\u001b[0;34m\u001b[0m\u001b[0;34m\u001b[0m\u001b[0m\n",
      "\u001b[0;32mpandas/_libs/tslibs/conversion.pyx\u001b[0m in \u001b[0;36mpandas._libs.tslibs.conversion.datetime_to_datetime64\u001b[0;34m()\u001b[0m\n",
      "\u001b[0;31mTypeError\u001b[0m: Unrecognized value type: <class 'int'>",
      "\nDuring handling of the above exception, another exception occurred:\n",
      "\u001b[0;31mValueError\u001b[0m                                Traceback (most recent call last)",
      "\u001b[0;32m<ipython-input-76-e0ff3ac10d3a>\u001b[0m in \u001b[0;36m<module>\u001b[0;34m\u001b[0m\n\u001b[0;32m----> 1\u001b[0;31m \u001b[0mpd\u001b[0m\u001b[0;34m.\u001b[0m\u001b[0mto_datetime\u001b[0m\u001b[0;34m(\u001b[0m\u001b[0;36m1611037061493.0\u001b[0m\u001b[0;34m/\u001b[0m\u001b[0;36m1000\u001b[0m\u001b[0;34m,\u001b[0m \u001b[0mformat\u001b[0m\u001b[0;34m=\u001b[0m\u001b[0;34m'%d/%m/%Y'\u001b[0m\u001b[0;34m)\u001b[0m\u001b[0;34m\u001b[0m\u001b[0;34m\u001b[0m\u001b[0m\n\u001b[0m",
      "\u001b[0;32m/opt/anaconda3/envs/learn-env/lib/python3.6/site-packages/pandas/core/tools/datetimes.py\u001b[0m in \u001b[0;36mto_datetime\u001b[0;34m(arg, errors, dayfirst, yearfirst, utc, format, exact, unit, infer_datetime_format, origin, cache)\u001b[0m\n\u001b[1;32m    828\u001b[0m             \u001b[0mresult\u001b[0m \u001b[0;34m=\u001b[0m \u001b[0mconvert_listlike\u001b[0m\u001b[0;34m(\u001b[0m\u001b[0marg\u001b[0m\u001b[0;34m,\u001b[0m \u001b[0mformat\u001b[0m\u001b[0;34m)\u001b[0m\u001b[0;34m\u001b[0m\u001b[0;34m\u001b[0m\u001b[0m\n\u001b[1;32m    829\u001b[0m     \u001b[0;32melse\u001b[0m\u001b[0;34m:\u001b[0m\u001b[0;34m\u001b[0m\u001b[0;34m\u001b[0m\u001b[0m\n\u001b[0;32m--> 830\u001b[0;31m         \u001b[0mresult\u001b[0m \u001b[0;34m=\u001b[0m \u001b[0mconvert_listlike\u001b[0m\u001b[0;34m(\u001b[0m\u001b[0mnp\u001b[0m\u001b[0;34m.\u001b[0m\u001b[0marray\u001b[0m\u001b[0;34m(\u001b[0m\u001b[0;34m[\u001b[0m\u001b[0marg\u001b[0m\u001b[0;34m]\u001b[0m\u001b[0;34m)\u001b[0m\u001b[0;34m,\u001b[0m \u001b[0mformat\u001b[0m\u001b[0;34m)\u001b[0m\u001b[0;34m[\u001b[0m\u001b[0;36m0\u001b[0m\u001b[0;34m]\u001b[0m\u001b[0;34m\u001b[0m\u001b[0;34m\u001b[0m\u001b[0m\n\u001b[0m\u001b[1;32m    831\u001b[0m \u001b[0;34m\u001b[0m\u001b[0m\n\u001b[1;32m    832\u001b[0m     \u001b[0;32mreturn\u001b[0m \u001b[0mresult\u001b[0m\u001b[0;34m\u001b[0m\u001b[0;34m\u001b[0m\u001b[0m\n",
      "\u001b[0;32m/opt/anaconda3/envs/learn-env/lib/python3.6/site-packages/pandas/core/tools/datetimes.py\u001b[0m in \u001b[0;36m_convert_listlike_datetimes\u001b[0;34m(arg, format, name, tz, unit, errors, infer_datetime_format, dayfirst, yearfirst, exact)\u001b[0m\n\u001b[1;32m    452\u001b[0m                 \u001b[0;32mreturn\u001b[0m \u001b[0mDatetimeIndex\u001b[0m\u001b[0;34m.\u001b[0m\u001b[0m_simple_new\u001b[0m\u001b[0;34m(\u001b[0m\u001b[0mdta\u001b[0m\u001b[0;34m,\u001b[0m \u001b[0mname\u001b[0m\u001b[0;34m=\u001b[0m\u001b[0mname\u001b[0m\u001b[0;34m)\u001b[0m\u001b[0;34m\u001b[0m\u001b[0;34m\u001b[0m\u001b[0m\n\u001b[1;32m    453\u001b[0m             \u001b[0;32mexcept\u001b[0m \u001b[0;34m(\u001b[0m\u001b[0mValueError\u001b[0m\u001b[0;34m,\u001b[0m \u001b[0mTypeError\u001b[0m\u001b[0;34m)\u001b[0m\u001b[0;34m:\u001b[0m\u001b[0;34m\u001b[0m\u001b[0;34m\u001b[0m\u001b[0m\n\u001b[0;32m--> 454\u001b[0;31m                 \u001b[0;32mraise\u001b[0m \u001b[0me\u001b[0m\u001b[0;34m\u001b[0m\u001b[0;34m\u001b[0m\u001b[0m\n\u001b[0m\u001b[1;32m    455\u001b[0m \u001b[0;34m\u001b[0m\u001b[0m\n\u001b[1;32m    456\u001b[0m     \u001b[0;32mif\u001b[0m \u001b[0mresult\u001b[0m \u001b[0;32mis\u001b[0m \u001b[0;32mNone\u001b[0m\u001b[0;34m:\u001b[0m\u001b[0;34m\u001b[0m\u001b[0;34m\u001b[0m\u001b[0m\n",
      "\u001b[0;32m/opt/anaconda3/envs/learn-env/lib/python3.6/site-packages/pandas/core/tools/datetimes.py\u001b[0m in \u001b[0;36m_convert_listlike_datetimes\u001b[0;34m(arg, format, name, tz, unit, errors, infer_datetime_format, dayfirst, yearfirst, exact)\u001b[0m\n\u001b[1;32m    416\u001b[0m                 \u001b[0;32mtry\u001b[0m\u001b[0;34m:\u001b[0m\u001b[0;34m\u001b[0m\u001b[0;34m\u001b[0m\u001b[0m\n\u001b[1;32m    417\u001b[0m                     result, timezones = array_strptime(\n\u001b[0;32m--> 418\u001b[0;31m                         \u001b[0marg\u001b[0m\u001b[0;34m,\u001b[0m \u001b[0mformat\u001b[0m\u001b[0;34m,\u001b[0m \u001b[0mexact\u001b[0m\u001b[0;34m=\u001b[0m\u001b[0mexact\u001b[0m\u001b[0;34m,\u001b[0m \u001b[0merrors\u001b[0m\u001b[0;34m=\u001b[0m\u001b[0merrors\u001b[0m\u001b[0;34m\u001b[0m\u001b[0;34m\u001b[0m\u001b[0m\n\u001b[0m\u001b[1;32m    419\u001b[0m                     )\n\u001b[1;32m    420\u001b[0m                     \u001b[0;32mif\u001b[0m \u001b[0;34m\"%Z\"\u001b[0m \u001b[0;32min\u001b[0m \u001b[0mformat\u001b[0m \u001b[0;32mor\u001b[0m \u001b[0;34m\"%z\"\u001b[0m \u001b[0;32min\u001b[0m \u001b[0mformat\u001b[0m\u001b[0;34m:\u001b[0m\u001b[0;34m\u001b[0m\u001b[0;34m\u001b[0m\u001b[0m\n",
      "\u001b[0;32mpandas/_libs/tslibs/strptime.pyx\u001b[0m in \u001b[0;36mpandas._libs.tslibs.strptime.array_strptime\u001b[0;34m()\u001b[0m\n",
      "\u001b[0;31mValueError\u001b[0m: time data '1611037061' does not match format '%d/%m/%Y' (match)"
     ]
    }
   ],
   "source": [
    "pd.to_datetime(1611037061493.0, unit='ms')"
   ]
  },
  {
   "cell_type": "code",
   "execution_count": 81,
   "metadata": {
    "ExecuteTime": {
     "end_time": "2021-01-19T06:32:18.294602Z",
     "start_time": "2021-01-19T06:32:18.290275Z"
    }
   },
   "outputs": [
    {
     "data": {
      "text/plain": [
       "'01/19/2021-01:17:41'"
      ]
     },
     "execution_count": 81,
     "metadata": {},
     "output_type": "execute_result"
    }
   ],
   "source": [
    "datetime.datetime.fromtimestamp(x/1000).strftime('%m/%d/%Y-%H:%M:%S')"
   ]
  },
  {
   "cell_type": "code",
   "execution_count": 86,
   "metadata": {
    "ExecuteTime": {
     "end_time": "2021-01-19T06:59:45.369774Z",
     "start_time": "2021-01-19T06:59:42.507693Z"
    }
   },
   "outputs": [],
   "source": [
    "query = f\"\"\"\n",
    "        SELECT c.clean, s.sentiment\n",
    "        FROM clean c\n",
    "        JOIN sentiment s\n",
    "        ON c.id = s.id\n",
    "        LIMIT 10\n",
    "        \"\"\"\n",
    "df = pd.read_sql(query, conn)"
   ]
  },
  {
   "cell_type": "code",
   "execution_count": 87,
   "metadata": {
    "ExecuteTime": {
     "end_time": "2021-01-19T06:59:45.382838Z",
     "start_time": "2021-01-19T06:59:45.372648Z"
    }
   },
   "outputs": [
    {
     "data": {
      "text/html": [
       "<div>\n",
       "<style scoped>\n",
       "    .dataframe tbody tr th:only-of-type {\n",
       "        vertical-align: middle;\n",
       "    }\n",
       "\n",
       "    .dataframe tbody tr th {\n",
       "        vertical-align: top;\n",
       "    }\n",
       "\n",
       "    .dataframe thead th {\n",
       "        text-align: right;\n",
       "    }\n",
       "</style>\n",
       "<table border=\"1\" class=\"dataframe\">\n",
       "  <thead>\n",
       "    <tr style=\"text-align: right;\">\n",
       "      <th></th>\n",
       "      <th>clean</th>\n",
       "      <th>sentiment</th>\n",
       "    </tr>\n",
       "  </thead>\n",
       "  <tbody>\n",
       "    <tr>\n",
       "      <th>0</th>\n",
       "      <td>friend have surpass streams spotify congrats y...</td>\n",
       "      <td>0.7639</td>\n",
       "    </tr>\n",
       "    <tr>\n",
       "      <th>1</th>\n",
       "      <td>take that useless mask off they cause more dam...</td>\n",
       "      <td>-0.8157</td>\n",
       "    </tr>\n",
       "    <tr>\n",
       "      <th>2</th>\n",
       "      <td>selamat siang ^_^ promo wetv bulan= viu bulan=...</td>\n",
       "      <td>0.4588</td>\n",
       "    </tr>\n",
       "    <tr>\n",
       "      <th>3</th>\n",
       "      <td>apple niggas the new samsung not come with cha...</td>\n",
       "      <td>-0.3400</td>\n",
       "    </tr>\n",
       "    <tr>\n",
       "      <th>4</th>\n",
       "      <td>another member the trump hatin squad serious t...</td>\n",
       "      <td>-0.4588</td>\n",
       "    </tr>\n",
       "    <tr>\n",
       "      <th>5</th>\n",
       "      <td>disclaimer have find these picture facebook th...</td>\n",
       "      <td>0.6486</td>\n",
       "    </tr>\n",
       "    <tr>\n",
       "      <th>6</th>\n",
       "      <td>bad enough your main have cyber bully from the...</td>\n",
       "      <td>-0.5423</td>\n",
       "    </tr>\n",
       "    <tr>\n",
       "      <th>7</th>\n",
       "      <td>wait minute apple create widget view for batte...</td>\n",
       "      <td>0.4240</td>\n",
       "    </tr>\n",
       "    <tr>\n",
       "      <th>8</th>\n",
       "      <td>that where need your help harsha give good ana...</td>\n",
       "      <td>0.8689</td>\n",
       "    </tr>\n",
       "    <tr>\n",
       "      <th>9</th>\n",
       "      <td>present coindcx app india simple bitcoin app ️...</td>\n",
       "      <td>0.4466</td>\n",
       "    </tr>\n",
       "  </tbody>\n",
       "</table>\n",
       "</div>"
      ],
      "text/plain": [
       "                                               clean  sentiment\n",
       "0  friend have surpass streams spotify congrats y...     0.7639\n",
       "1  take that useless mask off they cause more dam...    -0.8157\n",
       "2  selamat siang ^_^ promo wetv bulan= viu bulan=...     0.4588\n",
       "3  apple niggas the new samsung not come with cha...    -0.3400\n",
       "4  another member the trump hatin squad serious t...    -0.4588\n",
       "5  disclaimer have find these picture facebook th...     0.6486\n",
       "6  bad enough your main have cyber bully from the...    -0.5423\n",
       "7  wait minute apple create widget view for batte...     0.4240\n",
       "8  that where need your help harsha give good ana...     0.8689\n",
       "9  present coindcx app india simple bitcoin app ️...     0.4466"
      ]
     },
     "execution_count": 87,
     "metadata": {},
     "output_type": "execute_result"
    }
   ],
   "source": [
    "df"
   ]
  },
  {
   "cell_type": "code",
   "execution_count": 88,
   "metadata": {
    "ExecuteTime": {
     "end_time": "2021-01-19T07:31:35.203715Z",
     "start_time": "2021-01-19T07:31:35.200323Z"
    }
   },
   "outputs": [],
   "source": [
    "q = \"'%\"+keywords[0]+\"%'\""
   ]
  },
  {
   "cell_type": "code",
   "execution_count": 89,
   "metadata": {
    "ExecuteTime": {
     "end_time": "2021-01-19T07:31:37.077006Z",
     "start_time": "2021-01-19T07:31:37.073026Z"
    }
   },
   "outputs": [
    {
     "data": {
      "text/plain": [
       "\"'%Apple%'\""
      ]
     },
     "execution_count": 89,
     "metadata": {},
     "output_type": "execute_result"
    }
   ],
   "source": [
    "q"
   ]
  },
  {
   "cell_type": "code",
   "execution_count": 90,
   "metadata": {
    "ExecuteTime": {
     "end_time": "2021-01-19T07:55:11.002361Z",
     "start_time": "2021-01-19T07:55:10.990181Z"
    }
   },
   "outputs": [],
   "source": [
    "from spacy.lang.en.stop_words import STOP_WORDS"
   ]
  },
  {
   "cell_type": "code",
   "execution_count": 91,
   "metadata": {
    "ExecuteTime": {
     "end_time": "2021-01-19T07:55:15.265327Z",
     "start_time": "2021-01-19T07:55:15.249806Z"
    }
   },
   "outputs": [
    {
     "data": {
      "text/plain": [
       "{\"'d\",\n",
       " \"'ll\",\n",
       " \"'m\",\n",
       " \"'re\",\n",
       " \"'s\",\n",
       " \"'ve\",\n",
       " 'a',\n",
       " 'about',\n",
       " 'above',\n",
       " 'across',\n",
       " 'after',\n",
       " 'afterwards',\n",
       " 'again',\n",
       " 'against',\n",
       " 'all',\n",
       " 'almost',\n",
       " 'alone',\n",
       " 'along',\n",
       " 'already',\n",
       " 'also',\n",
       " 'although',\n",
       " 'always',\n",
       " 'am',\n",
       " 'among',\n",
       " 'amongst',\n",
       " 'amount',\n",
       " 'an',\n",
       " 'and',\n",
       " 'another',\n",
       " 'any',\n",
       " 'anyhow',\n",
       " 'anyone',\n",
       " 'anything',\n",
       " 'anyway',\n",
       " 'anywhere',\n",
       " 'are',\n",
       " 'around',\n",
       " 'as',\n",
       " 'at',\n",
       " 'back',\n",
       " 'be',\n",
       " 'became',\n",
       " 'because',\n",
       " 'become',\n",
       " 'becomes',\n",
       " 'becoming',\n",
       " 'been',\n",
       " 'before',\n",
       " 'beforehand',\n",
       " 'behind',\n",
       " 'being',\n",
       " 'below',\n",
       " 'beside',\n",
       " 'besides',\n",
       " 'between',\n",
       " 'beyond',\n",
       " 'both',\n",
       " 'bottom',\n",
       " 'but',\n",
       " 'by',\n",
       " 'ca',\n",
       " 'call',\n",
       " 'can',\n",
       " 'cannot',\n",
       " 'could',\n",
       " 'did',\n",
       " 'do',\n",
       " 'does',\n",
       " 'doing',\n",
       " 'done',\n",
       " 'down',\n",
       " 'due',\n",
       " 'during',\n",
       " 'each',\n",
       " 'eight',\n",
       " 'either',\n",
       " 'eleven',\n",
       " 'else',\n",
       " 'elsewhere',\n",
       " 'empty',\n",
       " 'enough',\n",
       " 'even',\n",
       " 'ever',\n",
       " 'every',\n",
       " 'everyone',\n",
       " 'everything',\n",
       " 'everywhere',\n",
       " 'except',\n",
       " 'few',\n",
       " 'fifteen',\n",
       " 'fifty',\n",
       " 'first',\n",
       " 'five',\n",
       " 'for',\n",
       " 'former',\n",
       " 'formerly',\n",
       " 'forty',\n",
       " 'four',\n",
       " 'from',\n",
       " 'front',\n",
       " 'full',\n",
       " 'further',\n",
       " 'get',\n",
       " 'give',\n",
       " 'go',\n",
       " 'had',\n",
       " 'has',\n",
       " 'have',\n",
       " 'he',\n",
       " 'hence',\n",
       " 'her',\n",
       " 'here',\n",
       " 'hereafter',\n",
       " 'hereby',\n",
       " 'herein',\n",
       " 'hereupon',\n",
       " 'hers',\n",
       " 'herself',\n",
       " 'him',\n",
       " 'himself',\n",
       " 'his',\n",
       " 'how',\n",
       " 'however',\n",
       " 'hundred',\n",
       " 'i',\n",
       " 'if',\n",
       " 'in',\n",
       " 'indeed',\n",
       " 'into',\n",
       " 'is',\n",
       " 'it',\n",
       " 'its',\n",
       " 'itself',\n",
       " 'just',\n",
       " 'keep',\n",
       " 'last',\n",
       " 'latter',\n",
       " 'latterly',\n",
       " 'least',\n",
       " 'less',\n",
       " 'made',\n",
       " 'make',\n",
       " 'many',\n",
       " 'may',\n",
       " 'me',\n",
       " 'meanwhile',\n",
       " 'might',\n",
       " 'mine',\n",
       " 'more',\n",
       " 'moreover',\n",
       " 'most',\n",
       " 'mostly',\n",
       " 'move',\n",
       " 'much',\n",
       " 'must',\n",
       " 'my',\n",
       " 'myself',\n",
       " \"n't\",\n",
       " 'name',\n",
       " 'namely',\n",
       " 'neither',\n",
       " 'never',\n",
       " 'nevertheless',\n",
       " 'next',\n",
       " 'nine',\n",
       " 'no',\n",
       " 'nobody',\n",
       " 'none',\n",
       " 'noone',\n",
       " 'nor',\n",
       " 'not',\n",
       " 'nothing',\n",
       " 'now',\n",
       " 'nowhere',\n",
       " 'n‘t',\n",
       " 'n’t',\n",
       " 'of',\n",
       " 'off',\n",
       " 'often',\n",
       " 'on',\n",
       " 'once',\n",
       " 'one',\n",
       " 'only',\n",
       " 'onto',\n",
       " 'or',\n",
       " 'other',\n",
       " 'others',\n",
       " 'otherwise',\n",
       " 'our',\n",
       " 'ours',\n",
       " 'ourselves',\n",
       " 'out',\n",
       " 'over',\n",
       " 'own',\n",
       " 'part',\n",
       " 'per',\n",
       " 'perhaps',\n",
       " 'please',\n",
       " 'put',\n",
       " 'quite',\n",
       " 'rather',\n",
       " 're',\n",
       " 'really',\n",
       " 'regarding',\n",
       " 'same',\n",
       " 'say',\n",
       " 'see',\n",
       " 'seem',\n",
       " 'seemed',\n",
       " 'seeming',\n",
       " 'seems',\n",
       " 'serious',\n",
       " 'several',\n",
       " 'she',\n",
       " 'should',\n",
       " 'show',\n",
       " 'side',\n",
       " 'since',\n",
       " 'six',\n",
       " 'sixty',\n",
       " 'so',\n",
       " 'some',\n",
       " 'somehow',\n",
       " 'someone',\n",
       " 'something',\n",
       " 'sometime',\n",
       " 'sometimes',\n",
       " 'somewhere',\n",
       " 'still',\n",
       " 'such',\n",
       " 'take',\n",
       " 'ten',\n",
       " 'than',\n",
       " 'that',\n",
       " 'the',\n",
       " 'their',\n",
       " 'them',\n",
       " 'themselves',\n",
       " 'then',\n",
       " 'thence',\n",
       " 'there',\n",
       " 'thereafter',\n",
       " 'thereby',\n",
       " 'therefore',\n",
       " 'therein',\n",
       " 'thereupon',\n",
       " 'these',\n",
       " 'they',\n",
       " 'third',\n",
       " 'this',\n",
       " 'those',\n",
       " 'though',\n",
       " 'three',\n",
       " 'through',\n",
       " 'throughout',\n",
       " 'thru',\n",
       " 'thus',\n",
       " 'to',\n",
       " 'together',\n",
       " 'too',\n",
       " 'top',\n",
       " 'toward',\n",
       " 'towards',\n",
       " 'twelve',\n",
       " 'twenty',\n",
       " 'two',\n",
       " 'under',\n",
       " 'unless',\n",
       " 'until',\n",
       " 'up',\n",
       " 'upon',\n",
       " 'us',\n",
       " 'used',\n",
       " 'using',\n",
       " 'various',\n",
       " 'very',\n",
       " 'via',\n",
       " 'was',\n",
       " 'we',\n",
       " 'well',\n",
       " 'were',\n",
       " 'what',\n",
       " 'whatever',\n",
       " 'when',\n",
       " 'whence',\n",
       " 'whenever',\n",
       " 'where',\n",
       " 'whereafter',\n",
       " 'whereas',\n",
       " 'whereby',\n",
       " 'wherein',\n",
       " 'whereupon',\n",
       " 'wherever',\n",
       " 'whether',\n",
       " 'which',\n",
       " 'while',\n",
       " 'whither',\n",
       " 'who',\n",
       " 'whoever',\n",
       " 'whole',\n",
       " 'whom',\n",
       " 'whose',\n",
       " 'why',\n",
       " 'will',\n",
       " 'with',\n",
       " 'within',\n",
       " 'without',\n",
       " 'would',\n",
       " 'yet',\n",
       " 'you',\n",
       " 'your',\n",
       " 'yours',\n",
       " 'yourself',\n",
       " 'yourselves',\n",
       " '‘d',\n",
       " '‘ll',\n",
       " '‘m',\n",
       " '‘re',\n",
       " '‘s',\n",
       " '‘ve',\n",
       " '’d',\n",
       " '’ll',\n",
       " '’m',\n",
       " '’re',\n",
       " '’s',\n",
       " '’ve'}"
      ]
     },
     "execution_count": 91,
     "metadata": {},
     "output_type": "execute_result"
    }
   ],
   "source": [
    "STOP_WORDS"
   ]
  },
  {
   "cell_type": "code",
   "execution_count": 93,
   "metadata": {
    "ExecuteTime": {
     "end_time": "2021-01-19T07:56:07.172981Z",
     "start_time": "2021-01-19T07:56:07.168644Z"
    }
   },
   "outputs": [],
   "source": [
    "import string\n",
    "keywords = ['apple', 'yahoo']"
   ]
  },
  {
   "cell_type": "code",
   "execution_count": 94,
   "metadata": {
    "ExecuteTime": {
     "end_time": "2021-01-19T07:56:10.690038Z",
     "start_time": "2021-01-19T07:56:10.680950Z"
    }
   },
   "outputs": [],
   "source": [
    "stopword_list = set(list(STOP_WORDS) + list(string.punctuation) + keywords)"
   ]
  },
  {
   "cell_type": "code",
   "execution_count": 95,
   "metadata": {
    "ExecuteTime": {
     "end_time": "2021-01-19T07:56:15.329757Z",
     "start_time": "2021-01-19T07:56:15.292479Z"
    }
   },
   "outputs": [
    {
     "data": {
      "text/plain": [
       "{'!',\n",
       " '\"',\n",
       " '#',\n",
       " '$',\n",
       " '%',\n",
       " '&',\n",
       " \"'\",\n",
       " \"'d\",\n",
       " \"'ll\",\n",
       " \"'m\",\n",
       " \"'re\",\n",
       " \"'s\",\n",
       " \"'ve\",\n",
       " '(',\n",
       " ')',\n",
       " '*',\n",
       " '+',\n",
       " ',',\n",
       " '-',\n",
       " '.',\n",
       " '/',\n",
       " ':',\n",
       " ';',\n",
       " '<',\n",
       " '=',\n",
       " '>',\n",
       " '?',\n",
       " '@',\n",
       " '[',\n",
       " '\\\\',\n",
       " ']',\n",
       " '^',\n",
       " '_',\n",
       " '`',\n",
       " 'a',\n",
       " 'about',\n",
       " 'above',\n",
       " 'across',\n",
       " 'after',\n",
       " 'afterwards',\n",
       " 'again',\n",
       " 'against',\n",
       " 'all',\n",
       " 'almost',\n",
       " 'alone',\n",
       " 'along',\n",
       " 'already',\n",
       " 'also',\n",
       " 'although',\n",
       " 'always',\n",
       " 'am',\n",
       " 'among',\n",
       " 'amongst',\n",
       " 'amount',\n",
       " 'an',\n",
       " 'and',\n",
       " 'another',\n",
       " 'any',\n",
       " 'anyhow',\n",
       " 'anyone',\n",
       " 'anything',\n",
       " 'anyway',\n",
       " 'anywhere',\n",
       " 'apple',\n",
       " 'are',\n",
       " 'around',\n",
       " 'as',\n",
       " 'at',\n",
       " 'back',\n",
       " 'be',\n",
       " 'became',\n",
       " 'because',\n",
       " 'become',\n",
       " 'becomes',\n",
       " 'becoming',\n",
       " 'been',\n",
       " 'before',\n",
       " 'beforehand',\n",
       " 'behind',\n",
       " 'being',\n",
       " 'below',\n",
       " 'beside',\n",
       " 'besides',\n",
       " 'between',\n",
       " 'beyond',\n",
       " 'both',\n",
       " 'bottom',\n",
       " 'but',\n",
       " 'by',\n",
       " 'ca',\n",
       " 'call',\n",
       " 'can',\n",
       " 'cannot',\n",
       " 'could',\n",
       " 'did',\n",
       " 'do',\n",
       " 'does',\n",
       " 'doing',\n",
       " 'done',\n",
       " 'down',\n",
       " 'due',\n",
       " 'during',\n",
       " 'each',\n",
       " 'eight',\n",
       " 'either',\n",
       " 'eleven',\n",
       " 'else',\n",
       " 'elsewhere',\n",
       " 'empty',\n",
       " 'enough',\n",
       " 'even',\n",
       " 'ever',\n",
       " 'every',\n",
       " 'everyone',\n",
       " 'everything',\n",
       " 'everywhere',\n",
       " 'except',\n",
       " 'few',\n",
       " 'fifteen',\n",
       " 'fifty',\n",
       " 'first',\n",
       " 'five',\n",
       " 'for',\n",
       " 'former',\n",
       " 'formerly',\n",
       " 'forty',\n",
       " 'four',\n",
       " 'from',\n",
       " 'front',\n",
       " 'full',\n",
       " 'further',\n",
       " 'get',\n",
       " 'give',\n",
       " 'go',\n",
       " 'had',\n",
       " 'has',\n",
       " 'have',\n",
       " 'he',\n",
       " 'hence',\n",
       " 'her',\n",
       " 'here',\n",
       " 'hereafter',\n",
       " 'hereby',\n",
       " 'herein',\n",
       " 'hereupon',\n",
       " 'hers',\n",
       " 'herself',\n",
       " 'him',\n",
       " 'himself',\n",
       " 'his',\n",
       " 'how',\n",
       " 'however',\n",
       " 'hundred',\n",
       " 'i',\n",
       " 'if',\n",
       " 'in',\n",
       " 'indeed',\n",
       " 'into',\n",
       " 'is',\n",
       " 'it',\n",
       " 'its',\n",
       " 'itself',\n",
       " 'just',\n",
       " 'keep',\n",
       " 'last',\n",
       " 'latter',\n",
       " 'latterly',\n",
       " 'least',\n",
       " 'less',\n",
       " 'made',\n",
       " 'make',\n",
       " 'many',\n",
       " 'may',\n",
       " 'me',\n",
       " 'meanwhile',\n",
       " 'might',\n",
       " 'mine',\n",
       " 'more',\n",
       " 'moreover',\n",
       " 'most',\n",
       " 'mostly',\n",
       " 'move',\n",
       " 'much',\n",
       " 'must',\n",
       " 'my',\n",
       " 'myself',\n",
       " \"n't\",\n",
       " 'name',\n",
       " 'namely',\n",
       " 'neither',\n",
       " 'never',\n",
       " 'nevertheless',\n",
       " 'next',\n",
       " 'nine',\n",
       " 'no',\n",
       " 'nobody',\n",
       " 'none',\n",
       " 'noone',\n",
       " 'nor',\n",
       " 'not',\n",
       " 'nothing',\n",
       " 'now',\n",
       " 'nowhere',\n",
       " 'n‘t',\n",
       " 'n’t',\n",
       " 'of',\n",
       " 'off',\n",
       " 'often',\n",
       " 'on',\n",
       " 'once',\n",
       " 'one',\n",
       " 'only',\n",
       " 'onto',\n",
       " 'or',\n",
       " 'other',\n",
       " 'others',\n",
       " 'otherwise',\n",
       " 'our',\n",
       " 'ours',\n",
       " 'ourselves',\n",
       " 'out',\n",
       " 'over',\n",
       " 'own',\n",
       " 'part',\n",
       " 'per',\n",
       " 'perhaps',\n",
       " 'please',\n",
       " 'put',\n",
       " 'quite',\n",
       " 'rather',\n",
       " 're',\n",
       " 'really',\n",
       " 'regarding',\n",
       " 'same',\n",
       " 'say',\n",
       " 'see',\n",
       " 'seem',\n",
       " 'seemed',\n",
       " 'seeming',\n",
       " 'seems',\n",
       " 'serious',\n",
       " 'several',\n",
       " 'she',\n",
       " 'should',\n",
       " 'show',\n",
       " 'side',\n",
       " 'since',\n",
       " 'six',\n",
       " 'sixty',\n",
       " 'so',\n",
       " 'some',\n",
       " 'somehow',\n",
       " 'someone',\n",
       " 'something',\n",
       " 'sometime',\n",
       " 'sometimes',\n",
       " 'somewhere',\n",
       " 'still',\n",
       " 'such',\n",
       " 'take',\n",
       " 'ten',\n",
       " 'than',\n",
       " 'that',\n",
       " 'the',\n",
       " 'their',\n",
       " 'them',\n",
       " 'themselves',\n",
       " 'then',\n",
       " 'thence',\n",
       " 'there',\n",
       " 'thereafter',\n",
       " 'thereby',\n",
       " 'therefore',\n",
       " 'therein',\n",
       " 'thereupon',\n",
       " 'these',\n",
       " 'they',\n",
       " 'third',\n",
       " 'this',\n",
       " 'those',\n",
       " 'though',\n",
       " 'three',\n",
       " 'through',\n",
       " 'throughout',\n",
       " 'thru',\n",
       " 'thus',\n",
       " 'to',\n",
       " 'together',\n",
       " 'too',\n",
       " 'top',\n",
       " 'toward',\n",
       " 'towards',\n",
       " 'twelve',\n",
       " 'twenty',\n",
       " 'two',\n",
       " 'under',\n",
       " 'unless',\n",
       " 'until',\n",
       " 'up',\n",
       " 'upon',\n",
       " 'us',\n",
       " 'used',\n",
       " 'using',\n",
       " 'various',\n",
       " 'very',\n",
       " 'via',\n",
       " 'was',\n",
       " 'we',\n",
       " 'well',\n",
       " 'were',\n",
       " 'what',\n",
       " 'whatever',\n",
       " 'when',\n",
       " 'whence',\n",
       " 'whenever',\n",
       " 'where',\n",
       " 'whereafter',\n",
       " 'whereas',\n",
       " 'whereby',\n",
       " 'wherein',\n",
       " 'whereupon',\n",
       " 'wherever',\n",
       " 'whether',\n",
       " 'which',\n",
       " 'while',\n",
       " 'whither',\n",
       " 'who',\n",
       " 'whoever',\n",
       " 'whole',\n",
       " 'whom',\n",
       " 'whose',\n",
       " 'why',\n",
       " 'will',\n",
       " 'with',\n",
       " 'within',\n",
       " 'without',\n",
       " 'would',\n",
       " 'yahoo',\n",
       " 'yet',\n",
       " 'you',\n",
       " 'your',\n",
       " 'yours',\n",
       " 'yourself',\n",
       " 'yourselves',\n",
       " '{',\n",
       " '|',\n",
       " '}',\n",
       " '~',\n",
       " '‘d',\n",
       " '‘ll',\n",
       " '‘m',\n",
       " '‘re',\n",
       " '‘s',\n",
       " '‘ve',\n",
       " '’d',\n",
       " '’ll',\n",
       " '’m',\n",
       " '’re',\n",
       " '’s',\n",
       " '’ve'}"
      ]
     },
     "execution_count": 95,
     "metadata": {},
     "output_type": "execute_result"
    }
   ],
   "source": [
    "stopword_list"
   ]
  },
  {
   "cell_type": "code",
   "execution_count": 99,
   "metadata": {
    "ExecuteTime": {
     "end_time": "2021-01-19T07:56:38.979090Z",
     "start_time": "2021-01-19T07:56:38.968877Z"
    }
   },
   "outputs": [
    {
     "data": {
      "text/plain": [
       "False"
      ]
     },
     "execution_count": 99,
     "metadata": {},
     "output_type": "execute_result"
    }
   ],
   "source": [
    "'like' in stopword_list"
   ]
  },
  {
   "cell_type": "code",
   "execution_count": 102,
   "metadata": {
    "ExecuteTime": {
     "end_time": "2021-01-19T07:58:28.261600Z",
     "start_time": "2021-01-19T07:58:28.257680Z"
    }
   },
   "outputs": [],
   "source": [
    "from collections import Counter"
   ]
  },
  {
   "cell_type": "code",
   "execution_count": 103,
   "metadata": {
    "ExecuteTime": {
     "end_time": "2021-01-19T07:58:31.558760Z",
     "start_time": "2021-01-19T07:58:31.548599Z"
    }
   },
   "outputs": [],
   "source": [
    "c = Counter()"
   ]
  },
  {
   "cell_type": "code",
   "execution_count": 104,
   "metadata": {
    "ExecuteTime": {
     "end_time": "2021-01-19T08:01:13.010003Z",
     "start_time": "2021-01-19T08:01:13.004254Z"
    }
   },
   "outputs": [],
   "source": [
    "s1 = 'cat cat dog bird'\n",
    "s2 = 'cat dog dog dog'\n",
    "s3 = 'bird bird'"
   ]
  },
  {
   "cell_type": "code",
   "execution_count": 106,
   "metadata": {
    "ExecuteTime": {
     "end_time": "2021-01-19T08:01:28.719368Z",
     "start_time": "2021-01-19T08:01:28.713512Z"
    }
   },
   "outputs": [],
   "source": [
    "c = Counter(s1.split())"
   ]
  },
  {
   "cell_type": "code",
   "execution_count": 110,
   "metadata": {
    "ExecuteTime": {
     "end_time": "2021-01-19T08:01:52.978056Z",
     "start_time": "2021-01-19T08:01:52.950144Z"
    }
   },
   "outputs": [
    {
     "ename": "AttributeError",
     "evalue": "'Counter' object has no attribute 'append'",
     "output_type": "error",
     "traceback": [
      "\u001b[0;31m---------------------------------------------------------------------------\u001b[0m",
      "\u001b[0;31mAttributeError\u001b[0m                            Traceback (most recent call last)",
      "\u001b[0;32m<ipython-input-110-1512be88e063>\u001b[0m in \u001b[0;36m<module>\u001b[0;34m\u001b[0m\n\u001b[0;32m----> 1\u001b[0;31m \u001b[0mc\u001b[0m\u001b[0;34m.\u001b[0m\u001b[0mappend\u001b[0m\u001b[0;34m(\u001b[0m\u001b[0ms2\u001b[0m\u001b[0;34m.\u001b[0m\u001b[0msplit\u001b[0m\u001b[0;34m(\u001b[0m\u001b[0;34m)\u001b[0m\u001b[0;34m)\u001b[0m\u001b[0;34m\u001b[0m\u001b[0;34m\u001b[0m\u001b[0m\n\u001b[0m",
      "\u001b[0;31mAttributeError\u001b[0m: 'Counter' object has no attribute 'append'"
     ]
    }
   ],
   "source": [
    "c.append(s2.split())"
   ]
  },
  {
   "cell_type": "code",
   "execution_count": 111,
   "metadata": {
    "ExecuteTime": {
     "end_time": "2021-01-19T08:01:59.922784Z",
     "start_time": "2021-01-19T08:01:59.901175Z"
    }
   },
   "outputs": [
    {
     "name": "stdout",
     "output_type": "stream",
     "text": [
      "Help on Counter in module collections object:\n",
      "\n",
      "class Counter(builtins.dict)\n",
      " |  Dict subclass for counting hashable items.  Sometimes called a bag\n",
      " |  or multiset.  Elements are stored as dictionary keys and their counts\n",
      " |  are stored as dictionary values.\n",
      " |  \n",
      " |  >>> c = Counter('abcdeabcdabcaba')  # count elements from a string\n",
      " |  \n",
      " |  >>> c.most_common(3)                # three most common elements\n",
      " |  [('a', 5), ('b', 4), ('c', 3)]\n",
      " |  >>> sorted(c)                       # list all unique elements\n",
      " |  ['a', 'b', 'c', 'd', 'e']\n",
      " |  >>> ''.join(sorted(c.elements()))   # list elements with repetitions\n",
      " |  'aaaaabbbbcccdde'\n",
      " |  >>> sum(c.values())                 # total of all counts\n",
      " |  15\n",
      " |  \n",
      " |  >>> c['a']                          # count of letter 'a'\n",
      " |  5\n",
      " |  >>> for elem in 'shazam':           # update counts from an iterable\n",
      " |  ...     c[elem] += 1                # by adding 1 to each element's count\n",
      " |  >>> c['a']                          # now there are seven 'a'\n",
      " |  7\n",
      " |  >>> del c['b']                      # remove all 'b'\n",
      " |  >>> c['b']                          # now there are zero 'b'\n",
      " |  0\n",
      " |  \n",
      " |  >>> d = Counter('simsalabim')       # make another counter\n",
      " |  >>> c.update(d)                     # add in the second counter\n",
      " |  >>> c['a']                          # now there are nine 'a'\n",
      " |  9\n",
      " |  \n",
      " |  >>> c.clear()                       # empty the counter\n",
      " |  >>> c\n",
      " |  Counter()\n",
      " |  \n",
      " |  Note:  If a count is set to zero or reduced to zero, it will remain\n",
      " |  in the counter until the entry is deleted or the counter is cleared:\n",
      " |  \n",
      " |  >>> c = Counter('aaabbc')\n",
      " |  >>> c['b'] -= 2                     # reduce the count of 'b' by two\n",
      " |  >>> c.most_common()                 # 'b' is still in, but its count is zero\n",
      " |  [('a', 3), ('c', 1), ('b', 0)]\n",
      " |  \n",
      " |  Method resolution order:\n",
      " |      Counter\n",
      " |      builtins.dict\n",
      " |      builtins.object\n",
      " |  \n",
      " |  Methods defined here:\n",
      " |  \n",
      " |  __add__(self, other)\n",
      " |      Add counts from two counters.\n",
      " |      \n",
      " |      >>> Counter('abbb') + Counter('bcc')\n",
      " |      Counter({'b': 4, 'c': 2, 'a': 1})\n",
      " |  \n",
      " |  __and__(self, other)\n",
      " |      Intersection is the minimum of corresponding counts.\n",
      " |      \n",
      " |      >>> Counter('abbb') & Counter('bcc')\n",
      " |      Counter({'b': 1})\n",
      " |  \n",
      " |  __delitem__(self, elem)\n",
      " |      Like dict.__delitem__() but does not raise KeyError for missing values.\n",
      " |  \n",
      " |  __iadd__(self, other)\n",
      " |      Inplace add from another counter, keeping only positive counts.\n",
      " |      \n",
      " |      >>> c = Counter('abbb')\n",
      " |      >>> c += Counter('bcc')\n",
      " |      >>> c\n",
      " |      Counter({'b': 4, 'c': 2, 'a': 1})\n",
      " |  \n",
      " |  __iand__(self, other)\n",
      " |      Inplace intersection is the minimum of corresponding counts.\n",
      " |      \n",
      " |      >>> c = Counter('abbb')\n",
      " |      >>> c &= Counter('bcc')\n",
      " |      >>> c\n",
      " |      Counter({'b': 1})\n",
      " |  \n",
      " |  __init__(*args, **kwds)\n",
      " |      Create a new, empty Counter object.  And if given, count elements\n",
      " |      from an input iterable.  Or, initialize the count from another mapping\n",
      " |      of elements to their counts.\n",
      " |      \n",
      " |      >>> c = Counter()                           # a new, empty counter\n",
      " |      >>> c = Counter('gallahad')                 # a new counter from an iterable\n",
      " |      >>> c = Counter({'a': 4, 'b': 2})           # a new counter from a mapping\n",
      " |      >>> c = Counter(a=4, b=2)                   # a new counter from keyword args\n",
      " |  \n",
      " |  __ior__(self, other)\n",
      " |      Inplace union is the maximum of value from either counter.\n",
      " |      \n",
      " |      >>> c = Counter('abbb')\n",
      " |      >>> c |= Counter('bcc')\n",
      " |      >>> c\n",
      " |      Counter({'b': 3, 'c': 2, 'a': 1})\n",
      " |  \n",
      " |  __isub__(self, other)\n",
      " |      Inplace subtract counter, but keep only results with positive counts.\n",
      " |      \n",
      " |      >>> c = Counter('abbbc')\n",
      " |      >>> c -= Counter('bccd')\n",
      " |      >>> c\n",
      " |      Counter({'b': 2, 'a': 1})\n",
      " |  \n",
      " |  __missing__(self, key)\n",
      " |      The count of elements not in the Counter is zero.\n",
      " |  \n",
      " |  __neg__(self)\n",
      " |      Subtracts from an empty counter.  Strips positive and zero counts,\n",
      " |      and flips the sign on negative counts.\n",
      " |  \n",
      " |  __or__(self, other)\n",
      " |      Union is the maximum of value in either of the input counters.\n",
      " |      \n",
      " |      >>> Counter('abbb') | Counter('bcc')\n",
      " |      Counter({'b': 3, 'c': 2, 'a': 1})\n",
      " |  \n",
      " |  __pos__(self)\n",
      " |      Adds an empty counter, effectively stripping negative and zero counts\n",
      " |  \n",
      " |  __reduce__(self)\n",
      " |      helper for pickle\n",
      " |  \n",
      " |  __repr__(self)\n",
      " |      Return repr(self).\n",
      " |  \n",
      " |  __sub__(self, other)\n",
      " |      Subtract count, but keep only results with positive counts.\n",
      " |      \n",
      " |      >>> Counter('abbbc') - Counter('bccd')\n",
      " |      Counter({'b': 2, 'a': 1})\n",
      " |  \n",
      " |  copy(self)\n",
      " |      Return a shallow copy.\n",
      " |  \n",
      " |  elements(self)\n",
      " |      Iterator over elements repeating each as many times as its count.\n",
      " |      \n",
      " |      >>> c = Counter('ABCABC')\n",
      " |      >>> sorted(c.elements())\n",
      " |      ['A', 'A', 'B', 'B', 'C', 'C']\n",
      " |      \n",
      " |      # Knuth's example for prime factors of 1836:  2**2 * 3**3 * 17**1\n",
      " |      >>> prime_factors = Counter({2: 2, 3: 3, 17: 1})\n",
      " |      >>> product = 1\n",
      " |      >>> for factor in prime_factors.elements():     # loop over factors\n",
      " |      ...     product *= factor                       # and multiply them\n",
      " |      >>> product\n",
      " |      1836\n",
      " |      \n",
      " |      Note, if an element's count has been set to zero or is a negative\n",
      " |      number, elements() will ignore it.\n",
      " |  \n",
      " |  most_common(self, n=None)\n",
      " |      List the n most common elements and their counts from the most\n",
      " |      common to the least.  If n is None, then list all element counts.\n",
      " |      \n",
      " |      >>> Counter('abcdeabcdabcaba').most_common(3)\n",
      " |      [('a', 5), ('b', 4), ('c', 3)]\n",
      " |  \n",
      " |  subtract(*args, **kwds)\n",
      " |      Like dict.update() but subtracts counts instead of replacing them.\n",
      " |      Counts can be reduced below zero.  Both the inputs and outputs are\n",
      " |      allowed to contain zero and negative counts.\n",
      " |      \n",
      " |      Source can be an iterable, a dictionary, or another Counter instance.\n",
      " |      \n",
      " |      >>> c = Counter('which')\n",
      " |      >>> c.subtract('witch')             # subtract elements from another iterable\n",
      " |      >>> c.subtract(Counter('watch'))    # subtract elements from another counter\n",
      " |      >>> c['h']                          # 2 in which, minus 1 in witch, minus 1 in watch\n",
      " |      0\n",
      " |      >>> c['w']                          # 1 in which, minus 1 in witch, minus 1 in watch\n",
      " |      -1\n",
      " |  \n",
      " |  update(*args, **kwds)\n",
      " |      Like dict.update() but add counts instead of replacing them.\n",
      " |      \n",
      " |      Source can be an iterable, a dictionary, or another Counter instance.\n",
      " |      \n",
      " |      >>> c = Counter('which')\n",
      " |      >>> c.update('witch')           # add elements from another iterable\n",
      " |      >>> d = Counter('watch')\n",
      " |      >>> c.update(d)                 # add elements from another counter\n",
      " |      >>> c['h']                      # four 'h' in which, witch, and watch\n",
      " |      4\n",
      " |  \n",
      " |  ----------------------------------------------------------------------\n",
      " |  Class methods defined here:\n",
      " |  \n",
      " |  fromkeys(iterable, v=None) from builtins.type\n",
      " |      Returns a new dict with keys from iterable and values equal to value.\n",
      " |  \n",
      " |  ----------------------------------------------------------------------\n",
      " |  Data descriptors defined here:\n",
      " |  \n",
      " |  __dict__\n",
      " |      dictionary for instance variables (if defined)\n",
      " |  \n",
      " |  __weakref__\n",
      " |      list of weak references to the object (if defined)\n",
      " |  \n",
      " |  ----------------------------------------------------------------------\n",
      " |  Methods inherited from builtins.dict:\n",
      " |  \n",
      " |  __contains__(self, key, /)\n",
      " |      True if D has a key k, else False.\n",
      " |  \n",
      " |  __eq__(self, value, /)\n",
      " |      Return self==value.\n",
      " |  \n",
      " |  __ge__(self, value, /)\n",
      " |      Return self>=value.\n",
      " |  \n",
      " |  __getattribute__(self, name, /)\n",
      " |      Return getattr(self, name).\n",
      " |  \n",
      " |  __getitem__(...)\n",
      " |      x.__getitem__(y) <==> x[y]\n",
      " |  \n",
      " |  __gt__(self, value, /)\n",
      " |      Return self>value.\n",
      " |  \n",
      " |  __iter__(self, /)\n",
      " |      Implement iter(self).\n",
      " |  \n",
      " |  __le__(self, value, /)\n",
      " |      Return self<=value.\n",
      " |  \n",
      " |  __len__(self, /)\n",
      " |      Return len(self).\n",
      " |  \n",
      " |  __lt__(self, value, /)\n",
      " |      Return self<value.\n",
      " |  \n",
      " |  __ne__(self, value, /)\n",
      " |      Return self!=value.\n",
      " |  \n",
      " |  __new__(*args, **kwargs) from builtins.type\n",
      " |      Create and return a new object.  See help(type) for accurate signature.\n",
      " |  \n",
      " |  __setitem__(self, key, value, /)\n",
      " |      Set self[key] to value.\n",
      " |  \n",
      " |  __sizeof__(...)\n",
      " |      D.__sizeof__() -> size of D in memory, in bytes\n",
      " |  \n",
      " |  clear(...)\n",
      " |      D.clear() -> None.  Remove all items from D.\n",
      " |  \n",
      " |  get(...)\n",
      " |      D.get(k[,d]) -> D[k] if k in D, else d.  d defaults to None.\n",
      " |  \n",
      " |  items(...)\n",
      " |      D.items() -> a set-like object providing a view on D's items\n",
      " |  \n",
      " |  keys(...)\n",
      " |      D.keys() -> a set-like object providing a view on D's keys\n",
      " |  \n",
      " |  pop(...)\n",
      " |      D.pop(k[,d]) -> v, remove specified key and return the corresponding value.\n",
      " |      If key is not found, d is returned if given, otherwise KeyError is raised\n",
      " |  \n",
      " |  popitem(...)\n",
      " |      D.popitem() -> (k, v), remove and return some (key, value) pair as a\n",
      " |      2-tuple; but raise KeyError if D is empty.\n",
      " |  \n",
      " |  setdefault(...)\n",
      " |      D.setdefault(k[,d]) -> D.get(k,d), also set D[k]=d if k not in D\n",
      " |  \n",
      " |  values(...)\n",
      " |      D.values() -> an object providing a view on D's values\n",
      " |  \n",
      " |  ----------------------------------------------------------------------\n",
      " |  Data and other attributes inherited from builtins.dict:\n",
      " |  \n",
      " |  __hash__ = None\n",
      "\n"
     ]
    }
   ],
   "source": [
    "help(c)"
   ]
  },
  {
   "cell_type": "code",
   "execution_count": 112,
   "metadata": {
    "ExecuteTime": {
     "end_time": "2021-01-19T08:02:39.082585Z",
     "start_time": "2021-01-19T08:02:39.079534Z"
    }
   },
   "outputs": [],
   "source": [
    "c.update(s2.split())"
   ]
  },
  {
   "cell_type": "code",
   "execution_count": 113,
   "metadata": {
    "ExecuteTime": {
     "end_time": "2021-01-19T08:02:40.924036Z",
     "start_time": "2021-01-19T08:02:40.919731Z"
    }
   },
   "outputs": [
    {
     "data": {
      "text/plain": [
       "Counter({'cat': 3, 'dog': 4, 'bird': 1})"
      ]
     },
     "execution_count": 113,
     "metadata": {},
     "output_type": "execute_result"
    }
   ],
   "source": [
    "c"
   ]
  },
  {
   "cell_type": "code",
   "execution_count": 114,
   "metadata": {
    "ExecuteTime": {
     "end_time": "2021-01-19T08:02:50.534860Z",
     "start_time": "2021-01-19T08:02:50.532142Z"
    }
   },
   "outputs": [],
   "source": [
    "c.update(s3.split())"
   ]
  },
  {
   "cell_type": "code",
   "execution_count": 115,
   "metadata": {
    "ExecuteTime": {
     "end_time": "2021-01-19T08:02:52.807444Z",
     "start_time": "2021-01-19T08:02:52.803555Z"
    }
   },
   "outputs": [
    {
     "data": {
      "text/plain": [
       "Counter({'cat': 3, 'dog': 4, 'bird': 3})"
      ]
     },
     "execution_count": 115,
     "metadata": {},
     "output_type": "execute_result"
    }
   ],
   "source": [
    "c"
   ]
  },
  {
   "cell_type": "code",
   "execution_count": 116,
   "metadata": {
    "ExecuteTime": {
     "end_time": "2021-01-19T08:04:21.624850Z",
     "start_time": "2021-01-19T08:04:21.619789Z"
    }
   },
   "outputs": [],
   "source": [
    "c.update(['dog', 'fish'])"
   ]
  },
  {
   "cell_type": "code",
   "execution_count": 117,
   "metadata": {
    "ExecuteTime": {
     "end_time": "2021-01-19T08:04:23.206040Z",
     "start_time": "2021-01-19T08:04:23.202183Z"
    }
   },
   "outputs": [
    {
     "data": {
      "text/plain": [
       "Counter({'cat': 3, 'dog': 5, 'bird': 3, 'fish': 1})"
      ]
     },
     "execution_count": 117,
     "metadata": {},
     "output_type": "execute_result"
    }
   ],
   "source": [
    "c"
   ]
  },
  {
   "cell_type": "code",
   "execution_count": 121,
   "metadata": {
    "ExecuteTime": {
     "end_time": "2021-01-19T08:06:43.860033Z",
     "start_time": "2021-01-19T08:06:43.852963Z"
    }
   },
   "outputs": [
    {
     "data": {
      "text/plain": [
       "['dog', 'cat', 'bird', 'fish']"
      ]
     },
     "execution_count": 121,
     "metadata": {},
     "output_type": "execute_result"
    }
   ],
   "source": [
    "[x[0] for x in c.most_common(n=5)]"
   ]
  },
  {
   "cell_type": "code",
   "execution_count": 124,
   "metadata": {
    "ExecuteTime": {
     "end_time": "2021-01-19T08:11:03.268330Z",
     "start_time": "2021-01-19T08:11:03.264835Z"
    }
   },
   "outputs": [],
   "source": [
    "from tweet_analyzer import BAG_OF_WORDS"
   ]
  },
  {
   "cell_type": "code",
   "execution_count": 125,
   "metadata": {
    "ExecuteTime": {
     "end_time": "2021-01-19T08:11:05.796338Z",
     "start_time": "2021-01-19T08:11:05.792584Z"
    }
   },
   "outputs": [
    {
     "data": {
      "text/plain": [
       "Counter()"
      ]
     },
     "execution_count": 125,
     "metadata": {},
     "output_type": "execute_result"
    }
   ],
   "source": [
    "BAG_OF_WORDS"
   ]
  },
  {
   "cell_type": "code",
   "execution_count": 126,
   "metadata": {
    "ExecuteTime": {
     "end_time": "2021-01-19T08:11:18.261415Z",
     "start_time": "2021-01-19T08:11:18.255186Z"
    }
   },
   "outputs": [],
   "source": [
    "c = Counter()"
   ]
  },
  {
   "cell_type": "code",
   "execution_count": 128,
   "metadata": {
    "ExecuteTime": {
     "end_time": "2021-01-19T08:11:28.426583Z",
     "start_time": "2021-01-19T08:11:28.420731Z"
    }
   },
   "outputs": [],
   "source": [
    "c.update(['a', 'b'])"
   ]
  },
  {
   "cell_type": "code",
   "execution_count": 129,
   "metadata": {
    "ExecuteTime": {
     "end_time": "2021-01-19T08:11:30.764062Z",
     "start_time": "2021-01-19T08:11:30.757937Z"
    }
   },
   "outputs": [
    {
     "data": {
      "text/plain": [
       "Counter({'a': 1, 'b': 1})"
      ]
     },
     "execution_count": 129,
     "metadata": {},
     "output_type": "execute_result"
    }
   ],
   "source": [
    "c"
   ]
  },
  {
   "cell_type": "code",
   "execution_count": 1,
   "metadata": {
    "ExecuteTime": {
     "end_time": "2021-01-19T15:45:16.222385Z",
     "start_time": "2021-01-19T15:45:16.219862Z"
    }
   },
   "outputs": [],
   "source": [
    "import pickle"
   ]
  },
  {
   "cell_type": "code",
   "execution_count": 2,
   "metadata": {
    "ExecuteTime": {
     "end_time": "2021-01-19T15:45:18.694874Z",
     "start_time": "2021-01-19T15:45:18.667710Z"
    }
   },
   "outputs": [],
   "source": [
    "with open('data/bag_of_words', 'rb') as f:\n",
    "    bagofwords = pickle.load(f)"
   ]
  },
  {
   "cell_type": "code",
   "execution_count": 5,
   "metadata": {
    "ExecuteTime": {
     "end_time": "2021-01-19T15:45:54.974712Z",
     "start_time": "2021-01-19T15:45:54.296960Z"
    }
   },
   "outputs": [
    {
     "name": "stderr",
     "output_type": "stream",
     "text": [
      "In /opt/anaconda3/envs/learn-env/lib/python3.6/site-packages/matplotlib/mpl-data/stylelib/_classic_test.mplstyle: \n",
      "The text.latex.preview rcparam was deprecated in Matplotlib 3.3 and will be removed two minor releases later.\n",
      "In /opt/anaconda3/envs/learn-env/lib/python3.6/site-packages/matplotlib/mpl-data/stylelib/_classic_test.mplstyle: \n",
      "The mathtext.fallback_to_cm rcparam was deprecated in Matplotlib 3.3 and will be removed two minor releases later.\n",
      "In /opt/anaconda3/envs/learn-env/lib/python3.6/site-packages/matplotlib/mpl-data/stylelib/_classic_test.mplstyle: Support for setting the 'mathtext.fallback_to_cm' rcParam is deprecated since 3.3 and will be removed two minor releases later; use 'mathtext.fallback : 'cm' instead.\n",
      "In /opt/anaconda3/envs/learn-env/lib/python3.6/site-packages/matplotlib/mpl-data/stylelib/_classic_test.mplstyle: \n",
      "The validate_bool_maybe_none function was deprecated in Matplotlib 3.3 and will be removed two minor releases later.\n",
      "In /opt/anaconda3/envs/learn-env/lib/python3.6/site-packages/matplotlib/mpl-data/stylelib/_classic_test.mplstyle: \n",
      "The savefig.jpeg_quality rcparam was deprecated in Matplotlib 3.3 and will be removed two minor releases later.\n",
      "In /opt/anaconda3/envs/learn-env/lib/python3.6/site-packages/matplotlib/mpl-data/stylelib/_classic_test.mplstyle: \n",
      "The keymap.all_axes rcparam was deprecated in Matplotlib 3.3 and will be removed two minor releases later.\n",
      "In /opt/anaconda3/envs/learn-env/lib/python3.6/site-packages/matplotlib/mpl-data/stylelib/_classic_test.mplstyle: \n",
      "The animation.avconv_path rcparam was deprecated in Matplotlib 3.3 and will be removed two minor releases later.\n",
      "In /opt/anaconda3/envs/learn-env/lib/python3.6/site-packages/matplotlib/mpl-data/stylelib/_classic_test.mplstyle: \n",
      "The animation.avconv_args rcparam was deprecated in Matplotlib 3.3 and will be removed two minor releases later.\n"
     ]
    }
   ],
   "source": [
    "import pandas as pd\n",
    "import matplotlib.pyplot as plt\n",
    "%matplotlib inline"
   ]
  },
  {
   "cell_type": "code",
   "execution_count": 12,
   "metadata": {
    "ExecuteTime": {
     "end_time": "2021-01-19T15:50:17.409654Z",
     "start_time": "2021-01-19T15:50:17.396343Z"
    }
   },
   "outputs": [],
   "source": [
    "a = pd.DataFrame(bagofwords.most_common(n=200), columns=['word', 'count'])"
   ]
  },
  {
   "cell_type": "code",
   "execution_count": 8,
   "metadata": {
    "ExecuteTime": {
     "end_time": "2021-01-19T15:46:34.185846Z",
     "start_time": "2021-01-19T15:46:34.181661Z"
    }
   },
   "outputs": [
    {
     "data": {
      "text/plain": [
       "54507"
      ]
     },
     "execution_count": 8,
     "metadata": {},
     "output_type": "execute_result"
    }
   ],
   "source": [
    "len(bagofwords)"
   ]
  },
  {
   "cell_type": "code",
   "execution_count": 14,
   "metadata": {
    "ExecuteTime": {
     "end_time": "2021-01-19T15:50:23.940643Z",
     "start_time": "2021-01-19T15:50:23.934502Z"
    }
   },
   "outputs": [
    {
     "data": {
      "text/plain": [
       "0          the\n",
       "1          and\n",
       "2          you\n",
       "3          for\n",
       "4         this\n",
       "        ...   \n",
       "195      those\n",
       "196     before\n",
       "197    podcast\n",
       "198        hit\n",
       "199       ever\n",
       "Name: word, Length: 200, dtype: object"
      ]
     },
     "execution_count": 14,
     "metadata": {},
     "output_type": "execute_result"
    }
   ],
   "source": [
    "a['word']"
   ]
  },
  {
   "cell_type": "code",
   "execution_count": 18,
   "metadata": {
    "ExecuteTime": {
     "end_time": "2021-01-19T15:50:55.179269Z",
     "start_time": "2021-01-19T15:50:55.176407Z"
    }
   },
   "outputs": [],
   "source": [
    "from collections import Counter\n",
    "c = Counter()"
   ]
  },
  {
   "cell_type": "code",
   "execution_count": 19,
   "metadata": {
    "ExecuteTime": {
     "end_time": "2021-01-19T15:50:55.642033Z",
     "start_time": "2021-01-19T15:50:55.638534Z"
    }
   },
   "outputs": [],
   "source": [
    "c.update(a['word'])"
   ]
  },
  {
   "cell_type": "code",
   "execution_count": 20,
   "metadata": {
    "ExecuteTime": {
     "end_time": "2021-01-19T15:50:56.165566Z",
     "start_time": "2021-01-19T15:50:56.157671Z"
    }
   },
   "outputs": [
    {
     "data": {
      "text/plain": [
       "Counter({'the': 1,\n",
       "         'and': 1,\n",
       "         'you': 1,\n",
       "         'for': 1,\n",
       "         'this': 1,\n",
       "         'youtube': 1,\n",
       "         'via': 1,\n",
       "         'have': 1,\n",
       "         'not': 1,\n",
       "         'google': 1,\n",
       "         'with': 1,\n",
       "         'that': 1,\n",
       "         'apple': 1,\n",
       "         'facebook': 1,\n",
       "         'like': 1,\n",
       "         'your': 1,\n",
       "         '...': 1,\n",
       "         'video': 1,\n",
       "         'get': 1,\n",
       "         'can': 1,\n",
       "         'from': 1,\n",
       "         'good': 1,\n",
       "         'will': 1,\n",
       "         'all': 1,\n",
       "         'out': 1,\n",
       "         'watch': 1,\n",
       "         'but': 1,\n",
       "         'now': 1,\n",
       "         'new': 1,\n",
       "         'just': 1,\n",
       "         'please': 1,\n",
       "         'our': 1,\n",
       "         'how': 1,\n",
       "         'what': 1,\n",
       "         'one': 1,\n",
       "         'make': 1,\n",
       "         'love': 1,\n",
       "         'about': 1,\n",
       "         'channel': 1,\n",
       "         'here': 1,\n",
       "         'they': 1,\n",
       "         'music': 1,\n",
       "         'see': 1,\n",
       "         'time': 1,\n",
       "         'live': 1,\n",
       "         'day': 1,\n",
       "         'use': 1,\n",
       "         'play': 1,\n",
       "         'who': 1,\n",
       "         'more': 1,\n",
       "         'free': 1,\n",
       "         'know': 1,\n",
       "         'help': 1,\n",
       "         'thank': 1,\n",
       "         'check': 1,\n",
       "         'say': 1,\n",
       "         'there': 1,\n",
       "         'when': 1,\n",
       "         'great': 1,\n",
       "         'people': 1,\n",
       "         'app': 1,\n",
       "         'look': 1,\n",
       "         'netflix': 1,\n",
       "         'would': 1,\n",
       "         'share': 1,\n",
       "         'trump': 1,\n",
       "         'join': 1,\n",
       "         'some': 1,\n",
       "         'his': 1,\n",
       "         'well': 1,\n",
       "         'song': 1,\n",
       "         'want': 1,\n",
       "         'why': 1,\n",
       "         'need': 1,\n",
       "         'find': 1,\n",
       "         'think': 1,\n",
       "         'subscribe': 1,\n",
       "         'post': 1,\n",
       "         'spotify': 1,\n",
       "         'come': 1,\n",
       "         'year': 1,\n",
       "         'listen': 1,\n",
       "         'twitter': 1,\n",
       "         'work': 1,\n",
       "         'premium': 1,\n",
       "         'take': 1,\n",
       "         'god': 1,\n",
       "         'today': 1,\n",
       "         'really': 1,\n",
       "         'let': 1,\n",
       "         'their': 1,\n",
       "         'support': 1,\n",
       "         '2021': 1,\n",
       "         'microsoft': 1,\n",
       "         'full': 1,\n",
       "         'also': 1,\n",
       "         'only': 1,\n",
       "         'back': 1,\n",
       "         'first': 1,\n",
       "         'give': 1,\n",
       "         'official': 1,\n",
       "         'her': 1,\n",
       "         'try': 1,\n",
       "         'show': 1,\n",
       "         'way': 1,\n",
       "         'follow': 1,\n",
       "         'real': 1,\n",
       "         'after': 1,\n",
       "         'stream': 1,\n",
       "         'start': 1,\n",
       "         'thing': 1,\n",
       "         'very': 1,\n",
       "         'its': 1,\n",
       "         'news': 1,\n",
       "         'she': 1,\n",
       "         'top': 1,\n",
       "         'could': 1,\n",
       "         'over': 1,\n",
       "         'these': 1,\n",
       "         'hiddentruthofgita': 1,\n",
       "         'happy': 1,\n",
       "         'them': 1,\n",
       "         'yes': 1,\n",
       "         'still': 1,\n",
       "         'game': 1,\n",
       "         'friend': 1,\n",
       "         'guy': 1,\n",
       "         'too': 1,\n",
       "         'right': 1,\n",
       "         'even': 1,\n",
       "         'download': 1,\n",
       "         'sure': 1,\n",
       "         'should': 1,\n",
       "         'win': 1,\n",
       "         'bad': 1,\n",
       "         'much': 1,\n",
       "         'man': 1,\n",
       "         'keep': 1,\n",
       "         'then': 1,\n",
       "         'stop': 1,\n",
       "         'than': 1,\n",
       "         'other': 1,\n",
       "         'any': 1,\n",
       "         'hope': 1,\n",
       "         'because': 1,\n",
       "         'miss': 1,\n",
       "         'world': 1,\n",
       "         'into': 1,\n",
       "         'never': 1,\n",
       "         'morning': 1,\n",
       "         'life': 1,\n",
       "         'talk': 1,\n",
       "         'call': 1,\n",
       "         'open': 1,\n",
       "         'may': 1,\n",
       "         'read': 1,\n",
       "         'page': 1,\n",
       "         'viu': 1,\n",
       "         'tell': 1,\n",
       "         'most': 1,\n",
       "         'everyone': 1,\n",
       "         'feel': 1,\n",
       "         'account': 1,\n",
       "         'last': 1,\n",
       "         'big': 1,\n",
       "         'order': 1,\n",
       "         'off': 1,\n",
       "         'him': 1,\n",
       "         'lol': 1,\n",
       "         'search': 1,\n",
       "         'enjoy': 1,\n",
       "         'week': 1,\n",
       "         'gita': 1,\n",
       "         'every': 1,\n",
       "         'view': 1,\n",
       "         'legal': 1,\n",
       "         'create': 1,\n",
       "         'amazing': 1,\n",
       "         'down': 1,\n",
       "         'many': 1,\n",
       "         'late': 1,\n",
       "         'true': 1,\n",
       "         'always': 1,\n",
       "         'team': 1,\n",
       "         'where': 1,\n",
       "         'ready': 1,\n",
       "         'episode': 1,\n",
       "         'bulan': 1,\n",
       "         'again': 1,\n",
       "         'learn': 1,\n",
       "         'pay': 1,\n",
       "         'hey': 1,\n",
       "         'shit': 1,\n",
       "         'online': 1,\n",
       "         'which': 1,\n",
       "         'those': 1,\n",
       "         'before': 1,\n",
       "         'podcast': 1,\n",
       "         'hit': 1,\n",
       "         'ever': 1})"
      ]
     },
     "execution_count": 20,
     "metadata": {},
     "output_type": "execute_result"
    }
   ],
   "source": [
    "c"
   ]
  },
  {
   "cell_type": "code",
   "execution_count": 21,
   "metadata": {
    "ExecuteTime": {
     "end_time": "2021-01-19T15:52:19.238968Z",
     "start_time": "2021-01-19T15:52:19.235617Z"
    }
   },
   "outputs": [],
   "source": [
    "p = Counter(['ipad', 'ipad', 'ipad', 'iphone','google'])\n",
    "n = Counter(['ipad', 'ipad', 'neflix', 'facebook'])"
   ]
  },
  {
   "cell_type": "code",
   "execution_count": 28,
   "metadata": {
    "ExecuteTime": {
     "end_time": "2021-01-19T15:53:52.769444Z",
     "start_time": "2021-01-19T15:53:52.766517Z"
    }
   },
   "outputs": [],
   "source": [
    "a = {x[0] for x in p.most_common(2)}"
   ]
  },
  {
   "cell_type": "code",
   "execution_count": 29,
   "metadata": {
    "ExecuteTime": {
     "end_time": "2021-01-19T15:53:55.853609Z",
     "start_time": "2021-01-19T15:53:55.850568Z"
    }
   },
   "outputs": [],
   "source": [
    "b = {x[0] for x in n.most_common(2)}"
   ]
  },
  {
   "cell_type": "code",
   "execution_count": 30,
   "metadata": {
    "ExecuteTime": {
     "end_time": "2021-01-19T15:53:57.503952Z",
     "start_time": "2021-01-19T15:53:57.499606Z"
    }
   },
   "outputs": [
    {
     "data": {
      "text/plain": [
       "{'ipad', 'iphone'}"
      ]
     },
     "execution_count": 30,
     "metadata": {},
     "output_type": "execute_result"
    }
   ],
   "source": [
    "a"
   ]
  },
  {
   "cell_type": "code",
   "execution_count": 31,
   "metadata": {
    "ExecuteTime": {
     "end_time": "2021-01-19T15:53:58.527893Z",
     "start_time": "2021-01-19T15:53:58.523868Z"
    }
   },
   "outputs": [
    {
     "data": {
      "text/plain": [
       "{'ipad', 'neflix'}"
      ]
     },
     "execution_count": 31,
     "metadata": {},
     "output_type": "execute_result"
    }
   ],
   "source": [
    "b"
   ]
  },
  {
   "cell_type": "code",
   "execution_count": 32,
   "metadata": {
    "ExecuteTime": {
     "end_time": "2021-01-19T15:54:04.562655Z",
     "start_time": "2021-01-19T15:54:04.558002Z"
    }
   },
   "outputs": [
    {
     "data": {
      "text/plain": [
       "{'ipad'}"
      ]
     },
     "execution_count": 32,
     "metadata": {},
     "output_type": "execute_result"
    }
   ],
   "source": [
    "a & b"
   ]
  },
  {
   "cell_type": "code",
   "execution_count": 33,
   "metadata": {
    "ExecuteTime": {
     "end_time": "2021-01-19T15:55:28.671846Z",
     "start_time": "2021-01-19T15:55:28.668543Z"
    }
   },
   "outputs": [],
   "source": [
    "ignore = a & b\n",
    "p_new = Counter(x for x in p if x not in ignore)"
   ]
  },
  {
   "cell_type": "code",
   "execution_count": 34,
   "metadata": {
    "ExecuteTime": {
     "end_time": "2021-01-19T15:55:31.123704Z",
     "start_time": "2021-01-19T15:55:31.119361Z"
    }
   },
   "outputs": [
    {
     "data": {
      "text/plain": [
       "Counter({'iphone': 1, 'google': 1})"
      ]
     },
     "execution_count": 34,
     "metadata": {},
     "output_type": "execute_result"
    }
   ],
   "source": [
    "p_new"
   ]
  },
  {
   "cell_type": "code",
   "execution_count": 42,
   "metadata": {
    "ExecuteTime": {
     "end_time": "2021-01-19T16:13:02.783607Z",
     "start_time": "2021-01-19T16:13:02.779783Z"
    }
   },
   "outputs": [
    {
     "data": {
      "text/plain": [
       "Counter({'ipad': 2, 'neflix': 1, 'facebook': 1})"
      ]
     },
     "execution_count": 42,
     "metadata": {},
     "output_type": "execute_result"
    }
   ],
   "source": [
    "n"
   ]
  },
  {
   "cell_type": "code",
   "execution_count": 35,
   "metadata": {
    "ExecuteTime": {
     "end_time": "2021-01-19T15:55:45.433656Z",
     "start_time": "2021-01-19T15:55:45.430548Z"
    }
   },
   "outputs": [],
   "source": [
    "ignore = a & b\n",
    "n_new = Counter(x for x in n if x not in ignore)"
   ]
  },
  {
   "cell_type": "code",
   "execution_count": 36,
   "metadata": {
    "ExecuteTime": {
     "end_time": "2021-01-19T15:55:48.128056Z",
     "start_time": "2021-01-19T15:55:48.123804Z"
    }
   },
   "outputs": [
    {
     "data": {
      "text/plain": [
       "Counter({'neflix': 1, 'facebook': 1})"
      ]
     },
     "execution_count": 36,
     "metadata": {},
     "output_type": "execute_result"
    }
   ],
   "source": [
    "n_new"
   ]
  },
  {
   "cell_type": "code",
   "execution_count": 38,
   "metadata": {
    "ExecuteTime": {
     "end_time": "2021-01-19T15:59:30.974437Z",
     "start_time": "2021-01-19T15:59:30.950831Z"
    }
   },
   "outputs": [],
   "source": [
    "from wordcloud import WordCloud"
   ]
  },
  {
   "cell_type": "code",
   "execution_count": 39,
   "metadata": {
    "ExecuteTime": {
     "end_time": "2021-01-19T15:59:55.311083Z",
     "start_time": "2021-01-19T15:59:55.307790Z"
    }
   },
   "outputs": [],
   "source": [
    "wc = WordCloud()"
   ]
  },
  {
   "cell_type": "code",
   "execution_count": 40,
   "metadata": {
    "ExecuteTime": {
     "end_time": "2021-01-19T16:00:05.146502Z",
     "start_time": "2021-01-19T16:00:05.078620Z"
    }
   },
   "outputs": [
    {
     "data": {
      "text/plain": [
       "<wordcloud.wordcloud.WordCloud at 0x7fb4669c4908>"
      ]
     },
     "execution_count": 40,
     "metadata": {},
     "output_type": "execute_result"
    }
   ],
   "source": [
    "wc.generate_from_frequencies(n_new)"
   ]
  },
  {
   "cell_type": "code",
   "execution_count": 41,
   "metadata": {
    "ExecuteTime": {
     "end_time": "2021-01-19T16:00:28.155467Z",
     "start_time": "2021-01-19T16:00:27.844163Z"
    }
   },
   "outputs": [
    {
     "data": {
      "text/plain": [
       "<matplotlib.image.AxesImage at 0x7fb467828b38>"
      ]
     },
     "execution_count": 41,
     "metadata": {},
     "output_type": "execute_result"
    },
    {
     "data": {
      "image/png": "[encoded data removed]",
      "text/plain": [
       "<Figure size 432x288 with 1 Axes>"
      ]
     },
     "metadata": {
      "needs_background": "light"
     },
     "output_type": "display_data"
    }
   ],
   "source": [
    "plt.imshow(wc)"
   ]
  },
  {
   "cell_type": "code",
   "execution_count": 46,
   "metadata": {
    "ExecuteTime": {
     "end_time": "2021-01-19T16:20:14.126185Z",
     "start_time": "2021-01-19T16:20:14.122997Z"
    }
   },
   "outputs": [],
   "source": [
    "a = pd.DataFrame(['dog dog dog', 'cat cat cat', 'dog cat', 'dog dog', 'cat fish', 'penguin fish'], columns=['s'])"
   ]
  },
  {
   "cell_type": "code",
   "execution_count": 52,
   "metadata": {
    "ExecuteTime": {
     "end_time": "2021-01-19T16:22:32.866810Z",
     "start_time": "2021-01-19T16:22:32.861759Z"
    }
   },
   "outputs": [
    {
     "data": {
      "text/plain": [
       "Counter({'d': 6,\n",
       "         'o': 6,\n",
       "         'g': 7,\n",
       "         ' ': 13,\n",
       "         'c': 5,\n",
       "         'a': 5,\n",
       "         't': 5,\n",
       "         'f': 2,\n",
       "         'i': 3,\n",
       "         's': 2,\n",
       "         'h': 2,\n",
       "         'p': 1,\n",
       "         'e': 1,\n",
       "         'n': 2,\n",
       "         'u': 1})"
      ]
     },
     "execution_count": 52,
     "metadata": {},
     "output_type": "execute_result"
    }
   ],
   "source": [
    "Counter(' '.join(a['s']))"
   ]
  },
  {
   "cell_type": "code",
   "execution_count": 56,
   "metadata": {
    "ExecuteTime": {
     "end_time": "2021-01-19T16:23:40.594930Z",
     "start_time": "2021-01-19T16:23:40.590484Z"
    }
   },
   "outputs": [
    {
     "data": {
      "text/plain": [
       "['dog',\n",
       " 'dog',\n",
       " 'dog',\n",
       " 'cat',\n",
       " 'cat',\n",
       " 'cat',\n",
       " 'dog',\n",
       " 'cat',\n",
       " 'dog',\n",
       " 'dog',\n",
       " 'cat',\n",
       " 'fish',\n",
       " 'penguin',\n",
       " 'fish']"
      ]
     },
     "execution_count": 56,
     "metadata": {},
     "output_type": "execute_result"
    }
   ],
   "source": [
    "' '.join(a['s']).split()"
   ]
  },
  {
   "cell_type": "code",
   "execution_count": 55,
   "metadata": {
    "ExecuteTime": {
     "end_time": "2021-01-19T16:23:15.110012Z",
     "start_time": "2021-01-19T16:23:15.105319Z"
    }
   },
   "outputs": [
    {
     "data": {
      "text/plain": [
       "Counter({'d': 6,\n",
       "         'o': 6,\n",
       "         'g': 7,\n",
       "         ',': 2,\n",
       "         ' ': 13,\n",
       "         'c': 5,\n",
       "         'a': 5,\n",
       "         't': 5,\n",
       "         'f': 2,\n",
       "         'i': 3,\n",
       "         's': 2,\n",
       "         'h': 2,\n",
       "         'p': 1,\n",
       "         'e': 1,\n",
       "         'n': 2,\n",
       "         'u': 1})"
      ]
     },
     "execution_count": 55,
     "metadata": {},
     "output_type": "execute_result"
    }
   ],
   "source": [
    "Counter('dog dog dog cat cat cat dog cat dog dog cat fish penguin fish')"
   ]
  },
  {
   "cell_type": "code",
   "execution_count": null,
   "metadata": {},
   "outputs": [],
   "source": []
  }
 ],
 "metadata": {
  "kernelspec": {
   "display_name": "Python [conda env:learn-env] *",
   "language": "python",
   "name": "conda-env-learn-env-py"
  },
  "language_info": {
   "codemirror_mode": {
    "name": "ipython",
    "version": 3
   },
   "file_extension": ".py",
   "mimetype": "text/x-python",
   "name": "python",
   "nbconvert_exporter": "python",
   "pygments_lexer": "ipython3",
   "version": "3.6.9"
  },
  "toc": {
   "base_numbering": 1,
   "nav_menu": {},
   "number_sections": true,
   "sideBar": true,
   "skip_h1_title": false,
   "title_cell": "Table of Contents",
   "title_sidebar": "Contents",
   "toc_cell": false,
   "toc_position": {},
   "toc_section_display": true,
   "toc_window_display": false
  }
 },
 "nbformat": 4,
 "nbformat_minor": 2
}
