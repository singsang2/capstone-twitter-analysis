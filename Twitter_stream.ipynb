{
 "cells": [
  {
   "cell_type": "code",
   "execution_count": 32,
   "metadata": {
    "ExecuteTime": {
     "end_time": "2020-11-13T23:40:49.026982Z",
     "start_time": "2020-11-13T23:40:39.303407Z"
    }
   },
   "outputs": [],
   "source": [
    "import tweepy\n",
    "import webbrowser\n",
    "import re\n",
    "import pandas as pd\n",
    "import numpy as np\n",
    "import spacy\n",
    "nlp = spacy.load('en_core_web_lg')"
   ]
  },
  {
   "cell_type": "code",
   "execution_count": 8,
   "metadata": {
    "ExecuteTime": {
     "end_time": "2020-11-13T23:01:28.260026Z",
     "start_time": "2020-11-13T23:01:28.255835Z"
    }
   },
   "outputs": [],
   "source": [
    "import keys as keys"
   ]
  },
  {
   "cell_type": "code",
   "execution_count": 11,
   "metadata": {
    "ExecuteTime": {
     "end_time": "2020-11-13T23:23:55.151849Z",
     "start_time": "2020-11-13T23:23:55.148413Z"
    }
   },
   "outputs": [],
   "source": [
    "auth = tweepy.OAuthHandler(consumer_key=keys.CONSUMER_KEY, consumer_secret=keys.CONSUMER_SECRET)"
   ]
  },
  {
   "cell_type": "code",
   "execution_count": 12,
   "metadata": {
    "ExecuteTime": {
     "end_time": "2020-11-13T23:25:15.256299Z",
     "start_time": "2020-11-13T23:25:15.253523Z"
    }
   },
   "outputs": [],
   "source": [
    "auth.set_access_token(keys.ACCESS_KEY, keys.ACCESS_SECRET)"
   ]
  },
  {
   "cell_type": "code",
   "execution_count": 13,
   "metadata": {
    "ExecuteTime": {
     "end_time": "2020-11-13T23:25:22.163908Z",
     "start_time": "2020-11-13T23:25:22.161041Z"
    }
   },
   "outputs": [],
   "source": [
    "api = tweepy.API(auth)"
   ]
  },
  {
   "cell_type": "code",
   "execution_count": 14,
   "metadata": {
    "ExecuteTime": {
     "end_time": "2020-11-13T23:27:25.626540Z",
     "start_time": "2020-11-13T23:27:25.623494Z"
    }
   },
   "outputs": [],
   "source": [
    "# Keytword/hashtag to search about\n",
    "search_item = 'xbox'\n",
    "num_of_tweet_search = 50"
   ]
  },
  {
   "cell_type": "code",
   "execution_count": null,
   "metadata": {},
   "outputs": [],
   "source": [
    "tweets = tweepy.Cursor(api.search, q=search_item, lang='English').items(num_of_tweet_search)"
   ]
  },
  {
   "cell_type": "code",
   "execution_count": null,
   "metadata": {},
   "outputs": [],
   "source": []
  },
  {
   "cell_type": "code",
   "execution_count": null,
   "metadata": {},
   "outputs": [],
   "source": []
  },
  {
   "cell_type": "code",
   "execution_count": null,
   "metadata": {},
   "outputs": [],
   "source": []
  },
  {
   "cell_type": "code",
   "execution_count": 16,
   "metadata": {
    "ExecuteTime": {
     "end_time": "2020-11-13T23:34:23.459958Z",
     "start_time": "2020-11-13T23:34:21.427193Z"
    }
   },
   "outputs": [],
   "source": [
    "from textblob import TextBlob"
   ]
  },
  {
   "cell_type": "code",
   "execution_count": 17,
   "metadata": {
    "ExecuteTime": {
     "end_time": "2020-11-13T23:34:41.606112Z",
     "start_time": "2020-11-13T23:34:41.596899Z"
    }
   },
   "outputs": [],
   "source": [
    "a = TextBlob('This new xbox is just expensive and adds nothing new.')"
   ]
  },
  {
   "cell_type": "code",
   "execution_count": 18,
   "metadata": {
    "ExecuteTime": {
     "end_time": "2020-11-13T23:34:49.745934Z",
     "start_time": "2020-11-13T23:34:49.671207Z"
    }
   },
   "outputs": [
    {
     "data": {
      "text/plain": [
       "-0.07575757575757576"
      ]
     },
     "execution_count": 18,
     "metadata": {},
     "output_type": "execute_result"
    }
   ],
   "source": [
    "a.sentiment.polarity"
   ]
  },
  {
   "cell_type": "code",
   "execution_count": 20,
   "metadata": {
    "ExecuteTime": {
     "end_time": "2020-11-13T23:35:20.882137Z",
     "start_time": "2020-11-13T23:35:19.659914Z"
    }
   },
   "outputs": [
    {
     "name": "stderr",
     "output_type": "stream",
     "text": [
      "In /opt/anaconda3/envs/learn-env/lib/python3.6/site-packages/matplotlib/mpl-data/stylelib/_classic_test.mplstyle: \n",
      "The text.latex.preview rcparam was deprecated in Matplotlib 3.3 and will be removed two minor releases later.\n",
      "In /opt/anaconda3/envs/learn-env/lib/python3.6/site-packages/matplotlib/mpl-data/stylelib/_classic_test.mplstyle: \n",
      "The mathtext.fallback_to_cm rcparam was deprecated in Matplotlib 3.3 and will be removed two minor releases later.\n",
      "In /opt/anaconda3/envs/learn-env/lib/python3.6/site-packages/matplotlib/mpl-data/stylelib/_classic_test.mplstyle: Support for setting the 'mathtext.fallback_to_cm' rcParam is deprecated since 3.3 and will be removed two minor releases later; use 'mathtext.fallback : 'cm' instead.\n",
      "In /opt/anaconda3/envs/learn-env/lib/python3.6/site-packages/matplotlib/mpl-data/stylelib/_classic_test.mplstyle: \n",
      "The validate_bool_maybe_none function was deprecated in Matplotlib 3.3 and will be removed two minor releases later.\n",
      "In /opt/anaconda3/envs/learn-env/lib/python3.6/site-packages/matplotlib/mpl-data/stylelib/_classic_test.mplstyle: \n",
      "The savefig.jpeg_quality rcparam was deprecated in Matplotlib 3.3 and will be removed two minor releases later.\n",
      "In /opt/anaconda3/envs/learn-env/lib/python3.6/site-packages/matplotlib/mpl-data/stylelib/_classic_test.mplstyle: \n",
      "The keymap.all_axes rcparam was deprecated in Matplotlib 3.3 and will be removed two minor releases later.\n",
      "In /opt/anaconda3/envs/learn-env/lib/python3.6/site-packages/matplotlib/mpl-data/stylelib/_classic_test.mplstyle: \n",
      "The animation.avconv_path rcparam was deprecated in Matplotlib 3.3 and will be removed two minor releases later.\n",
      "In /opt/anaconda3/envs/learn-env/lib/python3.6/site-packages/matplotlib/mpl-data/stylelib/_classic_test.mplstyle: \n",
      "The animation.avconv_args rcparam was deprecated in Matplotlib 3.3 and will be removed two minor releases later.\n"
     ]
    }
   ],
   "source": [
    "import src.useful_codes as uc"
   ]
  },
  {
   "cell_type": "code",
   "execution_count": 23,
   "metadata": {
    "ExecuteTime": {
     "end_time": "2020-11-13T23:36:04.719972Z",
     "start_time": "2020-11-13T23:36:04.716850Z"
    }
   },
   "outputs": [],
   "source": [
    "model = uc.load_data('models/binary_word_emb')"
   ]
  },
  {
   "cell_type": "code",
   "execution_count": 24,
   "metadata": {
    "ExecuteTime": {
     "end_time": "2020-11-13T23:36:15.914382Z",
     "start_time": "2020-11-13T23:36:15.911604Z"
    }
   },
   "outputs": [],
   "source": [
    "a = 'This new xbox is just expensive and adds nothing new.'"
   ]
  },
  {
   "cell_type": "code",
   "execution_count": 37,
   "metadata": {
    "ExecuteTime": {
     "end_time": "2020-11-13T23:41:58.405072Z",
     "start_time": "2020-11-13T23:41:58.391031Z"
    }
   },
   "outputs": [],
   "source": [
    "binary_word_emb = uc.load_data('models/binary_word_emb')\n",
    "\n",
    "def prototype(model='binary'):\n",
    "    user_input = input('Write a review: ')\n",
    "    \n",
    "    text = get_clean_text(user_input)\n",
    "    word_emb = get_vector(text)\n",
    "    if model=='binary':\n",
    "        model = binary_word_emb\n",
    "    else:\n",
    "        model = multiclass_word_emb\n",
    "    print('-'*30)\n",
    "#     print('Product: ', predict_product(text))\n",
    "    print('Sentiment: ', predict_sentiment(model, word_emb))\n",
    "    print('Confidence: ', round(get_confidence(model, word_emb)*100, 2), '%')\n",
    "    print('-'*30)\n",
    "    print('\\n')\n",
    "def get_clean_text(text):\n",
    "    text = ' '.join(clean_text(text))\n",
    "    return text\n",
    "\n",
    "def get_vector(text):\n",
    "    word_emb = np.concatenate(get_vec(text).reshape(-1,1), axis=0).reshape(-1, 300)\n",
    "    return word_emb\n",
    "\n",
    "def predict_sentiment(model, word_emb):\n",
    "    predict = model.predict(word_emb)\n",
    "    return predict[0]\n",
    "\n",
    "def predict_product(text):\n",
    "    predict = product_predictor.predict([text])\n",
    "    return predict[0]\n",
    "\n",
    "def get_confidence(model, word_emb):\n",
    "    prob = model.predict_proba(word_emb)\n",
    "    return max(prob[0])"
   ]
  },
  {
   "cell_type": "code",
   "execution_count": null,
   "metadata": {
    "ExecuteTime": {
     "start_time": "2020-11-13T23:42:02.011Z"
    }
   },
   "outputs": [
    {
     "name": "stdout",
     "output_type": "stream",
     "text": [
      "Write a review: I am the worst\n",
      "------------------------------\n",
      "Sentiment:  Negative\n",
      "Confidence:  99.94 %\n",
      "------------------------------\n",
      "\n",
      "\n",
      "Write a review: Why is this new xbox so slow?\n",
      "------------------------------\n",
      "Sentiment:  Negative\n",
      "Confidence:  81.25 %\n",
      "------------------------------\n",
      "\n",
      "\n",
      "Write a review: why is this new xbox so awesome?\n",
      "------------------------------\n",
      "Sentiment:  Positive\n",
      "Confidence:  98.67 %\n",
      "------------------------------\n",
      "\n",
      "\n",
      "Write a review: new xbox controllers are dope!\n",
      "------------------------------\n",
      "Sentiment:  Positive\n",
      "Confidence:  82.6 %\n",
      "------------------------------\n",
      "\n",
      "\n",
      "Write a review: new xbox controllers\n",
      "------------------------------\n",
      "Sentiment:  Positive\n",
      "Confidence:  79.91 %\n",
      "------------------------------\n",
      "\n",
      "\n",
      "Write a review: im dope!\n",
      "------------------------------\n",
      "Sentiment:  Positive\n",
      "Confidence:  88.99 %\n",
      "------------------------------\n",
      "\n",
      "\n",
      "Write a review: i\n",
      "------------------------------\n",
      "Sentiment:  Positive\n",
      "Confidence:  69.12 %\n",
      "------------------------------\n",
      "\n",
      "\n",
      "Write a review: dope\n",
      "------------------------------\n",
      "Sentiment:  Positive\n",
      "Confidence:  88.99 %\n",
      "------------------------------\n",
      "\n",
      "\n",
      "Write a review: amazing\n",
      "------------------------------\n",
      "Sentiment:  Positive\n",
      "Confidence:  100.0 %\n",
      "------------------------------\n",
      "\n",
      "\n",
      "Write a review: nothing\n",
      "------------------------------\n",
      "Sentiment:  Negative\n",
      "Confidence:  100.0 %\n",
      "------------------------------\n",
      "\n",
      "\n",
      "Write a review: Xbox is nothing compared to sony.\n",
      "------------------------------\n",
      "Sentiment:  Negative\n",
      "Confidence:  75.68 %\n",
      "------------------------------\n",
      "\n",
      "\n"
     ]
    }
   ],
   "source": [
    "while True:\n",
    "    prototype()"
   ]
  },
  {
   "cell_type": "code",
   "execution_count": null,
   "metadata": {},
   "outputs": [],
   "source": []
  }
 ],
 "metadata": {
  "kernelspec": {
   "display_name": "Python [conda env:learn-env] *",
   "language": "python",
   "name": "conda-env-learn-env-py"
  },
  "language_info": {
   "codemirror_mode": {
    "name": "ipython",
    "version": 3
   },
   "file_extension": ".py",
   "mimetype": "text/x-python",
   "name": "python",
   "nbconvert_exporter": "python",
   "pygments_lexer": "ipython3",
   "version": "3.6.9"
  },
  "toc": {
   "base_numbering": 1,
   "nav_menu": {},
   "number_sections": true,
   "sideBar": true,
   "skip_h1_title": false,
   "title_cell": "Table of Contents",
   "title_sidebar": "Contents",
   "toc_cell": false,
   "toc_position": {},
   "toc_section_display": true,
   "toc_window_display": false
  }
 },
 "nbformat": 4,
 "nbformat_minor": 2
}
