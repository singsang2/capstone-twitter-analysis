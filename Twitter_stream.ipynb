{
 "cells": [
  {
   "cell_type": "code",
   "execution_count": 1,
   "metadata": {
    "ExecuteTime": {
     "end_time": "2020-11-30T16:00:05.662543Z",
     "start_time": "2020-11-30T15:59:54.480723Z"
    }
   },
   "outputs": [],
   "source": [
    "import tweepy\n",
    "import webbrowser\n",
    "import re\n",
    "import pandas as pd\n",
    "import numpy as np\n",
    "import spacy\n",
    "nlp = spacy.load('en_core_web_lg')"
   ]
  },
  {
   "cell_type": "code",
   "execution_count": 2,
   "metadata": {
    "ExecuteTime": {
     "end_time": "2020-11-30T16:00:05.668254Z",
     "start_time": "2020-11-30T16:00:05.664107Z"
    }
   },
   "outputs": [],
   "source": [
    "import keys.keys as keys"
   ]
  },
  {
   "cell_type": "code",
   "execution_count": 3,
   "metadata": {
    "ExecuteTime": {
     "end_time": "2020-11-30T16:00:05.673044Z",
     "start_time": "2020-11-30T16:00:05.670203Z"
    }
   },
   "outputs": [],
   "source": [
    "auth = tweepy.OAuthHandler(consumer_key=keys.CONSUMER_KEY, consumer_secret=keys.CONSUMER_SECRET)"
   ]
  },
  {
   "cell_type": "code",
   "execution_count": 4,
   "metadata": {
    "ExecuteTime": {
     "end_time": "2020-11-30T16:00:05.677517Z",
     "start_time": "2020-11-30T16:00:05.674855Z"
    }
   },
   "outputs": [],
   "source": [
    "auth.set_access_token(keys.ACCESS_KEY, keys.ACCESS_SECRET)"
   ]
  },
  {
   "cell_type": "code",
   "execution_count": 5,
   "metadata": {
    "ExecuteTime": {
     "end_time": "2020-11-30T16:00:05.681751Z",
     "start_time": "2020-11-30T16:00:05.679227Z"
    }
   },
   "outputs": [],
   "source": [
    "api = tweepy.API(auth, wait_on_rate_limit=True)"
   ]
  },
  {
   "cell_type": "code",
   "execution_count": 6,
   "metadata": {
    "ExecuteTime": {
     "end_time": "2020-11-30T16:00:06.112266Z",
     "start_time": "2020-11-30T16:00:05.683609Z"
    }
   },
   "outputs": [
    {
     "data": {
      "text/plain": [
       "'snugglybae'"
      ]
     },
     "execution_count": 6,
     "metadata": {},
     "output_type": "execute_result"
    }
   ],
   "source": [
    "me = api.me()\n",
    "me.screen_name"
   ]
  },
  {
   "cell_type": "code",
   "execution_count": null,
   "metadata": {},
   "outputs": [],
   "source": []
  },
  {
   "cell_type": "code",
   "execution_count": 8,
   "metadata": {
    "ExecuteTime": {
     "end_time": "2020-11-30T16:00:24.352303Z",
     "start_time": "2020-11-30T16:00:24.333686Z"
    }
   },
   "outputs": [
    {
     "ename": "NameError",
     "evalue": "name 'tweet_into_dataframe' is not defined",
     "output_type": "error",
     "traceback": [
      "\u001b[0;31m---------------------------------------------------------------------------\u001b[0m",
      "\u001b[0;31mNameError\u001b[0m                                 Traceback (most recent call last)",
      "\u001b[0;32m<ipython-input-8-2f4f822cc4d3>\u001b[0m in \u001b[0;36m<module>\u001b[0;34m\u001b[0m\n\u001b[1;32m      1\u001b[0m \u001b[0mother_user\u001b[0m \u001b[0;34m=\u001b[0m \u001b[0;34m'microsoft'\u001b[0m\u001b[0;34m\u001b[0m\u001b[0;34m\u001b[0m\u001b[0m\n\u001b[1;32m      2\u001b[0m \u001b[0mtweets\u001b[0m \u001b[0;34m=\u001b[0m \u001b[0mtweepy\u001b[0m\u001b[0;34m.\u001b[0m\u001b[0mCursor\u001b[0m\u001b[0;34m(\u001b[0m\u001b[0mapi\u001b[0m\u001b[0;34m.\u001b[0m\u001b[0muser_timeline\u001b[0m\u001b[0;34m,\u001b[0m \u001b[0mscreen_name\u001b[0m\u001b[0;34m=\u001b[0m\u001b[0mother_user\u001b[0m\u001b[0;34m)\u001b[0m\u001b[0;34m.\u001b[0m\u001b[0mitems\u001b[0m\u001b[0;34m(\u001b[0m\u001b[0;36m20\u001b[0m\u001b[0;34m)\u001b[0m\u001b[0;34m\u001b[0m\u001b[0;34m\u001b[0m\u001b[0m\n\u001b[0;32m----> 3\u001b[0;31m \u001b[0mdf_1\u001b[0m \u001b[0;34m=\u001b[0m \u001b[0mtweet_into_dataframe\u001b[0m\u001b[0;34m(\u001b[0m\u001b[0mtweets\u001b[0m\u001b[0;34m)\u001b[0m\u001b[0;34m\u001b[0m\u001b[0;34m\u001b[0m\u001b[0m\n\u001b[0m",
      "\u001b[0;31mNameError\u001b[0m: name 'tweet_into_dataframe' is not defined"
     ]
    }
   ],
   "source": [
    "other_user = 'microsoft'\n",
    "tweets = tweepy.Cursor(api.user_timeline, screen_name=other_user).items(20)\n",
    "df_1 = tweet_into_dataframe(tweets)"
   ]
  },
  {
   "cell_type": "code",
   "execution_count": 147,
   "metadata": {
    "ExecuteTime": {
     "end_time": "2020-11-23T05:07:36.328372Z",
     "start_time": "2020-11-23T05:07:36.292919Z"
    }
   },
   "outputs": [],
   "source": [
    "df_1 = pd.DataFrame(df_1)"
   ]
  },
  {
   "cell_type": "code",
   "execution_count": 154,
   "metadata": {
    "ExecuteTime": {
     "end_time": "2020-11-23T05:10:03.155430Z",
     "start_time": "2020-11-23T05:10:03.139647Z"
    }
   },
   "outputs": [
    {
     "data": {
      "text/plain": [
       "Index(['created_at', 'id', 'id_str', 'text', 'truncated', 'entities', 'source',\n",
       "       'in_reply_to_status_id', 'in_reply_to_status_id_str',\n",
       "       'in_reply_to_user_id', 'in_reply_to_user_id_str',\n",
       "       'in_reply_to_screen_name', 'user', 'geo', 'coordinates', 'place',\n",
       "       'contributors', 'is_quote_status', 'retweet_count', 'favorite_count',\n",
       "       'favorited', 'retweeted', 'possibly_sensitive', 'lang',\n",
       "       'quoted_status_id', 'quoted_status_id_str', 'quoted_status',\n",
       "       'extended_entities', 'retweeted_status'],\n",
       "      dtype='object')"
      ]
     },
     "execution_count": 154,
     "metadata": {},
     "output_type": "execute_result"
    }
   ],
   "source": [
    "df_1.keys()"
   ]
  },
  {
   "cell_type": "code",
   "execution_count": null,
   "metadata": {},
   "outputs": [],
   "source": [
    "features = ['created_at', 'user', 'text', 'entities', 'source', ]"
   ]
  },
  {
   "cell_type": "code",
   "execution_count": 157,
   "metadata": {
    "ExecuteTime": {
     "end_time": "2020-11-23T05:10:39.086501Z",
     "start_time": "2020-11-23T05:10:39.072961Z"
    }
   },
   "outputs": [
    {
     "data": {
      "text/plain": [
       "created_at                                      Fri Nov 20 23:18:03 +0000 2020\n",
       "id                                                         1329927013738577921\n",
       "id_str                                                     1329927013738577921\n",
       "text                           More on our commitment: https://t.co/IOSZDWsvKy\n",
       "truncated                                                                False\n",
       "entities                     {'hashtags': [], 'symbols': [], 'user_mentions...\n",
       "source                       <a href=\"https://mobile.twitter.com\" rel=\"nofo...\n",
       "in_reply_to_status_id                                              1.32992e+18\n",
       "in_reply_to_status_id_str                                  1329918694932291586\n",
       "in_reply_to_user_id                                                7.42866e+07\n",
       "in_reply_to_user_id_str                                               74286565\n",
       "in_reply_to_screen_name                                              Microsoft\n",
       "user                         {'id': 74286565, 'id_str': '74286565', 'name':...\n",
       "geo                                                                       None\n",
       "coordinates                                                               None\n",
       "place                                                                     None\n",
       "contributors                                                              None\n",
       "is_quote_status                                                          False\n",
       "retweet_count                                                               22\n",
       "favorite_count                                                             298\n",
       "favorited                                                                False\n",
       "retweeted                                                                False\n",
       "possibly_sensitive                                                       False\n",
       "lang                                                                        en\n",
       "quoted_status_id                                                           NaN\n",
       "quoted_status_id_str                                                       NaN\n",
       "quoted_status                                                              NaN\n",
       "extended_entities                                                          NaN\n",
       "retweeted_status                                                           NaN\n",
       "Name: 0, dtype: object"
      ]
     },
     "execution_count": 157,
     "metadata": {},
     "output_type": "execute_result"
    }
   ],
   "source": [
    "df_1.iloc[0]"
   ]
  },
  {
   "cell_type": "markdown",
   "metadata": {},
   "source": [
    "# Filtering Tweets with replies to Microsofts"
   ]
  },
  {
   "cell_type": "code",
   "execution_count": 38,
   "metadata": {
    "ExecuteTime": {
     "end_time": "2020-12-01T04:31:16.750206Z",
     "start_time": "2020-12-01T04:31:16.741303Z"
    }
   },
   "outputs": [],
   "source": [
    "name = 'Microsoft'\n",
    "tweet_id = '1329927013738577921'"
   ]
  },
  {
   "cell_type": "code",
   "execution_count": 39,
   "metadata": {
    "ExecuteTime": {
     "end_time": "2020-12-01T04:31:21.948125Z",
     "start_time": "2020-12-01T04:31:21.945041Z"
    }
   },
   "outputs": [],
   "source": [
    "result_types = ['mixed', 'recent', 'popular']"
   ]
  },
  {
   "cell_type": "code",
   "execution_count": null,
   "metadata": {
    "ExecuteTime": {
     "start_time": "2020-12-01T04:33:25.508Z"
    }
   },
   "outputs": [],
   "source": [
    "tweets = tweepy.Cursor(api.search, q='to:'+name, result_type='recent').items(100000)\n",
    "df_replies = tweet_into_dataframe(tweets)"
   ]
  },
  {
   "cell_type": "code",
   "execution_count": 15,
   "metadata": {
    "ExecuteTime": {
     "end_time": "2020-11-30T16:03:05.500052Z",
     "start_time": "2020-11-30T16:03:05.483464Z"
    }
   },
   "outputs": [
    {
     "data": {
      "text/plain": [
       "created_at                                      Mon Nov 30 15:53:10 +0000 2020\n",
       "id                                                         1333438932722192384\n",
       "id_str                                                     1333438932722192384\n",
       "text                         @Microsoft Teams has the creepiest emojis... t...\n",
       "truncated                                                                False\n",
       "entities                     {'hashtags': [], 'symbols': [], 'user_mentions...\n",
       "extended_entities            {'media': [{'id': 1333438929773625346, 'id_str...\n",
       "metadata                     {'iso_language_code': 'en', 'result_type': 're...\n",
       "source                       <a href=\"http://twitter.com/download/android\" ...\n",
       "in_reply_to_status_id                                                      NaN\n",
       "in_reply_to_status_id_str                                                 None\n",
       "in_reply_to_user_id                                                7.42866e+07\n",
       "in_reply_to_user_id_str                                               74286565\n",
       "in_reply_to_screen_name                                              Microsoft\n",
       "user                         {'id': 1319388739328602113, 'id_str': '1319388...\n",
       "geo                                                                       None\n",
       "coordinates                                                               None\n",
       "place                                                                     None\n",
       "contributors                                                              None\n",
       "is_quote_status                                                          False\n",
       "retweet_count                                                                0\n",
       "favorite_count                                                               0\n",
       "favorited                                                                False\n",
       "retweeted                                                                False\n",
       "possibly_sensitive                                                       False\n",
       "lang                                                                        en\n",
       "retweeted_status                                                           NaN\n",
       "quoted_status_id                                                           NaN\n",
       "quoted_status_id_str                                                       NaN\n",
       "quoted_status                                                              NaN\n",
       "Name: 0, dtype: object"
      ]
     },
     "execution_count": 15,
     "metadata": {},
     "output_type": "execute_result"
    }
   ],
   "source": [
    "df_replies.iloc[0]"
   ]
  },
  {
   "cell_type": "code",
   "execution_count": 16,
   "metadata": {
    "ExecuteTime": {
     "end_time": "2020-11-30T16:03:08.232230Z",
     "start_time": "2020-11-30T16:03:08.209775Z"
    }
   },
   "outputs": [
    {
     "data": {
      "text/html": [
       "<div>\n",
       "<style scoped>\n",
       "    .dataframe tbody tr th:only-of-type {\n",
       "        vertical-align: middle;\n",
       "    }\n",
       "\n",
       "    .dataframe tbody tr th {\n",
       "        vertical-align: top;\n",
       "    }\n",
       "\n",
       "    .dataframe thead th {\n",
       "        text-align: right;\n",
       "    }\n",
       "</style>\n",
       "<table border=\"1\" class=\"dataframe\">\n",
       "  <thead>\n",
       "    <tr style=\"text-align: right;\">\n",
       "      <th></th>\n",
       "      <th>created_at</th>\n",
       "      <th>id</th>\n",
       "    </tr>\n",
       "  </thead>\n",
       "  <tbody>\n",
       "    <tr>\n",
       "      <th>0</th>\n",
       "      <td>Mon Nov 30 15:53:10 +0000 2020</td>\n",
       "      <td>1333438932722192384</td>\n",
       "    </tr>\n",
       "    <tr>\n",
       "      <th>1</th>\n",
       "      <td>Mon Nov 30 15:51:42 +0000 2020</td>\n",
       "      <td>1333438566081433605</td>\n",
       "    </tr>\n",
       "    <tr>\n",
       "      <th>2</th>\n",
       "      <td>Mon Nov 30 15:50:00 +0000 2020</td>\n",
       "      <td>1333438136467255304</td>\n",
       "    </tr>\n",
       "    <tr>\n",
       "      <th>3</th>\n",
       "      <td>Mon Nov 30 15:48:26 +0000 2020</td>\n",
       "      <td>1333437743955726341</td>\n",
       "    </tr>\n",
       "    <tr>\n",
       "      <th>4</th>\n",
       "      <td>Mon Nov 30 15:46:10 +0000 2020</td>\n",
       "      <td>1333437170879754247</td>\n",
       "    </tr>\n",
       "    <tr>\n",
       "      <th>5</th>\n",
       "      <td>Mon Nov 30 15:43:25 +0000 2020</td>\n",
       "      <td>1333436481847914497</td>\n",
       "    </tr>\n",
       "    <tr>\n",
       "      <th>6</th>\n",
       "      <td>Mon Nov 30 15:36:49 +0000 2020</td>\n",
       "      <td>1333434819250937857</td>\n",
       "    </tr>\n",
       "    <tr>\n",
       "      <th>7</th>\n",
       "      <td>Mon Nov 30 15:34:17 +0000 2020</td>\n",
       "      <td>1333434180441698304</td>\n",
       "    </tr>\n",
       "    <tr>\n",
       "      <th>8</th>\n",
       "      <td>Mon Nov 30 15:32:33 +0000 2020</td>\n",
       "      <td>1333433746721296390</td>\n",
       "    </tr>\n",
       "    <tr>\n",
       "      <th>9</th>\n",
       "      <td>Mon Nov 30 15:30:34 +0000 2020</td>\n",
       "      <td>1333433244860166150</td>\n",
       "    </tr>\n",
       "    <tr>\n",
       "      <th>10</th>\n",
       "      <td>Mon Nov 30 15:09:05 +0000 2020</td>\n",
       "      <td>1333427838310035456</td>\n",
       "    </tr>\n",
       "    <tr>\n",
       "      <th>11</th>\n",
       "      <td>Mon Nov 30 15:02:55 +0000 2020</td>\n",
       "      <td>1333426287713660930</td>\n",
       "    </tr>\n",
       "    <tr>\n",
       "      <th>12</th>\n",
       "      <td>Mon Nov 30 14:59:02 +0000 2020</td>\n",
       "      <td>1333425312454086658</td>\n",
       "    </tr>\n",
       "    <tr>\n",
       "      <th>13</th>\n",
       "      <td>Mon Nov 30 14:55:03 +0000 2020</td>\n",
       "      <td>1333424306404134913</td>\n",
       "    </tr>\n",
       "    <tr>\n",
       "      <th>14</th>\n",
       "      <td>Mon Nov 30 14:38:04 +0000 2020</td>\n",
       "      <td>1333420034388094976</td>\n",
       "    </tr>\n",
       "    <tr>\n",
       "      <th>15</th>\n",
       "      <td>Mon Nov 30 13:58:39 +0000 2020</td>\n",
       "      <td>1333410112786948097</td>\n",
       "    </tr>\n",
       "    <tr>\n",
       "      <th>16</th>\n",
       "      <td>Mon Nov 30 13:56:47 +0000 2020</td>\n",
       "      <td>1333409643205447680</td>\n",
       "    </tr>\n",
       "    <tr>\n",
       "      <th>17</th>\n",
       "      <td>Mon Nov 30 13:46:52 +0000 2020</td>\n",
       "      <td>1333407149079277569</td>\n",
       "    </tr>\n",
       "    <tr>\n",
       "      <th>18</th>\n",
       "      <td>Mon Nov 30 13:34:14 +0000 2020</td>\n",
       "      <td>1333403969461362689</td>\n",
       "    </tr>\n",
       "    <tr>\n",
       "      <th>19</th>\n",
       "      <td>Mon Nov 30 13:29:59 +0000 2020</td>\n",
       "      <td>1333402901465739264</td>\n",
       "    </tr>\n",
       "    <tr>\n",
       "      <th>20</th>\n",
       "      <td>Mon Nov 30 13:15:06 +0000 2020</td>\n",
       "      <td>1333399155264409602</td>\n",
       "    </tr>\n",
       "    <tr>\n",
       "      <th>21</th>\n",
       "      <td>Mon Nov 30 13:15:04 +0000 2020</td>\n",
       "      <td>1333399146070503429</td>\n",
       "    </tr>\n",
       "    <tr>\n",
       "      <th>22</th>\n",
       "      <td>Mon Nov 30 13:14:14 +0000 2020</td>\n",
       "      <td>1333398936707600386</td>\n",
       "    </tr>\n",
       "    <tr>\n",
       "      <th>23</th>\n",
       "      <td>Mon Nov 30 13:11:40 +0000 2020</td>\n",
       "      <td>1333398291699130375</td>\n",
       "    </tr>\n",
       "    <tr>\n",
       "      <th>24</th>\n",
       "      <td>Mon Nov 30 13:00:10 +0000 2020</td>\n",
       "      <td>1333395398539538433</td>\n",
       "    </tr>\n",
       "    <tr>\n",
       "      <th>25</th>\n",
       "      <td>Mon Nov 30 12:56:15 +0000 2020</td>\n",
       "      <td>1333394411775004672</td>\n",
       "    </tr>\n",
       "    <tr>\n",
       "      <th>26</th>\n",
       "      <td>Mon Nov 30 12:32:16 +0000 2020</td>\n",
       "      <td>1333388373407522817</td>\n",
       "    </tr>\n",
       "    <tr>\n",
       "      <th>27</th>\n",
       "      <td>Mon Nov 30 12:25:52 +0000 2020</td>\n",
       "      <td>1333386766829703175</td>\n",
       "    </tr>\n",
       "    <tr>\n",
       "      <th>28</th>\n",
       "      <td>Mon Nov 30 12:17:05 +0000 2020</td>\n",
       "      <td>1333384553415774212</td>\n",
       "    </tr>\n",
       "    <tr>\n",
       "      <th>29</th>\n",
       "      <td>Mon Nov 30 11:44:39 +0000 2020</td>\n",
       "      <td>1333376391014981640</td>\n",
       "    </tr>\n",
       "    <tr>\n",
       "      <th>30</th>\n",
       "      <td>Mon Nov 30 11:43:44 +0000 2020</td>\n",
       "      <td>1333376159783006208</td>\n",
       "    </tr>\n",
       "    <tr>\n",
       "      <th>31</th>\n",
       "      <td>Mon Nov 30 11:38:49 +0000 2020</td>\n",
       "      <td>1333374925323837442</td>\n",
       "    </tr>\n",
       "    <tr>\n",
       "      <th>32</th>\n",
       "      <td>Mon Nov 30 11:38:15 +0000 2020</td>\n",
       "      <td>1333374783514415105</td>\n",
       "    </tr>\n",
       "    <tr>\n",
       "      <th>33</th>\n",
       "      <td>Mon Nov 30 11:37:38 +0000 2020</td>\n",
       "      <td>1333374627733790721</td>\n",
       "    </tr>\n",
       "    <tr>\n",
       "      <th>34</th>\n",
       "      <td>Mon Nov 30 11:26:52 +0000 2020</td>\n",
       "      <td>1333371916200062978</td>\n",
       "    </tr>\n",
       "    <tr>\n",
       "      <th>35</th>\n",
       "      <td>Mon Nov 30 11:11:04 +0000 2020</td>\n",
       "      <td>1333367939987279881</td>\n",
       "    </tr>\n",
       "    <tr>\n",
       "      <th>36</th>\n",
       "      <td>Mon Nov 30 11:10:43 +0000 2020</td>\n",
       "      <td>1333367851277807621</td>\n",
       "    </tr>\n",
       "    <tr>\n",
       "      <th>37</th>\n",
       "      <td>Mon Nov 30 10:55:22 +0000 2020</td>\n",
       "      <td>1333363990009950208</td>\n",
       "    </tr>\n",
       "    <tr>\n",
       "      <th>38</th>\n",
       "      <td>Mon Nov 30 10:55:11 +0000 2020</td>\n",
       "      <td>1333363944409489410</td>\n",
       "    </tr>\n",
       "    <tr>\n",
       "      <th>39</th>\n",
       "      <td>Mon Nov 30 10:02:55 +0000 2020</td>\n",
       "      <td>1333350788178042883</td>\n",
       "    </tr>\n",
       "    <tr>\n",
       "      <th>40</th>\n",
       "      <td>Mon Nov 30 09:52:02 +0000 2020</td>\n",
       "      <td>1333348049410789376</td>\n",
       "    </tr>\n",
       "    <tr>\n",
       "      <th>41</th>\n",
       "      <td>Mon Nov 30 09:26:18 +0000 2020</td>\n",
       "      <td>1333341574990876672</td>\n",
       "    </tr>\n",
       "    <tr>\n",
       "      <th>42</th>\n",
       "      <td>Mon Nov 30 09:24:07 +0000 2020</td>\n",
       "      <td>1333341027764228096</td>\n",
       "    </tr>\n",
       "    <tr>\n",
       "      <th>43</th>\n",
       "      <td>Mon Nov 30 09:23:48 +0000 2020</td>\n",
       "      <td>1333340947279581185</td>\n",
       "    </tr>\n",
       "    <tr>\n",
       "      <th>44</th>\n",
       "      <td>Mon Nov 30 09:23:06 +0000 2020</td>\n",
       "      <td>1333340770338803712</td>\n",
       "    </tr>\n",
       "    <tr>\n",
       "      <th>45</th>\n",
       "      <td>Mon Nov 30 09:19:39 +0000 2020</td>\n",
       "      <td>1333339902986031105</td>\n",
       "    </tr>\n",
       "    <tr>\n",
       "      <th>46</th>\n",
       "      <td>Mon Nov 30 09:13:30 +0000 2020</td>\n",
       "      <td>1333338352460967936</td>\n",
       "    </tr>\n",
       "    <tr>\n",
       "      <th>47</th>\n",
       "      <td>Mon Nov 30 09:11:59 +0000 2020</td>\n",
       "      <td>1333337970414239751</td>\n",
       "    </tr>\n",
       "    <tr>\n",
       "      <th>48</th>\n",
       "      <td>Mon Nov 30 09:10:44 +0000 2020</td>\n",
       "      <td>1333337657619968002</td>\n",
       "    </tr>\n",
       "    <tr>\n",
       "      <th>49</th>\n",
       "      <td>Mon Nov 30 08:54:52 +0000 2020</td>\n",
       "      <td>1333333665246449664</td>\n",
       "    </tr>\n",
       "  </tbody>\n",
       "</table>\n",
       "</div>"
      ],
      "text/plain": [
       "                        created_at                   id\n",
       "0   Mon Nov 30 15:53:10 +0000 2020  1333438932722192384\n",
       "1   Mon Nov 30 15:51:42 +0000 2020  1333438566081433605\n",
       "2   Mon Nov 30 15:50:00 +0000 2020  1333438136467255304\n",
       "3   Mon Nov 30 15:48:26 +0000 2020  1333437743955726341\n",
       "4   Mon Nov 30 15:46:10 +0000 2020  1333437170879754247\n",
       "5   Mon Nov 30 15:43:25 +0000 2020  1333436481847914497\n",
       "6   Mon Nov 30 15:36:49 +0000 2020  1333434819250937857\n",
       "7   Mon Nov 30 15:34:17 +0000 2020  1333434180441698304\n",
       "8   Mon Nov 30 15:32:33 +0000 2020  1333433746721296390\n",
       "9   Mon Nov 30 15:30:34 +0000 2020  1333433244860166150\n",
       "10  Mon Nov 30 15:09:05 +0000 2020  1333427838310035456\n",
       "11  Mon Nov 30 15:02:55 +0000 2020  1333426287713660930\n",
       "12  Mon Nov 30 14:59:02 +0000 2020  1333425312454086658\n",
       "13  Mon Nov 30 14:55:03 +0000 2020  1333424306404134913\n",
       "14  Mon Nov 30 14:38:04 +0000 2020  1333420034388094976\n",
       "15  Mon Nov 30 13:58:39 +0000 2020  1333410112786948097\n",
       "16  Mon Nov 30 13:56:47 +0000 2020  1333409643205447680\n",
       "17  Mon Nov 30 13:46:52 +0000 2020  1333407149079277569\n",
       "18  Mon Nov 30 13:34:14 +0000 2020  1333403969461362689\n",
       "19  Mon Nov 30 13:29:59 +0000 2020  1333402901465739264\n",
       "20  Mon Nov 30 13:15:06 +0000 2020  1333399155264409602\n",
       "21  Mon Nov 30 13:15:04 +0000 2020  1333399146070503429\n",
       "22  Mon Nov 30 13:14:14 +0000 2020  1333398936707600386\n",
       "23  Mon Nov 30 13:11:40 +0000 2020  1333398291699130375\n",
       "24  Mon Nov 30 13:00:10 +0000 2020  1333395398539538433\n",
       "25  Mon Nov 30 12:56:15 +0000 2020  1333394411775004672\n",
       "26  Mon Nov 30 12:32:16 +0000 2020  1333388373407522817\n",
       "27  Mon Nov 30 12:25:52 +0000 2020  1333386766829703175\n",
       "28  Mon Nov 30 12:17:05 +0000 2020  1333384553415774212\n",
       "29  Mon Nov 30 11:44:39 +0000 2020  1333376391014981640\n",
       "30  Mon Nov 30 11:43:44 +0000 2020  1333376159783006208\n",
       "31  Mon Nov 30 11:38:49 +0000 2020  1333374925323837442\n",
       "32  Mon Nov 30 11:38:15 +0000 2020  1333374783514415105\n",
       "33  Mon Nov 30 11:37:38 +0000 2020  1333374627733790721\n",
       "34  Mon Nov 30 11:26:52 +0000 2020  1333371916200062978\n",
       "35  Mon Nov 30 11:11:04 +0000 2020  1333367939987279881\n",
       "36  Mon Nov 30 11:10:43 +0000 2020  1333367851277807621\n",
       "37  Mon Nov 30 10:55:22 +0000 2020  1333363990009950208\n",
       "38  Mon Nov 30 10:55:11 +0000 2020  1333363944409489410\n",
       "39  Mon Nov 30 10:02:55 +0000 2020  1333350788178042883\n",
       "40  Mon Nov 30 09:52:02 +0000 2020  1333348049410789376\n",
       "41  Mon Nov 30 09:26:18 +0000 2020  1333341574990876672\n",
       "42  Mon Nov 30 09:24:07 +0000 2020  1333341027764228096\n",
       "43  Mon Nov 30 09:23:48 +0000 2020  1333340947279581185\n",
       "44  Mon Nov 30 09:23:06 +0000 2020  1333340770338803712\n",
       "45  Mon Nov 30 09:19:39 +0000 2020  1333339902986031105\n",
       "46  Mon Nov 30 09:13:30 +0000 2020  1333338352460967936\n",
       "47  Mon Nov 30 09:11:59 +0000 2020  1333337970414239751\n",
       "48  Mon Nov 30 09:10:44 +0000 2020  1333337657619968002\n",
       "49  Mon Nov 30 08:54:52 +0000 2020  1333333665246449664"
      ]
     },
     "execution_count": 16,
     "metadata": {},
     "output_type": "execute_result"
    }
   ],
   "source": [
    "df_replies[['created_at', 'id', ]]"
   ]
  },
  {
   "cell_type": "markdown",
   "metadata": {},
   "source": [
    "# Creating SQL database"
   ]
  },
  {
   "cell_type": "code",
   "execution_count": 34,
   "metadata": {
    "ExecuteTime": {
     "end_time": "2020-12-01T04:28:39.506081Z",
     "start_time": "2020-12-01T04:28:39.469308Z"
    }
   },
   "outputs": [],
   "source": [
    "PATH = 'Users/juhyunlee/Documents/GitHub/capstone-twitter-analysis'"
   ]
  },
  {
   "cell_type": "code",
   "execution_count": 35,
   "metadata": {
    "ExecuteTime": {
     "end_time": "2020-12-01T04:28:41.820144Z",
     "start_time": "2020-12-01T04:28:41.786865Z"
    }
   },
   "outputs": [],
   "source": [
    "from sqlalchemy import create_engine\n",
    "engine = create_engine('sqlite:////'+PATH+'/data/tweets.db', echo=False)"
   ]
  },
  {
   "cell_type": "code",
   "execution_count": 32,
   "metadata": {
    "ExecuteTime": {
     "end_time": "2020-11-30T18:14:36.642184Z",
     "start_time": "2020-11-30T18:14:36.629896Z"
    }
   },
   "outputs": [],
   "source": [
    "df = pd.DataFrame({'name' : ['User 1', 'User 2', 'User 3']})\n",
    "df2 = pd.DataFrame({'name' : ['User 6', 'User 7']})\n",
    "df.to_sql('microsoft', con=engine, if_exists='append')"
   ]
  },
  {
   "cell_type": "code",
   "execution_count": 33,
   "metadata": {
    "ExecuteTime": {
     "end_time": "2020-11-30T18:14:38.763706Z",
     "start_time": "2020-11-30T18:14:38.758364Z"
    }
   },
   "outputs": [
    {
     "data": {
      "text/plain": [
       "[(0, 'User 6'), (1, 'User 7'), (0, 'User 1'), (1, 'User 2'), (2, 'User 3')]"
      ]
     },
     "execution_count": 33,
     "metadata": {},
     "output_type": "execute_result"
    }
   ],
   "source": [
    "engine.execute(\"SELECT * FROM users\").fetchall()"
   ]
  },
  {
   "cell_type": "code",
   "execution_count": 194,
   "metadata": {
    "ExecuteTime": {
     "end_time": "2020-11-23T05:48:34.018226Z",
     "start_time": "2020-11-23T05:48:33.995046Z"
    }
   },
   "outputs": [
    {
     "ename": "AttributeError",
     "evalue": "Can't get attribute 'process_text' on <module '__main__'>",
     "output_type": "error",
     "traceback": [
      "\u001b[0;31m---------------------------------------------------------------------------\u001b[0m",
      "\u001b[0;31mAttributeError\u001b[0m                            Traceback (most recent call last)",
      "\u001b[0;32m<ipython-input-194-9fe1094d82a2>\u001b[0m in \u001b[0;36m<module>\u001b[0;34m\u001b[0m\n\u001b[0;32m----> 1\u001b[0;31m \u001b[0mbinary_model\u001b[0m \u001b[0;34m=\u001b[0m \u001b[0muc\u001b[0m\u001b[0;34m.\u001b[0m\u001b[0mload_data\u001b[0m\u001b[0;34m(\u001b[0m\u001b[0;34m'models/binary_nb_model'\u001b[0m\u001b[0;34m)\u001b[0m\u001b[0;34m\u001b[0m\u001b[0;34m\u001b[0m\u001b[0m\n\u001b[0m\u001b[1;32m      2\u001b[0m \u001b[0;34m\u001b[0m\u001b[0m\n\u001b[1;32m      3\u001b[0m \u001b[0;32mdef\u001b[0m \u001b[0mprototype\u001b[0m\u001b[0;34m(\u001b[0m\u001b[0mmodel\u001b[0m\u001b[0;34m=\u001b[0m\u001b[0;34m'binary'\u001b[0m\u001b[0;34m)\u001b[0m\u001b[0;34m:\u001b[0m\u001b[0;34m\u001b[0m\u001b[0;34m\u001b[0m\u001b[0m\n\u001b[1;32m      4\u001b[0m     \u001b[0muser_input\u001b[0m \u001b[0;34m=\u001b[0m \u001b[0minput\u001b[0m\u001b[0;34m(\u001b[0m\u001b[0;34m'Write a review: '\u001b[0m\u001b[0;34m)\u001b[0m\u001b[0;34m\u001b[0m\u001b[0;34m\u001b[0m\u001b[0m\n\u001b[1;32m      5\u001b[0m \u001b[0;34m\u001b[0m\u001b[0m\n",
      "\u001b[0;32m~/Documents/GitHub/capstone-twitter-analysis/src/useful_codes.py\u001b[0m in \u001b[0;36mload_data\u001b[0;34m(name)\u001b[0m\n\u001b[1;32m     62\u001b[0m     \"\"\"\n\u001b[1;32m     63\u001b[0m     \u001b[0;32mwith\u001b[0m \u001b[0mopen\u001b[0m\u001b[0;34m(\u001b[0m\u001b[0mname\u001b[0m\u001b[0;34m,\u001b[0m \u001b[0;34m'rb'\u001b[0m\u001b[0;34m)\u001b[0m \u001b[0;32mas\u001b[0m \u001b[0mf\u001b[0m\u001b[0;34m:\u001b[0m\u001b[0;34m\u001b[0m\u001b[0;34m\u001b[0m\u001b[0m\n\u001b[0;32m---> 64\u001b[0;31m         \u001b[0;32mreturn\u001b[0m \u001b[0mpickle\u001b[0m\u001b[0;34m.\u001b[0m\u001b[0mload\u001b[0m\u001b[0;34m(\u001b[0m\u001b[0mf\u001b[0m\u001b[0;34m)\u001b[0m\u001b[0;34m\u001b[0m\u001b[0;34m\u001b[0m\u001b[0m\n\u001b[0m\u001b[1;32m     65\u001b[0m \u001b[0;34m\u001b[0m\u001b[0m\n\u001b[1;32m     66\u001b[0m \u001b[0;34m\u001b[0m\u001b[0m\n",
      "\u001b[0;31mAttributeError\u001b[0m: Can't get attribute 'process_text' on <module '__main__'>"
     ]
    }
   ],
   "source": [
    "binary_model = uc.load_data('models/binary_nb_model')\n",
    "\n",
    "def prototype(model='binary'):\n",
    "    user_input = input('Write a review: ')\n",
    "    \n",
    "#     text = get_clean_text(user_input)\n",
    "#     word_emb = get_vector(text)\n",
    "    if model=='binary':\n",
    "        model = binary_model\n",
    "    else:\n",
    "        model = multiclass_word_emb\n",
    "    print('-'*30)\n",
    "#     print('Product: ', predict_product(text))\n",
    "    print('Sentiment: ', predict_sentiment(model, user_input))\n",
    "    print('Confidence: ', round(get_confidence(model, user_input)*100, 2), '%')\n",
    "    print('-'*30)\n",
    "    print('\\n')\n",
    "def prototype_2(text):\n",
    "    text = get_clean_text(text)\n",
    "\n",
    "    sentiment = predict_sentiment(binary_model, text)\n",
    "    confidence = round(get_confidence(binary_model, text)*100, 2)\n",
    "    return (sentiment, confidence)\n",
    "\n",
    "def get_clean_text(text):\n",
    "    text = ' '.join(uc.clean_text(text))\n",
    "    return text\n",
    "\n",
    "def get_vector(text):\n",
    "    word_emb = np.concatenate(uc.get_vec(text).reshape(-1,1), axis=0).reshape(-1, 300)\n",
    "    return word_emb\n",
    "\n",
    "def predict_sentiment(model, text):\n",
    "    predict = model.predict([text])\n",
    "    return predict[0]\n",
    "\n",
    "def predict_product(text):\n",
    "    predict = product_predictor.predict(text)\n",
    "    return predict[0]\n",
    "\n",
    "def get_confidence(model, text):\n",
    "    prob = model.predict_proba([text])\n",
    "    return max(prob[0])"
   ]
  },
  {
   "cell_type": "code",
   "execution_count": 176,
   "metadata": {
    "ExecuteTime": {
     "end_time": "2020-11-23T05:30:41.008936Z",
     "start_time": "2020-11-23T05:30:41.002118Z"
    }
   },
   "outputs": [],
   "source": [
    "test = df_replies[['text']].copy()"
   ]
  },
  {
   "cell_type": "code",
   "execution_count": 181,
   "metadata": {
    "ExecuteTime": {
     "end_time": "2020-11-23T05:34:45.620727Z",
     "start_time": "2020-11-23T05:34:43.401495Z"
    }
   },
   "outputs": [],
   "source": [
    "test['new'] = test['text'].apply(prototype_2)"
   ]
  },
  {
   "cell_type": "code",
   "execution_count": 189,
   "metadata": {
    "ExecuteTime": {
     "end_time": "2020-11-23T05:41:29.324281Z",
     "start_time": "2020-11-23T05:41:29.318502Z"
    }
   },
   "outputs": [
    {
     "data": {
      "text/plain": [
       "'@Microsoft @Windows @MicrosoftEdge @MicrosoftHelps @MicrosoftHelps @Office365 @MicrosoftStore @Office… https://t.co/lp6Cu2mnY3'"
      ]
     },
     "metadata": {},
     "output_type": "display_data"
    },
    {
     "name": "stdout",
     "output_type": "stream",
     "text": [
      "\n",
      "\n",
      "('Positive', 50.08)\n"
     ]
    }
   ],
   "source": [
    "x = 7\n",
    "\n",
    "display(test.iloc[x]['text'])\n",
    "print('\\n')\n",
    "print(test.iloc[x]['new'])"
   ]
  },
  {
   "cell_type": "code",
   "execution_count": 36,
   "metadata": {
    "ExecuteTime": {
     "end_time": "2020-12-01T04:29:09.862028Z",
     "start_time": "2020-12-01T04:29:09.670597Z"
    }
   },
   "outputs": [
    {
     "data": {
      "application/vnd.jupyter.widget-view+json": {
       "model_id": "f3036cdabd9c4be48baa089ecf641c76",
       "version_major": 2,
       "version_minor": 0
      },
      "text/plain": [
       "interactive(children=(IntSlider(value=25, description='x', max=50), Output()), _dom_classes=('widget-interact'…"
      ]
     },
     "metadata": {},
     "output_type": "display_data"
    }
   ],
   "source": [
    "from ipywidgets import interact\n",
    "\n",
    "@interact\n",
    "def tokenize_tweet(x=(0, 50)):\n",
    "    print(test['text'][x])\n",
    "    print('\\n\\n')\n",
    "    print(' '.join(uc.clean_text(test['text'][x])))\n",
    "    print('\\n\\n')\n",
    "    print(test['new'][x])"
   ]
  },
  {
   "cell_type": "code",
   "execution_count": 104,
   "metadata": {
    "ExecuteTime": {
     "end_time": "2020-11-19T20:57:47.334702Z",
     "start_time": "2020-11-19T20:57:47.332259Z"
    }
   },
   "outputs": [],
   "source": [
    "# Keytword/hashtag to search about\n",
    "search_item = 'microsoft'\n",
    "num_of_tweet_search = 50"
   ]
  },
  {
   "cell_type": "code",
   "execution_count": 120,
   "metadata": {
    "ExecuteTime": {
     "end_time": "2020-11-19T21:00:52.533505Z",
     "start_time": "2020-11-19T21:00:52.529845Z"
    }
   },
   "outputs": [],
   "source": [
    "tweets = tweepy.Cursor(api.search, q=search_item, lang='en').items(num_of_tweet_search)"
   ]
  },
  {
   "cell_type": "code",
   "execution_count": 37,
   "metadata": {
    "ExecuteTime": {
     "end_time": "2020-12-01T04:29:14.259246Z",
     "start_time": "2020-12-01T04:29:14.249134Z"
    }
   },
   "outputs": [],
   "source": [
    "def tweet_into_dataframe(tweets):\n",
    "    data = []\n",
    "    for tweet in tweets:\n",
    "        data.append(tweet._json)\n",
    "    \n",
    "    return pd.DataFrame(data)"
   ]
  },
  {
   "cell_type": "code",
   "execution_count": 10,
   "metadata": {
    "ExecuteTime": {
     "end_time": "2020-11-30T16:00:41.327456Z",
     "start_time": "2020-11-30T16:00:41.318069Z"
    }
   },
   "outputs": [
    {
     "ename": "NameError",
     "evalue": "name 'data' is not defined",
     "output_type": "error",
     "traceback": [
      "\u001b[0;31m---------------------------------------------------------------------------\u001b[0m",
      "\u001b[0;31mNameError\u001b[0m                                 Traceback (most recent call last)",
      "\u001b[0;32m<ipython-input-10-8d36e7868554>\u001b[0m in \u001b[0;36m<module>\u001b[0;34m\u001b[0m\n\u001b[0;32m----> 1\u001b[0;31m \u001b[0mtest_df\u001b[0m \u001b[0;34m=\u001b[0m \u001b[0mpd\u001b[0m\u001b[0;34m.\u001b[0m\u001b[0mDataFrame\u001b[0m\u001b[0;34m(\u001b[0m\u001b[0mdata\u001b[0m\u001b[0;34m)\u001b[0m\u001b[0;34m\u001b[0m\u001b[0;34m\u001b[0m\u001b[0m\n\u001b[0m",
      "\u001b[0;31mNameError\u001b[0m: name 'data' is not defined"
     ]
    }
   ],
   "source": [
    "test_df = pd.DataFrame(data)"
   ]
  },
  {
   "cell_type": "code",
   "execution_count": 130,
   "metadata": {
    "ExecuteTime": {
     "end_time": "2020-11-20T17:46:09.665793Z",
     "start_time": "2020-11-20T17:46:09.620532Z"
    }
   },
   "outputs": [
    {
     "data": {
      "text/html": [
       "<div>\n",
       "<style scoped>\n",
       "    .dataframe tbody tr th:only-of-type {\n",
       "        vertical-align: middle;\n",
       "    }\n",
       "\n",
       "    .dataframe tbody tr th {\n",
       "        vertical-align: top;\n",
       "    }\n",
       "\n",
       "    .dataframe thead th {\n",
       "        text-align: right;\n",
       "    }\n",
       "</style>\n",
       "<table border=\"1\" class=\"dataframe\">\n",
       "  <thead>\n",
       "    <tr style=\"text-align: right;\">\n",
       "      <th></th>\n",
       "      <th>id</th>\n",
       "      <th>text</th>\n",
       "      <th>source</th>\n",
       "      <th>retweet_count</th>\n",
       "      <th>favorite_count</th>\n",
       "    </tr>\n",
       "  </thead>\n",
       "  <tbody>\n",
       "    <tr>\n",
       "      <td>0</td>\n",
       "      <td>1329530135410782214</td>\n",
       "      <td>RT @Wario64: Microsoft's huge 'Black Friday' X...</td>\n",
       "      <td>&lt;a href=\"http://tapbots.com/tweetbot\" rel=\"nof...</td>\n",
       "      <td>72</td>\n",
       "      <td>0</td>\n",
       "    </tr>\n",
       "    <tr>\n",
       "      <td>1</td>\n",
       "      <td>1329530130839052300</td>\n",
       "      <td>RT @gliddenj2000: #Walmart  Maybe you shouldn'...</td>\n",
       "      <td></td>\n",
       "      <td>1</td>\n",
       "      <td>0</td>\n",
       "    </tr>\n",
       "    <tr>\n",
       "      <td>2</td>\n",
       "      <td>1329530119031910400</td>\n",
       "      <td>Nintendo has gone from making fun games design...</td>\n",
       "      <td>&lt;a href=\"https://mobile.twitter.com\" rel=\"nofo...</td>\n",
       "      <td>0</td>\n",
       "      <td>0</td>\n",
       "    </tr>\n",
       "    <tr>\n",
       "      <td>3</td>\n",
       "      <td>1329530116708261889</td>\n",
       "      <td>@DumbCerb @envinyon I had some dude tell me th...</td>\n",
       "      <td>&lt;a href=\"https://mobile.twitter.com\" rel=\"nofo...</td>\n",
       "      <td>0</td>\n",
       "      <td>0</td>\n",
       "    </tr>\n",
       "    <tr>\n",
       "      <td>4</td>\n",
       "      <td>1329530114917470210</td>\n",
       "      <td>Hop on over to Teams and join in on the Studen...</td>\n",
       "      <td>&lt;a href=\"https://mobile.twitter.com\" rel=\"nofo...</td>\n",
       "      <td>0</td>\n",
       "      <td>0</td>\n",
       "    </tr>\n",
       "    <tr>\n",
       "      <td>5</td>\n",
       "      <td>1329530114258956295</td>\n",
       "      <td>RT @pfandrade_: Remember when Jobs said Micros...</td>\n",
       "      <td>&lt;a href=\"http://tapbots.com/tweetbot\" rel=\"nof...</td>\n",
       "      <td>0</td>\n",
       "      <td>0</td>\n",
       "    </tr>\n",
       "    <tr>\n",
       "      <td>6</td>\n",
       "      <td>1329530099536945153</td>\n",
       "      <td>RT @DanPriceSeattle: Amazon: profit up 100%\\nW...</td>\n",
       "      <td>&lt;a href=\"http://twitter.com/download/iphone\" r...</td>\n",
       "      <td>5803</td>\n",
       "      <td>0</td>\n",
       "    </tr>\n",
       "    <tr>\n",
       "      <td>7</td>\n",
       "      <td>1329530096386854912</td>\n",
       "      <td>@MTGas10n @Microsoft @Sony I feel you. I'm in ...</td>\n",
       "      <td>&lt;a href=\"http://twitter.com/download/iphone\" r...</td>\n",
       "      <td>0</td>\n",
       "      <td>0</td>\n",
       "    </tr>\n",
       "    <tr>\n",
       "      <td>8</td>\n",
       "      <td>1329530095837523968</td>\n",
       "      <td>RT @DanPriceSeattle: Amazon: profit up 100%\\nW...</td>\n",
       "      <td>&lt;a href=\"https://mobile.twitter.com\" rel=\"nofo...</td>\n",
       "      <td>5803</td>\n",
       "      <td>0</td>\n",
       "    </tr>\n",
       "    <tr>\n",
       "      <td>9</td>\n",
       "      <td>1329530093266460679</td>\n",
       "      <td>@Chris_Widgery We know interruptions are no fu...</td>\n",
       "      <td>&lt;a href=\"https://prod1.sprinklr.com\" rel=\"nofo...</td>\n",
       "      <td>0</td>\n",
       "      <td>0</td>\n",
       "    </tr>\n",
       "    <tr>\n",
       "      <td>10</td>\n",
       "      <td>1329530091311861765</td>\n",
       "      <td>RT @freshproducedan: Microsoft and Sony need t...</td>\n",
       "      <td>&lt;a href=\"http://twitter.com/download/iphone\" r...</td>\n",
       "      <td>1</td>\n",
       "      <td>0</td>\n",
       "    </tr>\n",
       "    <tr>\n",
       "      <td>11</td>\n",
       "      <td>1329530086534557696</td>\n",
       "      <td>RT @stephanschmidt: Microsoft with \"New Steps ...</td>\n",
       "      <td>&lt;a href=\"http://twitter.com/download/android\" ...</td>\n",
       "      <td>11</td>\n",
       "      <td>0</td>\n",
       "    </tr>\n",
       "    <tr>\n",
       "      <td>12</td>\n",
       "      <td>1329530072823443460</td>\n",
       "      <td>Microsoft expands Defender capabilities for Li...</td>\n",
       "      <td>&lt;a href=\"http://www.everyonesocial.com\" rel=\"n...</td>\n",
       "      <td>0</td>\n",
       "      <td>0</td>\n",
       "    </tr>\n",
       "    <tr>\n",
       "      <td>13</td>\n",
       "      <td>1329530071686713346</td>\n",
       "      <td>RT @DanPriceSeattle: Amazon: profit up 100%\\nW...</td>\n",
       "      <td>&lt;a href=\"http://twitter.com/download/iphone\" r...</td>\n",
       "      <td>5804</td>\n",
       "      <td>0</td>\n",
       "    </tr>\n",
       "    <tr>\n",
       "      <td>14</td>\n",
       "      <td>1329530070671777792</td>\n",
       "      <td>RT @DanPriceSeattle: Amazon: profit up 100%\\nW...</td>\n",
       "      <td>&lt;a href=\"http://twitter.com/download/iphone\" r...</td>\n",
       "      <td>5804</td>\n",
       "      <td>0</td>\n",
       "    </tr>\n",
       "    <tr>\n",
       "      <td>15</td>\n",
       "      <td>1329530070034247680</td>\n",
       "      <td>RT @DanPriceSeattle: Amazon: profit up 100%\\nW...</td>\n",
       "      <td>&lt;a href=\"http://twitter.com/download/iphone\" r...</td>\n",
       "      <td>5804</td>\n",
       "      <td>0</td>\n",
       "    </tr>\n",
       "    <tr>\n",
       "      <td>16</td>\n",
       "      <td>1329530068213837826</td>\n",
       "      <td>@SemioticW @kristianmeller @BethesdaStudios @F...</td>\n",
       "      <td>&lt;a href=\"https://mobile.twitter.com\" rel=\"nofo...</td>\n",
       "      <td>0</td>\n",
       "      <td>0</td>\n",
       "    </tr>\n",
       "    <tr>\n",
       "      <td>17</td>\n",
       "      <td>1329530063100887041</td>\n",
       "      <td>#Walmart  Maybe you shouldn't do any early bla...</td>\n",
       "      <td>&lt;a href=\"https://mobile.twitter.com\" rel=\"nofo...</td>\n",
       "      <td>1</td>\n",
       "      <td>0</td>\n",
       "    </tr>\n",
       "    <tr>\n",
       "      <td>18</td>\n",
       "      <td>1329530049738002434</td>\n",
       "      <td>RT @DanPriceSeattle: Amazon: profit up 100%\\nW...</td>\n",
       "      <td>&lt;a href=\"http://twitter.com/download/iphone\" r...</td>\n",
       "      <td>5804</td>\n",
       "      <td>0</td>\n",
       "    </tr>\n",
       "    <tr>\n",
       "      <td>19</td>\n",
       "      <td>1329530048538415111</td>\n",
       "      <td>RT @Wario64: Microsoft's huge 'Black Friday' X...</td>\n",
       "      <td>&lt;a href=\"http://twitter.com/download/android\" ...</td>\n",
       "      <td>72</td>\n",
       "      <td>0</td>\n",
       "    </tr>\n",
       "    <tr>\n",
       "      <td>20</td>\n",
       "      <td>1329530035938750472</td>\n",
       "      <td>RT @SentimEntropy: Negative sentiment on socia...</td>\n",
       "      <td>&lt;a href=\"http://twitter.com/download/iphone\" r...</td>\n",
       "      <td>1</td>\n",
       "      <td>0</td>\n",
       "    </tr>\n",
       "    <tr>\n",
       "      <td>21</td>\n",
       "      <td>1329530034743336971</td>\n",
       "      <td>@Xbox @Microsoft @XboxGamePass just an idea.. ...</td>\n",
       "      <td>&lt;a href=\"http://twitter.com/download/android\" ...</td>\n",
       "      <td>0</td>\n",
       "      <td>0</td>\n",
       "    </tr>\n",
       "    <tr>\n",
       "      <td>22</td>\n",
       "      <td>1329530033619181569</td>\n",
       "      <td>@insightssuccess @Microsoft Thank you so much ...</td>\n",
       "      <td>&lt;a href=\"https://mobile.twitter.com\" rel=\"nofo...</td>\n",
       "      <td>0</td>\n",
       "      <td>0</td>\n",
       "    </tr>\n",
       "    <tr>\n",
       "      <td>23</td>\n",
       "      <td>1329530023917744128</td>\n",
       "      <td>RT @DanPriceSeattle: Amazon: profit up 100%\\nW...</td>\n",
       "      <td>&lt;a href=\"http://twitter.com/download/android\" ...</td>\n",
       "      <td>5805</td>\n",
       "      <td>0</td>\n",
       "    </tr>\n",
       "    <tr>\n",
       "      <td>24</td>\n",
       "      <td>1329530019182505985</td>\n",
       "      <td>Quickstart: Deploying the Azure Information Pr...</td>\n",
       "      <td>&lt;a href=\"https://buffer.com\" rel=\"nofollow\"&gt;Bu...</td>\n",
       "      <td>0</td>\n",
       "      <td>0</td>\n",
       "    </tr>\n",
       "    <tr>\n",
       "      <td>25</td>\n",
       "      <td>1329530016858824708</td>\n",
       "      <td>Marvel Avengers is on sale for $29.99 in the M...</td>\n",
       "      <td>&lt;a href=\"https://mobile.twitter.com\" rel=\"nofo...</td>\n",
       "      <td>0</td>\n",
       "      <td>0</td>\n",
       "    </tr>\n",
       "    <tr>\n",
       "      <td>26</td>\n",
       "      <td>1329530014216445952</td>\n",
       "      <td>Just so were clear, the country that created t...</td>\n",
       "      <td>&lt;a href=\"http://twitter.com/download/android\" ...</td>\n",
       "      <td>0</td>\n",
       "      <td>0</td>\n",
       "    </tr>\n",
       "    <tr>\n",
       "      <td>27</td>\n",
       "      <td>1329530013876678671</td>\n",
       "      <td>RT @drvrapp: You can generate additional reven...</td>\n",
       "      <td></td>\n",
       "      <td>1</td>\n",
       "      <td>0</td>\n",
       "    </tr>\n",
       "    <tr>\n",
       "      <td>28</td>\n",
       "      <td>1329530011108388864</td>\n",
       "      <td>Discover how @HeathrowAirport uses Microsoft #...</td>\n",
       "      <td>&lt;a href=\"https://prod1.sprinklr.com\" rel=\"nofo...</td>\n",
       "      <td>0</td>\n",
       "      <td>0</td>\n",
       "    </tr>\n",
       "    <tr>\n",
       "      <td>29</td>\n",
       "      <td>1329530004233998342</td>\n",
       "      <td>You can generate additional revenue through yo...</td>\n",
       "      <td>&lt;a href=\"https://buffer.com\" rel=\"nofollow\"&gt;Bu...</td>\n",
       "      <td>1</td>\n",
       "      <td>0</td>\n",
       "    </tr>\n",
       "    <tr>\n",
       "      <td>30</td>\n",
       "      <td>1329529987813281799</td>\n",
       "      <td>RT @DanPriceSeattle: Amazon: profit up 100%\\nW...</td>\n",
       "      <td>&lt;a href=\"http://twitter.com/download/android\" ...</td>\n",
       "      <td>5805</td>\n",
       "      <td>0</td>\n",
       "    </tr>\n",
       "    <tr>\n",
       "      <td>31</td>\n",
       "      <td>1329529981156864001</td>\n",
       "      <td>@Jfluxxx @Hauske I am a carpenter and an elect...</td>\n",
       "      <td>&lt;a href=\"https://mobile.twitter.com\" rel=\"nofo...</td>\n",
       "      <td>0</td>\n",
       "      <td>0</td>\n",
       "    </tr>\n",
       "    <tr>\n",
       "      <td>32</td>\n",
       "      <td>1329529969895235587</td>\n",
       "      <td>RT @DanPriceSeattle: Amazon: profit up 100%\\nW...</td>\n",
       "      <td>&lt;a href=\"https://mobile.twitter.com\" rel=\"nofo...</td>\n",
       "      <td>5805</td>\n",
       "      <td>0</td>\n",
       "    </tr>\n",
       "    <tr>\n",
       "      <td>33</td>\n",
       "      <td>1329529947078225921</td>\n",
       "      <td>Check out Microsoft Flight Simulator X (PC, 20...</td>\n",
       "      <td>&lt;a href=\"http://twitter.com/download/iphone\" r...</td>\n",
       "      <td>0</td>\n",
       "      <td>0</td>\n",
       "    </tr>\n",
       "    <tr>\n",
       "      <td>34</td>\n",
       "      <td>1329529939968872453</td>\n",
       "      <td>RT @DanPriceSeattle: Amazon: profit up 100%\\nW...</td>\n",
       "      <td>&lt;a href=\"http://twitter.com/download/android\" ...</td>\n",
       "      <td>5805</td>\n",
       "      <td>0</td>\n",
       "    </tr>\n",
       "    <tr>\n",
       "      <td>35</td>\n",
       "      <td>1329529932985331714</td>\n",
       "      <td>RT @DanPriceSeattle: Amazon: profit up 100%\\nW...</td>\n",
       "      <td>&lt;a href=\"http://twitter.com/download/android\" ...</td>\n",
       "      <td>5805</td>\n",
       "      <td>0</td>\n",
       "    </tr>\n",
       "    <tr>\n",
       "      <td>36</td>\n",
       "      <td>1329529925800505351</td>\n",
       "      <td>RT @DanPriceSeattle: Amazon: profit up 100%\\nW...</td>\n",
       "      <td>&lt;a href=\"http://twitter.com/download/iphone\" r...</td>\n",
       "      <td>5805</td>\n",
       "      <td>0</td>\n",
       "    </tr>\n",
       "    <tr>\n",
       "      <td>37</td>\n",
       "      <td>1329529923766259718</td>\n",
       "      <td>RT @DanPriceSeattle: Amazon: profit up 100%\\nW...</td>\n",
       "      <td>&lt;a href=\"https://mobile.twitter.com\" rel=\"nofo...</td>\n",
       "      <td>5805</td>\n",
       "      <td>0</td>\n",
       "    </tr>\n",
       "    <tr>\n",
       "      <td>38</td>\n",
       "      <td>1329529918976352258</td>\n",
       "      <td>The full Board has convened for the swearing i...</td>\n",
       "      <td>&lt;a href=\"https://www.meltwater.com/\" rel=\"nofo...</td>\n",
       "      <td>0</td>\n",
       "      <td>0</td>\n",
       "    </tr>\n",
       "    <tr>\n",
       "      <td>39</td>\n",
       "      <td>1329529918665879552</td>\n",
       "      <td>@Venerac Getting impatient waiting on my XSX f...</td>\n",
       "      <td>&lt;a href=\"https://about.twitter.com/products/tw...</td>\n",
       "      <td>0</td>\n",
       "      <td>1</td>\n",
       "    </tr>\n",
       "    <tr>\n",
       "      <td>40</td>\n",
       "      <td>1329529906548662272</td>\n",
       "      <td>Negative sentiment on social media for $MSFT. ...</td>\n",
       "      <td>&lt;a href=\"https://socialsentiment.io\" rel=\"nofo...</td>\n",
       "      <td>1</td>\n",
       "      <td>0</td>\n",
       "    </tr>\n",
       "    <tr>\n",
       "      <td>41</td>\n",
       "      <td>1329529904476598273</td>\n",
       "      <td>RT @rhettliven: We are proud to partner with M...</td>\n",
       "      <td></td>\n",
       "      <td>1</td>\n",
       "      <td>0</td>\n",
       "    </tr>\n",
       "    <tr>\n",
       "      <td>42</td>\n",
       "      <td>1329529898877284354</td>\n",
       "      <td>RT @PhantomHacker6: Windows 10 exploit\\nVideo:...</td>\n",
       "      <td>&lt;a href=\"http://www.rivalab.it\" rel=\"nofollow\"...</td>\n",
       "      <td>5</td>\n",
       "      <td>0</td>\n",
       "    </tr>\n",
       "    <tr>\n",
       "      <td>43</td>\n",
       "      <td>1329529898604638216</td>\n",
       "      <td>Microsoft Azure + #NetBackup 8.3 provides a po...</td>\n",
       "      <td>&lt;a href=\"https://getbambu.com\" rel=\"nofollow\"&gt;...</td>\n",
       "      <td>0</td>\n",
       "      <td>0</td>\n",
       "    </tr>\n",
       "    <tr>\n",
       "      <td>44</td>\n",
       "      <td>1329529895915900928</td>\n",
       "      <td>SERVICE INCIDENT:\\n[SP227169] Users with a P3 ...</td>\n",
       "      <td>&lt;a href=\"http://www.powerapps.com\" rel=\"nofoll...</td>\n",
       "      <td>0</td>\n",
       "      <td>0</td>\n",
       "    </tr>\n",
       "    <tr>\n",
       "      <td>45</td>\n",
       "      <td>1329529893722476554</td>\n",
       "      <td>🧭 How have successful organizations navigated ...</td>\n",
       "      <td>&lt;a href=\"https://prod1.sprinklr.com\" rel=\"nofo...</td>\n",
       "      <td>0</td>\n",
       "      <td>1</td>\n",
       "    </tr>\n",
       "    <tr>\n",
       "      <td>46</td>\n",
       "      <td>1329529893214851074</td>\n",
       "      <td>As Supercomputing 2020 (SC20) kicks off, we’d ...</td>\n",
       "      <td>&lt;a href=\"http://www.linkedin.com/\" rel=\"nofoll...</td>\n",
       "      <td>0</td>\n",
       "      <td>0</td>\n",
       "    </tr>\n",
       "    <tr>\n",
       "      <td>47</td>\n",
       "      <td>1329529892883496961</td>\n",
       "      <td>We are proud to partner with Microsoft to brin...</td>\n",
       "      <td>&lt;a href=\"http://www.linkedin.com/\" rel=\"nofoll...</td>\n",
       "      <td>1</td>\n",
       "      <td>0</td>\n",
       "    </tr>\n",
       "    <tr>\n",
       "      <td>48</td>\n",
       "      <td>1329529888295018499</td>\n",
       "      <td>Live the life of a poker pro in the most immer...</td>\n",
       "      <td>&lt;a href=\"https://prod1.sprinklr.com\" rel=\"nofo...</td>\n",
       "      <td>0</td>\n",
       "      <td>3</td>\n",
       "    </tr>\n",
       "    <tr>\n",
       "      <td>49</td>\n",
       "      <td>1329529887682605057</td>\n",
       "      <td>Our new Defending Your Data protections build ...</td>\n",
       "      <td>&lt;a href=\"https://twitter.com\" rel=\"nofollow\"&gt;T...</td>\n",
       "      <td>0</td>\n",
       "      <td>0</td>\n",
       "    </tr>\n",
       "  </tbody>\n",
       "</table>\n",
       "</div>"
      ],
      "text/plain": [
       "                     id                                               text  \\\n",
       "0   1329530135410782214  RT @Wario64: Microsoft's huge 'Black Friday' X...   \n",
       "1   1329530130839052300  RT @gliddenj2000: #Walmart  Maybe you shouldn'...   \n",
       "2   1329530119031910400  Nintendo has gone from making fun games design...   \n",
       "3   1329530116708261889  @DumbCerb @envinyon I had some dude tell me th...   \n",
       "4   1329530114917470210  Hop on over to Teams and join in on the Studen...   \n",
       "5   1329530114258956295  RT @pfandrade_: Remember when Jobs said Micros...   \n",
       "6   1329530099536945153  RT @DanPriceSeattle: Amazon: profit up 100%\\nW...   \n",
       "7   1329530096386854912  @MTGas10n @Microsoft @Sony I feel you. I'm in ...   \n",
       "8   1329530095837523968  RT @DanPriceSeattle: Amazon: profit up 100%\\nW...   \n",
       "9   1329530093266460679  @Chris_Widgery We know interruptions are no fu...   \n",
       "10  1329530091311861765  RT @freshproducedan: Microsoft and Sony need t...   \n",
       "11  1329530086534557696  RT @stephanschmidt: Microsoft with \"New Steps ...   \n",
       "12  1329530072823443460  Microsoft expands Defender capabilities for Li...   \n",
       "13  1329530071686713346  RT @DanPriceSeattle: Amazon: profit up 100%\\nW...   \n",
       "14  1329530070671777792  RT @DanPriceSeattle: Amazon: profit up 100%\\nW...   \n",
       "15  1329530070034247680  RT @DanPriceSeattle: Amazon: profit up 100%\\nW...   \n",
       "16  1329530068213837826  @SemioticW @kristianmeller @BethesdaStudios @F...   \n",
       "17  1329530063100887041  #Walmart  Maybe you shouldn't do any early bla...   \n",
       "18  1329530049738002434  RT @DanPriceSeattle: Amazon: profit up 100%\\nW...   \n",
       "19  1329530048538415111  RT @Wario64: Microsoft's huge 'Black Friday' X...   \n",
       "20  1329530035938750472  RT @SentimEntropy: Negative sentiment on socia...   \n",
       "21  1329530034743336971  @Xbox @Microsoft @XboxGamePass just an idea.. ...   \n",
       "22  1329530033619181569  @insightssuccess @Microsoft Thank you so much ...   \n",
       "23  1329530023917744128  RT @DanPriceSeattle: Amazon: profit up 100%\\nW...   \n",
       "24  1329530019182505985  Quickstart: Deploying the Azure Information Pr...   \n",
       "25  1329530016858824708  Marvel Avengers is on sale for $29.99 in the M...   \n",
       "26  1329530014216445952  Just so were clear, the country that created t...   \n",
       "27  1329530013876678671  RT @drvrapp: You can generate additional reven...   \n",
       "28  1329530011108388864  Discover how @HeathrowAirport uses Microsoft #...   \n",
       "29  1329530004233998342  You can generate additional revenue through yo...   \n",
       "30  1329529987813281799  RT @DanPriceSeattle: Amazon: profit up 100%\\nW...   \n",
       "31  1329529981156864001  @Jfluxxx @Hauske I am a carpenter and an elect...   \n",
       "32  1329529969895235587  RT @DanPriceSeattle: Amazon: profit up 100%\\nW...   \n",
       "33  1329529947078225921  Check out Microsoft Flight Simulator X (PC, 20...   \n",
       "34  1329529939968872453  RT @DanPriceSeattle: Amazon: profit up 100%\\nW...   \n",
       "35  1329529932985331714  RT @DanPriceSeattle: Amazon: profit up 100%\\nW...   \n",
       "36  1329529925800505351  RT @DanPriceSeattle: Amazon: profit up 100%\\nW...   \n",
       "37  1329529923766259718  RT @DanPriceSeattle: Amazon: profit up 100%\\nW...   \n",
       "38  1329529918976352258  The full Board has convened for the swearing i...   \n",
       "39  1329529918665879552  @Venerac Getting impatient waiting on my XSX f...   \n",
       "40  1329529906548662272  Negative sentiment on social media for $MSFT. ...   \n",
       "41  1329529904476598273  RT @rhettliven: We are proud to partner with M...   \n",
       "42  1329529898877284354  RT @PhantomHacker6: Windows 10 exploit\\nVideo:...   \n",
       "43  1329529898604638216  Microsoft Azure + #NetBackup 8.3 provides a po...   \n",
       "44  1329529895915900928  SERVICE INCIDENT:\\n[SP227169] Users with a P3 ...   \n",
       "45  1329529893722476554  🧭 How have successful organizations navigated ...   \n",
       "46  1329529893214851074  As Supercomputing 2020 (SC20) kicks off, we’d ...   \n",
       "47  1329529892883496961  We are proud to partner with Microsoft to brin...   \n",
       "48  1329529888295018499  Live the life of a poker pro in the most immer...   \n",
       "49  1329529887682605057  Our new Defending Your Data protections build ...   \n",
       "\n",
       "                                               source  retweet_count  \\\n",
       "0   <a href=\"http://tapbots.com/tweetbot\" rel=\"nof...             72   \n",
       "1                                                                  1   \n",
       "2   <a href=\"https://mobile.twitter.com\" rel=\"nofo...              0   \n",
       "3   <a href=\"https://mobile.twitter.com\" rel=\"nofo...              0   \n",
       "4   <a href=\"https://mobile.twitter.com\" rel=\"nofo...              0   \n",
       "5   <a href=\"http://tapbots.com/tweetbot\" rel=\"nof...              0   \n",
       "6   <a href=\"http://twitter.com/download/iphone\" r...           5803   \n",
       "7   <a href=\"http://twitter.com/download/iphone\" r...              0   \n",
       "8   <a href=\"https://mobile.twitter.com\" rel=\"nofo...           5803   \n",
       "9   <a href=\"https://prod1.sprinklr.com\" rel=\"nofo...              0   \n",
       "10  <a href=\"http://twitter.com/download/iphone\" r...              1   \n",
       "11  <a href=\"http://twitter.com/download/android\" ...             11   \n",
       "12  <a href=\"http://www.everyonesocial.com\" rel=\"n...              0   \n",
       "13  <a href=\"http://twitter.com/download/iphone\" r...           5804   \n",
       "14  <a href=\"http://twitter.com/download/iphone\" r...           5804   \n",
       "15  <a href=\"http://twitter.com/download/iphone\" r...           5804   \n",
       "16  <a href=\"https://mobile.twitter.com\" rel=\"nofo...              0   \n",
       "17  <a href=\"https://mobile.twitter.com\" rel=\"nofo...              1   \n",
       "18  <a href=\"http://twitter.com/download/iphone\" r...           5804   \n",
       "19  <a href=\"http://twitter.com/download/android\" ...             72   \n",
       "20  <a href=\"http://twitter.com/download/iphone\" r...              1   \n",
       "21  <a href=\"http://twitter.com/download/android\" ...              0   \n",
       "22  <a href=\"https://mobile.twitter.com\" rel=\"nofo...              0   \n",
       "23  <a href=\"http://twitter.com/download/android\" ...           5805   \n",
       "24  <a href=\"https://buffer.com\" rel=\"nofollow\">Bu...              0   \n",
       "25  <a href=\"https://mobile.twitter.com\" rel=\"nofo...              0   \n",
       "26  <a href=\"http://twitter.com/download/android\" ...              0   \n",
       "27                                                                 1   \n",
       "28  <a href=\"https://prod1.sprinklr.com\" rel=\"nofo...              0   \n",
       "29  <a href=\"https://buffer.com\" rel=\"nofollow\">Bu...              1   \n",
       "30  <a href=\"http://twitter.com/download/android\" ...           5805   \n",
       "31  <a href=\"https://mobile.twitter.com\" rel=\"nofo...              0   \n",
       "32  <a href=\"https://mobile.twitter.com\" rel=\"nofo...           5805   \n",
       "33  <a href=\"http://twitter.com/download/iphone\" r...              0   \n",
       "34  <a href=\"http://twitter.com/download/android\" ...           5805   \n",
       "35  <a href=\"http://twitter.com/download/android\" ...           5805   \n",
       "36  <a href=\"http://twitter.com/download/iphone\" r...           5805   \n",
       "37  <a href=\"https://mobile.twitter.com\" rel=\"nofo...           5805   \n",
       "38  <a href=\"https://www.meltwater.com/\" rel=\"nofo...              0   \n",
       "39  <a href=\"https://about.twitter.com/products/tw...              0   \n",
       "40  <a href=\"https://socialsentiment.io\" rel=\"nofo...              1   \n",
       "41                                                                 1   \n",
       "42  <a href=\"http://www.rivalab.it\" rel=\"nofollow\"...              5   \n",
       "43  <a href=\"https://getbambu.com\" rel=\"nofollow\">...              0   \n",
       "44  <a href=\"http://www.powerapps.com\" rel=\"nofoll...              0   \n",
       "45  <a href=\"https://prod1.sprinklr.com\" rel=\"nofo...              0   \n",
       "46  <a href=\"http://www.linkedin.com/\" rel=\"nofoll...              0   \n",
       "47  <a href=\"http://www.linkedin.com/\" rel=\"nofoll...              1   \n",
       "48  <a href=\"https://prod1.sprinklr.com\" rel=\"nofo...              0   \n",
       "49  <a href=\"https://twitter.com\" rel=\"nofollow\">T...              0   \n",
       "\n",
       "    favorite_count  \n",
       "0                0  \n",
       "1                0  \n",
       "2                0  \n",
       "3                0  \n",
       "4                0  \n",
       "5                0  \n",
       "6                0  \n",
       "7                0  \n",
       "8                0  \n",
       "9                0  \n",
       "10               0  \n",
       "11               0  \n",
       "12               0  \n",
       "13               0  \n",
       "14               0  \n",
       "15               0  \n",
       "16               0  \n",
       "17               0  \n",
       "18               0  \n",
       "19               0  \n",
       "20               0  \n",
       "21               0  \n",
       "22               0  \n",
       "23               0  \n",
       "24               0  \n",
       "25               0  \n",
       "26               0  \n",
       "27               0  \n",
       "28               0  \n",
       "29               0  \n",
       "30               0  \n",
       "31               0  \n",
       "32               0  \n",
       "33               0  \n",
       "34               0  \n",
       "35               0  \n",
       "36               0  \n",
       "37               0  \n",
       "38               0  \n",
       "39               1  \n",
       "40               0  \n",
       "41               0  \n",
       "42               0  \n",
       "43               0  \n",
       "44               0  \n",
       "45               1  \n",
       "46               0  \n",
       "47               0  \n",
       "48               3  \n",
       "49               0  "
      ]
     },
     "execution_count": 130,
     "metadata": {},
     "output_type": "execute_result"
    }
   ],
   "source": [
    "test_df[['id', 'text', 'source', 'retweet_count', 'favorite_count']]"
   ]
  },
  {
   "cell_type": "code",
   "execution_count": 141,
   "metadata": {
    "ExecuteTime": {
     "end_time": "2020-11-20T18:02:04.033434Z",
     "start_time": "2020-11-20T18:02:03.867388Z"
    }
   },
   "outputs": [
    {
     "data": {
      "text/plain": [
       "'snugglybae'"
      ]
     },
     "execution_count": 141,
     "metadata": {},
     "output_type": "execute_result"
    }
   ],
   "source": [
    "api.get_user(id=2738058580).screen_name"
   ]
  },
  {
   "cell_type": "code",
   "execution_count": 139,
   "metadata": {
    "ExecuteTime": {
     "end_time": "2020-11-20T18:01:51.359324Z",
     "start_time": "2020-11-20T18:01:51.155753Z"
    }
   },
   "outputs": [
    {
     "data": {
      "text/plain": [
       "2738058580"
      ]
     },
     "execution_count": 139,
     "metadata": {},
     "output_type": "execute_result"
    }
   ],
   "source": [
    "api.me().id"
   ]
  },
  {
   "cell_type": "code",
   "execution_count": null,
   "metadata": {},
   "outputs": [],
   "source": []
  },
  {
   "cell_type": "code",
   "execution_count": null,
   "metadata": {},
   "outputs": [],
   "source": []
  },
  {
   "cell_type": "code",
   "execution_count": null,
   "metadata": {},
   "outputs": [],
   "source": []
  },
  {
   "cell_type": "code",
   "execution_count": 16,
   "metadata": {
    "ExecuteTime": {
     "end_time": "2020-11-13T23:34:23.459958Z",
     "start_time": "2020-11-13T23:34:21.427193Z"
    }
   },
   "outputs": [],
   "source": [
    "from textblob import TextBlob"
   ]
  },
  {
   "cell_type": "code",
   "execution_count": 17,
   "metadata": {
    "ExecuteTime": {
     "end_time": "2020-11-13T23:34:41.606112Z",
     "start_time": "2020-11-13T23:34:41.596899Z"
    }
   },
   "outputs": [],
   "source": [
    "a = TextBlob('This new xbox is just expensive and adds nothing new.')"
   ]
  },
  {
   "cell_type": "code",
   "execution_count": 18,
   "metadata": {
    "ExecuteTime": {
     "end_time": "2020-11-13T23:34:49.745934Z",
     "start_time": "2020-11-13T23:34:49.671207Z"
    }
   },
   "outputs": [
    {
     "data": {
      "text/plain": [
       "-0.07575757575757576"
      ]
     },
     "execution_count": 18,
     "metadata": {},
     "output_type": "execute_result"
    }
   ],
   "source": [
    "a.sentiment.polarity"
   ]
  },
  {
   "cell_type": "code",
   "execution_count": null,
   "metadata": {},
   "outputs": [],
   "source": []
  }
 ],
 "metadata": {
  "kernelspec": {
   "display_name": "Python [conda env:learn-env] *",
   "language": "python",
   "name": "conda-env-learn-env-py"
  },
  "language_info": {
   "codemirror_mode": {
    "name": "ipython",
    "version": 3
   },
   "file_extension": ".py",
   "mimetype": "text/x-python",
   "name": "python",
   "nbconvert_exporter": "python",
   "pygments_lexer": "ipython3",
   "version": "3.6.9"
  },
  "toc": {
   "base_numbering": 1,
   "nav_menu": {},
   "number_sections": true,
   "sideBar": true,
   "skip_h1_title": false,
   "title_cell": "Table of Contents",
   "title_sidebar": "Contents",
   "toc_cell": false,
   "toc_position": {},
   "toc_section_display": true,
   "toc_window_display": false
  }
 },
 "nbformat": 4,
 "nbformat_minor": 2
}
