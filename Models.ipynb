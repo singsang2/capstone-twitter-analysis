{
 "cells": [
  {
   "cell_type": "code",
   "execution_count": null,
   "metadata": {},
   "outputs": [],
   "source": [
    "# !pip install -U tensorflow"
   ]
  },
  {
   "cell_type": "code",
   "execution_count": 18,
   "metadata": {
    "ExecuteTime": {
     "end_time": "2020-11-20T21:07:05.815862Z",
     "start_time": "2020-11-20T21:07:05.728148Z"
    }
   },
   "outputs": [
    {
     "name": "stdout",
     "output_type": "stream",
     "text": [
      "2.3.1\n"
     ]
    }
   ],
   "source": [
    "import warnings\n",
    "warnings.filterwarnings(action='ignore')\n",
    "import tensorflow as tf\n",
    "import matplotlib.pyplot as plt\n",
    "import pandas as pd\n",
    "import numpy as np\n",
    "import seaborn as sns\n",
    "from sklearn.pipeline import Pipeline\n",
    "import spacy\n",
    "from sklearn.feature_extraction.text import TfidfVectorizer\n",
    "\n",
    "from sklearn.model_selection import train_test_split\n",
    "from sklearn.preprocessing import LabelEncoder\n",
    "\n",
    "from sklearn.linear_model import LogisticRegression\n",
    "from sklearn.naive_bayes import MultinomialNB\n",
    "\n",
    "import re\n",
    "\n",
    "import src.useful_codes as uc\n",
    "\n",
    "print(tf.__version__)"
   ]
  },
  {
   "cell_type": "markdown",
   "metadata": {},
   "source": [
    "# Data\n",
    "We will be building our twitter sentiment model using a dataset that contains 1.4 million tweets provided by Kaggle. If you wish to download the dataset, you can go to this <a href='https://www.kaggle.com/kazanova/sentiment140'>LINK</a> to access the dataset."
   ]
  },
  {
   "cell_type": "code",
   "execution_count": 19,
   "metadata": {
    "ExecuteTime": {
     "end_time": "2020-11-20T21:07:34.438331Z",
     "start_time": "2020-11-20T21:07:28.122045Z"
    }
   },
   "outputs": [],
   "source": [
    "# importing data\n",
    "columns = ['sentiment', 'id', 'date', 'query', 'user_id', 'text']\n",
    "permanent = pd.read_csv('datasets/tweet_sentiments.csv',\n",
    "                        encoding='latin', header=None)\n",
    "permanent.columns = columns"
   ]
  },
  {
   "cell_type": "code",
   "execution_count": 20,
   "metadata": {
    "ExecuteTime": {
     "end_time": "2020-11-20T21:07:34.490465Z",
     "start_time": "2020-11-20T21:07:34.440363Z"
    }
   },
   "outputs": [
    {
     "data": {
      "text/html": [
       "<div>\n",
       "<style scoped>\n",
       "    .dataframe tbody tr th:only-of-type {\n",
       "        vertical-align: middle;\n",
       "    }\n",
       "\n",
       "    .dataframe tbody tr th {\n",
       "        vertical-align: top;\n",
       "    }\n",
       "\n",
       "    .dataframe thead th {\n",
       "        text-align: right;\n",
       "    }\n",
       "</style>\n",
       "<table border=\"1\" class=\"dataframe\">\n",
       "  <thead>\n",
       "    <tr style=\"text-align: right;\">\n",
       "      <th></th>\n",
       "      <th>sentiment</th>\n",
       "      <th>id</th>\n",
       "      <th>date</th>\n",
       "      <th>query</th>\n",
       "      <th>user_id</th>\n",
       "      <th>text</th>\n",
       "    </tr>\n",
       "  </thead>\n",
       "  <tbody>\n",
       "    <tr>\n",
       "      <td>0</td>\n",
       "      <td>0</td>\n",
       "      <td>1467810369</td>\n",
       "      <td>Mon Apr 06 22:19:45 PDT 2009</td>\n",
       "      <td>NO_QUERY</td>\n",
       "      <td>_TheSpecialOne_</td>\n",
       "      <td>@switchfoot http://twitpic.com/2y1zl - Awww, t...</td>\n",
       "    </tr>\n",
       "    <tr>\n",
       "      <td>1</td>\n",
       "      <td>0</td>\n",
       "      <td>1467810672</td>\n",
       "      <td>Mon Apr 06 22:19:49 PDT 2009</td>\n",
       "      <td>NO_QUERY</td>\n",
       "      <td>scotthamilton</td>\n",
       "      <td>is upset that he can't update his Facebook by ...</td>\n",
       "    </tr>\n",
       "    <tr>\n",
       "      <td>2</td>\n",
       "      <td>0</td>\n",
       "      <td>1467810917</td>\n",
       "      <td>Mon Apr 06 22:19:53 PDT 2009</td>\n",
       "      <td>NO_QUERY</td>\n",
       "      <td>mattycus</td>\n",
       "      <td>@Kenichan I dived many times for the ball. Man...</td>\n",
       "    </tr>\n",
       "    <tr>\n",
       "      <td>3</td>\n",
       "      <td>0</td>\n",
       "      <td>1467811184</td>\n",
       "      <td>Mon Apr 06 22:19:57 PDT 2009</td>\n",
       "      <td>NO_QUERY</td>\n",
       "      <td>ElleCTF</td>\n",
       "      <td>my whole body feels itchy and like its on fire</td>\n",
       "    </tr>\n",
       "    <tr>\n",
       "      <td>4</td>\n",
       "      <td>0</td>\n",
       "      <td>1467811193</td>\n",
       "      <td>Mon Apr 06 22:19:57 PDT 2009</td>\n",
       "      <td>NO_QUERY</td>\n",
       "      <td>Karoli</td>\n",
       "      <td>@nationwideclass no, it's not behaving at all....</td>\n",
       "    </tr>\n",
       "    <tr>\n",
       "      <td>...</td>\n",
       "      <td>...</td>\n",
       "      <td>...</td>\n",
       "      <td>...</td>\n",
       "      <td>...</td>\n",
       "      <td>...</td>\n",
       "      <td>...</td>\n",
       "    </tr>\n",
       "    <tr>\n",
       "      <td>1599995</td>\n",
       "      <td>4</td>\n",
       "      <td>2193601966</td>\n",
       "      <td>Tue Jun 16 08:40:49 PDT 2009</td>\n",
       "      <td>NO_QUERY</td>\n",
       "      <td>AmandaMarie1028</td>\n",
       "      <td>Just woke up. Having no school is the best fee...</td>\n",
       "    </tr>\n",
       "    <tr>\n",
       "      <td>1599996</td>\n",
       "      <td>4</td>\n",
       "      <td>2193601969</td>\n",
       "      <td>Tue Jun 16 08:40:49 PDT 2009</td>\n",
       "      <td>NO_QUERY</td>\n",
       "      <td>TheWDBoards</td>\n",
       "      <td>TheWDB.com - Very cool to hear old Walt interv...</td>\n",
       "    </tr>\n",
       "    <tr>\n",
       "      <td>1599997</td>\n",
       "      <td>4</td>\n",
       "      <td>2193601991</td>\n",
       "      <td>Tue Jun 16 08:40:49 PDT 2009</td>\n",
       "      <td>NO_QUERY</td>\n",
       "      <td>bpbabe</td>\n",
       "      <td>Are you ready for your MoJo Makeover? Ask me f...</td>\n",
       "    </tr>\n",
       "    <tr>\n",
       "      <td>1599998</td>\n",
       "      <td>4</td>\n",
       "      <td>2193602064</td>\n",
       "      <td>Tue Jun 16 08:40:49 PDT 2009</td>\n",
       "      <td>NO_QUERY</td>\n",
       "      <td>tinydiamondz</td>\n",
       "      <td>Happy 38th Birthday to my boo of alll time!!! ...</td>\n",
       "    </tr>\n",
       "    <tr>\n",
       "      <td>1599999</td>\n",
       "      <td>4</td>\n",
       "      <td>2193602129</td>\n",
       "      <td>Tue Jun 16 08:40:50 PDT 2009</td>\n",
       "      <td>NO_QUERY</td>\n",
       "      <td>RyanTrevMorris</td>\n",
       "      <td>happy #charitytuesday @theNSPCC @SparksCharity...</td>\n",
       "    </tr>\n",
       "  </tbody>\n",
       "</table>\n",
       "<p>1600000 rows × 6 columns</p>\n",
       "</div>"
      ],
      "text/plain": [
       "         sentiment          id                          date     query  \\\n",
       "0                0  1467810369  Mon Apr 06 22:19:45 PDT 2009  NO_QUERY   \n",
       "1                0  1467810672  Mon Apr 06 22:19:49 PDT 2009  NO_QUERY   \n",
       "2                0  1467810917  Mon Apr 06 22:19:53 PDT 2009  NO_QUERY   \n",
       "3                0  1467811184  Mon Apr 06 22:19:57 PDT 2009  NO_QUERY   \n",
       "4                0  1467811193  Mon Apr 06 22:19:57 PDT 2009  NO_QUERY   \n",
       "...            ...         ...                           ...       ...   \n",
       "1599995          4  2193601966  Tue Jun 16 08:40:49 PDT 2009  NO_QUERY   \n",
       "1599996          4  2193601969  Tue Jun 16 08:40:49 PDT 2009  NO_QUERY   \n",
       "1599997          4  2193601991  Tue Jun 16 08:40:49 PDT 2009  NO_QUERY   \n",
       "1599998          4  2193602064  Tue Jun 16 08:40:49 PDT 2009  NO_QUERY   \n",
       "1599999          4  2193602129  Tue Jun 16 08:40:50 PDT 2009  NO_QUERY   \n",
       "\n",
       "                 user_id                                               text  \n",
       "0        _TheSpecialOne_  @switchfoot http://twitpic.com/2y1zl - Awww, t...  \n",
       "1          scotthamilton  is upset that he can't update his Facebook by ...  \n",
       "2               mattycus  @Kenichan I dived many times for the ball. Man...  \n",
       "3                ElleCTF    my whole body feels itchy and like its on fire   \n",
       "4                 Karoli  @nationwideclass no, it's not behaving at all....  \n",
       "...                  ...                                                ...  \n",
       "1599995  AmandaMarie1028  Just woke up. Having no school is the best fee...  \n",
       "1599996      TheWDBoards  TheWDB.com - Very cool to hear old Walt interv...  \n",
       "1599997           bpbabe  Are you ready for your MoJo Makeover? Ask me f...  \n",
       "1599998     tinydiamondz  Happy 38th Birthday to my boo of alll time!!! ...  \n",
       "1599999   RyanTrevMorris  happy #charitytuesday @theNSPCC @SparksCharity...  \n",
       "\n",
       "[1600000 rows x 6 columns]"
      ]
     },
     "execution_count": 20,
     "metadata": {},
     "output_type": "execute_result"
    }
   ],
   "source": [
    "permanent"
   ]
  },
  {
   "cell_type": "markdown",
   "metadata": {},
   "source": [
    "Since we only care about the texts and their sentiments, we will drop other columns."
   ]
  },
  {
   "cell_type": "code",
   "execution_count": 21,
   "metadata": {
    "ExecuteTime": {
     "end_time": "2020-11-20T21:07:34.527352Z",
     "start_time": "2020-11-20T21:07:34.493080Z"
    }
   },
   "outputs": [],
   "source": [
    "permanent = permanent[['sentiment', 'text']]"
   ]
  },
  {
   "cell_type": "code",
   "execution_count": 22,
   "metadata": {
    "ExecuteTime": {
     "end_time": "2020-11-20T21:07:34.842049Z",
     "start_time": "2020-11-20T21:07:34.529629Z"
    }
   },
   "outputs": [],
   "source": [
    "# Changes 0, 4 into categorical values: Negative and Positive\n",
    "sentiment_dict = {0:'Negative', 4:'Positive'}\n",
    "permanent['sentiment'] = permanent['sentiment'].apply(lambda x: sentiment_dict[x]);"
   ]
  },
  {
   "cell_type": "code",
   "execution_count": 23,
   "metadata": {
    "ExecuteTime": {
     "end_time": "2020-11-20T21:07:35.304223Z",
     "start_time": "2020-11-20T21:07:34.844675Z"
    }
   },
   "outputs": [
    {
     "data": {
      "text/plain": [
       "[Text(0.5, 0, 'Sentiment'),\n",
       " Text(0, 0.5, 'Number of Tweets'),\n",
       " Text(0.5, 1.0, 'Sentiment Distribution')]"
      ]
     },
     "execution_count": 23,
     "metadata": {},
     "output_type": "execute_result"
    },
    {
     "data": {
      "image/png": "[encoded data removed]",
      "text/plain": [
       "<Figure size 504x360 with 1 Axes>"
      ]
     },
     "metadata": {
      "needs_background": "light"
     },
     "output_type": "display_data"
    }
   ],
   "source": [
    "fig, ax = plt.subplots(figsize=(7,5))\n",
    "permanent['sentiment'].value_counts().plot(kind='bar')\n",
    "ax.set(xlabel='Sentiment', ylabel='Number of Tweets', title='Sentiment Distribution')"
   ]
  },
  {
   "cell_type": "markdown",
   "metadata": {},
   "source": [
    "Lovely! No class imbalance!"
   ]
  },
  {
   "cell_type": "code",
   "execution_count": 47,
   "metadata": {
    "ExecuteTime": {
     "end_time": "2020-11-20T22:12:59.002652Z",
     "start_time": "2020-11-20T22:12:58.310167Z"
    }
   },
   "outputs": [],
   "source": [
    "# Define X and y\n",
    "X = permanent['text']\n",
    "y = permanent['sentiment']\n",
    "\n",
    "# Splits test set\n",
    "X_train, X_test, y_train, y_test = train_test_split(X, y, train_size=0.005, random_state=42)\n",
    "\n",
    "# Splits traint set into train and validation set\n",
    "# X_train, X_val, y_train, y_val = train_test_split(X_train, y_train, train_size=0.70, random_state=42)"
   ]
  },
  {
   "cell_type": "code",
   "execution_count": 36,
   "metadata": {
    "ExecuteTime": {
     "end_time": "2020-11-20T21:10:15.105125Z",
     "start_time": "2020-11-20T21:10:15.101001Z"
    }
   },
   "outputs": [],
   "source": [
    "# Initiates models\n",
    "nb = MultinomialNB()\n",
    "lr = LogisticRegression(solver='liblinear')"
   ]
  },
  {
   "cell_type": "code",
   "execution_count": 37,
   "metadata": {
    "ExecuteTime": {
     "end_time": "2020-11-20T21:10:15.262480Z",
     "start_time": "2020-11-20T21:10:15.255012Z"
    }
   },
   "outputs": [],
   "source": [
    "data = {'X': X_train, 'y': y_train}"
   ]
  },
  {
   "cell_type": "code",
   "execution_count": 38,
   "metadata": {
    "ExecuteTime": {
     "end_time": "2020-11-20T21:10:15.759841Z",
     "start_time": "2020-11-20T21:10:15.755948Z"
    }
   },
   "outputs": [],
   "source": [
    "tfidf = TfidfVectorizer(tokenizer=uc.clean_text,\n",
    "                        ngram_range=(1,3),\n",
    "                        max_features=2000,\n",
    "                        min_df=5, max_df=0.2)"
   ]
  },
  {
   "cell_type": "code",
   "execution_count": 19,
   "metadata": {
    "ExecuteTime": {
     "end_time": "2020-11-14T04:57:55.278937Z",
     "start_time": "2020-11-14T04:29:31.676858Z"
    }
   },
   "outputs": [
    {
     "name": "stdout",
     "output_type": "stream",
     "text": [
      "              precision    recall  f1-score   support\n",
      "\n",
      "    Negative       0.75      0.76      0.75     20132\n",
      "    Positive       0.75      0.75      0.75     19868\n",
      "\n",
      "    accuracy                           0.75     40000\n",
      "   macro avg       0.75      0.75      0.75     40000\n",
      "weighted avg       0.75      0.75      0.75     40000\n",
      "\n"
     ]
    },
    {
     "data": {
      "image/png": "[encoded data removed]",
      "text/plain": [
       "<Figure size 432x288 with 2 Axes>"
      ]
     },
     "metadata": {
      "needs_background": "light"
     },
     "output_type": "display_data"
    }
   ],
   "source": [
    "\"\"\"\n",
    "tfidf = TfidfVectorizer(tokenizer=uc.clean_text,\n",
    "                        ngram_range=(1,3),\n",
    "                        max_features=2000,\n",
    "                        min_df=5, max_df=0.2)\n",
    "\"\"\"\n",
    "nb_tfidf_model, report = uc.evaluate_binary_model(label='NB_lg_tfidf',\n",
    "                                                  model='NB',\n",
    "                                                  vectorizer=tfidf,\n",
    "                                                  data=data)"
   ]
  },
  {
   "cell_type": "code",
   "execution_count": 20,
   "metadata": {
    "ExecuteTime": {
     "end_time": "2020-11-14T04:58:22.583104Z",
     "start_time": "2020-11-14T04:58:22.575963Z"
    }
   },
   "outputs": [
    {
     "data": {
      "text/plain": [
       "{'label': 'NB_lg_tfidf',\n",
       " 'run_time': 1703.390268087387,\n",
       " 'train_row': 120000,\n",
       " 'test_row': 40000,\n",
       " 'total_row': 160000,\n",
       " 'negative_recall': 0.7564573812835287,\n",
       " 'positive_recall': 0.7486410308033018,\n",
       " 'test_accuracy': 0.752575,\n",
       " 'average_time': 0.01064618917554617}"
      ]
     },
     "execution_count": 20,
     "metadata": {},
     "output_type": "execute_result"
    }
   ],
   "source": [
    "report"
   ]
  },
  {
   "cell_type": "code",
   "execution_count": 46,
   "metadata": {
    "ExecuteTime": {
     "end_time": "2020-11-14T05:14:53.823601Z",
     "start_time": "2020-11-14T05:14:53.226320Z"
    }
   },
   "outputs": [],
   "source": [
    "uc.save_data(nb_tfidf_model, 'models/nb_tfidf_model')"
   ]
  },
  {
   "cell_type": "code",
   "execution_count": 47,
   "metadata": {
    "ExecuteTime": {
     "end_time": "2020-11-14T05:15:09.235323Z",
     "start_time": "2020-11-14T05:15:09.232195Z"
    }
   },
   "outputs": [],
   "source": [
    "uc.save_data(report, 'models/nb_tfidf_model_report')"
   ]
  },
  {
   "cell_type": "code",
   "execution_count": 40,
   "metadata": {
    "ExecuteTime": {
     "end_time": "2020-11-20T21:14:24.665686Z",
     "start_time": "2020-11-20T21:14:23.712044Z"
    }
   },
   "outputs": [],
   "source": [
    "binary_model = uc.load_data('models/nb_tfidf_model')\n",
    "\n",
    "def prototype(model='binary'):\n",
    "    user_input = input('Write a review: ')\n",
    "    \n",
    "#     text = get_clean_text(user_input)\n",
    "#     word_emb = get_vector(text)\n",
    "    if model=='binary':\n",
    "        model = binary_model\n",
    "    else:\n",
    "        model = multiclass_word_emb\n",
    "    print('-'*30)\n",
    "#     print('Product: ', predict_product(text))\n",
    "    print('Sentiment: ', predict_sentiment(model, user_input))\n",
    "    print('Confidence: ', round(get_confidence(model, user_input)*100, 2), '%')\n",
    "    print('-'*30)\n",
    "    print('\\n')\n",
    "def get_clean_text(text):\n",
    "    text = ' '.join(uc.clean_text(text))\n",
    "    return text\n",
    "\n",
    "def get_vector(text):\n",
    "    word_emb = np.concatenate(uc.get_vec(text).reshape(-1,1), axis=0).reshape(-1, 300)\n",
    "    return word_emb\n",
    "\n",
    "def predict_sentiment(model, text):\n",
    "    predict = model.predict([text])\n",
    "    return predict[0]\n",
    "\n",
    "def predict_product(text):\n",
    "    predict = product_predictor.predict(text)\n",
    "    return predict[0]\n",
    "\n",
    "def get_confidence(model, text):\n",
    "    prob = model.predict_proba([text])\n",
    "    return max(prob[0])"
   ]
  },
  {
   "cell_type": "code",
   "execution_count": 12,
   "metadata": {
    "ExecuteTime": {
     "end_time": "2020-11-19T19:23:03.339031Z",
     "start_time": "2020-11-19T19:22:34.243550Z"
    },
    "scrolled": true
   },
   "outputs": [
    {
     "name": "stdout",
     "output_type": "stream",
     "text": [
      "Write a review: d\n",
      "------------------------------\n",
      "Sentiment:  Positive\n",
      "Confidence:  50.08 %\n",
      "------------------------------\n",
      "\n",
      "\n",
      "Write a review: do it\n",
      "------------------------------\n",
      "Sentiment:  Positive\n",
      "Confidence:  50.08 %\n",
      "------------------------------\n",
      "\n",
      "\n",
      "Write a review: love it\n",
      "------------------------------\n",
      "Sentiment:  Positive\n",
      "Confidence:  76.9 %\n",
      "------------------------------\n",
      "\n",
      "\n",
      "Write a review: hate it\n",
      "------------------------------\n",
      "Sentiment:  Negative\n",
      "Confidence:  86.47 %\n",
      "------------------------------\n",
      "\n",
      "\n",
      "Write a review: luvin it\n",
      "------------------------------\n",
      "Sentiment:  Positive\n",
      "Confidence:  50.08 %\n",
      "------------------------------\n",
      "\n",
      "\n",
      "Write a review: luv\n",
      "------------------------------\n",
      "Sentiment:  Positive\n",
      "Confidence:  72.2 %\n",
      "------------------------------\n",
      "\n",
      "\n",
      "Write a review: lov\n",
      "------------------------------\n",
      "Sentiment:  Positive\n",
      "Confidence:  50.08 %\n",
      "------------------------------\n",
      "\n",
      "\n",
      "Write a review: love\n",
      "------------------------------\n",
      "Sentiment:  Positive\n",
      "Confidence:  76.9 %\n",
      "------------------------------\n",
      "\n",
      "\n",
      "Write a review: luv\n",
      "------------------------------\n",
      "Sentiment:  Positive\n",
      "Confidence:  72.2 %\n",
      "------------------------------\n",
      "\n",
      "\n",
      "Write a review: lov\n",
      "------------------------------\n",
      "Sentiment:  Positive\n",
      "Confidence:  50.08 %\n",
      "------------------------------\n",
      "\n",
      "\n",
      "Write a review: \n",
      "------------------------------\n",
      "Sentiment:  Positive\n",
      "Confidence:  50.08 %\n",
      "------------------------------\n",
      "\n",
      "\n"
     ]
    },
    {
     "ename": "KeyboardInterrupt",
     "evalue": "",
     "output_type": "error",
     "traceback": [
      "\u001b[0;31m---------------------------------------------------------------------------\u001b[0m",
      "\u001b[0;31mKeyboardInterrupt\u001b[0m                         Traceback (most recent call last)",
      "\u001b[0;32m/opt/anaconda3/envs/learn-env/lib/python3.6/site-packages/ipykernel/kernelbase.py\u001b[0m in \u001b[0;36m_input_request\u001b[0;34m(self, prompt, ident, parent, password)\u001b[0m\n\u001b[1;32m    884\u001b[0m             \u001b[0;32mtry\u001b[0m\u001b[0;34m:\u001b[0m\u001b[0;34m\u001b[0m\u001b[0;34m\u001b[0m\u001b[0m\n\u001b[0;32m--> 885\u001b[0;31m                 \u001b[0mident\u001b[0m\u001b[0;34m,\u001b[0m \u001b[0mreply\u001b[0m \u001b[0;34m=\u001b[0m \u001b[0mself\u001b[0m\u001b[0;34m.\u001b[0m\u001b[0msession\u001b[0m\u001b[0;34m.\u001b[0m\u001b[0mrecv\u001b[0m\u001b[0;34m(\u001b[0m\u001b[0mself\u001b[0m\u001b[0;34m.\u001b[0m\u001b[0mstdin_socket\u001b[0m\u001b[0;34m,\u001b[0m \u001b[0;36m0\u001b[0m\u001b[0;34m)\u001b[0m\u001b[0;34m\u001b[0m\u001b[0;34m\u001b[0m\u001b[0m\n\u001b[0m\u001b[1;32m    886\u001b[0m             \u001b[0;32mexcept\u001b[0m \u001b[0mException\u001b[0m\u001b[0;34m:\u001b[0m\u001b[0;34m\u001b[0m\u001b[0;34m\u001b[0m\u001b[0m\n",
      "\u001b[0;32m/opt/anaconda3/envs/learn-env/lib/python3.6/site-packages/jupyter_client/session.py\u001b[0m in \u001b[0;36mrecv\u001b[0;34m(self, socket, mode, content, copy)\u001b[0m\n\u001b[1;32m    802\u001b[0m         \u001b[0;32mtry\u001b[0m\u001b[0;34m:\u001b[0m\u001b[0;34m\u001b[0m\u001b[0;34m\u001b[0m\u001b[0m\n\u001b[0;32m--> 803\u001b[0;31m             \u001b[0mmsg_list\u001b[0m \u001b[0;34m=\u001b[0m \u001b[0msocket\u001b[0m\u001b[0;34m.\u001b[0m\u001b[0mrecv_multipart\u001b[0m\u001b[0;34m(\u001b[0m\u001b[0mmode\u001b[0m\u001b[0;34m,\u001b[0m \u001b[0mcopy\u001b[0m\u001b[0;34m=\u001b[0m\u001b[0mcopy\u001b[0m\u001b[0;34m)\u001b[0m\u001b[0;34m\u001b[0m\u001b[0;34m\u001b[0m\u001b[0m\n\u001b[0m\u001b[1;32m    804\u001b[0m         \u001b[0;32mexcept\u001b[0m \u001b[0mzmq\u001b[0m\u001b[0;34m.\u001b[0m\u001b[0mZMQError\u001b[0m \u001b[0;32mas\u001b[0m \u001b[0me\u001b[0m\u001b[0;34m:\u001b[0m\u001b[0;34m\u001b[0m\u001b[0;34m\u001b[0m\u001b[0m\n",
      "\u001b[0;32m/opt/anaconda3/envs/learn-env/lib/python3.6/site-packages/zmq/sugar/socket.py\u001b[0m in \u001b[0;36mrecv_multipart\u001b[0;34m(self, flags, copy, track)\u001b[0m\n\u001b[1;32m    474\u001b[0m         \"\"\"\n\u001b[0;32m--> 475\u001b[0;31m         \u001b[0mparts\u001b[0m \u001b[0;34m=\u001b[0m \u001b[0;34m[\u001b[0m\u001b[0mself\u001b[0m\u001b[0;34m.\u001b[0m\u001b[0mrecv\u001b[0m\u001b[0;34m(\u001b[0m\u001b[0mflags\u001b[0m\u001b[0;34m,\u001b[0m \u001b[0mcopy\u001b[0m\u001b[0;34m=\u001b[0m\u001b[0mcopy\u001b[0m\u001b[0;34m,\u001b[0m \u001b[0mtrack\u001b[0m\u001b[0;34m=\u001b[0m\u001b[0mtrack\u001b[0m\u001b[0;34m)\u001b[0m\u001b[0;34m]\u001b[0m\u001b[0;34m\u001b[0m\u001b[0;34m\u001b[0m\u001b[0m\n\u001b[0m\u001b[1;32m    476\u001b[0m         \u001b[0;31m# have first part already, only loop while more to receive\u001b[0m\u001b[0;34m\u001b[0m\u001b[0;34m\u001b[0m\u001b[0;34m\u001b[0m\u001b[0m\n",
      "\u001b[0;32mzmq/backend/cython/socket.pyx\u001b[0m in \u001b[0;36mzmq.backend.cython.socket.Socket.recv\u001b[0;34m()\u001b[0m\n",
      "\u001b[0;32mzmq/backend/cython/socket.pyx\u001b[0m in \u001b[0;36mzmq.backend.cython.socket.Socket.recv\u001b[0;34m()\u001b[0m\n",
      "\u001b[0;32mzmq/backend/cython/socket.pyx\u001b[0m in \u001b[0;36mzmq.backend.cython.socket._recv_copy\u001b[0;34m()\u001b[0m\n",
      "\u001b[0;32m/opt/anaconda3/envs/learn-env/lib/python3.6/site-packages/zmq/backend/cython/checkrc.pxd\u001b[0m in \u001b[0;36mzmq.backend.cython.checkrc._check_rc\u001b[0;34m()\u001b[0m\n",
      "\u001b[0;31mKeyboardInterrupt\u001b[0m: ",
      "\nDuring handling of the above exception, another exception occurred:\n",
      "\u001b[0;31mKeyboardInterrupt\u001b[0m                         Traceback (most recent call last)",
      "\u001b[0;32m<ipython-input-12-b7f45d04cc99>\u001b[0m in \u001b[0;36m<module>\u001b[0;34m\u001b[0m\n\u001b[1;32m      1\u001b[0m \u001b[0;32mwhile\u001b[0m \u001b[0;32mTrue\u001b[0m\u001b[0;34m:\u001b[0m\u001b[0;34m\u001b[0m\u001b[0;34m\u001b[0m\u001b[0m\n\u001b[0;32m----> 2\u001b[0;31m     \u001b[0mprototype\u001b[0m\u001b[0;34m(\u001b[0m\u001b[0;34m)\u001b[0m\u001b[0;34m\u001b[0m\u001b[0;34m\u001b[0m\u001b[0m\n\u001b[0m",
      "\u001b[0;32m<ipython-input-11-e790f21e37ac>\u001b[0m in \u001b[0;36mprototype\u001b[0;34m(model)\u001b[0m\n\u001b[1;32m      2\u001b[0m \u001b[0;34m\u001b[0m\u001b[0m\n\u001b[1;32m      3\u001b[0m \u001b[0;32mdef\u001b[0m \u001b[0mprototype\u001b[0m\u001b[0;34m(\u001b[0m\u001b[0mmodel\u001b[0m\u001b[0;34m=\u001b[0m\u001b[0;34m'binary'\u001b[0m\u001b[0;34m)\u001b[0m\u001b[0;34m:\u001b[0m\u001b[0;34m\u001b[0m\u001b[0;34m\u001b[0m\u001b[0m\n\u001b[0;32m----> 4\u001b[0;31m     \u001b[0muser_input\u001b[0m \u001b[0;34m=\u001b[0m \u001b[0minput\u001b[0m\u001b[0;34m(\u001b[0m\u001b[0;34m'Write a review: '\u001b[0m\u001b[0;34m)\u001b[0m\u001b[0;34m\u001b[0m\u001b[0;34m\u001b[0m\u001b[0m\n\u001b[0m\u001b[1;32m      5\u001b[0m \u001b[0;34m\u001b[0m\u001b[0m\n\u001b[1;32m      6\u001b[0m \u001b[0;31m#     text = get_clean_text(user_input)\u001b[0m\u001b[0;34m\u001b[0m\u001b[0;34m\u001b[0m\u001b[0;34m\u001b[0m\u001b[0m\n",
      "\u001b[0;32m/opt/anaconda3/envs/learn-env/lib/python3.6/site-packages/ipykernel/kernelbase.py\u001b[0m in \u001b[0;36mraw_input\u001b[0;34m(self, prompt)\u001b[0m\n\u001b[1;32m    858\u001b[0m             \u001b[0mself\u001b[0m\u001b[0;34m.\u001b[0m\u001b[0m_parent_ident\u001b[0m\u001b[0;34m,\u001b[0m\u001b[0;34m\u001b[0m\u001b[0;34m\u001b[0m\u001b[0m\n\u001b[1;32m    859\u001b[0m             \u001b[0mself\u001b[0m\u001b[0;34m.\u001b[0m\u001b[0m_parent_header\u001b[0m\u001b[0;34m,\u001b[0m\u001b[0;34m\u001b[0m\u001b[0;34m\u001b[0m\u001b[0m\n\u001b[0;32m--> 860\u001b[0;31m             \u001b[0mpassword\u001b[0m\u001b[0;34m=\u001b[0m\u001b[0;32mFalse\u001b[0m\u001b[0;34m,\u001b[0m\u001b[0;34m\u001b[0m\u001b[0;34m\u001b[0m\u001b[0m\n\u001b[0m\u001b[1;32m    861\u001b[0m         )\n\u001b[1;32m    862\u001b[0m \u001b[0;34m\u001b[0m\u001b[0m\n",
      "\u001b[0;32m/opt/anaconda3/envs/learn-env/lib/python3.6/site-packages/ipykernel/kernelbase.py\u001b[0m in \u001b[0;36m_input_request\u001b[0;34m(self, prompt, ident, parent, password)\u001b[0m\n\u001b[1;32m    888\u001b[0m             \u001b[0;32mexcept\u001b[0m \u001b[0mKeyboardInterrupt\u001b[0m\u001b[0;34m:\u001b[0m\u001b[0;34m\u001b[0m\u001b[0;34m\u001b[0m\u001b[0m\n\u001b[1;32m    889\u001b[0m                 \u001b[0;31m# re-raise KeyboardInterrupt, to truncate traceback\u001b[0m\u001b[0;34m\u001b[0m\u001b[0;34m\u001b[0m\u001b[0;34m\u001b[0m\u001b[0m\n\u001b[0;32m--> 890\u001b[0;31m                 \u001b[0;32mraise\u001b[0m \u001b[0mKeyboardInterrupt\u001b[0m\u001b[0;34m\u001b[0m\u001b[0;34m\u001b[0m\u001b[0m\n\u001b[0m\u001b[1;32m    891\u001b[0m             \u001b[0;32melse\u001b[0m\u001b[0;34m:\u001b[0m\u001b[0;34m\u001b[0m\u001b[0;34m\u001b[0m\u001b[0m\n\u001b[1;32m    892\u001b[0m                 \u001b[0;32mbreak\u001b[0m\u001b[0;34m\u001b[0m\u001b[0;34m\u001b[0m\u001b[0m\n",
      "\u001b[0;31mKeyboardInterrupt\u001b[0m: "
     ]
    }
   ],
   "source": [
    "while True:\n",
    "    prototype()"
   ]
  },
  {
   "cell_type": "code",
   "execution_count": 16,
   "metadata": {
    "ExecuteTime": {
     "end_time": "2020-11-19T19:23:41.340747Z",
     "start_time": "2020-11-19T19:23:41.337950Z"
    }
   },
   "outputs": [],
   "source": [
    "from spacy import displacy"
   ]
  },
  {
   "cell_type": "code",
   "execution_count": 17,
   "metadata": {
    "ExecuteTime": {
     "end_time": "2020-11-19T19:23:46.022166Z",
     "start_time": "2020-11-19T19:23:42.372061Z"
    }
   },
   "outputs": [
    {
     "name": "stdout",
     "output_type": "stream",
     "text": [
      "write text: this Iphone is amazing\n"
     ]
    },
    {
     "data": {
      "text/html": [
       "<div class=\"entities\" style=\"line-height: 2.5; direction: ltr\">this \n",
       "<mark class=\"entity\" style=\"background: #7aecec; padding: 0.45em 0.6em; margin: 0 0.25em; line-height: 1; border-radius: 0.35em; box-decoration-break: clone; -webkit-box-decoration-break: clone\">\n",
       "    Iphone\n",
       "    <span style=\"font-size: 0.8em; font-weight: bold; line-height: 1; border-radius: 0.35em; text-transform: uppercase; vertical-align: middle; margin-left: 0.5rem\">ORG</span>\n",
       "</mark>\n",
       " is amazing</div>"
      ],
      "text/plain": [
       "<IPython.core.display.HTML object>"
      ]
     },
     "metadata": {},
     "output_type": "display_data"
    }
   ],
   "source": [
    "user_input = input('write text: ')\n",
    "doc = nlp(user_input)\n",
    "displacy.render(doc, style='ent', jupyter=True)"
   ]
  },
  {
   "cell_type": "code",
   "execution_count": 45,
   "metadata": {
    "ExecuteTime": {
     "end_time": "2020-11-20T22:12:09.272093Z",
     "start_time": "2020-11-20T22:11:59.014601Z"
    }
   },
   "outputs": [],
   "source": [
    "nlp = spacy.load('en_core_web_lg')"
   ]
  },
  {
   "cell_type": "code",
   "execution_count": 49,
   "metadata": {
    "ExecuteTime": {
     "end_time": "2020-11-20T22:15:34.266414Z",
     "start_time": "2020-11-20T22:15:34.249702Z"
    }
   },
   "outputs": [
    {
     "data": {
      "text/plain": [
       "1129267    @Juneya But I bet he likes them, maybe even ju...\n",
       "210387     Just finished four hours of cleaning ... exhau...\n",
       "33635                                back at work, booooooo \n",
       "27043      it would be much better if all my friends woul...\n",
       "708669                                 Also: I am a fatass. \n",
       "                                 ...                        \n",
       "259178     this song's middle change just doesn't want to...\n",
       "1414414                 @officialnjonas Good luck with that \n",
       "131932              @ProudGamerTweet I rather average 32370 \n",
       "671155     Pickin up @misstinayao waitin on @sadittysash ...\n",
       "121958     @ home studying for maths wooot ! im so going ...\n",
       "Name: text, Length: 8000, dtype: object"
      ]
     },
     "execution_count": 49,
     "metadata": {},
     "output_type": "execute_result"
    }
   ],
   "source": [
    "X_train"
   ]
  },
  {
   "cell_type": "markdown",
   "metadata": {},
   "source": [
    "# Deep NLP"
   ]
  },
  {
   "cell_type": "code",
   "execution_count": 51,
   "metadata": {
    "ExecuteTime": {
     "end_time": "2020-11-20T22:15:53.089768Z",
     "start_time": "2020-11-20T22:15:52.443413Z"
    }
   },
   "outputs": [],
   "source": [
    "# Define X and y\n",
    "X = permanent['text']\n",
    "y = permanent['sentiment']\n",
    "\n",
    "# Splits test set\n",
    "X_train, X_test, y_train, y_test = train_test_split(X, y, train_size=0.005, random_state=42)\n",
    "\n",
    "# Splits traint set into train and validation set\n",
    "X_train, X_val, y_train, y_val = train_test_split(X_train, y_train, train_size=0.70, random_state=42)"
   ]
  },
  {
   "cell_type": "code",
   "execution_count": 55,
   "metadata": {
    "ExecuteTime": {
     "end_time": "2020-11-20T22:17:38.139115Z",
     "start_time": "2020-11-20T22:16:49.488520Z"
    }
   },
   "outputs": [],
   "source": [
    "X_train = pd.DataFrame(X_train)\n",
    "X_train.columns = ['text']\n",
    "X_train['clean'] = X_train['text'].apply(uc.clean_text)"
   ]
  },
  {
   "cell_type": "code",
   "execution_count": 56,
   "metadata": {
    "ExecuteTime": {
     "end_time": "2020-11-20T22:17:38.163025Z",
     "start_time": "2020-11-20T22:17:38.141425Z"
    }
   },
   "outputs": [
    {
     "data": {
      "text/html": [
       "<div>\n",
       "<style scoped>\n",
       "    .dataframe tbody tr th:only-of-type {\n",
       "        vertical-align: middle;\n",
       "    }\n",
       "\n",
       "    .dataframe tbody tr th {\n",
       "        vertical-align: top;\n",
       "    }\n",
       "\n",
       "    .dataframe thead th {\n",
       "        text-align: right;\n",
       "    }\n",
       "</style>\n",
       "<table border=\"1\" class=\"dataframe\">\n",
       "  <thead>\n",
       "    <tr style=\"text-align: right;\">\n",
       "      <th></th>\n",
       "      <th>text</th>\n",
       "      <th>clean</th>\n",
       "    </tr>\n",
       "  </thead>\n",
       "  <tbody>\n",
       "    <tr>\n",
       "      <td>993497</td>\n",
       "      <td>@EMarketingGuru I don't know my chocolate lab ...</td>\n",
       "      <td>[not, know, chocolate, lab, lie, around, alot]</td>\n",
       "    </tr>\n",
       "    <tr>\n",
       "      <td>580595</td>\n",
       "      <td>focus, focus!! i cant....</td>\n",
       "      <td>[focus, focus, can, not, ....]</td>\n",
       "    </tr>\n",
       "    <tr>\n",
       "      <td>917710</td>\n",
       "      <td>My favourite photo (that I took) from last nig...</td>\n",
       "      <td>[favourite, photo, that, take, from, last, nig...</td>\n",
       "    </tr>\n",
       "    <tr>\n",
       "      <td>414758</td>\n",
       "      <td>@twilightfairy I came back from Rohtang pass.I...</td>\n",
       "      <td>[come, back, from, rohtang, pass, short, trip,...</td>\n",
       "    </tr>\n",
       "    <tr>\n",
       "      <td>10785</td>\n",
       "      <td>rainy day   clean house I guess...</td>\n",
       "      <td>[rainy, day, clean, house, guess, ...]</td>\n",
       "    </tr>\n",
       "    <tr>\n",
       "      <td>...</td>\n",
       "      <td>...</td>\n",
       "      <td>...</td>\n",
       "    </tr>\n",
       "    <tr>\n",
       "      <td>1538510</td>\n",
       "      <td>@riptorn41 You're welcome, good luck with the ...</td>\n",
       "      <td>[you, welcome, good, luck, with, the, tech, su...</td>\n",
       "    </tr>\n",
       "    <tr>\n",
       "      <td>1428127</td>\n",
       "      <td>@GLBriggs aw that's lovely</td>\n",
       "      <td>[that, lovely]</td>\n",
       "    </tr>\n",
       "    <tr>\n",
       "      <td>147032</td>\n",
       "      <td>just got home from makati  http://plurk.com/p/...</td>\n",
       "      <td>[just, get, home, from, makati]</td>\n",
       "    </tr>\n",
       "    <tr>\n",
       "      <td>268246</td>\n",
       "      <td>sitting at my desk and wishing I was at home w...</td>\n",
       "      <td>[sit, desk, and, wish, home, with, hubster]</td>\n",
       "    </tr>\n",
       "    <tr>\n",
       "      <td>866651</td>\n",
       "      <td>@sarahshaffer  Welcome to twitter, tweeter.</td>\n",
       "      <td>[welcome, twitter, tweeter]</td>\n",
       "    </tr>\n",
       "  </tbody>\n",
       "</table>\n",
       "<p>5600 rows × 2 columns</p>\n",
       "</div>"
      ],
      "text/plain": [
       "                                                      text  \\\n",
       "993497   @EMarketingGuru I don't know my chocolate lab ...   \n",
       "580595                          focus, focus!! i cant....    \n",
       "917710   My favourite photo (that I took) from last nig...   \n",
       "414758   @twilightfairy I came back from Rohtang pass.I...   \n",
       "10785                   rainy day   clean house I guess...   \n",
       "...                                                    ...   \n",
       "1538510  @riptorn41 You're welcome, good luck with the ...   \n",
       "1428127                        @GLBriggs aw that's lovely    \n",
       "147032   just got home from makati  http://plurk.com/p/...   \n",
       "268246   sitting at my desk and wishing I was at home w...   \n",
       "866651       @sarahshaffer  Welcome to twitter, tweeter.     \n",
       "\n",
       "                                                     clean  \n",
       "993497      [not, know, chocolate, lab, lie, around, alot]  \n",
       "580595                      [focus, focus, can, not, ....]  \n",
       "917710   [favourite, photo, that, take, from, last, nig...  \n",
       "414758   [come, back, from, rohtang, pass, short, trip,...  \n",
       "10785               [rainy, day, clean, house, guess, ...]  \n",
       "...                                                    ...  \n",
       "1538510  [you, welcome, good, luck, with, the, tech, su...  \n",
       "1428127                                     [that, lovely]  \n",
       "147032                     [just, get, home, from, makati]  \n",
       "268246         [sit, desk, and, wish, home, with, hubster]  \n",
       "866651                         [welcome, twitter, tweeter]  \n",
       "\n",
       "[5600 rows x 2 columns]"
      ]
     },
     "execution_count": 56,
     "metadata": {},
     "output_type": "execute_result"
    }
   ],
   "source": [
    "X_train"
   ]
  },
  {
   "cell_type": "code",
   "execution_count": 43,
   "metadata": {
    "ExecuteTime": {
     "end_time": "2020-11-20T21:15:37.201365Z",
     "start_time": "2020-11-20T21:15:37.198735Z"
    }
   },
   "outputs": [],
   "source": [
    "BUFFER_SIZE = 10000\n",
    "BATCH_SIZE = 64\n",
    "\n",
    "padded_shapes = ([None], ())"
   ]
  },
  {
   "cell_type": "code",
   "execution_count": null,
   "metadata": {},
   "outputs": [],
   "source": [
    "model = tf.keras.Sequential([tf.keras.layers.Embedding(encoder.vocab_size, 64),\n",
    "                             tf.keras.layers.Bidirectional(tf.keras.layers.LSTM(64)),\n",
    "                             tf.keras.layers.Dense(64, activation='relu'),\n",
    "                             tf.keras.layers.Dense(1, activation='sigmoid')])\n",
    "\n",
    "model.compile(loss='binary_crossentropy', \n",
    "              optimizer=tf.keras.optimizers.Adam(1e-4),\n",
    "              metrics=['accuracy'])\n",
    "\n",
    "history = model.fit(dataset, epochs=5, validation_data=test_dataset,\n",
    "          validation_steps=30)"
   ]
  },
  {
   "cell_type": "code",
   "execution_count": 58,
   "metadata": {
    "ExecuteTime": {
     "end_time": "2020-11-23T05:55:15.466613Z",
     "start_time": "2020-11-23T05:54:25.746098Z"
    }
   },
   "outputs": [
    {
     "name": "stdout",
     "output_type": "stream",
     "text": [
      "\u001b[33mWARNING: Retrying (Retry(total=4, connect=None, read=None, redirect=None, status=None)) after connection broken by 'SSLError(SSLError(\"bad handshake: SysCallError(32, 'EPIPE')\",),)': /simple/ktrain/\u001b[0m\n",
      "\u001b[33mWARNING: Retrying (Retry(total=3, connect=None, read=None, redirect=None, status=None)) after connection broken by 'SSLError(SSLError(\"bad handshake: SysCallError(32, 'EPIPE')\",),)': /simple/ktrain/\u001b[0m\n",
      "\u001b[33mWARNING: Retrying (Retry(total=2, connect=None, read=None, redirect=None, status=None)) after connection broken by 'SSLError(SSLError(\"bad handshake: SysCallError(32, 'EPIPE')\",),)': /simple/ktrain/\u001b[0m\n",
      "\u001b[33mWARNING: Retrying (Retry(total=1, connect=None, read=None, redirect=None, status=None)) after connection broken by 'SSLError(SSLError(\"bad handshake: SysCallError(32, 'EPIPE')\",),)': /simple/ktrain/\u001b[0m\n",
      "\u001b[33mWARNING: Retrying (Retry(total=0, connect=None, read=None, redirect=None, status=None)) after connection broken by 'SSLError(SSLError(\"bad handshake: SysCallError(32, 'EPIPE')\",),)': /simple/ktrain/\u001b[0m\n",
      "Could not fetch URL https://pypi.org/simple/ktrain/: There was a problem confirming the ssl certificate: HTTPSConnectionPool(host='pypi.org', port=443): Max retries exceeded with url: /simple/ktrain/ (Caused by SSLError(SSLError(\"bad handshake: SysCallError(32, 'EPIPE')\",),)) - skipping\n",
      "\u001b[31mERROR: Could not find a version that satisfies the requirement ktrain (from versions: none)\u001b[0m\n",
      "\u001b[31mERROR: No matching distribution found for ktrain\u001b[0m\n",
      "Could not fetch URL https://pypi.org/simple/pip/: There was a problem confirming the ssl certificate: HTTPSConnectionPool(host='pypi.org', port=443): Max retries exceeded with url: /simple/pip/ (Caused by SSLError(SSLError(\"bad handshake: SysCallError(32, 'EPIPE')\",),)) - skipping\n"
     ]
    }
   ],
   "source": [
    "!pip install ktrain"
   ]
  },
  {
   "cell_type": "code",
   "execution_count": null,
   "metadata": {},
   "outputs": [],
   "source": []
  }
 ],
 "metadata": {
  "kernelspec": {
   "display_name": "Python [conda env:learn-env] *",
   "language": "python",
   "name": "conda-env-learn-env-py"
  },
  "language_info": {
   "codemirror_mode": {
    "name": "ipython",
    "version": 3
   },
   "file_extension": ".py",
   "mimetype": "text/x-python",
   "name": "python",
   "nbconvert_exporter": "python",
   "pygments_lexer": "ipython3",
   "version": "3.6.9"
  },
  "toc": {
   "base_numbering": 1,
   "nav_menu": {},
   "number_sections": true,
   "sideBar": true,
   "skip_h1_title": false,
   "title_cell": "Table of Contents",
   "title_sidebar": "Contents",
   "toc_cell": false,
   "toc_position": {},
   "toc_section_display": true,
   "toc_window_display": false
  }
 },
 "nbformat": 4,
 "nbformat_minor": 2
}
